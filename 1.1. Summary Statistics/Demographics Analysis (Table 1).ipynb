{
 "cells": [
  {
   "cell_type": "code",
   "execution_count": 1,
   "metadata": {},
   "outputs": [
    {
     "name": "stderr",
     "output_type": "stream",
     "text": [
      "── \u001b[1mAttaching packages\u001b[22m ─────────────────────────────────────── tidyverse 1.3.0 ──\n",
      "\n",
      "\u001b[32m✔\u001b[39m \u001b[34mggplot2\u001b[39m 3.3.3     \u001b[32m✔\u001b[39m \u001b[34mpurrr  \u001b[39m 0.3.4\n",
      "\u001b[32m✔\u001b[39m \u001b[34mtibble \u001b[39m 3.0.6     \u001b[32m✔\u001b[39m \u001b[34mdplyr  \u001b[39m 1.0.4\n",
      "\u001b[32m✔\u001b[39m \u001b[34mtidyr  \u001b[39m 1.1.2     \u001b[32m✔\u001b[39m \u001b[34mstringr\u001b[39m 1.4.0\n",
      "\u001b[32m✔\u001b[39m \u001b[34mreadr  \u001b[39m 1.4.0     \u001b[32m✔\u001b[39m \u001b[34mforcats\u001b[39m 0.5.1\n",
      "\n",
      "── \u001b[1mConflicts\u001b[22m ────────────────────────────────────────── tidyverse_conflicts() ──\n",
      "\u001b[31m✖\u001b[39m \u001b[34mdplyr\u001b[39m::\u001b[32mfilter()\u001b[39m masks \u001b[34mstats\u001b[39m::filter()\n",
      "\u001b[31m✖\u001b[39m \u001b[34mdplyr\u001b[39m::\u001b[32mlag()\u001b[39m    masks \u001b[34mstats\u001b[39m::lag()\n",
      "\n",
      "\n",
      "Attaching package: ‘reshape2’\n",
      "\n",
      "\n",
      "The following object is masked from ‘package:tidyr’:\n",
      "\n",
      "    smiths\n",
      "\n",
      "\n",
      "Loading required package: carData\n",
      "\n",
      "\n",
      "Attaching package: ‘car’\n",
      "\n",
      "\n",
      "The following object is masked from ‘package:dplyr’:\n",
      "\n",
      "    recode\n",
      "\n",
      "\n",
      "The following object is masked from ‘package:purrr’:\n",
      "\n",
      "    some\n",
      "\n",
      "\n"
     ]
    }
   ],
   "source": [
    "setwd('/Users/alexis/IEHS Dropbox/Rager Lab/Alexis_Payton/Experiments/1. Compartment Analysis/1.1. Summary Stats/1.1.3. Demographics Analysis/Input')\n",
    "Output = ('/Users/alexis/IEHS Dropbox/Rager Lab/Alexis_Payton/Experiments/1. Compartment Analysis/1.1. Summary Stats/1.1.3. Demographics Analysis/Output')\n",
    "cur_date = '121021'\n",
    "\n",
    "library(readxl)\n",
    "library(tidyverse)\n",
    "library(reshape2)\n",
    "library(car)\n",
    "\n",
    "#reading in file\n",
    "data_df <- data.frame(read_excel(\"CytokineData_102920.xlsx\", sheet = 2))\n",
    "\n",
    "#reading in demographics file\n",
    "demographics_data_df = data.frame(read_excel(\"SubjectInfo_102920.xlsx\", sheet = 2))"
   ]
  },
  {
   "cell_type": "code",
   "execution_count": 2,
   "metadata": {},
   "outputs": [],
   "source": [
    "#adding demographics data to cytokine df\n",
    "#could've made my life easier by just using full_join\n",
    "race = c()\n",
    "ethnicity = c()\n",
    "sex = c()\n",
    "age = c()\n",
    "BMI = c()\n",
    "for (i in 1:length(data_df$SubjectNo)){\n",
    "    for(j in 1:length(demographics_data_df$SubjectNo)){\n",
    "        if (data_df$SubjectNo[i] == demographics_data_df$SubjectNo[j]){\n",
    "            race = c(race, demographics_data_df$Race[j])\n",
    "            ethnicity = c(ethnicity, demographics_data_df$Ethnicity[j])\n",
    "            sex = c(sex, demographics_data_df$Sex[j])\n",
    "            age = c(age, demographics_data_df$Age[j])\n",
    "            BMI = c(BMI, demographics_data_df$BMI[j])\n",
    "        }\n",
    "    }\n",
    "}\n",
    "\n",
    "data_df$Race = race\n",
    "data_df$Ethnicity = ethnicity\n",
    "data_df$Sex = sex\n",
    "data_df$Age = age\n",
    "data_df$BMI = BMI"
   ]
  },
  {
   "cell_type": "code",
   "execution_count": 3,
   "metadata": {},
   "outputs": [
    {
     "data": {
      "text/html": [
       "<table class=\"dataframe\">\n",
       "<caption>A data.frame: 6 × 13</caption>\n",
       "<thead>\n",
       "\t<tr><th></th><th scope=col>Original_Identifier</th><th scope=col>Protein</th><th scope=col>Conc</th><th scope=col>Conc_pslog2</th><th scope=col>Compartment</th><th scope=col>SubjectNo</th><th scope=col>Group</th><th scope=col>SubjectID</th><th scope=col>Race</th><th scope=col>Ethnicity</th><th scope=col>Sex</th><th scope=col>Age</th><th scope=col>BMI</th></tr>\n",
       "\t<tr><th></th><th scope=col>&lt;chr&gt;</th><th scope=col>&lt;chr&gt;</th><th scope=col>&lt;dbl&gt;</th><th scope=col>&lt;dbl&gt;</th><th scope=col>&lt;chr&gt;</th><th scope=col>&lt;dbl&gt;</th><th scope=col>&lt;chr&gt;</th><th scope=col>&lt;chr&gt;</th><th scope=col>&lt;chr&gt;</th><th scope=col>&lt;chr&gt;</th><th scope=col>&lt;chr&gt;</th><th scope=col>&lt;dbl&gt;</th><th scope=col>&lt;dbl&gt;</th></tr>\n",
       "</thead>\n",
       "<tbody>\n",
       "\t<tr><th scope=row>1</th><td>E_C_F_002</td><td>IFNg   </td><td> 17.642316</td><td>4.220509</td><td>ELF</td><td>1</td><td>NS</td><td>NS_1</td><td>W</td><td>NH</td><td>F</td><td>28</td><td>37.67</td></tr>\n",
       "\t<tr><th scope=row>2</th><td>E_C_F_002</td><td>IL10   </td><td>  2.873724</td><td>1.953721</td><td>ELF</td><td>1</td><td>NS</td><td>NS_1</td><td>W</td><td>NH</td><td>F</td><td>28</td><td>37.67</td></tr>\n",
       "\t<tr><th scope=row>3</th><td>E_C_F_002</td><td>IL12p70</td><td>  1.625272</td><td>1.392467</td><td>ELF</td><td>1</td><td>NS</td><td>NS_1</td><td>W</td><td>NH</td><td>F</td><td>28</td><td>37.67</td></tr>\n",
       "\t<tr><th scope=row>4</th><td>E_C_F_002</td><td>IL13   </td><td> 36.117692</td><td>5.214035</td><td>ELF</td><td>1</td><td>NS</td><td>NS_1</td><td>W</td><td>NH</td><td>F</td><td>28</td><td>37.67</td></tr>\n",
       "\t<tr><th scope=row>5</th><td>E_C_F_002</td><td>IL1b   </td><td>104.409217</td><td>6.719857</td><td>ELF</td><td>1</td><td>NS</td><td>NS_1</td><td>W</td><td>NH</td><td>F</td><td>28</td><td>37.67</td></tr>\n",
       "\t<tr><th scope=row>6</th><td>E_C_F_002</td><td>IL6    </td><td> 21.159536</td><td>4.469856</td><td>ELF</td><td>1</td><td>NS</td><td>NS_1</td><td>W</td><td>NH</td><td>F</td><td>28</td><td>37.67</td></tr>\n",
       "</tbody>\n",
       "</table>\n"
      ],
      "text/latex": [
       "A data.frame: 6 × 13\n",
       "\\begin{tabular}{r|lllllllllllll}\n",
       "  & Original\\_Identifier & Protein & Conc & Conc\\_pslog2 & Compartment & SubjectNo & Group & SubjectID & Race & Ethnicity & Sex & Age & BMI\\\\\n",
       "  & <chr> & <chr> & <dbl> & <dbl> & <chr> & <dbl> & <chr> & <chr> & <chr> & <chr> & <chr> & <dbl> & <dbl>\\\\\n",
       "\\hline\n",
       "\t1 & E\\_C\\_F\\_002 & IFNg    &  17.642316 & 4.220509 & ELF & 1 & NS & NS\\_1 & W & NH & F & 28 & 37.67\\\\\n",
       "\t2 & E\\_C\\_F\\_002 & IL10    &   2.873724 & 1.953721 & ELF & 1 & NS & NS\\_1 & W & NH & F & 28 & 37.67\\\\\n",
       "\t3 & E\\_C\\_F\\_002 & IL12p70 &   1.625272 & 1.392467 & ELF & 1 & NS & NS\\_1 & W & NH & F & 28 & 37.67\\\\\n",
       "\t4 & E\\_C\\_F\\_002 & IL13    &  36.117692 & 5.214035 & ELF & 1 & NS & NS\\_1 & W & NH & F & 28 & 37.67\\\\\n",
       "\t5 & E\\_C\\_F\\_002 & IL1b    & 104.409217 & 6.719857 & ELF & 1 & NS & NS\\_1 & W & NH & F & 28 & 37.67\\\\\n",
       "\t6 & E\\_C\\_F\\_002 & IL6     &  21.159536 & 4.469856 & ELF & 1 & NS & NS\\_1 & W & NH & F & 28 & 37.67\\\\\n",
       "\\end{tabular}\n"
      ],
      "text/markdown": [
       "\n",
       "A data.frame: 6 × 13\n",
       "\n",
       "| <!--/--> | Original_Identifier &lt;chr&gt; | Protein &lt;chr&gt; | Conc &lt;dbl&gt; | Conc_pslog2 &lt;dbl&gt; | Compartment &lt;chr&gt; | SubjectNo &lt;dbl&gt; | Group &lt;chr&gt; | SubjectID &lt;chr&gt; | Race &lt;chr&gt; | Ethnicity &lt;chr&gt; | Sex &lt;chr&gt; | Age &lt;dbl&gt; | BMI &lt;dbl&gt; |\n",
       "|---|---|---|---|---|---|---|---|---|---|---|---|---|---|\n",
       "| 1 | E_C_F_002 | IFNg    |  17.642316 | 4.220509 | ELF | 1 | NS | NS_1 | W | NH | F | 28 | 37.67 |\n",
       "| 2 | E_C_F_002 | IL10    |   2.873724 | 1.953721 | ELF | 1 | NS | NS_1 | W | NH | F | 28 | 37.67 |\n",
       "| 3 | E_C_F_002 | IL12p70 |   1.625272 | 1.392467 | ELF | 1 | NS | NS_1 | W | NH | F | 28 | 37.67 |\n",
       "| 4 | E_C_F_002 | IL13    |  36.117692 | 5.214035 | ELF | 1 | NS | NS_1 | W | NH | F | 28 | 37.67 |\n",
       "| 5 | E_C_F_002 | IL1b    | 104.409217 | 6.719857 | ELF | 1 | NS | NS_1 | W | NH | F | 28 | 37.67 |\n",
       "| 6 | E_C_F_002 | IL6     |  21.159536 | 4.469856 | ELF | 1 | NS | NS_1 | W | NH | F | 28 | 37.67 |\n",
       "\n"
      ],
      "text/plain": [
       "  Original_Identifier Protein Conc       Conc_pslog2 Compartment SubjectNo\n",
       "1 E_C_F_002           IFNg     17.642316 4.220509    ELF         1        \n",
       "2 E_C_F_002           IL10      2.873724 1.953721    ELF         1        \n",
       "3 E_C_F_002           IL12p70   1.625272 1.392467    ELF         1        \n",
       "4 E_C_F_002           IL13     36.117692 5.214035    ELF         1        \n",
       "5 E_C_F_002           IL1b    104.409217 6.719857    ELF         1        \n",
       "6 E_C_F_002           IL6      21.159536 4.469856    ELF         1        \n",
       "  Group SubjectID Race Ethnicity Sex Age BMI  \n",
       "1 NS    NS_1      W    NH        F   28  37.67\n",
       "2 NS    NS_1      W    NH        F   28  37.67\n",
       "3 NS    NS_1      W    NH        F   28  37.67\n",
       "4 NS    NS_1      W    NH        F   28  37.67\n",
       "5 NS    NS_1      W    NH        F   28  37.67\n",
       "6 NS    NS_1      W    NH        F   28  37.67"
      ]
     },
     "metadata": {},
     "output_type": "display_data"
    }
   ],
   "source": [
    "head(data_df)"
   ]
  },
  {
   "cell_type": "markdown",
   "metadata": {},
   "source": [
    "# Chi Square Analysis/ ANOVA\n",
    "\n",
    "Comparing demographic variables to see if there are differences across smoking statuses. These numbers are from the Table 1 demographics table."
   ]
  },
  {
   "cell_type": "code",
   "execution_count": 4,
   "metadata": {},
   "outputs": [
    {
     "data": {
      "text/html": [
       "<table class=\"dataframe\">\n",
       "<caption>A data.frame: 6 × 9</caption>\n",
       "<thead>\n",
       "\t<tr><th></th><th scope=col>SubjectNo</th><th scope=col>Group</th><th scope=col>SubjectID</th><th scope=col>Race</th><th scope=col>Ethnicity</th><th scope=col>Sex</th><th scope=col>Age</th><th scope=col>BMI</th><th scope=col>Serum_Cotinine</th></tr>\n",
       "\t<tr><th></th><th scope=col>&lt;dbl&gt;</th><th scope=col>&lt;chr&gt;</th><th scope=col>&lt;chr&gt;</th><th scope=col>&lt;chr&gt;</th><th scope=col>&lt;chr&gt;</th><th scope=col>&lt;chr&gt;</th><th scope=col>&lt;dbl&gt;</th><th scope=col>&lt;dbl&gt;</th><th scope=col>&lt;dbl&gt;</th></tr>\n",
       "</thead>\n",
       "<tbody>\n",
       "\t<tr><th scope=row>1</th><td>1</td><td>NS</td><td>NS_1</td><td>W </td><td>NH</td><td>F</td><td>28</td><td>37.67</td><td>0</td></tr>\n",
       "\t<tr><th scope=row>2</th><td>2</td><td>NS</td><td>NS_2</td><td>O </td><td>H </td><td>F</td><td>33</td><td>35.00</td><td>0</td></tr>\n",
       "\t<tr><th scope=row>3</th><td>3</td><td>NS</td><td>NS_3</td><td>W </td><td>NH</td><td>F</td><td>25</td><td>18.70</td><td>0</td></tr>\n",
       "\t<tr><th scope=row>4</th><td>4</td><td>NS</td><td>NS_4</td><td>W </td><td>NH</td><td>F</td><td>26</td><td>23.00</td><td>0</td></tr>\n",
       "\t<tr><th scope=row>5</th><td>5</td><td>NS</td><td>NS_5</td><td>As</td><td>NH</td><td>F</td><td>25</td><td>24.70</td><td>0</td></tr>\n",
       "\t<tr><th scope=row>6</th><td>6</td><td>NS</td><td>NS_6</td><td>AA</td><td>NH</td><td>F</td><td>42</td><td>34.60</td><td>0</td></tr>\n",
       "</tbody>\n",
       "</table>\n"
      ],
      "text/latex": [
       "A data.frame: 6 × 9\n",
       "\\begin{tabular}{r|lllllllll}\n",
       "  & SubjectNo & Group & SubjectID & Race & Ethnicity & Sex & Age & BMI & Serum\\_Cotinine\\\\\n",
       "  & <dbl> & <chr> & <chr> & <chr> & <chr> & <chr> & <dbl> & <dbl> & <dbl>\\\\\n",
       "\\hline\n",
       "\t1 & 1 & NS & NS\\_1 & W  & NH & F & 28 & 37.67 & 0\\\\\n",
       "\t2 & 2 & NS & NS\\_2 & O  & H  & F & 33 & 35.00 & 0\\\\\n",
       "\t3 & 3 & NS & NS\\_3 & W  & NH & F & 25 & 18.70 & 0\\\\\n",
       "\t4 & 4 & NS & NS\\_4 & W  & NH & F & 26 & 23.00 & 0\\\\\n",
       "\t5 & 5 & NS & NS\\_5 & As & NH & F & 25 & 24.70 & 0\\\\\n",
       "\t6 & 6 & NS & NS\\_6 & AA & NH & F & 42 & 34.60 & 0\\\\\n",
       "\\end{tabular}\n"
      ],
      "text/markdown": [
       "\n",
       "A data.frame: 6 × 9\n",
       "\n",
       "| <!--/--> | SubjectNo &lt;dbl&gt; | Group &lt;chr&gt; | SubjectID &lt;chr&gt; | Race &lt;chr&gt; | Ethnicity &lt;chr&gt; | Sex &lt;chr&gt; | Age &lt;dbl&gt; | BMI &lt;dbl&gt; | Serum_Cotinine &lt;dbl&gt; |\n",
       "|---|---|---|---|---|---|---|---|---|---|\n",
       "| 1 | 1 | NS | NS_1 | W  | NH | F | 28 | 37.67 | 0 |\n",
       "| 2 | 2 | NS | NS_2 | O  | H  | F | 33 | 35.00 | 0 |\n",
       "| 3 | 3 | NS | NS_3 | W  | NH | F | 25 | 18.70 | 0 |\n",
       "| 4 | 4 | NS | NS_4 | W  | NH | F | 26 | 23.00 | 0 |\n",
       "| 5 | 5 | NS | NS_5 | As | NH | F | 25 | 24.70 | 0 |\n",
       "| 6 | 6 | NS | NS_6 | AA | NH | F | 42 | 34.60 | 0 |\n",
       "\n"
      ],
      "text/plain": [
       "  SubjectNo Group SubjectID Race Ethnicity Sex Age BMI   Serum_Cotinine\n",
       "1 1         NS    NS_1      W    NH        F   28  37.67 0             \n",
       "2 2         NS    NS_2      O    H         F   33  35.00 0             \n",
       "3 3         NS    NS_3      W    NH        F   25  18.70 0             \n",
       "4 4         NS    NS_4      W    NH        F   26  23.00 0             \n",
       "5 5         NS    NS_5      As   NH        F   25  24.70 0             \n",
       "6 6         NS    NS_6      AA   NH        F   42  34.60 0             "
      ]
     },
     "metadata": {},
     "output_type": "display_data"
    }
   ],
   "source": [
    "head(demographics_data_df)"
   ]
  },
  {
   "cell_type": "code",
   "execution_count": 5,
   "metadata": {},
   "outputs": [
    {
     "name": "stderr",
     "output_type": "stream",
     "text": [
      "Adding missing grouping variables: `Group`\n",
      "\n",
      "Adding missing grouping variables: `Group`\n",
      "\n",
      "Adding missing grouping variables: `Group`\n",
      "\n"
     ]
    }
   ],
   "source": [
    "get_tables = function(df, variable){\n",
    "    #getting variable stratified by smoking status\n",
    "    variable_grouped = df %>% group_by(Group) %>% select(all_of(variable)) \n",
    "    #getting overall variable numbers\n",
    "    overall_variable = df %>% select(all_of(variable)) \n",
    "    #adding a col that designates this from the overall cohort\n",
    "    Group = rep('O', times = length(overall_variable)) #O stands for overall\n",
    "    overall_variable_df = cbind(Group, overall_variable)\n",
    "\n",
    "    variable_table = table(rbind(overall_variable_df, data.frame(variable_grouped)))\n",
    "    return(variable_table)\n",
    "}\n",
    "sex_table = get_tables(demographics_data_df, 'Sex')\n",
    "race_table = get_tables(demographics_data_df, 'Race')\n",
    "ethnicity_table = get_tables(demographics_data_df, 'Ethnicity')"
   ]
  },
  {
   "cell_type": "code",
   "execution_count": 6,
   "metadata": {},
   "outputs": [
    {
     "data": {
      "text/plain": [
       "      Sex\n",
       "Group   F  M\n",
       "  O    20 24\n",
       "  NS    7  7\n",
       "  CS    8  5\n",
       "  Ecig  5 12"
      ]
     },
     "metadata": {},
     "output_type": "display_data"
    },
    {
     "data": {
      "text/plain": [
       "      Race\n",
       "Group  AA As  O  W\n",
       "  O    10  4  2 28\n",
       "  NS    2  1  1 10\n",
       "  CS    6  0  0  7\n",
       "  Ecig  2  3  1 11"
      ]
     },
     "metadata": {},
     "output_type": "display_data"
    },
    {
     "data": {
      "text/plain": [
       "      Ethnicity\n",
       "Group   H NH\n",
       "  O     5 39\n",
       "  NS    3 11\n",
       "  CS    0 13\n",
       "  Ecig  2 15"
      ]
     },
     "metadata": {},
     "output_type": "display_data"
    }
   ],
   "source": [
    "sex_table\n",
    "race_table\n",
    "ethnicity_table"
   ]
  },
  {
   "cell_type": "code",
   "execution_count": 7,
   "metadata": {},
   "outputs": [
    {
     "data": {
      "text/html": [
       "<table class=\"dataframe\">\n",
       "<caption>A matrix: 4 × 2 of type dbl</caption>\n",
       "<thead>\n",
       "\t<tr><th></th><th scope=col>Y</th><th scope=col>N</th></tr>\n",
       "</thead>\n",
       "<tbody>\n",
       "\t<tr><th scope=row>O</th><td>25</td><td>19</td></tr>\n",
       "\t<tr><th scope=row>NS</th><td> 0</td><td>14</td></tr>\n",
       "\t<tr><th scope=row>Ecig</th><td>13</td><td> 4</td></tr>\n",
       "\t<tr><th scope=row>CS</th><td>12</td><td> 5</td></tr>\n",
       "</tbody>\n",
       "</table>\n"
      ],
      "text/latex": [
       "A matrix: 4 × 2 of type dbl\n",
       "\\begin{tabular}{r|ll}\n",
       "  & Y & N\\\\\n",
       "\\hline\n",
       "\tO & 25 & 19\\\\\n",
       "\tNS &  0 & 14\\\\\n",
       "\tEcig & 13 &  4\\\\\n",
       "\tCS & 12 &  5\\\\\n",
       "\\end{tabular}\n"
      ],
      "text/markdown": [
       "\n",
       "A matrix: 4 × 2 of type dbl\n",
       "\n",
       "| <!--/--> | Y | N |\n",
       "|---|---|---|\n",
       "| O | 25 | 19 |\n",
       "| NS |  0 | 14 |\n",
       "| Ecig | 13 |  4 |\n",
       "| CS | 12 |  5 |\n",
       "\n"
      ],
      "text/plain": [
       "     Y  N \n",
       "O    25 19\n",
       "NS    0 14\n",
       "Ecig 13  4\n",
       "CS   12  5"
      ]
     },
     "metadata": {},
     "output_type": "display_data"
    }
   ],
   "source": [
    "#creating a matrix for previous smoking history since this data was in the OG dataset\n",
    "previous_smoking_history = matrix(c(25, 0, 13, 12, 19, 14, 4, 5), ncol = 2)\n",
    "colnames(previous_smoking_history) = c(\"Y\", \"N\")\n",
    "rownames(previous_smoking_history) = c(\"O\", \"NS\", \"Ecig\", \"CS\")\n",
    "previous_smoking_history"
   ]
  },
  {
   "cell_type": "code",
   "execution_count": 8,
   "metadata": {},
   "outputs": [
    {
     "data": {
      "text/plain": [
       "\n",
       "\tFisher's Exact Test for Count Data\n",
       "\n",
       "data:  sex_table\n",
       "p-value = 0.3703\n",
       "alternative hypothesis: two.sided\n"
      ]
     },
     "metadata": {},
     "output_type": "display_data"
    },
    {
     "data": {
      "text/plain": [
       "\n",
       "\tFisher's Exact Test for Count Data\n",
       "\n",
       "data:  race_table\n",
       "p-value = 0.5351\n",
       "alternative hypothesis: two.sided\n"
      ]
     },
     "metadata": {},
     "output_type": "display_data"
    },
    {
     "data": {
      "text/plain": [
       "\n",
       "\tFisher's Exact Test for Count Data\n",
       "\n",
       "data:  ethnicity_table\n",
       "p-value = 0.4026\n",
       "alternative hypothesis: two.sided\n"
      ]
     },
     "metadata": {},
     "output_type": "display_data"
    },
    {
     "data": {
      "text/plain": [
       "\n",
       "\tFisher's Exact Test for Count Data\n",
       "\n",
       "data:  previous_smoking_history\n",
       "p-value = 1.711e-05\n",
       "alternative hypothesis: two.sided\n"
      ]
     },
     "metadata": {},
     "output_type": "display_data"
    }
   ],
   "source": [
    "#fisher exact test\n",
    "fisher.test(sex_table)\n",
    "fisher.test(race_table)\n",
    "fisher.test(ethnicity_table)\n",
    "fisher.test(previous_smoking_history)"
   ]
  },
  {
   "cell_type": "code",
   "execution_count": 9,
   "metadata": {},
   "outputs": [
    {
     "name": "stderr",
     "output_type": "stream",
     "text": [
      "Adding missing grouping variables: `Group`\n",
      "\n"
     ]
    },
    {
     "data": {
      "text/plain": [
       "\n",
       "\tFisher's Exact Test for Count Data\n",
       "\n",
       "data:  di_race_table\n",
       "p-value = 0.8293\n",
       "alternative hypothesis: two.sided\n"
      ]
     },
     "metadata": {},
     "output_type": "display_data"
    }
   ],
   "source": [
    "#dichotimized race\n",
    "#making race binary between white and non-white subjects\n",
    "for (i in 1:length(demographics_data_df$Race)){\n",
    "    if(demographics_data_df$Race[i] != 'W'){\n",
    "        demographics_data_df$Race[i] = 'NW'\n",
    "    }\n",
    "}\n",
    "\n",
    "#dichotimized race\n",
    "di_race_table = get_tables(demographics_data_df, 'Race')\n",
    "fisher.test(di_race_table)"
   ]
  },
  {
   "cell_type": "markdown",
   "metadata": {},
   "source": [
    "Since none of the p values are significant, the demographics between each smoking status isn't statistically different."
   ]
  },
  {
   "cell_type": "code",
   "execution_count": 10,
   "metadata": {},
   "outputs": [
    {
     "data": {
      "text/html": [
       "<table class=\"dataframe\">\n",
       "<caption>A matrix: 3 × 2 of type dbl</caption>\n",
       "<thead>\n",
       "\t<tr><th></th><th scope=col>CS</th><th scope=col>Ecig</th></tr>\n",
       "</thead>\n",
       "<tbody>\n",
       "\t<tr><th scope=row>NS</th><td>0</td><td>0</td></tr>\n",
       "\t<tr><th scope=row>CS</th><td>1</td><td>0</td></tr>\n",
       "\t<tr><th scope=row>Ecig</th><td>0</td><td>1</td></tr>\n",
       "</tbody>\n",
       "</table>\n"
      ],
      "text/latex": [
       "A matrix: 3 × 2 of type dbl\n",
       "\\begin{tabular}{r|ll}\n",
       "  & CS & Ecig\\\\\n",
       "\\hline\n",
       "\tNS & 0 & 0\\\\\n",
       "\tCS & 1 & 0\\\\\n",
       "\tEcig & 0 & 1\\\\\n",
       "\\end{tabular}\n"
      ],
      "text/markdown": [
       "\n",
       "A matrix: 3 × 2 of type dbl\n",
       "\n",
       "| <!--/--> | CS | Ecig |\n",
       "|---|---|---|\n",
       "| NS | 0 | 0 |\n",
       "| CS | 1 | 0 |\n",
       "| Ecig | 0 | 1 |\n",
       "\n"
      ],
      "text/plain": [
       "     CS Ecig\n",
       "NS   0  0   \n",
       "CS   1  0   \n",
       "Ecig 0  1   "
      ]
     },
     "metadata": {},
     "output_type": "display_data"
    }
   ],
   "source": [
    "#running anova test for continuous values: age, bmi, cotinine\n",
    "\n",
    "#putting group into a factor in order to make comparisons\n",
    "demographics_data_df$Group = factor(demographics_data_df$Group, labels = c(unique(demographics_data_df$Group)))\n",
    "\n",
    "#normalizing data\n",
    "mutated_df = demographics_data_df %>%\n",
    "    mutate(Norm_Age = scale(Age), Norm_BMI = scale(BMI), Norm_Cotinine = scale(Serum_Cotinine))\n",
    "#contrasts show what compartments are being compared in anova\n",
    "#these comparisons aren't what we want so I changed them in the function below\n",
    "contrasts(mutated_df$Group)"
   ]
  },
  {
   "cell_type": "markdown",
   "metadata": {},
   "source": [
    "                    Table of Contrasts\n",
    ">                   NS    | CS  |  Ecig  |  Sum\n",
    ">     Contrast 1 |  -2    |  1  |   1    |   0\n",
    ">     Contrast 2 |  0     | -1  |   1    |   0\n",
    "\n",
    "> - Contrast 1: compares NS to all other groups\n",
    "> - Contrast 2: compares CS and Ecig"
   ]
  },
  {
   "cell_type": "code",
   "execution_count": 11,
   "metadata": {
    "scrolled": true
   },
   "outputs": [
    {
     "data": {
      "text/html": [
       "<table class=\"dataframe\">\n",
       "<caption>A anova: 3 × 4</caption>\n",
       "<thead>\n",
       "\t<tr><th></th><th scope=col>Sum Sq</th><th scope=col>Df</th><th scope=col>F value</th><th scope=col>Pr(&gt;F)</th></tr>\n",
       "\t<tr><th></th><th scope=col>&lt;dbl&gt;</th><th scope=col>&lt;dbl&gt;</th><th scope=col>&lt;dbl&gt;</th><th scope=col>&lt;dbl&gt;</th></tr>\n",
       "</thead>\n",
       "<tbody>\n",
       "\t<tr><th scope=row>(Intercept)</th><td> 0.05208576</td><td> 1</td><td>0.05517635</td><td>0.8154583</td></tr>\n",
       "\t<tr><th scope=row>Group</th><td> 4.29652993</td><td> 2</td><td>2.27573557</td><td>0.1155499</td></tr>\n",
       "\t<tr><th scope=row>Residuals</th><td>38.70347007</td><td>41</td><td>        NA</td><td>       NA</td></tr>\n",
       "</tbody>\n",
       "</table>\n"
      ],
      "text/latex": [
       "A anova: 3 × 4\n",
       "\\begin{tabular}{r|llll}\n",
       "  & Sum Sq & Df & F value & Pr(>F)\\\\\n",
       "  & <dbl> & <dbl> & <dbl> & <dbl>\\\\\n",
       "\\hline\n",
       "\t(Intercept) &  0.05208576 &  1 & 0.05517635 & 0.8154583\\\\\n",
       "\tGroup &  4.29652993 &  2 & 2.27573557 & 0.1155499\\\\\n",
       "\tResiduals & 38.70347007 & 41 &         NA &        NA\\\\\n",
       "\\end{tabular}\n"
      ],
      "text/markdown": [
       "\n",
       "A anova: 3 × 4\n",
       "\n",
       "| <!--/--> | Sum Sq &lt;dbl&gt; | Df &lt;dbl&gt; | F value &lt;dbl&gt; | Pr(&gt;F) &lt;dbl&gt; |\n",
       "|---|---|---|---|---|\n",
       "| (Intercept) |  0.05208576 |  1 | 0.05517635 | 0.8154583 |\n",
       "| Group |  4.29652993 |  2 | 2.27573557 | 0.1155499 |\n",
       "| Residuals | 38.70347007 | 41 |         NA |        NA |\n",
       "\n"
      ],
      "text/plain": [
       "            Sum Sq      Df F value    Pr(>F)   \n",
       "(Intercept)  0.05208576  1 0.05517635 0.8154583\n",
       "Group        4.29652993  2 2.27573557 0.1155499\n",
       "Residuals   38.70347007 41         NA        NA"
      ]
     },
     "metadata": {},
     "output_type": "display_data"
    },
    {
     "data": {
      "text/html": [
       "<table class=\"dataframe\">\n",
       "<caption>A anova: 3 × 4</caption>\n",
       "<thead>\n",
       "\t<tr><th></th><th scope=col>Sum Sq</th><th scope=col>Df</th><th scope=col>F value</th><th scope=col>Pr(&gt;F)</th></tr>\n",
       "\t<tr><th></th><th scope=col>&lt;dbl&gt;</th><th scope=col>&lt;dbl&gt;</th><th scope=col>&lt;dbl&gt;</th><th scope=col>&lt;dbl&gt;</th></tr>\n",
       "</thead>\n",
       "<tbody>\n",
       "\t<tr><th scope=row>(Intercept)</th><td> 0.003458646</td><td> 1</td><td>0.003394073</td><td>0.9538327</td></tr>\n",
       "\t<tr><th scope=row>Group</th><td> 1.239001803</td><td> 2</td><td>0.607934966</td><td>0.5494275</td></tr>\n",
       "\t<tr><th scope=row>Residuals</th><td>40.760998197</td><td>40</td><td>         NA</td><td>       NA</td></tr>\n",
       "</tbody>\n",
       "</table>\n"
      ],
      "text/latex": [
       "A anova: 3 × 4\n",
       "\\begin{tabular}{r|llll}\n",
       "  & Sum Sq & Df & F value & Pr(>F)\\\\\n",
       "  & <dbl> & <dbl> & <dbl> & <dbl>\\\\\n",
       "\\hline\n",
       "\t(Intercept) &  0.003458646 &  1 & 0.003394073 & 0.9538327\\\\\n",
       "\tGroup &  1.239001803 &  2 & 0.607934966 & 0.5494275\\\\\n",
       "\tResiduals & 40.760998197 & 40 &          NA &        NA\\\\\n",
       "\\end{tabular}\n"
      ],
      "text/markdown": [
       "\n",
       "A anova: 3 × 4\n",
       "\n",
       "| <!--/--> | Sum Sq &lt;dbl&gt; | Df &lt;dbl&gt; | F value &lt;dbl&gt; | Pr(&gt;F) &lt;dbl&gt; |\n",
       "|---|---|---|---|---|\n",
       "| (Intercept) |  0.003458646 |  1 | 0.003394073 | 0.9538327 |\n",
       "| Group |  1.239001803 |  2 | 0.607934966 | 0.5494275 |\n",
       "| Residuals | 40.760998197 | 40 |          NA |        NA |\n",
       "\n"
      ],
      "text/plain": [
       "            Sum Sq       Df F value     Pr(>F)   \n",
       "(Intercept)  0.003458646  1 0.003394073 0.9538327\n",
       "Group        1.239001803  2 0.607934966 0.5494275\n",
       "Residuals   40.760998197 40          NA        NA"
      ]
     },
     "metadata": {},
     "output_type": "display_data"
    },
    {
     "data": {
      "text/html": [
       "<table class=\"dataframe\">\n",
       "<caption>A anova: 3 × 4</caption>\n",
       "<thead>\n",
       "\t<tr><th></th><th scope=col>Sum Sq</th><th scope=col>Df</th><th scope=col>F value</th><th scope=col>Pr(&gt;F)</th></tr>\n",
       "\t<tr><th></th><th scope=col>&lt;dbl&gt;</th><th scope=col>&lt;dbl&gt;</th><th scope=col>&lt;dbl&gt;</th><th scope=col>&lt;dbl&gt;</th></tr>\n",
       "</thead>\n",
       "<tbody>\n",
       "\t<tr><th scope=row>(Intercept)</th><td>2.396099e-06</td><td> 1</td><td>3.612112e-06</td><td>9.984928e-01</td></tr>\n",
       "\t<tr><th scope=row>Group</th><td>1.580260e+01</td><td> 2</td><td>1.191119e+01</td><td>8.350401e-05</td></tr>\n",
       "\t<tr><th scope=row>Residuals</th><td>2.719740e+01</td><td>41</td><td>          NA</td><td>          NA</td></tr>\n",
       "</tbody>\n",
       "</table>\n"
      ],
      "text/latex": [
       "A anova: 3 × 4\n",
       "\\begin{tabular}{r|llll}\n",
       "  & Sum Sq & Df & F value & Pr(>F)\\\\\n",
       "  & <dbl> & <dbl> & <dbl> & <dbl>\\\\\n",
       "\\hline\n",
       "\t(Intercept) & 2.396099e-06 &  1 & 3.612112e-06 & 9.984928e-01\\\\\n",
       "\tGroup & 1.580260e+01 &  2 & 1.191119e+01 & 8.350401e-05\\\\\n",
       "\tResiduals & 2.719740e+01 & 41 &           NA &           NA\\\\\n",
       "\\end{tabular}\n"
      ],
      "text/markdown": [
       "\n",
       "A anova: 3 × 4\n",
       "\n",
       "| <!--/--> | Sum Sq &lt;dbl&gt; | Df &lt;dbl&gt; | F value &lt;dbl&gt; | Pr(&gt;F) &lt;dbl&gt; |\n",
       "|---|---|---|---|---|\n",
       "| (Intercept) | 2.396099e-06 |  1 | 3.612112e-06 | 9.984928e-01 |\n",
       "| Group | 1.580260e+01 |  2 | 1.191119e+01 | 8.350401e-05 |\n",
       "| Residuals | 2.719740e+01 | 41 |           NA |           NA |\n",
       "\n"
      ],
      "text/plain": [
       "            Sum Sq       Df F value      Pr(>F)      \n",
       "(Intercept) 2.396099e-06  1 3.612112e-06 9.984928e-01\n",
       "Group       1.580260e+01  2 1.191119e+01 8.350401e-05\n",
       "Residuals   2.719740e+01 41           NA           NA"
      ]
     },
     "metadata": {},
     "output_type": "display_data"
    }
   ],
   "source": [
    "contrasts(mutated_df$Group) = cbind(c(-2,1,1),c(0,-1,1)) #meaning is specified above\n",
    "anova_age = Anova(aov(Norm_Age~Group, data = mutated_df), type = 'III')\n",
    "anova_age\n",
    "anova_bmi = Anova(aov(Norm_BMI~Group, data = mutated_df), type = 'III')\n",
    "anova_bmi\n",
    "anova_continine = Anova(aov(Norm_Cotinine~Group, data = mutated_df), type = 'III')\n",
    "anova_continine"
   ]
  },
  {
   "cell_type": "code",
   "execution_count": null,
   "metadata": {},
   "outputs": [],
   "source": []
  }
 ],
 "metadata": {
  "kernelspec": {
   "display_name": "R",
   "language": "R",
   "name": "ir"
  },
  "language_info": {
   "codemirror_mode": "r",
   "file_extension": ".r",
   "mimetype": "text/x-r-source",
   "name": "R",
   "pygments_lexer": "r",
   "version": "3.6.3"
  }
 },
 "nbformat": 4,
 "nbformat_minor": 4
}

{
 "cells": [
  {
   "cell_type": "code",
   "execution_count": 1,
   "metadata": {},
   "outputs": [
    {
     "name": "stderr",
     "output_type": "stream",
     "text": [
      "── \u001b[1mAttaching packages\u001b[22m ─────────────────────────────────────── tidyverse 1.3.0 ──\n",
      "\n",
      "\u001b[32m✔\u001b[39m \u001b[34mggplot2\u001b[39m 3.3.2     \u001b[32m✔\u001b[39m \u001b[34mpurrr  \u001b[39m 0.3.4\n",
      "\u001b[32m✔\u001b[39m \u001b[34mtibble \u001b[39m 3.0.3     \u001b[32m✔\u001b[39m \u001b[34mdplyr  \u001b[39m 1.0.2\n",
      "\u001b[32m✔\u001b[39m \u001b[34mtidyr  \u001b[39m 1.1.2     \u001b[32m✔\u001b[39m \u001b[34mstringr\u001b[39m 1.4.0\n",
      "\u001b[32m✔\u001b[39m \u001b[34mreadr  \u001b[39m 1.3.1     \u001b[32m✔\u001b[39m \u001b[34mforcats\u001b[39m 0.5.0\n",
      "\n",
      "── \u001b[1mConflicts\u001b[22m ────────────────────────────────────────── tidyverse_conflicts() ──\n",
      "\u001b[31m✖\u001b[39m \u001b[34mdplyr\u001b[39m::\u001b[32mfilter()\u001b[39m masks \u001b[34mstats\u001b[39m::filter()\n",
      "\u001b[31m✖\u001b[39m \u001b[34mdplyr\u001b[39m::\u001b[32mlag()\u001b[39m    masks \u001b[34mstats\u001b[39m::lag()\n",
      "\n",
      "\n",
      "Attaching package: ‘reshape2’\n",
      "\n",
      "\n",
      "The following object is masked from ‘package:tidyr’:\n",
      "\n",
      "    smiths\n",
      "\n",
      "\n"
     ]
    }
   ],
   "source": [
    "setwd('/Users/alexis/IEHS Dropbox/Rager Lab/Alexis_Payton/1_Compartment_Analysis/Expt1.2_Cytokine Distribution Analyses/Input')\n",
    "Output = ('/Users/alexis/IEHS Dropbox/Rager Lab/Alexis_Payton/1_Compartment_Analysis/Expt1.2_Cytokine Distribution Analyses/Output')\n",
    "cur_date = '122120'\n",
    "\n",
    "library(readxl)\n",
    "library(tidyverse)\n",
    "library(reshape2)\n",
    "\n",
    "#reading in file\n",
    "data_df <- data.frame(read_excel(\"CytokineData_102920.xlsx\", sheet = 2))"
   ]
  },
  {
   "cell_type": "code",
   "execution_count": 2,
   "metadata": {},
   "outputs": [
    {
     "data": {
      "text/html": [
       "<table>\n",
       "<caption>A data.frame: 6 × 8</caption>\n",
       "<thead>\n",
       "\t<tr><th></th><th scope=col>Original_Identifier</th><th scope=col>Protein</th><th scope=col>Conc</th><th scope=col>Conc_pslog2</th><th scope=col>Compartment</th><th scope=col>SubjectNo</th><th scope=col>Group</th><th scope=col>SubjectID</th></tr>\n",
       "\t<tr><th></th><th scope=col>&lt;chr&gt;</th><th scope=col>&lt;chr&gt;</th><th scope=col>&lt;dbl&gt;</th><th scope=col>&lt;dbl&gt;</th><th scope=col>&lt;chr&gt;</th><th scope=col>&lt;dbl&gt;</th><th scope=col>&lt;chr&gt;</th><th scope=col>&lt;chr&gt;</th></tr>\n",
       "</thead>\n",
       "<tbody>\n",
       "\t<tr><th scope=row>1</th><td>E_C_F_002</td><td>IFNg   </td><td> 17.642316</td><td>4.220509</td><td>ELF</td><td>1</td><td>NS</td><td>NS_1</td></tr>\n",
       "\t<tr><th scope=row>2</th><td>E_C_F_002</td><td>IL10   </td><td>  2.873724</td><td>1.953721</td><td>ELF</td><td>1</td><td>NS</td><td>NS_1</td></tr>\n",
       "\t<tr><th scope=row>3</th><td>E_C_F_002</td><td>IL12p70</td><td>  1.625272</td><td>1.392467</td><td>ELF</td><td>1</td><td>NS</td><td>NS_1</td></tr>\n",
       "\t<tr><th scope=row>4</th><td>E_C_F_002</td><td>IL13   </td><td> 36.117692</td><td>5.214035</td><td>ELF</td><td>1</td><td>NS</td><td>NS_1</td></tr>\n",
       "\t<tr><th scope=row>5</th><td>E_C_F_002</td><td>IL1b   </td><td>104.409217</td><td>6.719857</td><td>ELF</td><td>1</td><td>NS</td><td>NS_1</td></tr>\n",
       "\t<tr><th scope=row>6</th><td>E_C_F_002</td><td>IL6    </td><td> 21.159536</td><td>4.469856</td><td>ELF</td><td>1</td><td>NS</td><td>NS_1</td></tr>\n",
       "</tbody>\n",
       "</table>\n"
      ],
      "text/latex": [
       "A data.frame: 6 × 8\n",
       "\\begin{tabular}{r|llllllll}\n",
       "  & Original\\_Identifier & Protein & Conc & Conc\\_pslog2 & Compartment & SubjectNo & Group & SubjectID\\\\\n",
       "  & <chr> & <chr> & <dbl> & <dbl> & <chr> & <dbl> & <chr> & <chr>\\\\\n",
       "\\hline\n",
       "\t1 & E\\_C\\_F\\_002 & IFNg    &  17.642316 & 4.220509 & ELF & 1 & NS & NS\\_1\\\\\n",
       "\t2 & E\\_C\\_F\\_002 & IL10    &   2.873724 & 1.953721 & ELF & 1 & NS & NS\\_1\\\\\n",
       "\t3 & E\\_C\\_F\\_002 & IL12p70 &   1.625272 & 1.392467 & ELF & 1 & NS & NS\\_1\\\\\n",
       "\t4 & E\\_C\\_F\\_002 & IL13    &  36.117692 & 5.214035 & ELF & 1 & NS & NS\\_1\\\\\n",
       "\t5 & E\\_C\\_F\\_002 & IL1b    & 104.409217 & 6.719857 & ELF & 1 & NS & NS\\_1\\\\\n",
       "\t6 & E\\_C\\_F\\_002 & IL6     &  21.159536 & 4.469856 & ELF & 1 & NS & NS\\_1\\\\\n",
       "\\end{tabular}\n"
      ],
      "text/markdown": [
       "\n",
       "A data.frame: 6 × 8\n",
       "\n",
       "| <!--/--> | Original_Identifier &lt;chr&gt; | Protein &lt;chr&gt; | Conc &lt;dbl&gt; | Conc_pslog2 &lt;dbl&gt; | Compartment &lt;chr&gt; | SubjectNo &lt;dbl&gt; | Group &lt;chr&gt; | SubjectID &lt;chr&gt; |\n",
       "|---|---|---|---|---|---|---|---|---|\n",
       "| 1 | E_C_F_002 | IFNg    |  17.642316 | 4.220509 | ELF | 1 | NS | NS_1 |\n",
       "| 2 | E_C_F_002 | IL10    |   2.873724 | 1.953721 | ELF | 1 | NS | NS_1 |\n",
       "| 3 | E_C_F_002 | IL12p70 |   1.625272 | 1.392467 | ELF | 1 | NS | NS_1 |\n",
       "| 4 | E_C_F_002 | IL13    |  36.117692 | 5.214035 | ELF | 1 | NS | NS_1 |\n",
       "| 5 | E_C_F_002 | IL1b    | 104.409217 | 6.719857 | ELF | 1 | NS | NS_1 |\n",
       "| 6 | E_C_F_002 | IL6     |  21.159536 | 4.469856 | ELF | 1 | NS | NS_1 |\n",
       "\n"
      ],
      "text/plain": [
       "  Original_Identifier Protein Conc       Conc_pslog2 Compartment SubjectNo\n",
       "1 E_C_F_002           IFNg     17.642316 4.220509    ELF         1        \n",
       "2 E_C_F_002           IL10      2.873724 1.953721    ELF         1        \n",
       "3 E_C_F_002           IL12p70   1.625272 1.392467    ELF         1        \n",
       "4 E_C_F_002           IL13     36.117692 5.214035    ELF         1        \n",
       "5 E_C_F_002           IL1b    104.409217 6.719857    ELF         1        \n",
       "6 E_C_F_002           IL6      21.159536 4.469856    ELF         1        \n",
       "  Group SubjectID\n",
       "1 NS    NS_1     \n",
       "2 NS    NS_1     \n",
       "3 NS    NS_1     \n",
       "4 NS    NS_1     \n",
       "5 NS    NS_1     \n",
       "6 NS    NS_1     "
      ]
     },
     "metadata": {},
     "output_type": "display_data"
    }
   ],
   "source": [
    "head(data_df)"
   ]
  },
  {
   "cell_type": "markdown",
   "metadata": {},
   "source": [
    "Running Spearman correlations tests to determine amount of correlations between compartments within ecig or cigarette smokers."
   ]
  },
  {
   "cell_type": "code",
   "execution_count": 29,
   "metadata": {
    "collapsed": true
   },
   "outputs": [
    {
     "name": "stderr",
     "output_type": "stream",
     "text": [
      "`summarise()` ungrouping output (override with `.groups` argument)\n",
      "\n",
      "`summarise()` ungrouping output (override with `.groups` argument)\n",
      "\n",
      "`summarise()` ungrouping output (override with `.groups` argument)\n",
      "\n",
      "`summarise()` ungrouping output (override with `.groups` argument)\n",
      "\n",
      "`summarise()` ungrouping output (override with `.groups` argument)\n",
      "\n",
      "`summarise()` ungrouping output (override with `.groups` argument)\n",
      "\n",
      "`summarise()` ungrouping output (override with `.groups` argument)\n",
      "\n",
      "`summarise()` ungrouping output (override with `.groups` argument)\n",
      "\n",
      "`summarise()` ungrouping output (override with `.groups` argument)\n",
      "\n",
      "`summarise()` ungrouping output (override with `.groups` argument)\n",
      "\n",
      "`summarise()` ungrouping output (override with `.groups` argument)\n",
      "\n",
      "`summarise()` ungrouping output (override with `.groups` argument)\n",
      "\n",
      "`summarise()` ungrouping output (override with `.groups` argument)\n",
      "\n",
      "`summarise()` ungrouping output (override with `.groups` argument)\n",
      "\n",
      "`summarise()` ungrouping output (override with `.groups` argument)\n",
      "\n",
      "`summarise()` ungrouping output (override with `.groups` argument)\n",
      "\n",
      "`summarise()` ungrouping output (override with `.groups` argument)\n",
      "\n",
      "`summarise()` ungrouping output (override with `.groups` argument)\n",
      "\n",
      "`summarise()` ungrouping output (override with `.groups` argument)\n",
      "\n",
      "`summarise()` ungrouping output (override with `.groups` argument)\n",
      "\n",
      "`summarise()` ungrouping output (override with `.groups` argument)\n",
      "\n",
      "`summarise()` ungrouping output (override with `.groups` argument)\n",
      "\n",
      "`summarise()` ungrouping output (override with `.groups` argument)\n",
      "\n",
      "`summarise()` ungrouping output (override with `.groups` argument)\n",
      "\n",
      "`summarise()` ungrouping output (override with `.groups` argument)\n",
      "\n",
      "`summarise()` ungrouping output (override with `.groups` argument)\n",
      "\n",
      "`summarise()` ungrouping output (override with `.groups` argument)\n",
      "\n",
      "`summarise()` ungrouping output (override with `.groups` argument)\n",
      "\n",
      "`summarise()` ungrouping output (override with `.groups` argument)\n",
      "\n",
      "`summarise()` ungrouping output (override with `.groups` argument)\n",
      "\n",
      "`summarise()` ungrouping output (override with `.groups` argument)\n",
      "\n",
      "`summarise()` ungrouping output (override with `.groups` argument)\n",
      "\n",
      "`summarise()` ungrouping output (override with `.groups` argument)\n",
      "\n",
      "`summarise()` ungrouping output (override with `.groups` argument)\n",
      "\n",
      "`summarise()` ungrouping output (override with `.groups` argument)\n",
      "\n",
      "`summarise()` ungrouping output (override with `.groups` argument)\n",
      "\n"
     ]
    }
   ],
   "source": [
    "compartment = c('NLF','ELF','NLF','NLF','Sputum', 'ELF', # compartments for first df\n",
    "                'ELF', 'Sputum', 'Sputum', 'Serum', 'Serum', 'Serum') #compartments for 2nd df\n",
    "smokers = c('NS','CS', 'Ecig')\n",
    "\n",
    "empty_vector = c()\n",
    "for (i in 1:length(compartment)){\n",
    "    for (j in 1:length(smokers)){\n",
    "        if (i < 7){\n",
    "            compartment1_df = data_df %>%\n",
    "                filter(Compartment == compartment[i], Group == smokers[j]) %>%\n",
    "                group_by(Protein) %>%\n",
    "                summarize(Protein_Avg_Conc_pslog2 = mean(Conc_pslog2))\n",
    "            compartment2_df = data_df %>%\n",
    "                filter(Compartment == compartment[i + 6], Group == smokers[j]) %>%\n",
    "                group_by(Protein) %>%\n",
    "                summarize(Protein_Avg_Conc_pslog2 = mean(Conc_pslog2))\n",
    "            pearson_test = cor.test(compartment1_df$Protein_Avg_Conc_pslog2, compartment2_df$Protein_Avg_Conc_pslog2, \n",
    "                                    method = c('spearman'))\n",
    "\n",
    "            #remembering values of interest\n",
    "            values_vector = c(compartment[i], compartment[i + 6], smokers[j], pearson_test$estimate, pearson_test$p.value)\n",
    "            empty_vector = c(empty_vector, values_vector)\n",
    "        }\n",
    "    }\n",
    "}"
   ]
  },
  {
   "cell_type": "code",
   "execution_count": 32,
   "metadata": {},
   "outputs": [
    {
     "data": {
      "text/html": [
       "18"
      ],
      "text/latex": [
       "18"
      ],
      "text/markdown": [
       "18"
      ],
      "text/plain": [
       "[1] 18"
      ]
     },
     "metadata": {},
     "output_type": "display_data"
    }
   ],
   "source": [
    "90/5"
   ]
  },
  {
   "cell_type": "code",
   "execution_count": 33,
   "metadata": {},
   "outputs": [
    {
     "data": {
      "text/html": [
       "<table>\n",
       "<caption>A data.frame: 18 × 5</caption>\n",
       "<thead>\n",
       "\t<tr><th scope=col>Compartment.1</th><th scope=col>Compartment.2</th><th scope=col>Smoking.Status</th><th scope=col>Pearson.Estimate</th><th scope=col>P.Value</th></tr>\n",
       "\t<tr><th scope=col>&lt;chr&gt;</th><th scope=col>&lt;chr&gt;</th><th scope=col>&lt;chr&gt;</th><th scope=col>&lt;chr&gt;</th><th scope=col>&lt;chr&gt;</th></tr>\n",
       "</thead>\n",
       "<tbody>\n",
       "\t<tr><td>NLF   </td><td>ELF   </td><td>CS  </td><td>0.958215697346132</td><td>3.77262311925849e-06</td></tr>\n",
       "\t<tr><td>ELF   </td><td>Sputum</td><td>CS  </td><td>0.916431394692264</td><td>3.98548399071368e-06</td></tr>\n",
       "\t<tr><td>NLF   </td><td>Sputum</td><td>CS  </td><td>0.897233201581028</td><td>3.40029052874982e-06</td></tr>\n",
       "\t<tr><td>NLF   </td><td>Serum </td><td>CS  </td><td>0.638622247317899</td><td>0.00176356741999373 </td></tr>\n",
       "\t<tr><td>Sputum</td><td>Serum </td><td>CS  </td><td>0.656691134952004</td><td>0.00119158427287967 </td></tr>\n",
       "\t<tr><td>ELF   </td><td>Serum </td><td>CS  </td><td>0.731225296442688</td><td>0.000167869737836107</td></tr>\n",
       "\t<tr><td>NLF   </td><td>ELF   </td><td>Ecig</td><td>0.970638057594579</td><td>3.43483964594474e-06</td></tr>\n",
       "\t<tr><td>ELF   </td><td>Sputum</td><td>Ecig</td><td>0.917560700169396</td><td>4.00520419443953e-06</td></tr>\n",
       "\t<tr><td>NLF   </td><td>Sputum</td><td>Ecig</td><td>0.872388481084133</td><td>2.07253971041151e-06</td></tr>\n",
       "\t<tr><td>NLF   </td><td>Serum </td><td>Ecig</td><td>0.670242800677583</td><td>0.000872737519606458</td></tr>\n",
       "\t<tr><td>Sputum</td><td>Serum </td><td>Ecig</td><td>0.630717108977979</td><td>0.00207784545114947 </td></tr>\n",
       "\t<tr><td>ELF   </td><td>Serum </td><td>Ecig</td><td>0.717673630717109</td><td>0.000252831312208068</td></tr>\n",
       "\t<tr><td>NLF   </td><td>ELF   </td><td>NS  </td><td>0.968379446640316</td><td>3.50197477594833e-06</td></tr>\n",
       "\t<tr><td>ELF   </td><td>Sputum</td><td>NS  </td><td>0.923207227555054</td><td>4.07967145347123e-06</td></tr>\n",
       "\t<tr><td>NLF   </td><td>Sputum</td><td>NS  </td><td>0.879164313946923</td><td>2.47246779977176e-06</td></tr>\n",
       "\t<tr><td>NLF   </td><td>Serum </td><td>NS  </td><td>0.734613212874082</td><td>0.000150778215452418</td></tr>\n",
       "\t<tr><td>Sputum</td><td>Serum </td><td>NS  </td><td>0.717673630717109</td><td>0.000252831312208068</td></tr>\n",
       "\t<tr><td>ELF   </td><td>Serum </td><td>NS  </td><td>0.716544325239977</td><td>0.000261261718612976</td></tr>\n",
       "</tbody>\n",
       "</table>\n"
      ],
      "text/latex": [
       "A data.frame: 18 × 5\n",
       "\\begin{tabular}{lllll}\n",
       " Compartment.1 & Compartment.2 & Smoking.Status & Pearson.Estimate & P.Value\\\\\n",
       " <chr> & <chr> & <chr> & <chr> & <chr>\\\\\n",
       "\\hline\n",
       "\t NLF    & ELF    & CS   & 0.958215697346132 & 3.77262311925849e-06\\\\\n",
       "\t ELF    & Sputum & CS   & 0.916431394692264 & 3.98548399071368e-06\\\\\n",
       "\t NLF    & Sputum & CS   & 0.897233201581028 & 3.40029052874982e-06\\\\\n",
       "\t NLF    & Serum  & CS   & 0.638622247317899 & 0.00176356741999373 \\\\\n",
       "\t Sputum & Serum  & CS   & 0.656691134952004 & 0.00119158427287967 \\\\\n",
       "\t ELF    & Serum  & CS   & 0.731225296442688 & 0.000167869737836107\\\\\n",
       "\t NLF    & ELF    & Ecig & 0.970638057594579 & 3.43483964594474e-06\\\\\n",
       "\t ELF    & Sputum & Ecig & 0.917560700169396 & 4.00520419443953e-06\\\\\n",
       "\t NLF    & Sputum & Ecig & 0.872388481084133 & 2.07253971041151e-06\\\\\n",
       "\t NLF    & Serum  & Ecig & 0.670242800677583 & 0.000872737519606458\\\\\n",
       "\t Sputum & Serum  & Ecig & 0.630717108977979 & 0.00207784545114947 \\\\\n",
       "\t ELF    & Serum  & Ecig & 0.717673630717109 & 0.000252831312208068\\\\\n",
       "\t NLF    & ELF    & NS   & 0.968379446640316 & 3.50197477594833e-06\\\\\n",
       "\t ELF    & Sputum & NS   & 0.923207227555054 & 4.07967145347123e-06\\\\\n",
       "\t NLF    & Sputum & NS   & 0.879164313946923 & 2.47246779977176e-06\\\\\n",
       "\t NLF    & Serum  & NS   & 0.734613212874082 & 0.000150778215452418\\\\\n",
       "\t Sputum & Serum  & NS   & 0.717673630717109 & 0.000252831312208068\\\\\n",
       "\t ELF    & Serum  & NS   & 0.716544325239977 & 0.000261261718612976\\\\\n",
       "\\end{tabular}\n"
      ],
      "text/markdown": [
       "\n",
       "A data.frame: 18 × 5\n",
       "\n",
       "| Compartment.1 &lt;chr&gt; | Compartment.2 &lt;chr&gt; | Smoking.Status &lt;chr&gt; | Pearson.Estimate &lt;chr&gt; | P.Value &lt;chr&gt; |\n",
       "|---|---|---|---|---|\n",
       "| NLF    | ELF    | CS   | 0.958215697346132 | 3.77262311925849e-06 |\n",
       "| ELF    | Sputum | CS   | 0.916431394692264 | 3.98548399071368e-06 |\n",
       "| NLF    | Sputum | CS   | 0.897233201581028 | 3.40029052874982e-06 |\n",
       "| NLF    | Serum  | CS   | 0.638622247317899 | 0.00176356741999373  |\n",
       "| Sputum | Serum  | CS   | 0.656691134952004 | 0.00119158427287967  |\n",
       "| ELF    | Serum  | CS   | 0.731225296442688 | 0.000167869737836107 |\n",
       "| NLF    | ELF    | Ecig | 0.970638057594579 | 3.43483964594474e-06 |\n",
       "| ELF    | Sputum | Ecig | 0.917560700169396 | 4.00520419443953e-06 |\n",
       "| NLF    | Sputum | Ecig | 0.872388481084133 | 2.07253971041151e-06 |\n",
       "| NLF    | Serum  | Ecig | 0.670242800677583 | 0.000872737519606458 |\n",
       "| Sputum | Serum  | Ecig | 0.630717108977979 | 0.00207784545114947  |\n",
       "| ELF    | Serum  | Ecig | 0.717673630717109 | 0.000252831312208068 |\n",
       "| NLF    | ELF    | NS   | 0.968379446640316 | 3.50197477594833e-06 |\n",
       "| ELF    | Sputum | NS   | 0.923207227555054 | 4.07967145347123e-06 |\n",
       "| NLF    | Sputum | NS   | 0.879164313946923 | 2.47246779977176e-06 |\n",
       "| NLF    | Serum  | NS   | 0.734613212874082 | 0.000150778215452418 |\n",
       "| Sputum | Serum  | NS   | 0.717673630717109 | 0.000252831312208068 |\n",
       "| ELF    | Serum  | NS   | 0.716544325239977 | 0.000261261718612976 |\n",
       "\n"
      ],
      "text/plain": [
       "   Compartment.1 Compartment.2 Smoking.Status Pearson.Estimate \n",
       "1  NLF           ELF           CS             0.958215697346132\n",
       "2  ELF           Sputum        CS             0.916431394692264\n",
       "3  NLF           Sputum        CS             0.897233201581028\n",
       "4  NLF           Serum         CS             0.638622247317899\n",
       "5  Sputum        Serum         CS             0.656691134952004\n",
       "6  ELF           Serum         CS             0.731225296442688\n",
       "7  NLF           ELF           Ecig           0.970638057594579\n",
       "8  ELF           Sputum        Ecig           0.917560700169396\n",
       "9  NLF           Sputum        Ecig           0.872388481084133\n",
       "10 NLF           Serum         Ecig           0.670242800677583\n",
       "11 Sputum        Serum         Ecig           0.630717108977979\n",
       "12 ELF           Serum         Ecig           0.717673630717109\n",
       "13 NLF           ELF           NS             0.968379446640316\n",
       "14 ELF           Sputum        NS             0.923207227555054\n",
       "15 NLF           Sputum        NS             0.879164313946923\n",
       "16 NLF           Serum         NS             0.734613212874082\n",
       "17 Sputum        Serum         NS             0.717673630717109\n",
       "18 ELF           Serum         NS             0.716544325239977\n",
       "   P.Value             \n",
       "1  3.77262311925849e-06\n",
       "2  3.98548399071368e-06\n",
       "3  3.40029052874982e-06\n",
       "4  0.00176356741999373 \n",
       "5  0.00119158427287967 \n",
       "6  0.000167869737836107\n",
       "7  3.43483964594474e-06\n",
       "8  4.00520419443953e-06\n",
       "9  2.07253971041151e-06\n",
       "10 0.000872737519606458\n",
       "11 0.00207784545114947 \n",
       "12 0.000252831312208068\n",
       "13 3.50197477594833e-06\n",
       "14 4.07967145347123e-06\n",
       "15 2.47246779977176e-06\n",
       "16 0.000150778215452418\n",
       "17 0.000252831312208068\n",
       "18 0.000261261718612976"
      ]
     },
     "metadata": {},
     "output_type": "display_data"
    }
   ],
   "source": [
    "#putting everything into a table\n",
    "dim(empty_vector) = c(5, 18)\n",
    "table = data.frame(t(empty_vector))\n",
    "colnames(table) = c('Compartment 1', 'Compartment 2', 'Smoking Status', 'Pearson Estimate', 'P Value')\n",
    "final_table = data.frame(table %>%\n",
    "                        arrange(`Smoking Status`))\n",
    "final_table"
   ]
  },
  {
   "cell_type": "code",
   "execution_count": 34,
   "metadata": {},
   "outputs": [],
   "source": [
    "#exporting data\n",
    "write.csv(final_table, paste0(Output,\"/\", cur_date, \"_Spearman_Correlations.csv\"), row.names = FALSE)"
   ]
  },
  {
   "cell_type": "code",
   "execution_count": null,
   "metadata": {},
   "outputs": [],
   "source": []
  }
 ],
 "metadata": {
  "kernelspec": {
   "display_name": "R",
   "language": "R",
   "name": "ir"
  },
  "language_info": {
   "codemirror_mode": "r",
   "file_extension": ".r",
   "mimetype": "text/x-r-source",
   "name": "R",
   "pygments_lexer": "r",
   "version": "4.0.2"
  }
 },
 "nbformat": 4,
 "nbformat_minor": 4
}

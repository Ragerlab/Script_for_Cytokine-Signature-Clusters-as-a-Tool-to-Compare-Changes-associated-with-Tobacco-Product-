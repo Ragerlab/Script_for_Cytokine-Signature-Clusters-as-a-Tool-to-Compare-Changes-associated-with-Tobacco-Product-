{
 "cells": [
  {
   "cell_type": "code",
   "execution_count": 1,
   "metadata": {},
   "outputs": [
    {
     "name": "stderr",
     "output_type": "stream",
     "text": [
      "Loading required package: ggplot2\n",
      "\n",
      "Welcome! Want to learn more? See two factoextra-related books at https://goo.gl/ve3WBa\n",
      "\n",
      "Loading required package: randomForest\n",
      "\n",
      "randomForest 4.6-14\n",
      "\n",
      "Type rfNews() to see new features/changes/bug fixes.\n",
      "\n",
      "\n",
      "Attaching package: ‘randomForest’\n",
      "\n",
      "\n",
      "The following object is masked from ‘package:ggplot2’:\n",
      "\n",
      "    margin\n",
      "\n",
      "\n",
      "Loading required package: foreach\n",
      "\n",
      "Loading required package: itertools\n",
      "\n",
      "Loading required package: iterators\n",
      "\n",
      "── \u001b[1mAttaching packages\u001b[22m ─────────────────────────────────────── tidyverse 1.3.0 ──\n",
      "\n",
      "\u001b[32m✔\u001b[39m \u001b[34mtibble \u001b[39m 3.0.6     \u001b[32m✔\u001b[39m \u001b[34mdplyr  \u001b[39m 1.0.4\n",
      "\u001b[32m✔\u001b[39m \u001b[34mtidyr  \u001b[39m 1.1.2     \u001b[32m✔\u001b[39m \u001b[34mstringr\u001b[39m 1.4.0\n",
      "\u001b[32m✔\u001b[39m \u001b[34mreadr  \u001b[39m 1.4.0     \u001b[32m✔\u001b[39m \u001b[34mforcats\u001b[39m 0.5.1\n",
      "\u001b[32m✔\u001b[39m \u001b[34mpurrr  \u001b[39m 0.3.4     \n",
      "\n",
      "── \u001b[1mConflicts\u001b[22m ────────────────────────────────────────── tidyverse_conflicts() ──\n",
      "\u001b[31m✖\u001b[39m \u001b[34mpurrr\u001b[39m::\u001b[32maccumulate()\u001b[39m    masks \u001b[34mforeach\u001b[39m::accumulate()\n",
      "\u001b[31m✖\u001b[39m \u001b[34mdplyr\u001b[39m::\u001b[32mcombine()\u001b[39m       masks \u001b[34mrandomForest\u001b[39m::combine()\n",
      "\u001b[31m✖\u001b[39m \u001b[34mdplyr\u001b[39m::\u001b[32mfilter()\u001b[39m        masks \u001b[34mstats\u001b[39m::filter()\n",
      "\u001b[31m✖\u001b[39m \u001b[34mdplyr\u001b[39m::\u001b[32mlag()\u001b[39m           masks \u001b[34mstats\u001b[39m::lag()\n",
      "\u001b[31m✖\u001b[39m \u001b[34mrandomForest\u001b[39m::\u001b[32mmargin()\u001b[39m masks \u001b[34mggplot2\u001b[39m::margin()\n",
      "\u001b[31m✖\u001b[39m \u001b[34mpurrr\u001b[39m::\u001b[32mwhen()\u001b[39m          masks \u001b[34mforeach\u001b[39m::when()\n",
      "\n",
      "\n",
      "Attaching package: ‘janitor’\n",
      "\n",
      "\n",
      "The following objects are masked from ‘package:stats’:\n",
      "\n",
      "    chisq.test, fisher.test\n",
      "\n",
      "\n",
      "\n",
      "Attaching package: ‘reshape2’\n",
      "\n",
      "\n",
      "The following object is masked from ‘package:tidyr’:\n",
      "\n",
      "    smiths\n",
      "\n",
      "\n",
      "Loading required package: carData\n",
      "\n",
      "\n",
      "Attaching package: ‘car’\n",
      "\n",
      "\n",
      "The following object is masked from ‘package:dplyr’:\n",
      "\n",
      "    recode\n",
      "\n",
      "\n",
      "The following object is masked from ‘package:purrr’:\n",
      "\n",
      "    some\n",
      "\n",
      "\n",
      "Warning message:\n",
      "“Missing column names filled in: 'X1' [1]”\n",
      "\n",
      "\u001b[36m──\u001b[39m \u001b[1m\u001b[1mColumn specification\u001b[1m\u001b[22m \u001b[36m────────────────────────────────────────────────────────\u001b[39m\n",
      "cols(\n",
      "  X1 = \u001b[31mcol_character()\u001b[39m,\n",
      "  ClusterA = \u001b[32mcol_double()\u001b[39m,\n",
      "  ClusterB = \u001b[32mcol_double()\u001b[39m,\n",
      "  ClusterC = \u001b[32mcol_double()\u001b[39m\n",
      ")\n",
      "\n",
      "\n",
      "Warning message:\n",
      "“Missing column names filled in: 'X1' [1]”\n",
      "\n",
      "\u001b[36m──\u001b[39m \u001b[1m\u001b[1mColumn specification\u001b[1m\u001b[22m \u001b[36m────────────────────────────────────────────────────────\u001b[39m\n",
      "cols(\n",
      "  X1 = \u001b[31mcol_character()\u001b[39m,\n",
      "  ClusterA = \u001b[32mcol_double()\u001b[39m,\n",
      "  ClusterB = \u001b[32mcol_double()\u001b[39m,\n",
      "  ClusterC = \u001b[32mcol_double()\u001b[39m\n",
      ")\n",
      "\n",
      "\n",
      "Warning message:\n",
      "“Missing column names filled in: 'X1' [1]”\n",
      "\n",
      "\u001b[36m──\u001b[39m \u001b[1m\u001b[1mColumn specification\u001b[1m\u001b[22m \u001b[36m────────────────────────────────────────────────────────\u001b[39m\n",
      "cols(\n",
      "  X1 = \u001b[31mcol_character()\u001b[39m,\n",
      "  ClusterA = \u001b[32mcol_double()\u001b[39m,\n",
      "  ClusterB = \u001b[32mcol_double()\u001b[39m,\n",
      "  ClusterC = \u001b[32mcol_double()\u001b[39m\n",
      ")\n",
      "\n",
      "\n",
      "Warning message:\n",
      "“Missing column names filled in: 'X1' [1]”\n",
      "\n",
      "\u001b[36m──\u001b[39m \u001b[1m\u001b[1mColumn specification\u001b[1m\u001b[22m \u001b[36m────────────────────────────────────────────────────────\u001b[39m\n",
      "cols(\n",
      "  X1 = \u001b[31mcol_character()\u001b[39m,\n",
      "  ClusterA = \u001b[32mcol_double()\u001b[39m,\n",
      "  ClusterB = \u001b[32mcol_double()\u001b[39m,\n",
      "  ClusterC = \u001b[32mcol_double()\u001b[39m\n",
      ")\n",
      "\n",
      "\n"
     ]
    }
   ],
   "source": [
    "setwd(\"/Users/alexis/IEHS Dropbox/Rager Lab/Alexis_Payton/Experiments/1. Compartment Analysis/1.5. Cluster Distribution Analyses/1.5.2. ANOVA_ANCOVA/Input\")\n",
    "Output = ('/Users/alexis/IEHS Dropbox/Rager Lab/Alexis_Payton/Experiments/1. Compartment Analysis/1.5. Cluster Distribution Analyses/1.5.2. ANOVA_ANCOVA/Output')\n",
    "cur_date = \"052021\"\n",
    "\n",
    "library(readxl)\n",
    "library(factoextra)\n",
    "library(missForest)\n",
    "#library(plyr) #this must be loaded before tidyverse\n",
    "library(tidyverse)\n",
    "library(ggpubr)\n",
    "library(janitor)\n",
    "library(reshape2)\n",
    "library(car) #package necessary to run anova and specify type III errors\n",
    "\n",
    "#reading in files\n",
    "subjectinfo <-  data.frame(read_excel(\"SubjectInfo_102920.xlsx\", sheet = 2))\n",
    "eigencytokines_NLF = read_csv(\"021821_NLF_eigencytokines.csv\") %>%\n",
    "    column_to_rownames(var = \"X1\")\n",
    "eigencytokines_NELF = read_csv(\"021821_NELF_eigencytokines.csv\") %>%\n",
    "    column_to_rownames(var = \"X1\")\n",
    "eigencytokines_Sputum = read_csv(\"021821_Sputum_eigencytokines.csv\") %>%\n",
    "    column_to_rownames(var = \"X1\")\n",
    "eigencytokines_Serum = read_csv(\"021821_Serum_eigencytokines.csv\") %>%\n",
    "    column_to_rownames(var = \"X1\")"
   ]
  },
  {
   "cell_type": "code",
   "execution_count": 2,
   "metadata": {},
   "outputs": [
    {
     "data": {
      "text/html": [
       "<table class=\"dataframe\">\n",
       "<caption>A data.frame: 6 × 3</caption>\n",
       "<thead>\n",
       "\t<tr><th></th><th scope=col>ClusterA</th><th scope=col>ClusterB</th><th scope=col>ClusterC</th></tr>\n",
       "\t<tr><th></th><th scope=col>&lt;dbl&gt;</th><th scope=col>&lt;dbl&gt;</th><th scope=col>&lt;dbl&gt;</th></tr>\n",
       "</thead>\n",
       "<tbody>\n",
       "\t<tr><th scope=row>NS_1</th><td>-0.9339594</td><td>0.7610626</td><td>-0.1203324</td></tr>\n",
       "\t<tr><th scope=row>NS_10</th><td>-0.5237683</td><td>1.1305985</td><td> 0.6157292</td></tr>\n",
       "\t<tr><th scope=row>NS_11</th><td>-0.0171691</td><td>0.6122665</td><td> 0.6327026</td></tr>\n",
       "\t<tr><th scope=row>NS_12</th><td>-0.9538211</td><td>0.1390103</td><td> 0.9437728</td></tr>\n",
       "\t<tr><th scope=row>NS_13</th><td>-1.4503422</td><td>0.9326770</td><td> 0.4460119</td></tr>\n",
       "\t<tr><th scope=row>NS_14</th><td>-1.8414450</td><td>0.8281043</td><td> 0.5153413</td></tr>\n",
       "</tbody>\n",
       "</table>\n"
      ],
      "text/latex": [
       "A data.frame: 6 × 3\n",
       "\\begin{tabular}{r|lll}\n",
       "  & ClusterA & ClusterB & ClusterC\\\\\n",
       "  & <dbl> & <dbl> & <dbl>\\\\\n",
       "\\hline\n",
       "\tNS\\_1 & -0.9339594 & 0.7610626 & -0.1203324\\\\\n",
       "\tNS\\_10 & -0.5237683 & 1.1305985 &  0.6157292\\\\\n",
       "\tNS\\_11 & -0.0171691 & 0.6122665 &  0.6327026\\\\\n",
       "\tNS\\_12 & -0.9538211 & 0.1390103 &  0.9437728\\\\\n",
       "\tNS\\_13 & -1.4503422 & 0.9326770 &  0.4460119\\\\\n",
       "\tNS\\_14 & -1.8414450 & 0.8281043 &  0.5153413\\\\\n",
       "\\end{tabular}\n"
      ],
      "text/markdown": [
       "\n",
       "A data.frame: 6 × 3\n",
       "\n",
       "| <!--/--> | ClusterA &lt;dbl&gt; | ClusterB &lt;dbl&gt; | ClusterC &lt;dbl&gt; |\n",
       "|---|---|---|---|\n",
       "| NS_1 | -0.9339594 | 0.7610626 | -0.1203324 |\n",
       "| NS_10 | -0.5237683 | 1.1305985 |  0.6157292 |\n",
       "| NS_11 | -0.0171691 | 0.6122665 |  0.6327026 |\n",
       "| NS_12 | -0.9538211 | 0.1390103 |  0.9437728 |\n",
       "| NS_13 | -1.4503422 | 0.9326770 |  0.4460119 |\n",
       "| NS_14 | -1.8414450 | 0.8281043 |  0.5153413 |\n",
       "\n"
      ],
      "text/plain": [
       "      ClusterA   ClusterB  ClusterC  \n",
       "NS_1  -0.9339594 0.7610626 -0.1203324\n",
       "NS_10 -0.5237683 1.1305985  0.6157292\n",
       "NS_11 -0.0171691 0.6122665  0.6327026\n",
       "NS_12 -0.9538211 0.1390103  0.9437728\n",
       "NS_13 -1.4503422 0.9326770  0.4460119\n",
       "NS_14 -1.8414450 0.8281043  0.5153413"
      ]
     },
     "metadata": {},
     "output_type": "display_data"
    }
   ],
   "source": [
    "#first pseudo log2 transforming all values and then scaling all eigencytokine dfs\n",
    "#normally you wouldn't do this, but was done to help meet more of the ANOVA assumptions\n",
    "eigencytokines_NELF_scaled <- as.data.frame(scale(log2(eigencytokines_NELF + 1)))\n",
    "eigencytokines_NLF_scaled <- as.data.frame(scale(log2(eigencytokines_NLF + 1)))\n",
    "eigencytokines_Serum_scaled <- as.data.frame(scale(log2(eigencytokines_Serum + 1)))\n",
    "eigencytokines_Sputum_scaled <- as.data.frame(scale(log2(eigencytokines_Sputum + 1)))\n",
    "\n",
    "head(eigencytokines_NLF_scaled)"
   ]
  },
  {
   "cell_type": "code",
   "execution_count": 3,
   "metadata": {},
   "outputs": [
    {
     "name": "stderr",
     "output_type": "stream",
     "text": [
      "Joining, by = \"SubjectID\"\n",
      "\n",
      "Joining, by = \"SubjectID\"\n",
      "\n",
      "Joining, by = \"SubjectID\"\n",
      "\n",
      "Joining, by = \"SubjectID\"\n",
      "\n"
     ]
    },
    {
     "data": {
      "text/html": [
       "<table class=\"dataframe\">\n",
       "<caption>A data.frame: 6 × 6</caption>\n",
       "<thead>\n",
       "\t<tr><th></th><th scope=col>SubjectID</th><th scope=col>ClusterA</th><th scope=col>ClusterB</th><th scope=col>ClusterC</th><th scope=col>Group</th><th scope=col>Age</th></tr>\n",
       "\t<tr><th></th><th scope=col>&lt;chr&gt;</th><th scope=col>&lt;dbl&gt;</th><th scope=col>&lt;dbl&gt;</th><th scope=col>&lt;dbl&gt;</th><th scope=col>&lt;chr&gt;</th><th scope=col>&lt;dbl&gt;</th></tr>\n",
       "</thead>\n",
       "<tbody>\n",
       "\t<tr><th scope=row>1</th><td>NS_1 </td><td>-0.9339594</td><td>0.7610626</td><td>-0.1203324</td><td>NS</td><td>28</td></tr>\n",
       "\t<tr><th scope=row>2</th><td>NS_10</td><td>-0.5237683</td><td>1.1305985</td><td> 0.6157292</td><td>NS</td><td>34</td></tr>\n",
       "\t<tr><th scope=row>3</th><td>NS_11</td><td>-0.0171691</td><td>0.6122665</td><td> 0.6327026</td><td>NS</td><td>24</td></tr>\n",
       "\t<tr><th scope=row>4</th><td>NS_12</td><td>-0.9538211</td><td>0.1390103</td><td> 0.9437728</td><td>NS</td><td>26</td></tr>\n",
       "\t<tr><th scope=row>5</th><td>NS_13</td><td>-1.4503422</td><td>0.9326770</td><td> 0.4460119</td><td>NS</td><td>39</td></tr>\n",
       "\t<tr><th scope=row>6</th><td>NS_14</td><td>-1.8414450</td><td>0.8281043</td><td> 0.5153413</td><td>NS</td><td>31</td></tr>\n",
       "</tbody>\n",
       "</table>\n"
      ],
      "text/latex": [
       "A data.frame: 6 × 6\n",
       "\\begin{tabular}{r|llllll}\n",
       "  & SubjectID & ClusterA & ClusterB & ClusterC & Group & Age\\\\\n",
       "  & <chr> & <dbl> & <dbl> & <dbl> & <chr> & <dbl>\\\\\n",
       "\\hline\n",
       "\t1 & NS\\_1  & -0.9339594 & 0.7610626 & -0.1203324 & NS & 28\\\\\n",
       "\t2 & NS\\_10 & -0.5237683 & 1.1305985 &  0.6157292 & NS & 34\\\\\n",
       "\t3 & NS\\_11 & -0.0171691 & 0.6122665 &  0.6327026 & NS & 24\\\\\n",
       "\t4 & NS\\_12 & -0.9538211 & 0.1390103 &  0.9437728 & NS & 26\\\\\n",
       "\t5 & NS\\_13 & -1.4503422 & 0.9326770 &  0.4460119 & NS & 39\\\\\n",
       "\t6 & NS\\_14 & -1.8414450 & 0.8281043 &  0.5153413 & NS & 31\\\\\n",
       "\\end{tabular}\n"
      ],
      "text/markdown": [
       "\n",
       "A data.frame: 6 × 6\n",
       "\n",
       "| <!--/--> | SubjectID &lt;chr&gt; | ClusterA &lt;dbl&gt; | ClusterB &lt;dbl&gt; | ClusterC &lt;dbl&gt; | Group &lt;chr&gt; | Age &lt;dbl&gt; |\n",
       "|---|---|---|---|---|---|---|\n",
       "| 1 | NS_1  | -0.9339594 | 0.7610626 | -0.1203324 | NS | 28 |\n",
       "| 2 | NS_10 | -0.5237683 | 1.1305985 |  0.6157292 | NS | 34 |\n",
       "| 3 | NS_11 | -0.0171691 | 0.6122665 |  0.6327026 | NS | 24 |\n",
       "| 4 | NS_12 | -0.9538211 | 0.1390103 |  0.9437728 | NS | 26 |\n",
       "| 5 | NS_13 | -1.4503422 | 0.9326770 |  0.4460119 | NS | 39 |\n",
       "| 6 | NS_14 | -1.8414450 | 0.8281043 |  0.5153413 | NS | 31 |\n",
       "\n"
      ],
      "text/plain": [
       "  SubjectID ClusterA   ClusterB  ClusterC   Group Age\n",
       "1 NS_1      -0.9339594 0.7610626 -0.1203324 NS    28 \n",
       "2 NS_10     -0.5237683 1.1305985  0.6157292 NS    34 \n",
       "3 NS_11     -0.0171691 0.6122665  0.6327026 NS    24 \n",
       "4 NS_12     -0.9538211 0.1390103  0.9437728 NS    26 \n",
       "5 NS_13     -1.4503422 0.9326770  0.4460119 NS    39 \n",
       "6 NS_14     -1.8414450 0.8281043  0.5153413 NS    31 "
      ]
     },
     "metadata": {},
     "output_type": "display_data"
    }
   ],
   "source": [
    "#adding a col to designate smoking status \n",
    "eigen_NLF_scaled = eigencytokines_NLF_scaled %>%\n",
    "    rownames_to_column(\"SubjectID\") %>%\n",
    "    inner_join(subjectinfo) %>%\n",
    "    select(SubjectID, ClusterA, ClusterB, ClusterC, Group, Age)\n",
    "eigen_NELF_scaled = eigencytokines_NELF_scaled %>%\n",
    "    rownames_to_column(\"SubjectID\") %>%\n",
    "    inner_join(subjectinfo) %>%\n",
    "    select(SubjectID, ClusterA, ClusterB, ClusterC, Group, Age)\n",
    "eigen_Sputum_scaled = eigencytokines_Sputum_scaled %>%\n",
    "    rownames_to_column(\"SubjectID\") %>%\n",
    "    inner_join(subjectinfo) %>%\n",
    "    select(SubjectID, ClusterA, ClusterB, ClusterC, Group, Age)\n",
    "eigen_Serum_scaled = eigencytokines_Serum_scaled %>%\n",
    "    rownames_to_column(\"SubjectID\") %>%\n",
    "    inner_join(subjectinfo) %>%\n",
    "    select(SubjectID, ClusterA, ClusterB, ClusterC, Group, Age)\n",
    "\n",
    "head(eigen_NLF_scaled)"
   ]
  },
  {
   "cell_type": "markdown",
   "metadata": {},
   "source": [
    "# Checking Assumptions"
   ]
  },
  {
   "cell_type": "markdown",
   "metadata": {},
   "source": [
    "Linearity Assumption"
   ]
  },
  {
   "cell_type": "code",
   "execution_count": 4,
   "metadata": {},
   "outputs": [
    {
     "name": "stderr",
     "output_type": "stream",
     "text": [
      "Joining, by = \"SubjectID\"\n",
      "\n",
      "Joining, by = \"SubjectID\"\n",
      "\n",
      "Joining, by = \"SubjectID\"\n",
      "\n",
      "Joining, by = \"SubjectID\"\n",
      "\n"
     ]
    }
   ],
   "source": [
    "NLF_assumptions_df = eigen_NLF_scaled[,1:4] %>%\n",
    "    pivot_longer(-SubjectID, names_to = 'Cluster', values_to = 'Conc') %>%\n",
    "    inner_join(subjectinfo) %>%\n",
    "    select(SubjectID, Cluster, Conc, Group, Age) \n",
    "NELF_assumptions_df = eigen_NELF_scaled[,1:4] %>%\n",
    "    pivot_longer(-SubjectID, names_to = 'Cluster', values_to = 'Conc') %>%\n",
    "    inner_join(subjectinfo) %>%\n",
    "    select(SubjectID, Cluster, Conc, Group, Age) \n",
    "Sputum_assumptions_df = eigen_Sputum_scaled[,1:4] %>%\n",
    "    pivot_longer(-SubjectID, names_to = 'Cluster', values_to = 'Conc') %>%\n",
    "    inner_join(subjectinfo) %>%\n",
    "    select(SubjectID, Cluster, Conc, Group, Age) \n",
    "Serum_assumptions_df = eigen_Serum_scaled[,1:4] %>%\n",
    "    pivot_longer(-SubjectID, names_to = 'Cluster', values_to = 'Conc') %>%\n",
    "    inner_join(subjectinfo) %>%\n",
    "    select(SubjectID, Cluster, Conc, Group, Age) "
   ]
  },
  {
   "cell_type": "code",
   "execution_count": 5,
   "metadata": {},
   "outputs": [
    {
     "data": {
      "text/html": [
       "<table class=\"dataframe\">\n",
       "<caption>A data.frame: 6 × 6</caption>\n",
       "<thead>\n",
       "\t<tr><th></th><th scope=col>SubjectID</th><th scope=col>Cluster</th><th scope=col>Conc</th><th scope=col>Group</th><th scope=col>Age</th><th scope=col>Compartment</th></tr>\n",
       "\t<tr><th></th><th scope=col>&lt;chr&gt;</th><th scope=col>&lt;chr&gt;</th><th scope=col>&lt;dbl&gt;</th><th scope=col>&lt;chr&gt;</th><th scope=col>&lt;dbl&gt;</th><th scope=col>&lt;fct&gt;</th></tr>\n",
       "</thead>\n",
       "<tbody>\n",
       "\t<tr><th scope=row>1</th><td>NS_1 </td><td>ClusterA</td><td>-0.9339594</td><td>NS</td><td>28</td><td>NLF</td></tr>\n",
       "\t<tr><th scope=row>2</th><td>NS_1 </td><td>ClusterB</td><td> 0.7610626</td><td>NS</td><td>28</td><td>NLF</td></tr>\n",
       "\t<tr><th scope=row>3</th><td>NS_1 </td><td>ClusterC</td><td>-0.1203324</td><td>NS</td><td>28</td><td>NLF</td></tr>\n",
       "\t<tr><th scope=row>4</th><td>NS_10</td><td>ClusterA</td><td>-0.5237683</td><td>NS</td><td>34</td><td>NLF</td></tr>\n",
       "\t<tr><th scope=row>5</th><td>NS_10</td><td>ClusterB</td><td> 1.1305985</td><td>NS</td><td>34</td><td>NLF</td></tr>\n",
       "\t<tr><th scope=row>6</th><td>NS_10</td><td>ClusterC</td><td> 0.6157292</td><td>NS</td><td>34</td><td>NLF</td></tr>\n",
       "</tbody>\n",
       "</table>\n"
      ],
      "text/latex": [
       "A data.frame: 6 × 6\n",
       "\\begin{tabular}{r|llllll}\n",
       "  & SubjectID & Cluster & Conc & Group & Age & Compartment\\\\\n",
       "  & <chr> & <chr> & <dbl> & <chr> & <dbl> & <fct>\\\\\n",
       "\\hline\n",
       "\t1 & NS\\_1  & ClusterA & -0.9339594 & NS & 28 & NLF\\\\\n",
       "\t2 & NS\\_1  & ClusterB &  0.7610626 & NS & 28 & NLF\\\\\n",
       "\t3 & NS\\_1  & ClusterC & -0.1203324 & NS & 28 & NLF\\\\\n",
       "\t4 & NS\\_10 & ClusterA & -0.5237683 & NS & 34 & NLF\\\\\n",
       "\t5 & NS\\_10 & ClusterB &  1.1305985 & NS & 34 & NLF\\\\\n",
       "\t6 & NS\\_10 & ClusterC &  0.6157292 & NS & 34 & NLF\\\\\n",
       "\\end{tabular}\n"
      ],
      "text/markdown": [
       "\n",
       "A data.frame: 6 × 6\n",
       "\n",
       "| <!--/--> | SubjectID &lt;chr&gt; | Cluster &lt;chr&gt; | Conc &lt;dbl&gt; | Group &lt;chr&gt; | Age &lt;dbl&gt; | Compartment &lt;fct&gt; |\n",
       "|---|---|---|---|---|---|---|\n",
       "| 1 | NS_1  | ClusterA | -0.9339594 | NS | 28 | NLF |\n",
       "| 2 | NS_1  | ClusterB |  0.7610626 | NS | 28 | NLF |\n",
       "| 3 | NS_1  | ClusterC | -0.1203324 | NS | 28 | NLF |\n",
       "| 4 | NS_10 | ClusterA | -0.5237683 | NS | 34 | NLF |\n",
       "| 5 | NS_10 | ClusterB |  1.1305985 | NS | 34 | NLF |\n",
       "| 6 | NS_10 | ClusterC |  0.6157292 | NS | 34 | NLF |\n",
       "\n"
      ],
      "text/plain": [
       "  SubjectID Cluster  Conc       Group Age Compartment\n",
       "1 NS_1      ClusterA -0.9339594 NS    28  NLF        \n",
       "2 NS_1      ClusterB  0.7610626 NS    28  NLF        \n",
       "3 NS_1      ClusterC -0.1203324 NS    28  NLF        \n",
       "4 NS_10     ClusterA -0.5237683 NS    34  NLF        \n",
       "5 NS_10     ClusterB  1.1305985 NS    34  NLF        \n",
       "6 NS_10     ClusterC  0.6157292 NS    34  NLF        "
      ]
     },
     "metadata": {},
     "output_type": "display_data"
    }
   ],
   "source": [
    "add_compartment = function(dataframe, compartment_name){\n",
    "    #\"\"\"\n",
    "    #Takes the dataframes already made from above and adds a column specifying the compartment.\n",
    "\n",
    "    #:param: compartment dataframe and compartment name\n",
    "    #:output: a 22x3 matrix containing mean, sd, and compartment for each cytokine. \n",
    "    #\"\"\"\n",
    "    Compartment = rep(compartment_name, times = length(dataframe$Cluster))\n",
    "    combined_df = cbind(dataframe,Compartment)\n",
    "    return(combined_df)\n",
    "}\n",
    "NLF_assumptions_df = add_compartment(NLF_assumptions_df,'NLF')\n",
    "NELF_assumptions_df = add_compartment(NELF_assumptions_df, 'NELF')\n",
    "Sputum_assumptions_df = add_compartment(Sputum_assumptions_df, 'Sputum')\n",
    "Serum_assumptions_df = add_compartment(Serum_assumptions_df, 'Serum')\n",
    "\n",
    "#combining into a single df\n",
    "assumptions_df = rbind(NLF_assumptions_df, NELF_assumptions_df, Sputum_assumptions_df, Serum_assumptions_df)\n",
    "head(assumptions_df)"
   ]
  },
  {
   "cell_type": "code",
   "execution_count": 6,
   "metadata": {},
   "outputs": [
    {
     "name": "stderr",
     "output_type": "stream",
     "text": [
      "`geom_smooth()` using formula 'y ~ x'\n",
      "\n"
     ]
    },
    {
     "data": {
      "image/png": "[encoded data removed]",
      "text/plain": [
       "plot without title"
      ]
     },
     "metadata": {
      "image/png": {
       "height": 900,
       "width": 900
      }
     },
     "output_type": "display_data"
    }
   ],
   "source": [
    "#this is for ancova first\n",
    "#scatter plot b/w covariate(age) & outcome variable (clustered cytokine concentration)\n",
    "options(repr.plot.width=15, repr.plot.height=15) #changing size\n",
    "ggplot(data = assumptions_df, aes(x = Age, y = Conc, color = Cluster, group = Cluster)) + \n",
    "  geom_point() + \n",
    "  geom_smooth(method = 'lm', se = FALSE) + \n",
    "  #geom_text(aes(x = Age, y = Conc, label = summary(lm(Conc ~ Age, assumptions_df))$r.squared), parse = TRUE) + \n",
    "  stat_regline_equation() + \n",
    "  facet_grid(Compartment~Group)"
   ]
  },
  {
   "cell_type": "code",
   "execution_count": 7,
   "metadata": {},
   "outputs": [
    {
     "name": "stdout",
     "output_type": "stream",
     "text": [
      "[1] \"ClusterA\"                                                                                       \n",
      "[2] \"NS\"                                                                                             \n",
      "[3] \"italic(y) == \\\"-0.53\\\" + \\\"-0.0043\\\" %.% italic(x) * \\\",\\\" ~ ~italic(r)^2 ~ \\\"=\\\" ~ \\\"0.00181\\\"\"\n",
      "[1] \"ClusterA\"                                                                                       \n",
      "[2] \"CS\"                                                                                             \n",
      "[3] \"italic(y) == \\\"-0.59\\\" + \\\"-0.0047\\\" %.% italic(x) * \\\",\\\" ~ ~italic(r)^2 ~ \\\"=\\\" ~ \\\"0.00342\\\"\"\n",
      "[1] \"ClusterA\"                                                                                     \n",
      "[2] \"Ecig\"                                                                                         \n",
      "[3] \"italic(y) == \\\"1.1\\\" + \\\"-0.0017\\\" %.% italic(x) * \\\",\\\" ~ ~italic(r)^2 ~ \\\"=\\\" ~ \\\"0.00252\\\"\"\n",
      "[1] \"ClusterB\"                                                                                  \n",
      "[2] \"NS\"                                                                                        \n",
      "[3] \"italic(y) == \\\"0.4\\\" + \\\"0.011\\\" %.% italic(x) * \\\",\\\" ~ ~italic(r)^2 ~ \\\"=\\\" ~ \\\"0.0429\\\"\"\n",
      "[1] \"ClusterB\"                                                                                    \n",
      "[2] \"CS\"                                                                                          \n",
      "[3] \"italic(y) == \\\"0.99\\\" + \\\"-0.008\\\" %.% italic(x) * \\\",\\\" ~ ~italic(r)^2 ~ \\\"=\\\" ~ \\\"0.0277\\\"\"\n",
      "[1] \"ClusterB\"                                                                                   \n",
      "[2] \"Ecig\"                                                                                       \n",
      "[3] \"italic(y) == \\\"-0.3\\\" + \\\"-0.034\\\" %.% italic(x) * \\\",\\\" ~ ~italic(r)^2 ~ \\\"=\\\" ~ \\\"0.265\\\"\"\n",
      "[1] \"ClusterC\"                                                                                   \n",
      "[2] \"NS\"                                                                                         \n",
      "[3] \"italic(y) == \\\"-0.72\\\" + \\\"0.03\\\" %.% italic(x) * \\\",\\\" ~ ~italic(r)^2 ~ \\\"=\\\" ~ \\\"0.0276\\\"\"\n",
      "[1] \"ClusterC\"                                                                                       \n",
      "[2] \"CS\"                                                                                             \n",
      "[3] \"italic(y) == \\\"0.25\\\" + \\\"-0.0037\\\" %.% italic(x) * \\\",\\\" ~ ~italic(r)^2 ~ \\\"=\\\" ~ \\\"0.000398\\\"\"\n",
      "[1] \"ClusterC\"                                                                                    \n",
      "[2] \"Ecig\"                                                                                        \n",
      "[3] \"italic(y) == \\\"-0.63\\\" + \\\"0.016\\\" %.% italic(x) * \\\",\\\" ~ ~italic(r)^2 ~ \\\"=\\\" ~ \\\"0.0212\\\"\"\n",
      "[1] \"ClusterA\"                                                                                   \n",
      "[2] \"NS\"                                                                                         \n",
      "[3] \"italic(y) == \\\"-1.3\\\" + \\\"0.044\\\" %.% italic(x) * \\\",\\\" ~ ~italic(r)^2 ~ \\\"=\\\" ~ \\\"0.0556\\\"\"\n",
      "[1] \"ClusterA\"                                                                                   \n",
      "[2] \"CS\"                                                                                         \n",
      "[3] \"italic(y) == \\\"-0.52\\\" + \\\"0.022\\\" %.% italic(x) * \\\",\\\" ~ ~italic(r)^2 ~ \\\"=\\\" ~ \\\"0.023\\\"\"\n",
      "[1] \"ClusterA\"                                                                                      \n",
      "[2] \"Ecig\"                                                                                          \n",
      "[3] \"italic(y) == \\\"-0.34\\\" + \\\"0.0098\\\" %.% italic(x) * \\\",\\\" ~ ~italic(r)^2 ~ \\\"=\\\" ~ \\\"0.00308\\\"\"\n",
      "[1] \"ClusterB\"                                                                                    \n",
      "[2] \"NS\"                                                                                          \n",
      "[3] \"italic(y) == \\\"-0.67\\\" + \\\"0.02\\\" %.% italic(x) * \\\",\\\" ~ ~italic(r)^2 ~ \\\"=\\\" ~ \\\"0.00945\\\"\"\n",
      "[1] \"ClusterB\"                                                                                   \n",
      "[2] \"CS\"                                                                                         \n",
      "[3] \"italic(y) == \\\"-1.3\\\" + \\\"0.032\\\" %.% italic(x) * \\\",\\\" ~ ~italic(r)^2 ~ \\\"=\\\" ~ \\\"0.0868\\\"\"\n",
      "[1] \"ClusterB\"                                                                                  \n",
      "[2] \"Ecig\"                                                                                      \n",
      "[3] \"italic(y) == \\\"1.1\\\" + \\\"-0.03\\\" %.% italic(x) * \\\",\\\" ~ ~italic(r)^2 ~ \\\"=\\\" ~ \\\"0.0323\\\"\"\n",
      "[1] \"ClusterC\"                                                                                  \n",
      "[2] \"NS\"                                                                                        \n",
      "[3] \"italic(y) == \\\"-2.3\\\" + \\\"0.078\\\" %.% italic(x) * \\\",\\\" ~ ~italic(r)^2 ~ \\\"=\\\" ~ \\\"0.188\\\"\"\n",
      "[1] \"ClusterC\"                                                                                       \n",
      "[2] \"CS\"                                                                                             \n",
      "[3] \"italic(y) == \\\"0.14\\\" + \\\"-0.0041\\\" %.% italic(x) * \\\",\\\" ~ ~italic(r)^2 ~ \\\"=\\\" ~ \\\"0.000575\\\"\"\n",
      "[1] \"ClusterC\"                                                                                   \n",
      "[2] \"Ecig\"                                                                                       \n",
      "[3] \"italic(y) == \\\"-0.3\\\" + \\\"0.01\\\" %.% italic(x) * \\\",\\\" ~ ~italic(r)^2 ~ \\\"=\\\" ~ \\\"0.00499\\\"\"\n",
      "[1] \"ClusterA\"                                                                                  \n",
      "[2] \"NS\"                                                                                        \n",
      "[3] \"italic(y) == \\\"-1.2\\\" + \\\"0.051\\\" %.% italic(x) * \\\",\\\" ~ ~italic(r)^2 ~ \\\"=\\\" ~ \\\"0.273\\\"\"\n",
      "[1] \"ClusterA\"                                                                                  \n",
      "[2] \"CS\"                                                                                        \n",
      "[3] \"italic(y) == \\\"-1.5\\\" + \\\"0.018\\\" %.% italic(x) * \\\",\\\" ~ ~italic(r)^2 ~ \\\"=\\\" ~ \\\"0.011\\\"\"\n",
      "[1] \"ClusterA\"                                                                                   \n",
      "[2] \"Ecig\"                                                                                       \n",
      "[3] \"italic(y) == \\\"-0.53\\\" + \\\"0.038\\\" %.% italic(x) * \\\",\\\" ~ ~italic(r)^2 ~ \\\"=\\\" ~ \\\"0.172\\\"\"\n",
      "[1] \"ClusterB\"                                                                                  \n",
      "[2] \"NS\"                                                                                        \n",
      "[3] \"italic(y) == \\\"-1.8\\\" + \\\"0.039\\\" %.% italic(x) * \\\",\\\" ~ ~italic(r)^2 ~ \\\"=\\\" ~ \\\"0.162\\\"\"\n",
      "[1] \"ClusterB\"                                                                                   \n",
      "[2] \"CS\"                                                                                         \n",
      "[3] \"italic(y) == \\\"1.2\\\" + \\\"0.0057\\\" %.% italic(x) * \\\",\\\" ~ ~italic(r)^2 ~ \\\"=\\\" ~ \\\"0.0213\\\"\"\n",
      "[1] \"ClusterB\"                                                                                   \n",
      "[2] \"Ecig\"                                                                                       \n",
      "[3] \"italic(y) == \\\"-1.1\\\" + \\\"0.024\\\" %.% italic(x) * \\\",\\\" ~ ~italic(r)^2 ~ \\\"=\\\" ~ \\\"0.0518\\\"\"\n",
      "[1] \"ClusterC\"                                                                                  \n",
      "[2] \"NS\"                                                                                        \n",
      "[3] \"italic(y) == \\\"0.54\\\" + \\\"-0.02\\\" %.% italic(x) * \\\",\\\" ~ ~italic(r)^2 ~ \\\"=\\\" ~ \\\"0.014\\\"\"\n",
      "[1] \"ClusterC\"                                                                                  \n",
      "[2] \"CS\"                                                                                        \n",
      "[3] \"italic(y) == \\\"-1.7\\\" + \\\"0.053\\\" %.% italic(x) * \\\",\\\" ~ ~italic(r)^2 ~ \\\"=\\\" ~ \\\"0.127\\\"\"\n",
      "[1] \"ClusterC\"                                                                                    \n",
      "[2] \"Ecig\"                                                                                        \n",
      "[3] \"italic(y) == \\\"-0.63\\\" + \\\"0.031\\\" %.% italic(x) * \\\",\\\" ~ ~italic(r)^2 ~ \\\"=\\\" ~ \\\"0.0277\\\"\"\n",
      "[1] \"ClusterA\"                                                                                      \n",
      "[2] \"NS\"                                                                                            \n",
      "[3] \"italic(y) == \\\"0.38\\\" + \\\"0.0021\\\" %.% italic(x) * \\\",\\\" ~ ~italic(r)^2 ~ \\\"=\\\" ~ \\\"0.000258\\\"\"\n",
      "[1] \"ClusterA\"                                                                                      \n",
      "[2] \"CS\"                                                                                            \n",
      "[3] \"italic(y) == \\\"0.83\\\" + \\\"-0.0043\\\" %.% italic(x) * \\\",\\\" ~ ~italic(r)^2 ~ \\\"=\\\" ~ \\\"0.00327\\\"\"\n",
      "[1] \"ClusterA\"                                                                                     \n",
      "[2] \"Ecig\"                                                                                         \n",
      "[3] \"italic(y) == \\\"-0.24\\\" + \\\"-0.026\\\" %.% italic(x) * \\\",\\\" ~ ~italic(r)^2 ~ \\\"=\\\" ~ \\\"0.0324\\\"\"\n",
      "[1] \"ClusterB\"                                                                                  \n",
      "[2] \"NS\"                                                                                        \n",
      "[3] \"italic(y) == \\\"2.3\\\" + \\\"-0.074\\\" %.% italic(x) * \\\",\\\" ~ ~italic(r)^2 ~ \\\"=\\\" ~ \\\"0.216\\\"\"\n",
      "[1] \"ClusterB\"                                                                                   \n",
      "[2] \"CS\"                                                                                         \n",
      "[3] \"italic(y) == \\\"1.2\\\" + \\\"-0.032\\\" %.% italic(x) * \\\",\\\" ~ ~italic(r)^2 ~ \\\"=\\\" ~ \\\"0.0545\\\"\"\n",
      "[1] \"ClusterB\"                                                                                    \n",
      "[2] \"Ecig\"                                                                                        \n",
      "[3] \"italic(y) == \\\"0.94\\\" + \\\"-0.048\\\" %.% italic(x) * \\\",\\\" ~ ~italic(r)^2 ~ \\\"=\\\" ~ \\\"0.0578\\\"\"\n",
      "[1] \"ClusterC\"                                                                                 \n",
      "[2] \"NS\"                                                                                       \n",
      "[3] \"italic(y) == \\\"2.5\\\" + \\\"-0.08\\\" %.% italic(x) * \\\",\\\" ~ ~italic(r)^2 ~ \\\"=\\\" ~ \\\"0.191\\\"\"\n",
      "[1] \"ClusterC\"                                                                                  \n",
      "[2] \"CS\"                                                                                        \n",
      "[3] \"italic(y) == \\\"1.1\\\" + \\\"-0.04\\\" %.% italic(x) * \\\",\\\" ~ ~italic(r)^2 ~ \\\"=\\\" ~ \\\"0.0694\\\"\"\n",
      "[1] \"ClusterC\"                                                                                \n",
      "[2] \"Ecig\"                                                                                    \n",
      "[3] \"italic(y) == \\\"1\\\" + \\\"-0.04\\\" %.% italic(x) * \\\",\\\" ~ ~italic(r)^2 ~ \\\"=\\\" ~ \\\"0.0558\\\"\"\n"
     ]
    }
   ],
   "source": [
    "clusters = unique(assumptions_df$Cluster)\n",
    "smoking_groups = unique(assumptions_df$Group)\n",
    "\n",
    "#need r squared values for these\n",
    "lm_eqn <- function(df){\n",
    "    for (i in 1:length(clusters)){\n",
    "        for (j in 1:length(smoking_groups)){\n",
    "            m <- lm(Conc ~ Age, df %>%\n",
    "                   filter(Cluster == clusters[i], Group == smoking_groups[j]));\n",
    "            eq <- substitute(italic(y) == a + b %.% italic(x)*\",\"~~italic(r)^2~\"=\"~r2, \n",
    "                 list(a = format(unname(coef(m)[1]), digits = 2),\n",
    "                      b = format(unname(coef(m)[2]), digits = 2),\n",
    "                     r2 = format(summary(m)$r.squared, digits = 3)))\n",
    "            #return(as.character(as.expression(eq)))\n",
    "            print(c(clusters[i], smoking_groups[j],as.character(as.expression(eq))))\n",
    "        }\n",
    "\n",
    "    }\n",
    "}\n",
    "\n",
    "#ancova (calling fn)\n",
    "lm_eqn(NLF_assumptions_df)\n",
    "lm_eqn(NELF_assumptions_df)\n",
    "lm_eqn(Sputum_assumptions_df)\n",
    "lm_eqn(Serum_assumptions_df)"
   ]
  },
  {
   "cell_type": "markdown",
   "metadata": {},
   "source": [
    "The r squared values indicate that the linearity assumption isn't met. \n",
    "\n",
    "<b> Homogeneity of Regression Slopes: checks that there's no significant interaction between the covariate and the grouping variable. </b>"
   ]
  },
  {
   "cell_type": "code",
   "execution_count": 8,
   "metadata": {},
   "outputs": [
    {
     "name": "stderr",
     "output_type": "stream",
     "text": [
      "\n",
      "Attaching package: ‘rstatix’\n",
      "\n",
      "\n",
      "The following object is masked from ‘package:janitor’:\n",
      "\n",
      "    make_clean_names\n",
      "\n",
      "\n",
      "The following object is masked from ‘package:stats’:\n",
      "\n",
      "    filter\n",
      "\n",
      "\n"
     ]
    }
   ],
   "source": [
    "library(rstatix)"
   ]
  },
  {
   "cell_type": "code",
   "execution_count": 9,
   "metadata": {},
   "outputs": [
    {
     "name": "stderr",
     "output_type": "stream",
     "text": [
      "Coefficient covariances computed by hccm()\n",
      "\n"
     ]
    },
    {
     "data": {
      "text/html": [
       "<table class=\"dataframe\">\n",
       "<caption>A anova_test: 1 × 7</caption>\n",
       "<thead>\n",
       "\t<tr><th></th><th scope=col>Effect</th><th scope=col>DFn</th><th scope=col>DFd</th><th scope=col>F</th><th scope=col>p</th><th scope=col>p&lt;.05</th><th scope=col>ges</th></tr>\n",
       "\t<tr><th></th><th scope=col>&lt;chr&gt;</th><th scope=col>&lt;dbl&gt;</th><th scope=col>&lt;dbl&gt;</th><th scope=col>&lt;dbl&gt;</th><th scope=col>&lt;dbl&gt;</th><th scope=col>&lt;chr&gt;</th><th scope=col>&lt;dbl&gt;</th></tr>\n",
       "</thead>\n",
       "<tbody>\n",
       "\t<tr><th scope=row>3</th><td>Group:Age</td><td>2</td><td>38</td><td>0.005</td><td>0.995</td><td></td><td>0.000265</td></tr>\n",
       "</tbody>\n",
       "</table>\n"
      ],
      "text/latex": [
       "A anova\\_test: 1 × 7\n",
       "\\begin{tabular}{r|lllllll}\n",
       "  & Effect & DFn & DFd & F & p & p<.05 & ges\\\\\n",
       "  & <chr> & <dbl> & <dbl> & <dbl> & <dbl> & <chr> & <dbl>\\\\\n",
       "\\hline\n",
       "\t3 & Group:Age & 2 & 38 & 0.005 & 0.995 &  & 0.000265\\\\\n",
       "\\end{tabular}\n"
      ],
      "text/markdown": [
       "\n",
       "A anova_test: 1 × 7\n",
       "\n",
       "| <!--/--> | Effect &lt;chr&gt; | DFn &lt;dbl&gt; | DFd &lt;dbl&gt; | F &lt;dbl&gt; | p &lt;dbl&gt; | p&lt;.05 &lt;chr&gt; | ges &lt;dbl&gt; |\n",
       "|---|---|---|---|---|---|---|---|\n",
       "| 3 | Group:Age | 2 | 38 | 0.005 | 0.995 | <!----> | 0.000265 |\n",
       "\n"
      ],
      "text/plain": [
       "  Effect    DFn DFd F     p     p<.05 ges     \n",
       "3 Group:Age 2   38  0.005 0.995       0.000265"
      ]
     },
     "metadata": {},
     "output_type": "display_data"
    },
    {
     "name": "stderr",
     "output_type": "stream",
     "text": [
      "Coefficient covariances computed by hccm()\n",
      "\n"
     ]
    },
    {
     "data": {
      "text/html": [
       "<table class=\"dataframe\">\n",
       "<caption>A anova_test: 1 × 7</caption>\n",
       "<thead>\n",
       "\t<tr><th></th><th scope=col>Effect</th><th scope=col>DFn</th><th scope=col>DFd</th><th scope=col>F</th><th scope=col>p</th><th scope=col>p&lt;.05</th><th scope=col>ges</th></tr>\n",
       "\t<tr><th></th><th scope=col>&lt;chr&gt;</th><th scope=col>&lt;dbl&gt;</th><th scope=col>&lt;dbl&gt;</th><th scope=col>&lt;dbl&gt;</th><th scope=col>&lt;dbl&gt;</th><th scope=col>&lt;chr&gt;</th><th scope=col>&lt;dbl&gt;</th></tr>\n",
       "</thead>\n",
       "<tbody>\n",
       "\t<tr><th scope=row>3</th><td>Group:Age</td><td>2</td><td>38</td><td>2.184</td><td>0.127</td><td></td><td>0.103</td></tr>\n",
       "</tbody>\n",
       "</table>\n"
      ],
      "text/latex": [
       "A anova\\_test: 1 × 7\n",
       "\\begin{tabular}{r|lllllll}\n",
       "  & Effect & DFn & DFd & F & p & p<.05 & ges\\\\\n",
       "  & <chr> & <dbl> & <dbl> & <dbl> & <dbl> & <chr> & <dbl>\\\\\n",
       "\\hline\n",
       "\t3 & Group:Age & 2 & 38 & 2.184 & 0.127 &  & 0.103\\\\\n",
       "\\end{tabular}\n"
      ],
      "text/markdown": [
       "\n",
       "A anova_test: 1 × 7\n",
       "\n",
       "| <!--/--> | Effect &lt;chr&gt; | DFn &lt;dbl&gt; | DFd &lt;dbl&gt; | F &lt;dbl&gt; | p &lt;dbl&gt; | p&lt;.05 &lt;chr&gt; | ges &lt;dbl&gt; |\n",
       "|---|---|---|---|---|---|---|---|\n",
       "| 3 | Group:Age | 2 | 38 | 2.184 | 0.127 | <!----> | 0.103 |\n",
       "\n"
      ],
      "text/plain": [
       "  Effect    DFn DFd F     p     p<.05 ges  \n",
       "3 Group:Age 2   38  2.184 0.127       0.103"
      ]
     },
     "metadata": {},
     "output_type": "display_data"
    },
    {
     "name": "stderr",
     "output_type": "stream",
     "text": [
      "Coefficient covariances computed by hccm()\n",
      "\n"
     ]
    },
    {
     "data": {
      "text/html": [
       "<table class=\"dataframe\">\n",
       "<caption>A anova_test: 1 × 7</caption>\n",
       "<thead>\n",
       "\t<tr><th></th><th scope=col>Effect</th><th scope=col>DFn</th><th scope=col>DFd</th><th scope=col>F</th><th scope=col>p</th><th scope=col>p&lt;.05</th><th scope=col>ges</th></tr>\n",
       "\t<tr><th></th><th scope=col>&lt;chr&gt;</th><th scope=col>&lt;dbl&gt;</th><th scope=col>&lt;dbl&gt;</th><th scope=col>&lt;dbl&gt;</th><th scope=col>&lt;dbl&gt;</th><th scope=col>&lt;chr&gt;</th><th scope=col>&lt;dbl&gt;</th></tr>\n",
       "</thead>\n",
       "<tbody>\n",
       "\t<tr><th scope=row>3</th><td>Group:Age</td><td>2</td><td>38</td><td>0.142</td><td>0.868</td><td></td><td>0.007</td></tr>\n",
       "</tbody>\n",
       "</table>\n"
      ],
      "text/latex": [
       "A anova\\_test: 1 × 7\n",
       "\\begin{tabular}{r|lllllll}\n",
       "  & Effect & DFn & DFd & F & p & p<.05 & ges\\\\\n",
       "  & <chr> & <dbl> & <dbl> & <dbl> & <dbl> & <chr> & <dbl>\\\\\n",
       "\\hline\n",
       "\t3 & Group:Age & 2 & 38 & 0.142 & 0.868 &  & 0.007\\\\\n",
       "\\end{tabular}\n"
      ],
      "text/markdown": [
       "\n",
       "A anova_test: 1 × 7\n",
       "\n",
       "| <!--/--> | Effect &lt;chr&gt; | DFn &lt;dbl&gt; | DFd &lt;dbl&gt; | F &lt;dbl&gt; | p &lt;dbl&gt; | p&lt;.05 &lt;chr&gt; | ges &lt;dbl&gt; |\n",
       "|---|---|---|---|---|---|---|---|\n",
       "| 3 | Group:Age | 2 | 38 | 0.142 | 0.868 | <!----> | 0.007 |\n",
       "\n"
      ],
      "text/plain": [
       "  Effect    DFn DFd F     p     p<.05 ges  \n",
       "3 Group:Age 2   38  0.142 0.868       0.007"
      ]
     },
     "metadata": {},
     "output_type": "display_data"
    },
    {
     "name": "stderr",
     "output_type": "stream",
     "text": [
      "Coefficient covariances computed by hccm()\n",
      "\n"
     ]
    },
    {
     "data": {
      "text/html": [
       "<table class=\"dataframe\">\n",
       "<caption>A anova_test: 1 × 7</caption>\n",
       "<thead>\n",
       "\t<tr><th></th><th scope=col>Effect</th><th scope=col>DFn</th><th scope=col>DFd</th><th scope=col>F</th><th scope=col>p</th><th scope=col>p&lt;.05</th><th scope=col>ges</th></tr>\n",
       "\t<tr><th></th><th scope=col>&lt;chr&gt;</th><th scope=col>&lt;dbl&gt;</th><th scope=col>&lt;dbl&gt;</th><th scope=col>&lt;dbl&gt;</th><th scope=col>&lt;dbl&gt;</th><th scope=col>&lt;chr&gt;</th><th scope=col>&lt;dbl&gt;</th></tr>\n",
       "</thead>\n",
       "<tbody>\n",
       "\t<tr><th scope=row>3</th><td>Group:Age</td><td>2</td><td>38</td><td>0.128</td><td>0.881</td><td></td><td>0.007</td></tr>\n",
       "</tbody>\n",
       "</table>\n"
      ],
      "text/latex": [
       "A anova\\_test: 1 × 7\n",
       "\\begin{tabular}{r|lllllll}\n",
       "  & Effect & DFn & DFd & F & p & p<.05 & ges\\\\\n",
       "  & <chr> & <dbl> & <dbl> & <dbl> & <dbl> & <chr> & <dbl>\\\\\n",
       "\\hline\n",
       "\t3 & Group:Age & 2 & 38 & 0.128 & 0.881 &  & 0.007\\\\\n",
       "\\end{tabular}\n"
      ],
      "text/markdown": [
       "\n",
       "A anova_test: 1 × 7\n",
       "\n",
       "| <!--/--> | Effect &lt;chr&gt; | DFn &lt;dbl&gt; | DFd &lt;dbl&gt; | F &lt;dbl&gt; | p &lt;dbl&gt; | p&lt;.05 &lt;chr&gt; | ges &lt;dbl&gt; |\n",
       "|---|---|---|---|---|---|---|---|\n",
       "| 3 | Group:Age | 2 | 38 | 0.128 | 0.881 | <!----> | 0.007 |\n",
       "\n"
      ],
      "text/plain": [
       "  Effect    DFn DFd F     p     p<.05 ges  \n",
       "3 Group:Age 2   38  0.128 0.881       0.007"
      ]
     },
     "metadata": {},
     "output_type": "display_data"
    },
    {
     "name": "stderr",
     "output_type": "stream",
     "text": [
      "Coefficient covariances computed by hccm()\n",
      "\n"
     ]
    },
    {
     "data": {
      "text/html": [
       "<table class=\"dataframe\">\n",
       "<caption>A anova_test: 1 × 7</caption>\n",
       "<thead>\n",
       "\t<tr><th></th><th scope=col>Effect</th><th scope=col>DFn</th><th scope=col>DFd</th><th scope=col>F</th><th scope=col>p</th><th scope=col>p&lt;.05</th><th scope=col>ges</th></tr>\n",
       "\t<tr><th></th><th scope=col>&lt;chr&gt;</th><th scope=col>&lt;dbl&gt;</th><th scope=col>&lt;dbl&gt;</th><th scope=col>&lt;dbl&gt;</th><th scope=col>&lt;dbl&gt;</th><th scope=col>&lt;chr&gt;</th><th scope=col>&lt;dbl&gt;</th></tr>\n",
       "</thead>\n",
       "<tbody>\n",
       "\t<tr><th scope=row>3</th><td>Group:Age</td><td>2</td><td>38</td><td>0.507</td><td>0.606</td><td></td><td>0.026</td></tr>\n",
       "</tbody>\n",
       "</table>\n"
      ],
      "text/latex": [
       "A anova\\_test: 1 × 7\n",
       "\\begin{tabular}{r|lllllll}\n",
       "  & Effect & DFn & DFd & F & p & p<.05 & ges\\\\\n",
       "  & <chr> & <dbl> & <dbl> & <dbl> & <dbl> & <chr> & <dbl>\\\\\n",
       "\\hline\n",
       "\t3 & Group:Age & 2 & 38 & 0.507 & 0.606 &  & 0.026\\\\\n",
       "\\end{tabular}\n"
      ],
      "text/markdown": [
       "\n",
       "A anova_test: 1 × 7\n",
       "\n",
       "| <!--/--> | Effect &lt;chr&gt; | DFn &lt;dbl&gt; | DFd &lt;dbl&gt; | F &lt;dbl&gt; | p &lt;dbl&gt; | p&lt;.05 &lt;chr&gt; | ges &lt;dbl&gt; |\n",
       "|---|---|---|---|---|---|---|---|\n",
       "| 3 | Group:Age | 2 | 38 | 0.507 | 0.606 | <!----> | 0.026 |\n",
       "\n"
      ],
      "text/plain": [
       "  Effect    DFn DFd F     p     p<.05 ges  \n",
       "3 Group:Age 2   38  0.507 0.606       0.026"
      ]
     },
     "metadata": {},
     "output_type": "display_data"
    },
    {
     "name": "stderr",
     "output_type": "stream",
     "text": [
      "Coefficient covariances computed by hccm()\n",
      "\n"
     ]
    },
    {
     "data": {
      "text/html": [
       "<table class=\"dataframe\">\n",
       "<caption>A anova_test: 1 × 7</caption>\n",
       "<thead>\n",
       "\t<tr><th></th><th scope=col>Effect</th><th scope=col>DFn</th><th scope=col>DFd</th><th scope=col>F</th><th scope=col>p</th><th scope=col>p&lt;.05</th><th scope=col>ges</th></tr>\n",
       "\t<tr><th></th><th scope=col>&lt;chr&gt;</th><th scope=col>&lt;dbl&gt;</th><th scope=col>&lt;dbl&gt;</th><th scope=col>&lt;dbl&gt;</th><th scope=col>&lt;dbl&gt;</th><th scope=col>&lt;chr&gt;</th><th scope=col>&lt;dbl&gt;</th></tr>\n",
       "</thead>\n",
       "<tbody>\n",
       "\t<tr><th scope=row>3</th><td>Group:Age</td><td>2</td><td>38</td><td>0.931</td><td>0.403</td><td></td><td>0.047</td></tr>\n",
       "</tbody>\n",
       "</table>\n"
      ],
      "text/latex": [
       "A anova\\_test: 1 × 7\n",
       "\\begin{tabular}{r|lllllll}\n",
       "  & Effect & DFn & DFd & F & p & p<.05 & ges\\\\\n",
       "  & <chr> & <dbl> & <dbl> & <dbl> & <dbl> & <chr> & <dbl>\\\\\n",
       "\\hline\n",
       "\t3 & Group:Age & 2 & 38 & 0.931 & 0.403 &  & 0.047\\\\\n",
       "\\end{tabular}\n"
      ],
      "text/markdown": [
       "\n",
       "A anova_test: 1 × 7\n",
       "\n",
       "| <!--/--> | Effect &lt;chr&gt; | DFn &lt;dbl&gt; | DFd &lt;dbl&gt; | F &lt;dbl&gt; | p &lt;dbl&gt; | p&lt;.05 &lt;chr&gt; | ges &lt;dbl&gt; |\n",
       "|---|---|---|---|---|---|---|---|\n",
       "| 3 | Group:Age | 2 | 38 | 0.931 | 0.403 | <!----> | 0.047 |\n",
       "\n"
      ],
      "text/plain": [
       "  Effect    DFn DFd F     p     p<.05 ges  \n",
       "3 Group:Age 2   38  0.931 0.403       0.047"
      ]
     },
     "metadata": {},
     "output_type": "display_data"
    },
    {
     "name": "stderr",
     "output_type": "stream",
     "text": [
      "Coefficient covariances computed by hccm()\n",
      "\n"
     ]
    },
    {
     "data": {
      "text/html": [
       "<table class=\"dataframe\">\n",
       "<caption>A anova_test: 1 × 7</caption>\n",
       "<thead>\n",
       "\t<tr><th></th><th scope=col>Effect</th><th scope=col>DFn</th><th scope=col>DFd</th><th scope=col>F</th><th scope=col>p</th><th scope=col>p&lt;.05</th><th scope=col>ges</th></tr>\n",
       "\t<tr><th></th><th scope=col>&lt;chr&gt;</th><th scope=col>&lt;dbl&gt;</th><th scope=col>&lt;dbl&gt;</th><th scope=col>&lt;dbl&gt;</th><th scope=col>&lt;dbl&gt;</th><th scope=col>&lt;chr&gt;</th><th scope=col>&lt;dbl&gt;</th></tr>\n",
       "</thead>\n",
       "<tbody>\n",
       "\t<tr><th scope=row>3</th><td>Group:Age</td><td>2</td><td>38</td><td>0.242</td><td>0.786</td><td></td><td>0.013</td></tr>\n",
       "</tbody>\n",
       "</table>\n"
      ],
      "text/latex": [
       "A anova\\_test: 1 × 7\n",
       "\\begin{tabular}{r|lllllll}\n",
       "  & Effect & DFn & DFd & F & p & p<.05 & ges\\\\\n",
       "  & <chr> & <dbl> & <dbl> & <dbl> & <dbl> & <chr> & <dbl>\\\\\n",
       "\\hline\n",
       "\t3 & Group:Age & 2 & 38 & 0.242 & 0.786 &  & 0.013\\\\\n",
       "\\end{tabular}\n"
      ],
      "text/markdown": [
       "\n",
       "A anova_test: 1 × 7\n",
       "\n",
       "| <!--/--> | Effect &lt;chr&gt; | DFn &lt;dbl&gt; | DFd &lt;dbl&gt; | F &lt;dbl&gt; | p &lt;dbl&gt; | p&lt;.05 &lt;chr&gt; | ges &lt;dbl&gt; |\n",
       "|---|---|---|---|---|---|---|---|\n",
       "| 3 | Group:Age | 2 | 38 | 0.242 | 0.786 | <!----> | 0.013 |\n",
       "\n"
      ],
      "text/plain": [
       "  Effect    DFn DFd F     p     p<.05 ges  \n",
       "3 Group:Age 2   38  0.242 0.786       0.013"
      ]
     },
     "metadata": {},
     "output_type": "display_data"
    },
    {
     "name": "stderr",
     "output_type": "stream",
     "text": [
      "Coefficient covariances computed by hccm()\n",
      "\n"
     ]
    },
    {
     "data": {
      "text/html": [
       "<table class=\"dataframe\">\n",
       "<caption>A anova_test: 1 × 7</caption>\n",
       "<thead>\n",
       "\t<tr><th></th><th scope=col>Effect</th><th scope=col>DFn</th><th scope=col>DFd</th><th scope=col>F</th><th scope=col>p</th><th scope=col>p&lt;.05</th><th scope=col>ges</th></tr>\n",
       "\t<tr><th></th><th scope=col>&lt;chr&gt;</th><th scope=col>&lt;dbl&gt;</th><th scope=col>&lt;dbl&gt;</th><th scope=col>&lt;dbl&gt;</th><th scope=col>&lt;dbl&gt;</th><th scope=col>&lt;chr&gt;</th><th scope=col>&lt;dbl&gt;</th></tr>\n",
       "</thead>\n",
       "<tbody>\n",
       "\t<tr><th scope=row>3</th><td>Group:Age</td><td>2</td><td>38</td><td>0.626</td><td>0.54</td><td></td><td>0.032</td></tr>\n",
       "</tbody>\n",
       "</table>\n"
      ],
      "text/latex": [
       "A anova\\_test: 1 × 7\n",
       "\\begin{tabular}{r|lllllll}\n",
       "  & Effect & DFn & DFd & F & p & p<.05 & ges\\\\\n",
       "  & <chr> & <dbl> & <dbl> & <dbl> & <dbl> & <chr> & <dbl>\\\\\n",
       "\\hline\n",
       "\t3 & Group:Age & 2 & 38 & 0.626 & 0.54 &  & 0.032\\\\\n",
       "\\end{tabular}\n"
      ],
      "text/markdown": [
       "\n",
       "A anova_test: 1 × 7\n",
       "\n",
       "| <!--/--> | Effect &lt;chr&gt; | DFn &lt;dbl&gt; | DFd &lt;dbl&gt; | F &lt;dbl&gt; | p &lt;dbl&gt; | p&lt;.05 &lt;chr&gt; | ges &lt;dbl&gt; |\n",
       "|---|---|---|---|---|---|---|---|\n",
       "| 3 | Group:Age | 2 | 38 | 0.626 | 0.54 | <!----> | 0.032 |\n",
       "\n"
      ],
      "text/plain": [
       "  Effect    DFn DFd F     p    p<.05 ges  \n",
       "3 Group:Age 2   38  0.626 0.54       0.032"
      ]
     },
     "metadata": {},
     "output_type": "display_data"
    },
    {
     "name": "stderr",
     "output_type": "stream",
     "text": [
      "Coefficient covariances computed by hccm()\n",
      "\n"
     ]
    },
    {
     "data": {
      "text/html": [
       "<table class=\"dataframe\">\n",
       "<caption>A anova_test: 1 × 7</caption>\n",
       "<thead>\n",
       "\t<tr><th></th><th scope=col>Effect</th><th scope=col>DFn</th><th scope=col>DFd</th><th scope=col>F</th><th scope=col>p</th><th scope=col>p&lt;.05</th><th scope=col>ges</th></tr>\n",
       "\t<tr><th></th><th scope=col>&lt;chr&gt;</th><th scope=col>&lt;dbl&gt;</th><th scope=col>&lt;dbl&gt;</th><th scope=col>&lt;dbl&gt;</th><th scope=col>&lt;dbl&gt;</th><th scope=col>&lt;chr&gt;</th><th scope=col>&lt;dbl&gt;</th></tr>\n",
       "</thead>\n",
       "<tbody>\n",
       "\t<tr><th scope=row>3</th><td>Group:Age</td><td>2</td><td>38</td><td>0.696</td><td>0.505</td><td></td><td>0.035</td></tr>\n",
       "</tbody>\n",
       "</table>\n"
      ],
      "text/latex": [
       "A anova\\_test: 1 × 7\n",
       "\\begin{tabular}{r|lllllll}\n",
       "  & Effect & DFn & DFd & F & p & p<.05 & ges\\\\\n",
       "  & <chr> & <dbl> & <dbl> & <dbl> & <dbl> & <chr> & <dbl>\\\\\n",
       "\\hline\n",
       "\t3 & Group:Age & 2 & 38 & 0.696 & 0.505 &  & 0.035\\\\\n",
       "\\end{tabular}\n"
      ],
      "text/markdown": [
       "\n",
       "A anova_test: 1 × 7\n",
       "\n",
       "| <!--/--> | Effect &lt;chr&gt; | DFn &lt;dbl&gt; | DFd &lt;dbl&gt; | F &lt;dbl&gt; | p &lt;dbl&gt; | p&lt;.05 &lt;chr&gt; | ges &lt;dbl&gt; |\n",
       "|---|---|---|---|---|---|---|---|\n",
       "| 3 | Group:Age | 2 | 38 | 0.696 | 0.505 | <!----> | 0.035 |\n",
       "\n"
      ],
      "text/plain": [
       "  Effect    DFn DFd F     p     p<.05 ges  \n",
       "3 Group:Age 2   38  0.696 0.505       0.035"
      ]
     },
     "metadata": {},
     "output_type": "display_data"
    },
    {
     "name": "stderr",
     "output_type": "stream",
     "text": [
      "Coefficient covariances computed by hccm()\n",
      "\n"
     ]
    },
    {
     "data": {
      "text/html": [
       "<table class=\"dataframe\">\n",
       "<caption>A anova_test: 1 × 7</caption>\n",
       "<thead>\n",
       "\t<tr><th></th><th scope=col>Effect</th><th scope=col>DFn</th><th scope=col>DFd</th><th scope=col>F</th><th scope=col>p</th><th scope=col>p&lt;.05</th><th scope=col>ges</th></tr>\n",
       "\t<tr><th></th><th scope=col>&lt;chr&gt;</th><th scope=col>&lt;dbl&gt;</th><th scope=col>&lt;dbl&gt;</th><th scope=col>&lt;dbl&gt;</th><th scope=col>&lt;dbl&gt;</th><th scope=col>&lt;chr&gt;</th><th scope=col>&lt;dbl&gt;</th></tr>\n",
       "</thead>\n",
       "<tbody>\n",
       "\t<tr><th scope=row>3</th><td>Group:Age</td><td>2</td><td>38</td><td>0.179</td><td>0.837</td><td></td><td>0.009</td></tr>\n",
       "</tbody>\n",
       "</table>\n"
      ],
      "text/latex": [
       "A anova\\_test: 1 × 7\n",
       "\\begin{tabular}{r|lllllll}\n",
       "  & Effect & DFn & DFd & F & p & p<.05 & ges\\\\\n",
       "  & <chr> & <dbl> & <dbl> & <dbl> & <dbl> & <chr> & <dbl>\\\\\n",
       "\\hline\n",
       "\t3 & Group:Age & 2 & 38 & 0.179 & 0.837 &  & 0.009\\\\\n",
       "\\end{tabular}\n"
      ],
      "text/markdown": [
       "\n",
       "A anova_test: 1 × 7\n",
       "\n",
       "| <!--/--> | Effect &lt;chr&gt; | DFn &lt;dbl&gt; | DFd &lt;dbl&gt; | F &lt;dbl&gt; | p &lt;dbl&gt; | p&lt;.05 &lt;chr&gt; | ges &lt;dbl&gt; |\n",
       "|---|---|---|---|---|---|---|---|\n",
       "| 3 | Group:Age | 2 | 38 | 0.179 | 0.837 | <!----> | 0.009 |\n",
       "\n"
      ],
      "text/plain": [
       "  Effect    DFn DFd F     p     p<.05 ges  \n",
       "3 Group:Age 2   38  0.179 0.837       0.009"
      ]
     },
     "metadata": {},
     "output_type": "display_data"
    },
    {
     "name": "stderr",
     "output_type": "stream",
     "text": [
      "Coefficient covariances computed by hccm()\n",
      "\n"
     ]
    },
    {
     "data": {
      "text/html": [
       "<table class=\"dataframe\">\n",
       "<caption>A anova_test: 1 × 7</caption>\n",
       "<thead>\n",
       "\t<tr><th></th><th scope=col>Effect</th><th scope=col>DFn</th><th scope=col>DFd</th><th scope=col>F</th><th scope=col>p</th><th scope=col>p&lt;.05</th><th scope=col>ges</th></tr>\n",
       "\t<tr><th></th><th scope=col>&lt;chr&gt;</th><th scope=col>&lt;dbl&gt;</th><th scope=col>&lt;dbl&gt;</th><th scope=col>&lt;dbl&gt;</th><th scope=col>&lt;dbl&gt;</th><th scope=col>&lt;chr&gt;</th><th scope=col>&lt;dbl&gt;</th></tr>\n",
       "</thead>\n",
       "<tbody>\n",
       "\t<tr><th scope=row>3</th><td>Group:Age</td><td>2</td><td>38</td><td>0.242</td><td>0.786</td><td></td><td>0.013</td></tr>\n",
       "</tbody>\n",
       "</table>\n"
      ],
      "text/latex": [
       "A anova\\_test: 1 × 7\n",
       "\\begin{tabular}{r|lllllll}\n",
       "  & Effect & DFn & DFd & F & p & p<.05 & ges\\\\\n",
       "  & <chr> & <dbl> & <dbl> & <dbl> & <dbl> & <chr> & <dbl>\\\\\n",
       "\\hline\n",
       "\t3 & Group:Age & 2 & 38 & 0.242 & 0.786 &  & 0.013\\\\\n",
       "\\end{tabular}\n"
      ],
      "text/markdown": [
       "\n",
       "A anova_test: 1 × 7\n",
       "\n",
       "| <!--/--> | Effect &lt;chr&gt; | DFn &lt;dbl&gt; | DFd &lt;dbl&gt; | F &lt;dbl&gt; | p &lt;dbl&gt; | p&lt;.05 &lt;chr&gt; | ges &lt;dbl&gt; |\n",
       "|---|---|---|---|---|---|---|---|\n",
       "| 3 | Group:Age | 2 | 38 | 0.242 | 0.786 | <!----> | 0.013 |\n",
       "\n"
      ],
      "text/plain": [
       "  Effect    DFn DFd F     p     p<.05 ges  \n",
       "3 Group:Age 2   38  0.242 0.786       0.013"
      ]
     },
     "metadata": {},
     "output_type": "display_data"
    },
    {
     "name": "stderr",
     "output_type": "stream",
     "text": [
      "Coefficient covariances computed by hccm()\n",
      "\n"
     ]
    },
    {
     "data": {
      "text/html": [
       "<table class=\"dataframe\">\n",
       "<caption>A anova_test: 1 × 7</caption>\n",
       "<thead>\n",
       "\t<tr><th></th><th scope=col>Effect</th><th scope=col>DFn</th><th scope=col>DFd</th><th scope=col>F</th><th scope=col>p</th><th scope=col>p&lt;.05</th><th scope=col>ges</th></tr>\n",
       "\t<tr><th></th><th scope=col>&lt;chr&gt;</th><th scope=col>&lt;dbl&gt;</th><th scope=col>&lt;dbl&gt;</th><th scope=col>&lt;dbl&gt;</th><th scope=col>&lt;dbl&gt;</th><th scope=col>&lt;chr&gt;</th><th scope=col>&lt;dbl&gt;</th></tr>\n",
       "</thead>\n",
       "<tbody>\n",
       "\t<tr><th scope=row>3</th><td>Group:Age</td><td>2</td><td>38</td><td>0.264</td><td>0.769</td><td></td><td>0.014</td></tr>\n",
       "</tbody>\n",
       "</table>\n"
      ],
      "text/latex": [
       "A anova\\_test: 1 × 7\n",
       "\\begin{tabular}{r|lllllll}\n",
       "  & Effect & DFn & DFd & F & p & p<.05 & ges\\\\\n",
       "  & <chr> & <dbl> & <dbl> & <dbl> & <dbl> & <chr> & <dbl>\\\\\n",
       "\\hline\n",
       "\t3 & Group:Age & 2 & 38 & 0.264 & 0.769 &  & 0.014\\\\\n",
       "\\end{tabular}\n"
      ],
      "text/markdown": [
       "\n",
       "A anova_test: 1 × 7\n",
       "\n",
       "| <!--/--> | Effect &lt;chr&gt; | DFn &lt;dbl&gt; | DFd &lt;dbl&gt; | F &lt;dbl&gt; | p &lt;dbl&gt; | p&lt;.05 &lt;chr&gt; | ges &lt;dbl&gt; |\n",
       "|---|---|---|---|---|---|---|---|\n",
       "| 3 | Group:Age | 2 | 38 | 0.264 | 0.769 | <!----> | 0.014 |\n",
       "\n"
      ],
      "text/plain": [
       "  Effect    DFn DFd F     p     p<.05 ges  \n",
       "3 Group:Age 2   38  0.264 0.769       0.014"
      ]
     },
     "metadata": {},
     "output_type": "display_data"
    }
   ],
   "source": [
    "homogeneity_test_ancova = function(df, cluster){\n",
    "    test = df %>%\n",
    "        filter(Cluster == cluster) %>%\n",
    "        anova_test(Conc~Group*Age)\n",
    "    return(test[3,]) #just need the last row that shows this interaction\n",
    "}\n",
    "homogeneity_test_ancova(NLF_assumptions_df, 'ClusterA')\n",
    "homogeneity_test_ancova(NLF_assumptions_df, 'ClusterB')\n",
    "homogeneity_test_ancova(NLF_assumptions_df, 'ClusterC')\n",
    "homogeneity_test_ancova(NELF_assumptions_df, 'ClusterA')\n",
    "homogeneity_test_ancova(NELF_assumptions_df, 'ClusterB')\n",
    "homogeneity_test_ancova(NELF_assumptions_df, 'ClusterC')\n",
    "homogeneity_test_ancova(Sputum_assumptions_df, 'ClusterA')\n",
    "homogeneity_test_ancova(Sputum_assumptions_df, 'ClusterB')\n",
    "homogeneity_test_ancova(Sputum_assumptions_df, 'ClusterC')\n",
    "homogeneity_test_ancova(Serum_assumptions_df, 'ClusterA')\n",
    "homogeneity_test_ancova(Serum_assumptions_df, 'ClusterB')\n",
    "homogeneity_test_ancova(Serum_assumptions_df, 'ClusterC')"
   ]
  },
  {
   "cell_type": "markdown",
   "metadata": {},
   "source": [
    "Since none of the pvalues < 0.05, this assumption is met. \n",
    "\n",
    "<b>Normality of residuals</b>"
   ]
  },
  {
   "cell_type": "code",
   "execution_count": 10,
   "metadata": {
    "scrolled": true
   },
   "outputs": [
    {
     "data": {
      "text/html": [
       "<table class=\"dataframe\">\n",
       "<caption>A tibble: 1 × 3</caption>\n",
       "<thead>\n",
       "\t<tr><th scope=col>variable</th><th scope=col>statistic</th><th scope=col>p.value</th></tr>\n",
       "\t<tr><th scope=col>&lt;chr&gt;</th><th scope=col>&lt;dbl&gt;</th><th scope=col>&lt;dbl&gt;</th></tr>\n",
       "</thead>\n",
       "<tbody>\n",
       "\t<tr><td>model.metrics$.resid</td><td>0.9346235</td><td>0.0151743</td></tr>\n",
       "</tbody>\n",
       "</table>\n"
      ],
      "text/latex": [
       "A tibble: 1 × 3\n",
       "\\begin{tabular}{lll}\n",
       " variable & statistic & p.value\\\\\n",
       " <chr> & <dbl> & <dbl>\\\\\n",
       "\\hline\n",
       "\t model.metrics\\$.resid & 0.9346235 & 0.0151743\\\\\n",
       "\\end{tabular}\n"
      ],
      "text/markdown": [
       "\n",
       "A tibble: 1 × 3\n",
       "\n",
       "| variable &lt;chr&gt; | statistic &lt;dbl&gt; | p.value &lt;dbl&gt; |\n",
       "|---|---|---|\n",
       "| model.metrics$.resid | 0.9346235 | 0.0151743 |\n",
       "\n"
      ],
      "text/plain": [
       "  variable             statistic p.value  \n",
       "1 model.metrics$.resid 0.9346235 0.0151743"
      ]
     },
     "metadata": {},
     "output_type": "display_data"
    },
    {
     "data": {
      "text/html": [
       "<table class=\"dataframe\">\n",
       "<caption>A tibble: 1 × 3</caption>\n",
       "<thead>\n",
       "\t<tr><th scope=col>variable</th><th scope=col>statistic</th><th scope=col>p.value</th></tr>\n",
       "\t<tr><th scope=col>&lt;chr&gt;</th><th scope=col>&lt;dbl&gt;</th><th scope=col>&lt;dbl&gt;</th></tr>\n",
       "</thead>\n",
       "<tbody>\n",
       "\t<tr><td>model.metrics$.resid</td><td>0.9530197</td><td>0.07130481</td></tr>\n",
       "</tbody>\n",
       "</table>\n"
      ],
      "text/latex": [
       "A tibble: 1 × 3\n",
       "\\begin{tabular}{lll}\n",
       " variable & statistic & p.value\\\\\n",
       " <chr> & <dbl> & <dbl>\\\\\n",
       "\\hline\n",
       "\t model.metrics\\$.resid & 0.9530197 & 0.07130481\\\\\n",
       "\\end{tabular}\n"
      ],
      "text/markdown": [
       "\n",
       "A tibble: 1 × 3\n",
       "\n",
       "| variable &lt;chr&gt; | statistic &lt;dbl&gt; | p.value &lt;dbl&gt; |\n",
       "|---|---|---|\n",
       "| model.metrics$.resid | 0.9530197 | 0.07130481 |\n",
       "\n"
      ],
      "text/plain": [
       "  variable             statistic p.value   \n",
       "1 model.metrics$.resid 0.9530197 0.07130481"
      ]
     },
     "metadata": {},
     "output_type": "display_data"
    },
    {
     "data": {
      "text/html": [
       "<table class=\"dataframe\">\n",
       "<caption>A tibble: 1 × 3</caption>\n",
       "<thead>\n",
       "\t<tr><th scope=col>variable</th><th scope=col>statistic</th><th scope=col>p.value</th></tr>\n",
       "\t<tr><th scope=col>&lt;chr&gt;</th><th scope=col>&lt;dbl&gt;</th><th scope=col>&lt;dbl&gt;</th></tr>\n",
       "</thead>\n",
       "<tbody>\n",
       "\t<tr><td>model.metrics$.resid</td><td>0.8057233</td><td>3.899186e-06</td></tr>\n",
       "</tbody>\n",
       "</table>\n"
      ],
      "text/latex": [
       "A tibble: 1 × 3\n",
       "\\begin{tabular}{lll}\n",
       " variable & statistic & p.value\\\\\n",
       " <chr> & <dbl> & <dbl>\\\\\n",
       "\\hline\n",
       "\t model.metrics\\$.resid & 0.8057233 & 3.899186e-06\\\\\n",
       "\\end{tabular}\n"
      ],
      "text/markdown": [
       "\n",
       "A tibble: 1 × 3\n",
       "\n",
       "| variable &lt;chr&gt; | statistic &lt;dbl&gt; | p.value &lt;dbl&gt; |\n",
       "|---|---|---|\n",
       "| model.metrics$.resid | 0.8057233 | 3.899186e-06 |\n",
       "\n"
      ],
      "text/plain": [
       "  variable             statistic p.value     \n",
       "1 model.metrics$.resid 0.8057233 3.899186e-06"
      ]
     },
     "metadata": {},
     "output_type": "display_data"
    },
    {
     "data": {
      "text/html": [
       "<table class=\"dataframe\">\n",
       "<caption>A tibble: 1 × 3</caption>\n",
       "<thead>\n",
       "\t<tr><th scope=col>variable</th><th scope=col>statistic</th><th scope=col>p.value</th></tr>\n",
       "\t<tr><th scope=col>&lt;chr&gt;</th><th scope=col>&lt;dbl&gt;</th><th scope=col>&lt;dbl&gt;</th></tr>\n",
       "</thead>\n",
       "<tbody>\n",
       "\t<tr><td>model.metrics$.resid</td><td>0.9462246</td><td>0.03988202</td></tr>\n",
       "</tbody>\n",
       "</table>\n"
      ],
      "text/latex": [
       "A tibble: 1 × 3\n",
       "\\begin{tabular}{lll}\n",
       " variable & statistic & p.value\\\\\n",
       " <chr> & <dbl> & <dbl>\\\\\n",
       "\\hline\n",
       "\t model.metrics\\$.resid & 0.9462246 & 0.03988202\\\\\n",
       "\\end{tabular}\n"
      ],
      "text/markdown": [
       "\n",
       "A tibble: 1 × 3\n",
       "\n",
       "| variable &lt;chr&gt; | statistic &lt;dbl&gt; | p.value &lt;dbl&gt; |\n",
       "|---|---|---|\n",
       "| model.metrics$.resid | 0.9462246 | 0.03988202 |\n",
       "\n"
      ],
      "text/plain": [
       "  variable             statistic p.value   \n",
       "1 model.metrics$.resid 0.9462246 0.03988202"
      ]
     },
     "metadata": {},
     "output_type": "display_data"
    },
    {
     "data": {
      "text/html": [
       "<table class=\"dataframe\">\n",
       "<caption>A tibble: 1 × 3</caption>\n",
       "<thead>\n",
       "\t<tr><th scope=col>variable</th><th scope=col>statistic</th><th scope=col>p.value</th></tr>\n",
       "\t<tr><th scope=col>&lt;chr&gt;</th><th scope=col>&lt;dbl&gt;</th><th scope=col>&lt;dbl&gt;</th></tr>\n",
       "</thead>\n",
       "<tbody>\n",
       "\t<tr><td>model.metrics$.resid</td><td>0.9678847</td><td>0.2542954</td></tr>\n",
       "</tbody>\n",
       "</table>\n"
      ],
      "text/latex": [
       "A tibble: 1 × 3\n",
       "\\begin{tabular}{lll}\n",
       " variable & statistic & p.value\\\\\n",
       " <chr> & <dbl> & <dbl>\\\\\n",
       "\\hline\n",
       "\t model.metrics\\$.resid & 0.9678847 & 0.2542954\\\\\n",
       "\\end{tabular}\n"
      ],
      "text/markdown": [
       "\n",
       "A tibble: 1 × 3\n",
       "\n",
       "| variable &lt;chr&gt; | statistic &lt;dbl&gt; | p.value &lt;dbl&gt; |\n",
       "|---|---|---|\n",
       "| model.metrics$.resid | 0.9678847 | 0.2542954 |\n",
       "\n"
      ],
      "text/plain": [
       "  variable             statistic p.value  \n",
       "1 model.metrics$.resid 0.9678847 0.2542954"
      ]
     },
     "metadata": {},
     "output_type": "display_data"
    },
    {
     "data": {
      "text/html": [
       "<table class=\"dataframe\">\n",
       "<caption>A tibble: 1 × 3</caption>\n",
       "<thead>\n",
       "\t<tr><th scope=col>variable</th><th scope=col>statistic</th><th scope=col>p.value</th></tr>\n",
       "\t<tr><th scope=col>&lt;chr&gt;</th><th scope=col>&lt;dbl&gt;</th><th scope=col>&lt;dbl&gt;</th></tr>\n",
       "</thead>\n",
       "<tbody>\n",
       "\t<tr><td>model.metrics$.resid</td><td>0.8161401</td><td>6.6836e-06</td></tr>\n",
       "</tbody>\n",
       "</table>\n"
      ],
      "text/latex": [
       "A tibble: 1 × 3\n",
       "\\begin{tabular}{lll}\n",
       " variable & statistic & p.value\\\\\n",
       " <chr> & <dbl> & <dbl>\\\\\n",
       "\\hline\n",
       "\t model.metrics\\$.resid & 0.8161401 & 6.6836e-06\\\\\n",
       "\\end{tabular}\n"
      ],
      "text/markdown": [
       "\n",
       "A tibble: 1 × 3\n",
       "\n",
       "| variable &lt;chr&gt; | statistic &lt;dbl&gt; | p.value &lt;dbl&gt; |\n",
       "|---|---|---|\n",
       "| model.metrics$.resid | 0.8161401 | 6.6836e-06 |\n",
       "\n"
      ],
      "text/plain": [
       "  variable             statistic p.value   \n",
       "1 model.metrics$.resid 0.8161401 6.6836e-06"
      ]
     },
     "metadata": {},
     "output_type": "display_data"
    },
    {
     "data": {
      "text/html": [
       "<table class=\"dataframe\">\n",
       "<caption>A tibble: 1 × 3</caption>\n",
       "<thead>\n",
       "\t<tr><th scope=col>variable</th><th scope=col>statistic</th><th scope=col>p.value</th></tr>\n",
       "\t<tr><th scope=col>&lt;chr&gt;</th><th scope=col>&lt;dbl&gt;</th><th scope=col>&lt;dbl&gt;</th></tr>\n",
       "</thead>\n",
       "<tbody>\n",
       "\t<tr><td>model.metrics$.resid</td><td>0.8305321</td><td>1.448031e-05</td></tr>\n",
       "</tbody>\n",
       "</table>\n"
      ],
      "text/latex": [
       "A tibble: 1 × 3\n",
       "\\begin{tabular}{lll}\n",
       " variable & statistic & p.value\\\\\n",
       " <chr> & <dbl> & <dbl>\\\\\n",
       "\\hline\n",
       "\t model.metrics\\$.resid & 0.8305321 & 1.448031e-05\\\\\n",
       "\\end{tabular}\n"
      ],
      "text/markdown": [
       "\n",
       "A tibble: 1 × 3\n",
       "\n",
       "| variable &lt;chr&gt; | statistic &lt;dbl&gt; | p.value &lt;dbl&gt; |\n",
       "|---|---|---|\n",
       "| model.metrics$.resid | 0.8305321 | 1.448031e-05 |\n",
       "\n"
      ],
      "text/plain": [
       "  variable             statistic p.value     \n",
       "1 model.metrics$.resid 0.8305321 1.448031e-05"
      ]
     },
     "metadata": {},
     "output_type": "display_data"
    },
    {
     "data": {
      "text/html": [
       "<table class=\"dataframe\">\n",
       "<caption>A tibble: 1 × 3</caption>\n",
       "<thead>\n",
       "\t<tr><th scope=col>variable</th><th scope=col>statistic</th><th scope=col>p.value</th></tr>\n",
       "\t<tr><th scope=col>&lt;chr&gt;</th><th scope=col>&lt;dbl&gt;</th><th scope=col>&lt;dbl&gt;</th></tr>\n",
       "</thead>\n",
       "<tbody>\n",
       "\t<tr><td>model.metrics$.resid</td><td>0.9824797</td><td>0.7328688</td></tr>\n",
       "</tbody>\n",
       "</table>\n"
      ],
      "text/latex": [
       "A tibble: 1 × 3\n",
       "\\begin{tabular}{lll}\n",
       " variable & statistic & p.value\\\\\n",
       " <chr> & <dbl> & <dbl>\\\\\n",
       "\\hline\n",
       "\t model.metrics\\$.resid & 0.9824797 & 0.7328688\\\\\n",
       "\\end{tabular}\n"
      ],
      "text/markdown": [
       "\n",
       "A tibble: 1 × 3\n",
       "\n",
       "| variable &lt;chr&gt; | statistic &lt;dbl&gt; | p.value &lt;dbl&gt; |\n",
       "|---|---|---|\n",
       "| model.metrics$.resid | 0.9824797 | 0.7328688 |\n",
       "\n"
      ],
      "text/plain": [
       "  variable             statistic p.value  \n",
       "1 model.metrics$.resid 0.9824797 0.7328688"
      ]
     },
     "metadata": {},
     "output_type": "display_data"
    },
    {
     "data": {
      "text/html": [
       "<table class=\"dataframe\">\n",
       "<caption>A tibble: 1 × 3</caption>\n",
       "<thead>\n",
       "\t<tr><th scope=col>variable</th><th scope=col>statistic</th><th scope=col>p.value</th></tr>\n",
       "\t<tr><th scope=col>&lt;chr&gt;</th><th scope=col>&lt;dbl&gt;</th><th scope=col>&lt;dbl&gt;</th></tr>\n",
       "</thead>\n",
       "<tbody>\n",
       "\t<tr><td>model.metrics$.resid</td><td>0.9899948</td><td>0.9646423</td></tr>\n",
       "</tbody>\n",
       "</table>\n"
      ],
      "text/latex": [
       "A tibble: 1 × 3\n",
       "\\begin{tabular}{lll}\n",
       " variable & statistic & p.value\\\\\n",
       " <chr> & <dbl> & <dbl>\\\\\n",
       "\\hline\n",
       "\t model.metrics\\$.resid & 0.9899948 & 0.9646423\\\\\n",
       "\\end{tabular}\n"
      ],
      "text/markdown": [
       "\n",
       "A tibble: 1 × 3\n",
       "\n",
       "| variable &lt;chr&gt; | statistic &lt;dbl&gt; | p.value &lt;dbl&gt; |\n",
       "|---|---|---|\n",
       "| model.metrics$.resid | 0.9899948 | 0.9646423 |\n",
       "\n"
      ],
      "text/plain": [
       "  variable             statistic p.value  \n",
       "1 model.metrics$.resid 0.9899948 0.9646423"
      ]
     },
     "metadata": {},
     "output_type": "display_data"
    },
    {
     "data": {
      "text/html": [
       "<table class=\"dataframe\">\n",
       "<caption>A tibble: 1 × 3</caption>\n",
       "<thead>\n",
       "\t<tr><th scope=col>variable</th><th scope=col>statistic</th><th scope=col>p.value</th></tr>\n",
       "\t<tr><th scope=col>&lt;chr&gt;</th><th scope=col>&lt;dbl&gt;</th><th scope=col>&lt;dbl&gt;</th></tr>\n",
       "</thead>\n",
       "<tbody>\n",
       "\t<tr><td>model.metrics$.resid</td><td>0.9791836</td><td>0.6012837</td></tr>\n",
       "</tbody>\n",
       "</table>\n"
      ],
      "text/latex": [
       "A tibble: 1 × 3\n",
       "\\begin{tabular}{lll}\n",
       " variable & statistic & p.value\\\\\n",
       " <chr> & <dbl> & <dbl>\\\\\n",
       "\\hline\n",
       "\t model.metrics\\$.resid & 0.9791836 & 0.6012837\\\\\n",
       "\\end{tabular}\n"
      ],
      "text/markdown": [
       "\n",
       "A tibble: 1 × 3\n",
       "\n",
       "| variable &lt;chr&gt; | statistic &lt;dbl&gt; | p.value &lt;dbl&gt; |\n",
       "|---|---|---|\n",
       "| model.metrics$.resid | 0.9791836 | 0.6012837 |\n",
       "\n"
      ],
      "text/plain": [
       "  variable             statistic p.value  \n",
       "1 model.metrics$.resid 0.9791836 0.6012837"
      ]
     },
     "metadata": {},
     "output_type": "display_data"
    },
    {
     "data": {
      "text/html": [
       "<table class=\"dataframe\">\n",
       "<caption>A tibble: 1 × 3</caption>\n",
       "<thead>\n",
       "\t<tr><th scope=col>variable</th><th scope=col>statistic</th><th scope=col>p.value</th></tr>\n",
       "\t<tr><th scope=col>&lt;chr&gt;</th><th scope=col>&lt;dbl&gt;</th><th scope=col>&lt;dbl&gt;</th></tr>\n",
       "</thead>\n",
       "<tbody>\n",
       "\t<tr><td>model.metrics$.resid</td><td>0.9645349</td><td>0.1918712</td></tr>\n",
       "</tbody>\n",
       "</table>\n"
      ],
      "text/latex": [
       "A tibble: 1 × 3\n",
       "\\begin{tabular}{lll}\n",
       " variable & statistic & p.value\\\\\n",
       " <chr> & <dbl> & <dbl>\\\\\n",
       "\\hline\n",
       "\t model.metrics\\$.resid & 0.9645349 & 0.1918712\\\\\n",
       "\\end{tabular}\n"
      ],
      "text/markdown": [
       "\n",
       "A tibble: 1 × 3\n",
       "\n",
       "| variable &lt;chr&gt; | statistic &lt;dbl&gt; | p.value &lt;dbl&gt; |\n",
       "|---|---|---|\n",
       "| model.metrics$.resid | 0.9645349 | 0.1918712 |\n",
       "\n"
      ],
      "text/plain": [
       "  variable             statistic p.value  \n",
       "1 model.metrics$.resid 0.9645349 0.1918712"
      ]
     },
     "metadata": {},
     "output_type": "display_data"
    },
    {
     "data": {
      "text/html": [
       "<table class=\"dataframe\">\n",
       "<caption>A tibble: 1 × 3</caption>\n",
       "<thead>\n",
       "\t<tr><th scope=col>variable</th><th scope=col>statistic</th><th scope=col>p.value</th></tr>\n",
       "\t<tr><th scope=col>&lt;chr&gt;</th><th scope=col>&lt;dbl&gt;</th><th scope=col>&lt;dbl&gt;</th></tr>\n",
       "</thead>\n",
       "<tbody>\n",
       "\t<tr><td>model.metrics$.resid</td><td>0.8991793</td><td>0.001026893</td></tr>\n",
       "</tbody>\n",
       "</table>\n"
      ],
      "text/latex": [
       "A tibble: 1 × 3\n",
       "\\begin{tabular}{lll}\n",
       " variable & statistic & p.value\\\\\n",
       " <chr> & <dbl> & <dbl>\\\\\n",
       "\\hline\n",
       "\t model.metrics\\$.resid & 0.8991793 & 0.001026893\\\\\n",
       "\\end{tabular}\n"
      ],
      "text/markdown": [
       "\n",
       "A tibble: 1 × 3\n",
       "\n",
       "| variable &lt;chr&gt; | statistic &lt;dbl&gt; | p.value &lt;dbl&gt; |\n",
       "|---|---|---|\n",
       "| model.metrics$.resid | 0.8991793 | 0.001026893 |\n",
       "\n"
      ],
      "text/plain": [
       "  variable             statistic p.value    \n",
       "1 model.metrics$.resid 0.8991793 0.001026893"
      ]
     },
     "metadata": {},
     "output_type": "display_data"
    }
   ],
   "source": [
    "#this is for ancova\n",
    "residual_normality_test = function(df, cluster){\n",
    "    model = lm(Conc~Age+Group, data = df %>%\n",
    "        filter(Cluster == cluster))\n",
    "    model.metrics <- augment(model) \n",
    "    shapiro_wilk_test = shapiro_test(model.metrics$.resid)\n",
    "    return(shapiro_wilk_test)\n",
    "}\n",
    "residual_normality_test(NLF_assumptions_df, 'ClusterA')\n",
    "residual_normality_test(NLF_assumptions_df, 'ClusterB') #residuals aren't normal\n",
    "residual_normality_test(NLF_assumptions_df, 'ClusterC') #residuals aren't normal\n",
    "residual_normality_test(NELF_assumptions_df, 'ClusterA') #residuals aren't normal\n",
    "residual_normality_test(NELF_assumptions_df, 'ClusterB') #residuals aren't normal\n",
    "residual_normality_test(NELF_assumptions_df, 'ClusterC')\n",
    "residual_normality_test(Sputum_assumptions_df, 'ClusterA')\n",
    "residual_normality_test(Sputum_assumptions_df, 'ClusterB') #residuals aren't normal\n",
    "residual_normality_test(Sputum_assumptions_df, 'ClusterC') #residuals aren't normal\n",
    "residual_normality_test(Serum_assumptions_df, 'ClusterA') #residuals aren't normal\n",
    "residual_normality_test(Serum_assumptions_df, 'ClusterB')\n",
    "residual_normality_test(Serum_assumptions_df, 'ClusterC') #residuals aren't normal"
   ]
  },
  {
   "cell_type": "markdown",
   "metadata": {},
   "source": [
    "This assumption isn't met for most clusters. "
   ]
  },
  {
   "cell_type": "markdown",
   "metadata": {},
   "source": [
    "<b> Homogeneity of Variances: ANCOVA/ ANOVA assumes the variance of residuals is equal for all groups </b>"
   ]
  },
  {
   "cell_type": "code",
   "execution_count": 11,
   "metadata": {},
   "outputs": [
    {
     "name": "stderr",
     "output_type": "stream",
     "text": [
      "Warning message in leveneTest.default(y = y, group = group, ...):\n",
      "“group coerced to factor.”\n"
     ]
    },
    {
     "data": {
      "text/html": [
       "<table class=\"dataframe\">\n",
       "<caption>A anova: 2 × 3</caption>\n",
       "<thead>\n",
       "\t<tr><th></th><th scope=col>Df</th><th scope=col>F value</th><th scope=col>Pr(&gt;F)</th></tr>\n",
       "\t<tr><th></th><th scope=col>&lt;int&gt;</th><th scope=col>&lt;dbl&gt;</th><th scope=col>&lt;dbl&gt;</th></tr>\n",
       "</thead>\n",
       "<tbody>\n",
       "\t<tr><th scope=row>group</th><td> 2</td><td>5.464431</td><td>0.007873878</td></tr>\n",
       "\t<tr><th scope=row> </th><td>41</td><td>      NA</td><td>         NA</td></tr>\n",
       "</tbody>\n",
       "</table>\n"
      ],
      "text/latex": [
       "A anova: 2 × 3\n",
       "\\begin{tabular}{r|lll}\n",
       "  & Df & F value & Pr(>F)\\\\\n",
       "  & <int> & <dbl> & <dbl>\\\\\n",
       "\\hline\n",
       "\tgroup &  2 & 5.464431 & 0.007873878\\\\\n",
       "\t  & 41 &       NA &          NA\\\\\n",
       "\\end{tabular}\n"
      ],
      "text/markdown": [
       "\n",
       "A anova: 2 × 3\n",
       "\n",
       "| <!--/--> | Df &lt;int&gt; | F value &lt;dbl&gt; | Pr(&gt;F) &lt;dbl&gt; |\n",
       "|---|---|---|---|\n",
       "| group |  2 | 5.464431 | 0.007873878 |\n",
       "| <!----> | 41 |       NA |          NA |\n",
       "\n"
      ],
      "text/plain": [
       "      Df F value  Pr(>F)     \n",
       "group  2 5.464431 0.007873878\n",
       "      41       NA          NA"
      ]
     },
     "metadata": {},
     "output_type": "display_data"
    },
    {
     "name": "stderr",
     "output_type": "stream",
     "text": [
      "Warning message in leveneTest.default(y = y, group = group, ...):\n",
      "“group coerced to factor.”\n"
     ]
    },
    {
     "data": {
      "text/html": [
       "<table class=\"dataframe\">\n",
       "<caption>A anova: 2 × 3</caption>\n",
       "<thead>\n",
       "\t<tr><th></th><th scope=col>Df</th><th scope=col>F value</th><th scope=col>Pr(&gt;F)</th></tr>\n",
       "\t<tr><th></th><th scope=col>&lt;int&gt;</th><th scope=col>&lt;dbl&gt;</th><th scope=col>&lt;dbl&gt;</th></tr>\n",
       "</thead>\n",
       "<tbody>\n",
       "\t<tr><th scope=row>group</th><td> 2</td><td>0.09344363</td><td>0.9109828</td></tr>\n",
       "\t<tr><th scope=row> </th><td>41</td><td>        NA</td><td>       NA</td></tr>\n",
       "</tbody>\n",
       "</table>\n"
      ],
      "text/latex": [
       "A anova: 2 × 3\n",
       "\\begin{tabular}{r|lll}\n",
       "  & Df & F value & Pr(>F)\\\\\n",
       "  & <int> & <dbl> & <dbl>\\\\\n",
       "\\hline\n",
       "\tgroup &  2 & 0.09344363 & 0.9109828\\\\\n",
       "\t  & 41 &         NA &        NA\\\\\n",
       "\\end{tabular}\n"
      ],
      "text/markdown": [
       "\n",
       "A anova: 2 × 3\n",
       "\n",
       "| <!--/--> | Df &lt;int&gt; | F value &lt;dbl&gt; | Pr(&gt;F) &lt;dbl&gt; |\n",
       "|---|---|---|---|\n",
       "| group |  2 | 0.09344363 | 0.9109828 |\n",
       "| <!----> | 41 |         NA |        NA |\n",
       "\n"
      ],
      "text/plain": [
       "      Df F value    Pr(>F)   \n",
       "group  2 0.09344363 0.9109828\n",
       "      41         NA        NA"
      ]
     },
     "metadata": {},
     "output_type": "display_data"
    },
    {
     "name": "stderr",
     "output_type": "stream",
     "text": [
      "Warning message in leveneTest.default(y = y, group = group, ...):\n",
      "“group coerced to factor.”\n"
     ]
    },
    {
     "data": {
      "text/html": [
       "<table class=\"dataframe\">\n",
       "<caption>A anova: 2 × 3</caption>\n",
       "<thead>\n",
       "\t<tr><th></th><th scope=col>Df</th><th scope=col>F value</th><th scope=col>Pr(&gt;F)</th></tr>\n",
       "\t<tr><th></th><th scope=col>&lt;int&gt;</th><th scope=col>&lt;dbl&gt;</th><th scope=col>&lt;dbl&gt;</th></tr>\n",
       "</thead>\n",
       "<tbody>\n",
       "\t<tr><th scope=row>group</th><td> 2</td><td>0.3587622</td><td>0.7007115</td></tr>\n",
       "\t<tr><th scope=row> </th><td>41</td><td>       NA</td><td>       NA</td></tr>\n",
       "</tbody>\n",
       "</table>\n"
      ],
      "text/latex": [
       "A anova: 2 × 3\n",
       "\\begin{tabular}{r|lll}\n",
       "  & Df & F value & Pr(>F)\\\\\n",
       "  & <int> & <dbl> & <dbl>\\\\\n",
       "\\hline\n",
       "\tgroup &  2 & 0.3587622 & 0.7007115\\\\\n",
       "\t  & 41 &        NA &        NA\\\\\n",
       "\\end{tabular}\n"
      ],
      "text/markdown": [
       "\n",
       "A anova: 2 × 3\n",
       "\n",
       "| <!--/--> | Df &lt;int&gt; | F value &lt;dbl&gt; | Pr(&gt;F) &lt;dbl&gt; |\n",
       "|---|---|---|---|\n",
       "| group |  2 | 0.3587622 | 0.7007115 |\n",
       "| <!----> | 41 |        NA |        NA |\n",
       "\n"
      ],
      "text/plain": [
       "      Df F value   Pr(>F)   \n",
       "group  2 0.3587622 0.7007115\n",
       "      41        NA        NA"
      ]
     },
     "metadata": {},
     "output_type": "display_data"
    },
    {
     "name": "stderr",
     "output_type": "stream",
     "text": [
      "Warning message in leveneTest.default(y = y, group = group, ...):\n",
      "“group coerced to factor.”\n"
     ]
    },
    {
     "data": {
      "text/html": [
       "<table class=\"dataframe\">\n",
       "<caption>A anova: 2 × 3</caption>\n",
       "<thead>\n",
       "\t<tr><th></th><th scope=col>Df</th><th scope=col>F value</th><th scope=col>Pr(&gt;F)</th></tr>\n",
       "\t<tr><th></th><th scope=col>&lt;int&gt;</th><th scope=col>&lt;dbl&gt;</th><th scope=col>&lt;dbl&gt;</th></tr>\n",
       "</thead>\n",
       "<tbody>\n",
       "\t<tr><th scope=row>group</th><td> 2</td><td>0.07628561</td><td>0.9266827</td></tr>\n",
       "\t<tr><th scope=row> </th><td>41</td><td>        NA</td><td>       NA</td></tr>\n",
       "</tbody>\n",
       "</table>\n"
      ],
      "text/latex": [
       "A anova: 2 × 3\n",
       "\\begin{tabular}{r|lll}\n",
       "  & Df & F value & Pr(>F)\\\\\n",
       "  & <int> & <dbl> & <dbl>\\\\\n",
       "\\hline\n",
       "\tgroup &  2 & 0.07628561 & 0.9266827\\\\\n",
       "\t  & 41 &         NA &        NA\\\\\n",
       "\\end{tabular}\n"
      ],
      "text/markdown": [
       "\n",
       "A anova: 2 × 3\n",
       "\n",
       "| <!--/--> | Df &lt;int&gt; | F value &lt;dbl&gt; | Pr(&gt;F) &lt;dbl&gt; |\n",
       "|---|---|---|---|\n",
       "| group |  2 | 0.07628561 | 0.9266827 |\n",
       "| <!----> | 41 |         NA |        NA |\n",
       "\n"
      ],
      "text/plain": [
       "      Df F value    Pr(>F)   \n",
       "group  2 0.07628561 0.9266827\n",
       "      41         NA        NA"
      ]
     },
     "metadata": {},
     "output_type": "display_data"
    },
    {
     "name": "stderr",
     "output_type": "stream",
     "text": [
      "Warning message in leveneTest.default(y = y, group = group, ...):\n",
      "“group coerced to factor.”\n"
     ]
    },
    {
     "data": {
      "text/html": [
       "<table class=\"dataframe\">\n",
       "<caption>A anova: 2 × 3</caption>\n",
       "<thead>\n",
       "\t<tr><th></th><th scope=col>Df</th><th scope=col>F value</th><th scope=col>Pr(&gt;F)</th></tr>\n",
       "\t<tr><th></th><th scope=col>&lt;int&gt;</th><th scope=col>&lt;dbl&gt;</th><th scope=col>&lt;dbl&gt;</th></tr>\n",
       "</thead>\n",
       "<tbody>\n",
       "\t<tr><th scope=row>group</th><td> 2</td><td>3.477382</td><td>0.04027339</td></tr>\n",
       "\t<tr><th scope=row> </th><td>41</td><td>      NA</td><td>        NA</td></tr>\n",
       "</tbody>\n",
       "</table>\n"
      ],
      "text/latex": [
       "A anova: 2 × 3\n",
       "\\begin{tabular}{r|lll}\n",
       "  & Df & F value & Pr(>F)\\\\\n",
       "  & <int> & <dbl> & <dbl>\\\\\n",
       "\\hline\n",
       "\tgroup &  2 & 3.477382 & 0.04027339\\\\\n",
       "\t  & 41 &       NA &         NA\\\\\n",
       "\\end{tabular}\n"
      ],
      "text/markdown": [
       "\n",
       "A anova: 2 × 3\n",
       "\n",
       "| <!--/--> | Df &lt;int&gt; | F value &lt;dbl&gt; | Pr(&gt;F) &lt;dbl&gt; |\n",
       "|---|---|---|---|\n",
       "| group |  2 | 3.477382 | 0.04027339 |\n",
       "| <!----> | 41 |       NA |         NA |\n",
       "\n"
      ],
      "text/plain": [
       "      Df F value  Pr(>F)    \n",
       "group  2 3.477382 0.04027339\n",
       "      41       NA         NA"
      ]
     },
     "metadata": {},
     "output_type": "display_data"
    },
    {
     "name": "stderr",
     "output_type": "stream",
     "text": [
      "Warning message in leveneTest.default(y = y, group = group, ...):\n",
      "“group coerced to factor.”\n"
     ]
    },
    {
     "data": {
      "text/html": [
       "<table class=\"dataframe\">\n",
       "<caption>A anova: 2 × 3</caption>\n",
       "<thead>\n",
       "\t<tr><th></th><th scope=col>Df</th><th scope=col>F value</th><th scope=col>Pr(&gt;F)</th></tr>\n",
       "\t<tr><th></th><th scope=col>&lt;int&gt;</th><th scope=col>&lt;dbl&gt;</th><th scope=col>&lt;dbl&gt;</th></tr>\n",
       "</thead>\n",
       "<tbody>\n",
       "\t<tr><th scope=row>group</th><td> 2</td><td>0.2807684</td><td>0.7566435</td></tr>\n",
       "\t<tr><th scope=row> </th><td>41</td><td>       NA</td><td>       NA</td></tr>\n",
       "</tbody>\n",
       "</table>\n"
      ],
      "text/latex": [
       "A anova: 2 × 3\n",
       "\\begin{tabular}{r|lll}\n",
       "  & Df & F value & Pr(>F)\\\\\n",
       "  & <int> & <dbl> & <dbl>\\\\\n",
       "\\hline\n",
       "\tgroup &  2 & 0.2807684 & 0.7566435\\\\\n",
       "\t  & 41 &        NA &        NA\\\\\n",
       "\\end{tabular}\n"
      ],
      "text/markdown": [
       "\n",
       "A anova: 2 × 3\n",
       "\n",
       "| <!--/--> | Df &lt;int&gt; | F value &lt;dbl&gt; | Pr(&gt;F) &lt;dbl&gt; |\n",
       "|---|---|---|---|\n",
       "| group |  2 | 0.2807684 | 0.7566435 |\n",
       "| <!----> | 41 |        NA |        NA |\n",
       "\n"
      ],
      "text/plain": [
       "      Df F value   Pr(>F)   \n",
       "group  2 0.2807684 0.7566435\n",
       "      41        NA        NA"
      ]
     },
     "metadata": {},
     "output_type": "display_data"
    },
    {
     "name": "stderr",
     "output_type": "stream",
     "text": [
      "Warning message in leveneTest.default(y = y, group = group, ...):\n",
      "“group coerced to factor.”\n"
     ]
    },
    {
     "data": {
      "text/html": [
       "<table class=\"dataframe\">\n",
       "<caption>A anova: 2 × 3</caption>\n",
       "<thead>\n",
       "\t<tr><th></th><th scope=col>Df</th><th scope=col>F value</th><th scope=col>Pr(&gt;F)</th></tr>\n",
       "\t<tr><th></th><th scope=col>&lt;int&gt;</th><th scope=col>&lt;dbl&gt;</th><th scope=col>&lt;dbl&gt;</th></tr>\n",
       "</thead>\n",
       "<tbody>\n",
       "\t<tr><th scope=row>group</th><td> 2</td><td>1.302335</td><td>0.2829061</td></tr>\n",
       "\t<tr><th scope=row> </th><td>41</td><td>      NA</td><td>       NA</td></tr>\n",
       "</tbody>\n",
       "</table>\n"
      ],
      "text/latex": [
       "A anova: 2 × 3\n",
       "\\begin{tabular}{r|lll}\n",
       "  & Df & F value & Pr(>F)\\\\\n",
       "  & <int> & <dbl> & <dbl>\\\\\n",
       "\\hline\n",
       "\tgroup &  2 & 1.302335 & 0.2829061\\\\\n",
       "\t  & 41 &       NA &        NA\\\\\n",
       "\\end{tabular}\n"
      ],
      "text/markdown": [
       "\n",
       "A anova: 2 × 3\n",
       "\n",
       "| <!--/--> | Df &lt;int&gt; | F value &lt;dbl&gt; | Pr(&gt;F) &lt;dbl&gt; |\n",
       "|---|---|---|---|\n",
       "| group |  2 | 1.302335 | 0.2829061 |\n",
       "| <!----> | 41 |       NA |        NA |\n",
       "\n"
      ],
      "text/plain": [
       "      Df F value  Pr(>F)   \n",
       "group  2 1.302335 0.2829061\n",
       "      41       NA        NA"
      ]
     },
     "metadata": {},
     "output_type": "display_data"
    },
    {
     "name": "stderr",
     "output_type": "stream",
     "text": [
      "Warning message in leveneTest.default(y = y, group = group, ...):\n",
      "“group coerced to factor.”\n"
     ]
    },
    {
     "data": {
      "text/html": [
       "<table class=\"dataframe\">\n",
       "<caption>A anova: 2 × 3</caption>\n",
       "<thead>\n",
       "\t<tr><th></th><th scope=col>Df</th><th scope=col>F value</th><th scope=col>Pr(&gt;F)</th></tr>\n",
       "\t<tr><th></th><th scope=col>&lt;int&gt;</th><th scope=col>&lt;dbl&gt;</th><th scope=col>&lt;dbl&gt;</th></tr>\n",
       "</thead>\n",
       "<tbody>\n",
       "\t<tr><th scope=row>group</th><td> 2</td><td>2.473538</td><td>0.0967793</td></tr>\n",
       "\t<tr><th scope=row> </th><td>41</td><td>      NA</td><td>       NA</td></tr>\n",
       "</tbody>\n",
       "</table>\n"
      ],
      "text/latex": [
       "A anova: 2 × 3\n",
       "\\begin{tabular}{r|lll}\n",
       "  & Df & F value & Pr(>F)\\\\\n",
       "  & <int> & <dbl> & <dbl>\\\\\n",
       "\\hline\n",
       "\tgroup &  2 & 2.473538 & 0.0967793\\\\\n",
       "\t  & 41 &       NA &        NA\\\\\n",
       "\\end{tabular}\n"
      ],
      "text/markdown": [
       "\n",
       "A anova: 2 × 3\n",
       "\n",
       "| <!--/--> | Df &lt;int&gt; | F value &lt;dbl&gt; | Pr(&gt;F) &lt;dbl&gt; |\n",
       "|---|---|---|---|\n",
       "| group |  2 | 2.473538 | 0.0967793 |\n",
       "| <!----> | 41 |       NA |        NA |\n",
       "\n"
      ],
      "text/plain": [
       "      Df F value  Pr(>F)   \n",
       "group  2 2.473538 0.0967793\n",
       "      41       NA        NA"
      ]
     },
     "metadata": {},
     "output_type": "display_data"
    },
    {
     "name": "stderr",
     "output_type": "stream",
     "text": [
      "Warning message in leveneTest.default(y = y, group = group, ...):\n",
      "“group coerced to factor.”\n"
     ]
    },
    {
     "data": {
      "text/html": [
       "<table class=\"dataframe\">\n",
       "<caption>A anova: 2 × 3</caption>\n",
       "<thead>\n",
       "\t<tr><th></th><th scope=col>Df</th><th scope=col>F value</th><th scope=col>Pr(&gt;F)</th></tr>\n",
       "\t<tr><th></th><th scope=col>&lt;int&gt;</th><th scope=col>&lt;dbl&gt;</th><th scope=col>&lt;dbl&gt;</th></tr>\n",
       "</thead>\n",
       "<tbody>\n",
       "\t<tr><th scope=row>group</th><td> 2</td><td>0.1970282</td><td>0.8219404</td></tr>\n",
       "\t<tr><th scope=row> </th><td>41</td><td>       NA</td><td>       NA</td></tr>\n",
       "</tbody>\n",
       "</table>\n"
      ],
      "text/latex": [
       "A anova: 2 × 3\n",
       "\\begin{tabular}{r|lll}\n",
       "  & Df & F value & Pr(>F)\\\\\n",
       "  & <int> & <dbl> & <dbl>\\\\\n",
       "\\hline\n",
       "\tgroup &  2 & 0.1970282 & 0.8219404\\\\\n",
       "\t  & 41 &        NA &        NA\\\\\n",
       "\\end{tabular}\n"
      ],
      "text/markdown": [
       "\n",
       "A anova: 2 × 3\n",
       "\n",
       "| <!--/--> | Df &lt;int&gt; | F value &lt;dbl&gt; | Pr(&gt;F) &lt;dbl&gt; |\n",
       "|---|---|---|---|\n",
       "| group |  2 | 0.1970282 | 0.8219404 |\n",
       "| <!----> | 41 |        NA |        NA |\n",
       "\n"
      ],
      "text/plain": [
       "      Df F value   Pr(>F)   \n",
       "group  2 0.1970282 0.8219404\n",
       "      41        NA        NA"
      ]
     },
     "metadata": {},
     "output_type": "display_data"
    },
    {
     "name": "stderr",
     "output_type": "stream",
     "text": [
      "Warning message in leveneTest.default(y = y, group = group, ...):\n",
      "“group coerced to factor.”\n"
     ]
    },
    {
     "data": {
      "text/html": [
       "<table class=\"dataframe\">\n",
       "<caption>A anova: 2 × 3</caption>\n",
       "<thead>\n",
       "\t<tr><th></th><th scope=col>Df</th><th scope=col>F value</th><th scope=col>Pr(&gt;F)</th></tr>\n",
       "\t<tr><th></th><th scope=col>&lt;int&gt;</th><th scope=col>&lt;dbl&gt;</th><th scope=col>&lt;dbl&gt;</th></tr>\n",
       "</thead>\n",
       "<tbody>\n",
       "\t<tr><th scope=row>group</th><td> 2</td><td>0.8611584</td><td>0.4301756</td></tr>\n",
       "\t<tr><th scope=row> </th><td>41</td><td>       NA</td><td>       NA</td></tr>\n",
       "</tbody>\n",
       "</table>\n"
      ],
      "text/latex": [
       "A anova: 2 × 3\n",
       "\\begin{tabular}{r|lll}\n",
       "  & Df & F value & Pr(>F)\\\\\n",
       "  & <int> & <dbl> & <dbl>\\\\\n",
       "\\hline\n",
       "\tgroup &  2 & 0.8611584 & 0.4301756\\\\\n",
       "\t  & 41 &        NA &        NA\\\\\n",
       "\\end{tabular}\n"
      ],
      "text/markdown": [
       "\n",
       "A anova: 2 × 3\n",
       "\n",
       "| <!--/--> | Df &lt;int&gt; | F value &lt;dbl&gt; | Pr(&gt;F) &lt;dbl&gt; |\n",
       "|---|---|---|---|\n",
       "| group |  2 | 0.8611584 | 0.4301756 |\n",
       "| <!----> | 41 |        NA |        NA |\n",
       "\n"
      ],
      "text/plain": [
       "      Df F value   Pr(>F)   \n",
       "group  2 0.8611584 0.4301756\n",
       "      41        NA        NA"
      ]
     },
     "metadata": {},
     "output_type": "display_data"
    },
    {
     "name": "stderr",
     "output_type": "stream",
     "text": [
      "Warning message in leveneTest.default(y = y, group = group, ...):\n",
      "“group coerced to factor.”\n"
     ]
    },
    {
     "data": {
      "text/html": [
       "<table class=\"dataframe\">\n",
       "<caption>A anova: 2 × 3</caption>\n",
       "<thead>\n",
       "\t<tr><th></th><th scope=col>Df</th><th scope=col>F value</th><th scope=col>Pr(&gt;F)</th></tr>\n",
       "\t<tr><th></th><th scope=col>&lt;int&gt;</th><th scope=col>&lt;dbl&gt;</th><th scope=col>&lt;dbl&gt;</th></tr>\n",
       "</thead>\n",
       "<tbody>\n",
       "\t<tr><th scope=row>group</th><td> 2</td><td>0.390116</td><td>0.6794644</td></tr>\n",
       "\t<tr><th scope=row> </th><td>41</td><td>      NA</td><td>       NA</td></tr>\n",
       "</tbody>\n",
       "</table>\n"
      ],
      "text/latex": [
       "A anova: 2 × 3\n",
       "\\begin{tabular}{r|lll}\n",
       "  & Df & F value & Pr(>F)\\\\\n",
       "  & <int> & <dbl> & <dbl>\\\\\n",
       "\\hline\n",
       "\tgroup &  2 & 0.390116 & 0.6794644\\\\\n",
       "\t  & 41 &       NA &        NA\\\\\n",
       "\\end{tabular}\n"
      ],
      "text/markdown": [
       "\n",
       "A anova: 2 × 3\n",
       "\n",
       "| <!--/--> | Df &lt;int&gt; | F value &lt;dbl&gt; | Pr(&gt;F) &lt;dbl&gt; |\n",
       "|---|---|---|---|\n",
       "| group |  2 | 0.390116 | 0.6794644 |\n",
       "| <!----> | 41 |       NA |        NA |\n",
       "\n"
      ],
      "text/plain": [
       "      Df F value  Pr(>F)   \n",
       "group  2 0.390116 0.6794644\n",
       "      41       NA        NA"
      ]
     },
     "metadata": {},
     "output_type": "display_data"
    },
    {
     "name": "stderr",
     "output_type": "stream",
     "text": [
      "Warning message in leveneTest.default(y = y, group = group, ...):\n",
      "“group coerced to factor.”\n"
     ]
    },
    {
     "data": {
      "text/html": [
       "<table class=\"dataframe\">\n",
       "<caption>A anova: 2 × 3</caption>\n",
       "<thead>\n",
       "\t<tr><th></th><th scope=col>Df</th><th scope=col>F value</th><th scope=col>Pr(&gt;F)</th></tr>\n",
       "\t<tr><th></th><th scope=col>&lt;int&gt;</th><th scope=col>&lt;dbl&gt;</th><th scope=col>&lt;dbl&gt;</th></tr>\n",
       "</thead>\n",
       "<tbody>\n",
       "\t<tr><th scope=row>group</th><td> 2</td><td>0.05312184</td><td>0.9483296</td></tr>\n",
       "\t<tr><th scope=row> </th><td>41</td><td>        NA</td><td>       NA</td></tr>\n",
       "</tbody>\n",
       "</table>\n"
      ],
      "text/latex": [
       "A anova: 2 × 3\n",
       "\\begin{tabular}{r|lll}\n",
       "  & Df & F value & Pr(>F)\\\\\n",
       "  & <int> & <dbl> & <dbl>\\\\\n",
       "\\hline\n",
       "\tgroup &  2 & 0.05312184 & 0.9483296\\\\\n",
       "\t  & 41 &         NA &        NA\\\\\n",
       "\\end{tabular}\n"
      ],
      "text/markdown": [
       "\n",
       "A anova: 2 × 3\n",
       "\n",
       "| <!--/--> | Df &lt;int&gt; | F value &lt;dbl&gt; | Pr(&gt;F) &lt;dbl&gt; |\n",
       "|---|---|---|---|\n",
       "| group |  2 | 0.05312184 | 0.9483296 |\n",
       "| <!----> | 41 |         NA |        NA |\n",
       "\n"
      ],
      "text/plain": [
       "      Df F value    Pr(>F)   \n",
       "group  2 0.05312184 0.9483296\n",
       "      41         NA        NA"
      ]
     },
     "metadata": {},
     "output_type": "display_data"
    }
   ],
   "source": [
    "residual_variance_test_anova = function(df, cluster){\n",
    "    model = lm(Conc~Group, data = df %>%\n",
    "        filter(Cluster == cluster))\n",
    "    model.metrics <- augment(model) \n",
    "    levene_test = leveneTest(`.resid`~Group, data = model.metrics)\n",
    "    return(levene_test)\n",
    "}\n",
    "#anova\n",
    "residual_variance_test_anova(NLF_assumptions_df, 'ClusterA')\n",
    "residual_variance_test_anova(NLF_assumptions_df, 'ClusterB') \n",
    "residual_variance_test_anova(NLF_assumptions_df, 'ClusterC') \n",
    "residual_variance_test_anova(NELF_assumptions_df, 'ClusterA') \n",
    "residual_variance_test_anova(NELF_assumptions_df, 'ClusterB') \n",
    "residual_variance_test_anova(NELF_assumptions_df, 'ClusterC')\n",
    "residual_variance_test_anova(Sputum_assumptions_df, 'ClusterA')\n",
    "residual_variance_test_anova(Sputum_assumptions_df, 'ClusterB') \n",
    "residual_variance_test_anova(Sputum_assumptions_df, 'ClusterC') \n",
    "residual_variance_test_anova(Serum_assumptions_df, 'ClusterA') \n",
    "residual_variance_test_anova(Serum_assumptions_df, 'ClusterB')\n",
    "residual_variance_test_anova(Serum_assumptions_df, 'ClusterC') "
   ]
  },
  {
   "cell_type": "code",
   "execution_count": 12,
   "metadata": {},
   "outputs": [
    {
     "name": "stderr",
     "output_type": "stream",
     "text": [
      "Warning message in leveneTest.default(y = y, group = group, ...):\n",
      "“group coerced to factor.”\n"
     ]
    },
    {
     "data": {
      "text/html": [
       "<table class=\"dataframe\">\n",
       "<caption>A anova: 2 × 3</caption>\n",
       "<thead>\n",
       "\t<tr><th></th><th scope=col>Df</th><th scope=col>F value</th><th scope=col>Pr(&gt;F)</th></tr>\n",
       "\t<tr><th></th><th scope=col>&lt;int&gt;</th><th scope=col>&lt;dbl&gt;</th><th scope=col>&lt;dbl&gt;</th></tr>\n",
       "</thead>\n",
       "<tbody>\n",
       "\t<tr><th scope=row>group</th><td> 2</td><td>5.216439</td><td>0.00958588</td></tr>\n",
       "\t<tr><th scope=row> </th><td>41</td><td>      NA</td><td>        NA</td></tr>\n",
       "</tbody>\n",
       "</table>\n"
      ],
      "text/latex": [
       "A anova: 2 × 3\n",
       "\\begin{tabular}{r|lll}\n",
       "  & Df & F value & Pr(>F)\\\\\n",
       "  & <int> & <dbl> & <dbl>\\\\\n",
       "\\hline\n",
       "\tgroup &  2 & 5.216439 & 0.00958588\\\\\n",
       "\t  & 41 &       NA &         NA\\\\\n",
       "\\end{tabular}\n"
      ],
      "text/markdown": [
       "\n",
       "A anova: 2 × 3\n",
       "\n",
       "| <!--/--> | Df &lt;int&gt; | F value &lt;dbl&gt; | Pr(&gt;F) &lt;dbl&gt; |\n",
       "|---|---|---|---|\n",
       "| group |  2 | 5.216439 | 0.00958588 |\n",
       "| <!----> | 41 |       NA |         NA |\n",
       "\n"
      ],
      "text/plain": [
       "      Df F value  Pr(>F)    \n",
       "group  2 5.216439 0.00958588\n",
       "      41       NA         NA"
      ]
     },
     "metadata": {},
     "output_type": "display_data"
    },
    {
     "name": "stderr",
     "output_type": "stream",
     "text": [
      "Warning message in leveneTest.default(y = y, group = group, ...):\n",
      "“group coerced to factor.”\n"
     ]
    },
    {
     "data": {
      "text/html": [
       "<table class=\"dataframe\">\n",
       "<caption>A anova: 2 × 3</caption>\n",
       "<thead>\n",
       "\t<tr><th></th><th scope=col>Df</th><th scope=col>F value</th><th scope=col>Pr(&gt;F)</th></tr>\n",
       "\t<tr><th></th><th scope=col>&lt;int&gt;</th><th scope=col>&lt;dbl&gt;</th><th scope=col>&lt;dbl&gt;</th></tr>\n",
       "</thead>\n",
       "<tbody>\n",
       "\t<tr><th scope=row>group</th><td> 2</td><td>0.002060255</td><td>0.997942</td></tr>\n",
       "\t<tr><th scope=row> </th><td>41</td><td>         NA</td><td>      NA</td></tr>\n",
       "</tbody>\n",
       "</table>\n"
      ],
      "text/latex": [
       "A anova: 2 × 3\n",
       "\\begin{tabular}{r|lll}\n",
       "  & Df & F value & Pr(>F)\\\\\n",
       "  & <int> & <dbl> & <dbl>\\\\\n",
       "\\hline\n",
       "\tgroup &  2 & 0.002060255 & 0.997942\\\\\n",
       "\t  & 41 &          NA &       NA\\\\\n",
       "\\end{tabular}\n"
      ],
      "text/markdown": [
       "\n",
       "A anova: 2 × 3\n",
       "\n",
       "| <!--/--> | Df &lt;int&gt; | F value &lt;dbl&gt; | Pr(&gt;F) &lt;dbl&gt; |\n",
       "|---|---|---|---|\n",
       "| group |  2 | 0.002060255 | 0.997942 |\n",
       "| <!----> | 41 |          NA |       NA |\n",
       "\n"
      ],
      "text/plain": [
       "      Df F value     Pr(>F)  \n",
       "group  2 0.002060255 0.997942\n",
       "      41          NA       NA"
      ]
     },
     "metadata": {},
     "output_type": "display_data"
    },
    {
     "name": "stderr",
     "output_type": "stream",
     "text": [
      "Warning message in leveneTest.default(y = y, group = group, ...):\n",
      "“group coerced to factor.”\n"
     ]
    },
    {
     "data": {
      "text/html": [
       "<table class=\"dataframe\">\n",
       "<caption>A anova: 2 × 3</caption>\n",
       "<thead>\n",
       "\t<tr><th></th><th scope=col>Df</th><th scope=col>F value</th><th scope=col>Pr(&gt;F)</th></tr>\n",
       "\t<tr><th></th><th scope=col>&lt;int&gt;</th><th scope=col>&lt;dbl&gt;</th><th scope=col>&lt;dbl&gt;</th></tr>\n",
       "</thead>\n",
       "<tbody>\n",
       "\t<tr><th scope=row>group</th><td> 2</td><td>0.4613319</td><td>0.633676</td></tr>\n",
       "\t<tr><th scope=row> </th><td>41</td><td>       NA</td><td>      NA</td></tr>\n",
       "</tbody>\n",
       "</table>\n"
      ],
      "text/latex": [
       "A anova: 2 × 3\n",
       "\\begin{tabular}{r|lll}\n",
       "  & Df & F value & Pr(>F)\\\\\n",
       "  & <int> & <dbl> & <dbl>\\\\\n",
       "\\hline\n",
       "\tgroup &  2 & 0.4613319 & 0.633676\\\\\n",
       "\t  & 41 &        NA &       NA\\\\\n",
       "\\end{tabular}\n"
      ],
      "text/markdown": [
       "\n",
       "A anova: 2 × 3\n",
       "\n",
       "| <!--/--> | Df &lt;int&gt; | F value &lt;dbl&gt; | Pr(&gt;F) &lt;dbl&gt; |\n",
       "|---|---|---|---|\n",
       "| group |  2 | 0.4613319 | 0.633676 |\n",
       "| <!----> | 41 |        NA |       NA |\n",
       "\n"
      ],
      "text/plain": [
       "      Df F value   Pr(>F)  \n",
       "group  2 0.4613319 0.633676\n",
       "      41        NA       NA"
      ]
     },
     "metadata": {},
     "output_type": "display_data"
    },
    {
     "name": "stderr",
     "output_type": "stream",
     "text": [
      "Warning message in leveneTest.default(y = y, group = group, ...):\n",
      "“group coerced to factor.”\n"
     ]
    },
    {
     "data": {
      "text/html": [
       "<table class=\"dataframe\">\n",
       "<caption>A anova: 2 × 3</caption>\n",
       "<thead>\n",
       "\t<tr><th></th><th scope=col>Df</th><th scope=col>F value</th><th scope=col>Pr(&gt;F)</th></tr>\n",
       "\t<tr><th></th><th scope=col>&lt;int&gt;</th><th scope=col>&lt;dbl&gt;</th><th scope=col>&lt;dbl&gt;</th></tr>\n",
       "</thead>\n",
       "<tbody>\n",
       "\t<tr><th scope=row>group</th><td> 2</td><td>0.08455784</td><td>0.9190783</td></tr>\n",
       "\t<tr><th scope=row> </th><td>41</td><td>        NA</td><td>       NA</td></tr>\n",
       "</tbody>\n",
       "</table>\n"
      ],
      "text/latex": [
       "A anova: 2 × 3\n",
       "\\begin{tabular}{r|lll}\n",
       "  & Df & F value & Pr(>F)\\\\\n",
       "  & <int> & <dbl> & <dbl>\\\\\n",
       "\\hline\n",
       "\tgroup &  2 & 0.08455784 & 0.9190783\\\\\n",
       "\t  & 41 &         NA &        NA\\\\\n",
       "\\end{tabular}\n"
      ],
      "text/markdown": [
       "\n",
       "A anova: 2 × 3\n",
       "\n",
       "| <!--/--> | Df &lt;int&gt; | F value &lt;dbl&gt; | Pr(&gt;F) &lt;dbl&gt; |\n",
       "|---|---|---|---|\n",
       "| group |  2 | 0.08455784 | 0.9190783 |\n",
       "| <!----> | 41 |         NA |        NA |\n",
       "\n"
      ],
      "text/plain": [
       "      Df F value    Pr(>F)   \n",
       "group  2 0.08455784 0.9190783\n",
       "      41         NA        NA"
      ]
     },
     "metadata": {},
     "output_type": "display_data"
    },
    {
     "name": "stderr",
     "output_type": "stream",
     "text": [
      "Warning message in leveneTest.default(y = y, group = group, ...):\n",
      "“group coerced to factor.”\n"
     ]
    },
    {
     "data": {
      "text/html": [
       "<table class=\"dataframe\">\n",
       "<caption>A anova: 2 × 3</caption>\n",
       "<thead>\n",
       "\t<tr><th></th><th scope=col>Df</th><th scope=col>F value</th><th scope=col>Pr(&gt;F)</th></tr>\n",
       "\t<tr><th></th><th scope=col>&lt;int&gt;</th><th scope=col>&lt;dbl&gt;</th><th scope=col>&lt;dbl&gt;</th></tr>\n",
       "</thead>\n",
       "<tbody>\n",
       "\t<tr><th scope=row>group</th><td> 2</td><td>3.656438</td><td>0.03457639</td></tr>\n",
       "\t<tr><th scope=row> </th><td>41</td><td>      NA</td><td>        NA</td></tr>\n",
       "</tbody>\n",
       "</table>\n"
      ],
      "text/latex": [
       "A anova: 2 × 3\n",
       "\\begin{tabular}{r|lll}\n",
       "  & Df & F value & Pr(>F)\\\\\n",
       "  & <int> & <dbl> & <dbl>\\\\\n",
       "\\hline\n",
       "\tgroup &  2 & 3.656438 & 0.03457639\\\\\n",
       "\t  & 41 &       NA &         NA\\\\\n",
       "\\end{tabular}\n"
      ],
      "text/markdown": [
       "\n",
       "A anova: 2 × 3\n",
       "\n",
       "| <!--/--> | Df &lt;int&gt; | F value &lt;dbl&gt; | Pr(&gt;F) &lt;dbl&gt; |\n",
       "|---|---|---|---|\n",
       "| group |  2 | 3.656438 | 0.03457639 |\n",
       "| <!----> | 41 |       NA |         NA |\n",
       "\n"
      ],
      "text/plain": [
       "      Df F value  Pr(>F)    \n",
       "group  2 3.656438 0.03457639\n",
       "      41       NA         NA"
      ]
     },
     "metadata": {},
     "output_type": "display_data"
    },
    {
     "name": "stderr",
     "output_type": "stream",
     "text": [
      "Warning message in leveneTest.default(y = y, group = group, ...):\n",
      "“group coerced to factor.”\n"
     ]
    },
    {
     "data": {
      "text/html": [
       "<table class=\"dataframe\">\n",
       "<caption>A anova: 2 × 3</caption>\n",
       "<thead>\n",
       "\t<tr><th></th><th scope=col>Df</th><th scope=col>F value</th><th scope=col>Pr(&gt;F)</th></tr>\n",
       "\t<tr><th></th><th scope=col>&lt;int&gt;</th><th scope=col>&lt;dbl&gt;</th><th scope=col>&lt;dbl&gt;</th></tr>\n",
       "</thead>\n",
       "<tbody>\n",
       "\t<tr><th scope=row>group</th><td> 2</td><td>0.3822103</td><td>0.6847572</td></tr>\n",
       "\t<tr><th scope=row> </th><td>41</td><td>       NA</td><td>       NA</td></tr>\n",
       "</tbody>\n",
       "</table>\n"
      ],
      "text/latex": [
       "A anova: 2 × 3\n",
       "\\begin{tabular}{r|lll}\n",
       "  & Df & F value & Pr(>F)\\\\\n",
       "  & <int> & <dbl> & <dbl>\\\\\n",
       "\\hline\n",
       "\tgroup &  2 & 0.3822103 & 0.6847572\\\\\n",
       "\t  & 41 &        NA &        NA\\\\\n",
       "\\end{tabular}\n"
      ],
      "text/markdown": [
       "\n",
       "A anova: 2 × 3\n",
       "\n",
       "| <!--/--> | Df &lt;int&gt; | F value &lt;dbl&gt; | Pr(&gt;F) &lt;dbl&gt; |\n",
       "|---|---|---|---|\n",
       "| group |  2 | 0.3822103 | 0.6847572 |\n",
       "| <!----> | 41 |        NA |        NA |\n",
       "\n"
      ],
      "text/plain": [
       "      Df F value   Pr(>F)   \n",
       "group  2 0.3822103 0.6847572\n",
       "      41        NA        NA"
      ]
     },
     "metadata": {},
     "output_type": "display_data"
    },
    {
     "name": "stderr",
     "output_type": "stream",
     "text": [
      "Warning message in leveneTest.default(y = y, group = group, ...):\n",
      "“group coerced to factor.”\n"
     ]
    },
    {
     "data": {
      "text/html": [
       "<table class=\"dataframe\">\n",
       "<caption>A anova: 2 × 3</caption>\n",
       "<thead>\n",
       "\t<tr><th></th><th scope=col>Df</th><th scope=col>F value</th><th scope=col>Pr(&gt;F)</th></tr>\n",
       "\t<tr><th></th><th scope=col>&lt;int&gt;</th><th scope=col>&lt;dbl&gt;</th><th scope=col>&lt;dbl&gt;</th></tr>\n",
       "</thead>\n",
       "<tbody>\n",
       "\t<tr><th scope=row>group</th><td> 2</td><td>2.035468</td><td>0.1436115</td></tr>\n",
       "\t<tr><th scope=row> </th><td>41</td><td>      NA</td><td>       NA</td></tr>\n",
       "</tbody>\n",
       "</table>\n"
      ],
      "text/latex": [
       "A anova: 2 × 3\n",
       "\\begin{tabular}{r|lll}\n",
       "  & Df & F value & Pr(>F)\\\\\n",
       "  & <int> & <dbl> & <dbl>\\\\\n",
       "\\hline\n",
       "\tgroup &  2 & 2.035468 & 0.1436115\\\\\n",
       "\t  & 41 &       NA &        NA\\\\\n",
       "\\end{tabular}\n"
      ],
      "text/markdown": [
       "\n",
       "A anova: 2 × 3\n",
       "\n",
       "| <!--/--> | Df &lt;int&gt; | F value &lt;dbl&gt; | Pr(&gt;F) &lt;dbl&gt; |\n",
       "|---|---|---|---|\n",
       "| group |  2 | 2.035468 | 0.1436115 |\n",
       "| <!----> | 41 |       NA |        NA |\n",
       "\n"
      ],
      "text/plain": [
       "      Df F value  Pr(>F)   \n",
       "group  2 2.035468 0.1436115\n",
       "      41       NA        NA"
      ]
     },
     "metadata": {},
     "output_type": "display_data"
    },
    {
     "name": "stderr",
     "output_type": "stream",
     "text": [
      "Warning message in leveneTest.default(y = y, group = group, ...):\n",
      "“group coerced to factor.”\n"
     ]
    },
    {
     "data": {
      "text/html": [
       "<table class=\"dataframe\">\n",
       "<caption>A anova: 2 × 3</caption>\n",
       "<thead>\n",
       "\t<tr><th></th><th scope=col>Df</th><th scope=col>F value</th><th scope=col>Pr(&gt;F)</th></tr>\n",
       "\t<tr><th></th><th scope=col>&lt;int&gt;</th><th scope=col>&lt;dbl&gt;</th><th scope=col>&lt;dbl&gt;</th></tr>\n",
       "</thead>\n",
       "<tbody>\n",
       "\t<tr><th scope=row>group</th><td> 2</td><td>1.359694</td><td>0.2680714</td></tr>\n",
       "\t<tr><th scope=row> </th><td>41</td><td>      NA</td><td>       NA</td></tr>\n",
       "</tbody>\n",
       "</table>\n"
      ],
      "text/latex": [
       "A anova: 2 × 3\n",
       "\\begin{tabular}{r|lll}\n",
       "  & Df & F value & Pr(>F)\\\\\n",
       "  & <int> & <dbl> & <dbl>\\\\\n",
       "\\hline\n",
       "\tgroup &  2 & 1.359694 & 0.2680714\\\\\n",
       "\t  & 41 &       NA &        NA\\\\\n",
       "\\end{tabular}\n"
      ],
      "text/markdown": [
       "\n",
       "A anova: 2 × 3\n",
       "\n",
       "| <!--/--> | Df &lt;int&gt; | F value &lt;dbl&gt; | Pr(&gt;F) &lt;dbl&gt; |\n",
       "|---|---|---|---|\n",
       "| group |  2 | 1.359694 | 0.2680714 |\n",
       "| <!----> | 41 |       NA |        NA |\n",
       "\n"
      ],
      "text/plain": [
       "      Df F value  Pr(>F)   \n",
       "group  2 1.359694 0.2680714\n",
       "      41       NA        NA"
      ]
     },
     "metadata": {},
     "output_type": "display_data"
    },
    {
     "name": "stderr",
     "output_type": "stream",
     "text": [
      "Warning message in leveneTest.default(y = y, group = group, ...):\n",
      "“group coerced to factor.”\n"
     ]
    },
    {
     "data": {
      "text/html": [
       "<table class=\"dataframe\">\n",
       "<caption>A anova: 2 × 3</caption>\n",
       "<thead>\n",
       "\t<tr><th></th><th scope=col>Df</th><th scope=col>F value</th><th scope=col>Pr(&gt;F)</th></tr>\n",
       "\t<tr><th></th><th scope=col>&lt;int&gt;</th><th scope=col>&lt;dbl&gt;</th><th scope=col>&lt;dbl&gt;</th></tr>\n",
       "</thead>\n",
       "<tbody>\n",
       "\t<tr><th scope=row>group</th><td> 2</td><td>0.213174</td><td>0.8089054</td></tr>\n",
       "\t<tr><th scope=row> </th><td>41</td><td>      NA</td><td>       NA</td></tr>\n",
       "</tbody>\n",
       "</table>\n"
      ],
      "text/latex": [
       "A anova: 2 × 3\n",
       "\\begin{tabular}{r|lll}\n",
       "  & Df & F value & Pr(>F)\\\\\n",
       "  & <int> & <dbl> & <dbl>\\\\\n",
       "\\hline\n",
       "\tgroup &  2 & 0.213174 & 0.8089054\\\\\n",
       "\t  & 41 &       NA &        NA\\\\\n",
       "\\end{tabular}\n"
      ],
      "text/markdown": [
       "\n",
       "A anova: 2 × 3\n",
       "\n",
       "| <!--/--> | Df &lt;int&gt; | F value &lt;dbl&gt; | Pr(&gt;F) &lt;dbl&gt; |\n",
       "|---|---|---|---|\n",
       "| group |  2 | 0.213174 | 0.8089054 |\n",
       "| <!----> | 41 |       NA |        NA |\n",
       "\n"
      ],
      "text/plain": [
       "      Df F value  Pr(>F)   \n",
       "group  2 0.213174 0.8089054\n",
       "      41       NA        NA"
      ]
     },
     "metadata": {},
     "output_type": "display_data"
    },
    {
     "name": "stderr",
     "output_type": "stream",
     "text": [
      "Warning message in leveneTest.default(y = y, group = group, ...):\n",
      "“group coerced to factor.”\n"
     ]
    },
    {
     "data": {
      "text/html": [
       "<table class=\"dataframe\">\n",
       "<caption>A anova: 2 × 3</caption>\n",
       "<thead>\n",
       "\t<tr><th></th><th scope=col>Df</th><th scope=col>F value</th><th scope=col>Pr(&gt;F)</th></tr>\n",
       "\t<tr><th></th><th scope=col>&lt;int&gt;</th><th scope=col>&lt;dbl&gt;</th><th scope=col>&lt;dbl&gt;</th></tr>\n",
       "</thead>\n",
       "<tbody>\n",
       "\t<tr><th scope=row>group</th><td> 2</td><td>0.7923186</td><td>0.4596038</td></tr>\n",
       "\t<tr><th scope=row> </th><td>41</td><td>       NA</td><td>       NA</td></tr>\n",
       "</tbody>\n",
       "</table>\n"
      ],
      "text/latex": [
       "A anova: 2 × 3\n",
       "\\begin{tabular}{r|lll}\n",
       "  & Df & F value & Pr(>F)\\\\\n",
       "  & <int> & <dbl> & <dbl>\\\\\n",
       "\\hline\n",
       "\tgroup &  2 & 0.7923186 & 0.4596038\\\\\n",
       "\t  & 41 &        NA &        NA\\\\\n",
       "\\end{tabular}\n"
      ],
      "text/markdown": [
       "\n",
       "A anova: 2 × 3\n",
       "\n",
       "| <!--/--> | Df &lt;int&gt; | F value &lt;dbl&gt; | Pr(&gt;F) &lt;dbl&gt; |\n",
       "|---|---|---|---|\n",
       "| group |  2 | 0.7923186 | 0.4596038 |\n",
       "| <!----> | 41 |        NA |        NA |\n",
       "\n"
      ],
      "text/plain": [
       "      Df F value   Pr(>F)   \n",
       "group  2 0.7923186 0.4596038\n",
       "      41        NA        NA"
      ]
     },
     "metadata": {},
     "output_type": "display_data"
    },
    {
     "name": "stderr",
     "output_type": "stream",
     "text": [
      "Warning message in leveneTest.default(y = y, group = group, ...):\n",
      "“group coerced to factor.”\n"
     ]
    },
    {
     "data": {
      "text/html": [
       "<table class=\"dataframe\">\n",
       "<caption>A anova: 2 × 3</caption>\n",
       "<thead>\n",
       "\t<tr><th></th><th scope=col>Df</th><th scope=col>F value</th><th scope=col>Pr(&gt;F)</th></tr>\n",
       "\t<tr><th></th><th scope=col>&lt;int&gt;</th><th scope=col>&lt;dbl&gt;</th><th scope=col>&lt;dbl&gt;</th></tr>\n",
       "</thead>\n",
       "<tbody>\n",
       "\t<tr><th scope=row>group</th><td> 2</td><td>0.3098555</td><td>0.7352556</td></tr>\n",
       "\t<tr><th scope=row> </th><td>41</td><td>       NA</td><td>       NA</td></tr>\n",
       "</tbody>\n",
       "</table>\n"
      ],
      "text/latex": [
       "A anova: 2 × 3\n",
       "\\begin{tabular}{r|lll}\n",
       "  & Df & F value & Pr(>F)\\\\\n",
       "  & <int> & <dbl> & <dbl>\\\\\n",
       "\\hline\n",
       "\tgroup &  2 & 0.3098555 & 0.7352556\\\\\n",
       "\t  & 41 &        NA &        NA\\\\\n",
       "\\end{tabular}\n"
      ],
      "text/markdown": [
       "\n",
       "A anova: 2 × 3\n",
       "\n",
       "| <!--/--> | Df &lt;int&gt; | F value &lt;dbl&gt; | Pr(&gt;F) &lt;dbl&gt; |\n",
       "|---|---|---|---|\n",
       "| group |  2 | 0.3098555 | 0.7352556 |\n",
       "| <!----> | 41 |        NA |        NA |\n",
       "\n"
      ],
      "text/plain": [
       "      Df F value   Pr(>F)   \n",
       "group  2 0.3098555 0.7352556\n",
       "      41        NA        NA"
      ]
     },
     "metadata": {},
     "output_type": "display_data"
    },
    {
     "name": "stderr",
     "output_type": "stream",
     "text": [
      "Warning message in leveneTest.default(y = y, group = group, ...):\n",
      "“group coerced to factor.”\n"
     ]
    },
    {
     "data": {
      "text/html": [
       "<table class=\"dataframe\">\n",
       "<caption>A anova: 2 × 3</caption>\n",
       "<thead>\n",
       "\t<tr><th></th><th scope=col>Df</th><th scope=col>F value</th><th scope=col>Pr(&gt;F)</th></tr>\n",
       "\t<tr><th></th><th scope=col>&lt;int&gt;</th><th scope=col>&lt;dbl&gt;</th><th scope=col>&lt;dbl&gt;</th></tr>\n",
       "</thead>\n",
       "<tbody>\n",
       "\t<tr><th scope=row>group</th><td> 2</td><td>0.007885225</td><td>0.9921473</td></tr>\n",
       "\t<tr><th scope=row> </th><td>41</td><td>         NA</td><td>       NA</td></tr>\n",
       "</tbody>\n",
       "</table>\n"
      ],
      "text/latex": [
       "A anova: 2 × 3\n",
       "\\begin{tabular}{r|lll}\n",
       "  & Df & F value & Pr(>F)\\\\\n",
       "  & <int> & <dbl> & <dbl>\\\\\n",
       "\\hline\n",
       "\tgroup &  2 & 0.007885225 & 0.9921473\\\\\n",
       "\t  & 41 &          NA &        NA\\\\\n",
       "\\end{tabular}\n"
      ],
      "text/markdown": [
       "\n",
       "A anova: 2 × 3\n",
       "\n",
       "| <!--/--> | Df &lt;int&gt; | F value &lt;dbl&gt; | Pr(&gt;F) &lt;dbl&gt; |\n",
       "|---|---|---|---|\n",
       "| group |  2 | 0.007885225 | 0.9921473 |\n",
       "| <!----> | 41 |          NA |        NA |\n",
       "\n"
      ],
      "text/plain": [
       "      Df F value     Pr(>F)   \n",
       "group  2 0.007885225 0.9921473\n",
       "      41          NA        NA"
      ]
     },
     "metadata": {},
     "output_type": "display_data"
    }
   ],
   "source": [
    "residual_variance_test_ancova = function(df, cluster){\n",
    "    model = lm(Conc~Age+Group, data = df %>%\n",
    "        filter(Cluster == cluster))\n",
    "    model.metrics <- augment(model) \n",
    "    levene_test = leveneTest(`.resid`~Group, data = model.metrics)\n",
    "    return(levene_test)\n",
    "}\n",
    "#ancova\n",
    "residual_variance_test_ancova(NLF_assumptions_df, 'ClusterA')\n",
    "residual_variance_test_ancova(NLF_assumptions_df, 'ClusterB') \n",
    "residual_variance_test_ancova(NLF_assumptions_df, 'ClusterC') \n",
    "residual_variance_test_ancova(NELF_assumptions_df, 'ClusterA') \n",
    "residual_variance_test_ancova(NELF_assumptions_df, 'ClusterB') \n",
    "residual_variance_test_ancova(NELF_assumptions_df, 'ClusterC')\n",
    "residual_variance_test_ancova(Sputum_assumptions_df, 'ClusterA')\n",
    "residual_variance_test_ancova(Sputum_assumptions_df, 'ClusterB') \n",
    "residual_variance_test_ancova(Sputum_assumptions_df, 'ClusterC') \n",
    "residual_variance_test_ancova(Serum_assumptions_df, 'ClusterA') \n",
    "residual_variance_test_ancova(Serum_assumptions_df, 'ClusterB')\n",
    "residual_variance_test_ancova(Serum_assumptions_df, 'ClusterC') "
   ]
  },
  {
   "cell_type": "markdown",
   "metadata": {},
   "source": [
    "A few were significant  (p < 0.05) so this assumption isn't met."
   ]
  },
  {
   "cell_type": "markdown",
   "metadata": {},
   "source": [
    "# One-way ANOVA\n",
    "\n",
    "Even though most of the assumptions tested above aren't we'll still proceed with running ANOVA/ANCOVA tests."
   ]
  },
  {
   "cell_type": "code",
   "execution_count": 13,
   "metadata": {},
   "outputs": [],
   "source": [
    "#need to make everything into a factor\n",
    "eigen_NLF_scaled$Group = factor(eigen_NLF_scaled$Group)\n",
    "eigen_NELF_scaled$Group = factor(eigen_NELF_scaled$Group)\n",
    "eigen_Sputum_scaled$Group = factor(eigen_Sputum_scaled$Group)\n",
    "eigen_Serum_scaled$Group = factor(eigen_Serum_scaled$Group)"
   ]
  },
  {
   "cell_type": "code",
   "execution_count": 14,
   "metadata": {},
   "outputs": [
    {
     "data": {
      "text/html": [
       "<table class=\"dataframe\">\n",
       "<caption>A matrix: 3 × 2 of type dbl</caption>\n",
       "<thead>\n",
       "\t<tr><th></th><th scope=col>Ecig</th><th scope=col>NS</th></tr>\n",
       "</thead>\n",
       "<tbody>\n",
       "\t<tr><th scope=row>CS</th><td>0</td><td>0</td></tr>\n",
       "\t<tr><th scope=row>Ecig</th><td>1</td><td>0</td></tr>\n",
       "\t<tr><th scope=row>NS</th><td>0</td><td>1</td></tr>\n",
       "</tbody>\n",
       "</table>\n"
      ],
      "text/latex": [
       "A matrix: 3 × 2 of type dbl\n",
       "\\begin{tabular}{r|ll}\n",
       "  & Ecig & NS\\\\\n",
       "\\hline\n",
       "\tCS & 0 & 0\\\\\n",
       "\tEcig & 1 & 0\\\\\n",
       "\tNS & 0 & 1\\\\\n",
       "\\end{tabular}\n"
      ],
      "text/markdown": [
       "\n",
       "A matrix: 3 × 2 of type dbl\n",
       "\n",
       "| <!--/--> | Ecig | NS |\n",
       "|---|---|---|\n",
       "| CS | 0 | 0 |\n",
       "| Ecig | 1 | 0 |\n",
       "| NS | 0 | 1 |\n",
       "\n"
      ],
      "text/plain": [
       "     Ecig NS\n",
       "CS   0    0 \n",
       "Ecig 1    0 \n",
       "NS   0    1 "
      ]
     },
     "metadata": {},
     "output_type": "display_data"
    }
   ],
   "source": [
    "#now I can run the anova comparing each group to one another within each cluster\n",
    "#contrasts show what compartments are being compared in anova\n",
    "#these comparisons aren't what we want so I changed them in the function below\n",
    "contrasts(eigen_NLF_scaled$Group)"
   ]
  },
  {
   "cell_type": "markdown",
   "metadata": {},
   "source": [
    "                 Table of Contrasts\n",
    ">                   NS    | CS  |  Ecig  |  Sum\n",
    ">     Contrast 1 |  -1    |  1  |   0    |   0\n",
    ">     Contrast 2 |  -1    |  0  |   1    |   0\n",
    "\n",
    "> - Contrast 1: compares NS to CS\n",
    "> - Contrast 2: compares NS to Ecig"
   ]
  },
  {
   "cell_type": "code",
   "execution_count": 15,
   "metadata": {},
   "outputs": [],
   "source": [
    "get_anova1 = function(scaled_df){\n",
    "    contrasts(scaled_df$Group) = cbind(c(-1,1,0),c(-1,0,1)) #meaning is specified above\n",
    "    anova = aov(ClusterA~Group, data = scaled_df)\n",
    "    return(anova)\n",
    "}\n",
    "get_anova2 = function(scaled_df){\n",
    "    contrasts(scaled_df$Group) = cbind(c(-1,1,0),c(-1,0,1)) #meaning is specified above\n",
    "    anova = aov(ClusterB~Group, data = scaled_df)\n",
    "    return(anova)\n",
    "}\n",
    "\n",
    "get_anova3 = function(scaled_df){\n",
    "    contrasts(scaled_df$Group) = cbind(c(-1,1,0),c(-1,0,1)) #meaning is specified above\n",
    "    anova = aov(ClusterC~Group, data = scaled_df)\n",
    "    return(anova)\n",
    "}\n",
    "\n",
    "\n",
    "#calling fn\n",
    "NLF_ClusterA_anova = get_anova1(eigen_NLF_scaled)\n",
    "NLF_ClusterB_anova = get_anova2(eigen_NLF_scaled)\n",
    "NLF_ClusterC_anova = get_anova3(eigen_NLF_scaled)\n",
    "NELF_ClusterA_anova = get_anova1(eigen_NELF_scaled)\n",
    "NELF_ClusterB_anova = get_anova2(eigen_NELF_scaled)\n",
    "NELF_ClusterC_anova = get_anova3(eigen_NELF_scaled)\n",
    "Sputum_ClusterA_anova = get_anova1(eigen_Sputum_scaled)\n",
    "Sputum_ClusterB_anova = get_anova2(eigen_Sputum_scaled)\n",
    "Sputum_ClusterC_anova = get_anova3(eigen_Sputum_scaled)\n",
    "Serum_ClusterA_anova = get_anova1(eigen_Serum_scaled)\n",
    "Serum_ClusterB_anova = get_anova2(eigen_Serum_scaled)\n",
    "Serum_ClusterC_anova = get_anova3(eigen_Serum_scaled)"
   ]
  },
  {
   "cell_type": "markdown",
   "metadata": {},
   "source": [
    "# ANCOVA"
   ]
  },
  {
   "cell_type": "code",
   "execution_count": 16,
   "metadata": {},
   "outputs": [],
   "source": [
    "#controlling for age\n",
    "get_ancova_age1 = function(scaled_df){\n",
    "    contrasts(scaled_df$Group) = cbind(c(-1,1,0),c(-1,0,1))#meaning is explained above\n",
    "    ancova = aov(ClusterA~Age+Group, data = scaled_df)\n",
    "    return(ancova)\n",
    "}\n",
    "get_ancova_age2 = function(scaled_df){\n",
    "    contrasts(scaled_df$Group) = cbind(c(-1,1,0),c(-1,0,1)) #meaning is explained above\n",
    "    ancova = aov(ClusterB~Age+Group, data = scaled_df)\n",
    "    return(ancova)\n",
    "}\n",
    "get_ancova_age3 = function(scaled_df){\n",
    "    contrasts(scaled_df$Group) = cbind(c(-1,1,0),c(-1,0,1)) #meaning is explained above\n",
    "    ancova = aov(ClusterC~Age+Group, data = scaled_df)\n",
    "    return(ancova)\n",
    "}\n",
    "\n",
    "#calling fn\n",
    "NLF_ClusterA_ancova_age = get_ancova_age1(eigen_NLF_scaled)\n",
    "NLF_ClusterB_ancova_age = get_ancova_age2(eigen_NLF_scaled)\n",
    "NLF_ClusterC_ancova_age = get_ancova_age3(eigen_NLF_scaled)\n",
    "NELF_ClusterA_ancova_age = get_ancova_age1(eigen_NELF_scaled)\n",
    "NELF_ClusterB_ancova_age = get_ancova_age2(eigen_NELF_scaled)\n",
    "NELF_ClusterC_ancova_age = get_ancova_age3(eigen_NELF_scaled)\n",
    "Sputum_ClusterA_ancova_age = get_ancova_age1(eigen_Sputum_scaled)\n",
    "Sputum_ClusterB_ancova_age = get_ancova_age2(eigen_Sputum_scaled)\n",
    "Sputum_ClusterC_ancova_age = get_ancova_age3(eigen_Sputum_scaled)\n",
    "Serum_ClusterA_ancova_age = get_ancova_age1(eigen_Serum_scaled)\n",
    "Serum_ClusterB_ancova_age = get_ancova_age2(eigen_Serum_scaled)\n",
    "Serum_ClusterC_ancova_age = get_ancova_age3(eigen_Serum_scaled)"
   ]
  },
  {
   "cell_type": "markdown",
   "metadata": {},
   "source": [
    "# ANOVA/ANCOVA Tables"
   ]
  },
  {
   "cell_type": "code",
   "execution_count": 17,
   "metadata": {},
   "outputs": [],
   "source": [
    "extract_values = function(anova_results){\n",
    "    #extracting f and p values from the anova to be put into a table\n",
    "    #cluster_summary = summary(anova_results)[[1]][1, 2:5] #f value, pvalue\n",
    "    anova_type3 = Anova(anova_results, type = 'III')\n",
    "    cluster_summary = anova_type3[2,3:4]\n",
    "    f_value = cluster_summary$`F value`\n",
    "    p_value = cluster_summary$`Pr(>F)`\n",
    "    \n",
    "    cluster_anova_values = c(f_value,p_value)\n",
    "    return(cluster_anova_values)\n",
    "}\n",
    "\n",
    "#anova\n",
    "NLF_ClusterA_anova_values = extract_values(NLF_ClusterA_anova)\n",
    "NLF_ClusterB_anova_values = extract_values(NLF_ClusterB_anova)\n",
    "NLF_ClusterC_anova_values = extract_values(NLF_ClusterC_anova)\n",
    "NELF_ClusterA_anova_values = extract_values(NELF_ClusterA_anova)\n",
    "NELF_ClusterB_anova_values = extract_values(NELF_ClusterB_anova)\n",
    "NELF_ClusterC_anova_values = extract_values(NELF_ClusterC_anova)\n",
    "Sputum_ClusterA_anova_values = extract_values(Sputum_ClusterA_anova)\n",
    "Sputum_ClusterB_anova_values = extract_values(Sputum_ClusterB_anova)\n",
    "Sputum_ClusterC_anova_values = extract_values(Sputum_ClusterC_anova)\n",
    "Serum_ClusterA_anova_values = extract_values(Serum_ClusterA_anova)\n",
    "Serum_ClusterB_anova_values = extract_values(Serum_ClusterB_anova)\n",
    "Serum_ClusterC_anova_values = extract_values(Serum_ClusterC_anova)"
   ]
  },
  {
   "cell_type": "code",
   "execution_count": 18,
   "metadata": {},
   "outputs": [],
   "source": [
    "extract_values_ancova = function(anova_results){\n",
    "    #extracting f and p values from the anova to be put into a table\n",
    "    #cluster_summary = summary(anova_results)[[1]][1, 2:5] #f value, pvalue\n",
    "    anova_type3 = Anova(anova_results, type = 'III')\n",
    "    cluster_summary = anova_type3[3,3:4]\n",
    "    f_value = cluster_summary$`F value`\n",
    "    p_value = cluster_summary$`Pr(>F)`\n",
    "    \n",
    "    cluster_anova_values = c(f_value,p_value)\n",
    "    return(cluster_anova_values)\n",
    "}\n",
    "#ancova\n",
    "NLF_ClusterA_ancova_age_values = extract_values_ancova(NLF_ClusterA_ancova_age)\n",
    "NLF_ClusterB_ancova_age_values = extract_values_ancova(NLF_ClusterB_ancova_age)\n",
    "NLF_ClusterC_ancova_age_values = extract_values_ancova(NLF_ClusterC_ancova_age)\n",
    "NELF_ClusterA_ancova_age_values = extract_values_ancova(NELF_ClusterA_ancova_age)\n",
    "NELF_ClusterB_ancova_age_values = extract_values_ancova(NELF_ClusterB_ancova_age)\n",
    "NELF_ClusterC_ancova_age_values = extract_values_ancova(NELF_ClusterC_ancova_age)\n",
    "Sputum_ClusterA_ancova_age_values = extract_values_ancova(Sputum_ClusterA_ancova_age)\n",
    "Sputum_ClusterB_ancova_age_values = extract_values_ancova(Sputum_ClusterB_ancova_age)\n",
    "Sputum_ClusterC_ancova_age_values = extract_values_ancova(Sputum_ClusterC_ancova_age)\n",
    "Serum_ClusterA_ancova_age_values = extract_values_ancova(Serum_ClusterA_ancova_age)\n",
    "Serum_ClusterB_ancova_age_values = extract_values_ancova(Serum_ClusterB_ancova_age)\n",
    "Serum_ClusterC_ancova_age_values = extract_values_ancova(Serum_ClusterC_ancova_age)"
   ]
  },
  {
   "cell_type": "code",
   "execution_count": 19,
   "metadata": {},
   "outputs": [],
   "source": [
    "table_summary = function(NLF_ClusterA, NLF_ClusterB, NLF_ClusterC, NELF_ClusterA, NELF_ClusterB, \n",
    "                         NELF_ClusterC, Sputum_ClusterA, Sputum_ClusterB, Sputum_ClusterC, Serum_ClusterA, \n",
    "                         Serum_ClusterB, Serum_ClusterC){\n",
    "    #comment\n",
    "    table_initial = rbind(NLF_ClusterA, NLF_ClusterB, NLF_ClusterC, NELF_ClusterA, NELF_ClusterB, \n",
    "                         NELF_ClusterC, Sputum_ClusterA, Sputum_ClusterB, Sputum_ClusterC, Serum_ClusterA, \n",
    "                         Serum_ClusterB, Serum_ClusterC)\n",
    "    \n",
    "    colnames(table_initial) = c('F Value','p value')\n",
    "    return(table_initial)\n",
    "}\n",
    "\n",
    "#calling function\n",
    "anova_table = table_summary(NLF_ClusterA_anova_values, NLF_ClusterB_anova_values, NLF_ClusterC_anova_values, \n",
    "                            NELF_ClusterA_anova_values, NELF_ClusterB_anova_values, NELF_ClusterC_anova_values, \n",
    "                            Sputum_ClusterA_anova_values, Sputum_ClusterB_anova_values, Sputum_ClusterC_anova_values, \n",
    "                            Serum_ClusterA_anova_values, Serum_ClusterB_anova_values, Serum_ClusterC_anova_values)\n",
    "ancova_age_table = table_summary(NLF_ClusterA_ancova_age_values, NLF_ClusterB_ancova_age_values, \n",
    "                                 NLF_ClusterC_ancova_age_values, NELF_ClusterA_ancova_age_values, \n",
    "                                 NELF_ClusterB_ancova_age_values, NELF_ClusterC_ancova_age_values, \n",
    "                                 Sputum_ClusterA_ancova_age_values, Sputum_ClusterB_ancova_age_values, \n",
    "                                 Sputum_ClusterC_ancova_age_values, Serum_ClusterA_ancova_age_values, \n",
    "                                 Serum_ClusterB_ancova_age_values, Serum_ClusterC_ancova_age_values)\n",
    "allresults = cbind(anova_table, ancova_age_table)"
   ]
  },
  {
   "cell_type": "code",
   "execution_count": 20,
   "metadata": {},
   "outputs": [
    {
     "data": {
      "text/html": [
       "<table class=\"dataframe\">\n",
       "<caption>A matrix: 12 × 6 of type dbl</caption>\n",
       "<thead>\n",
       "\t<tr><th></th><th scope=col>F Value ANOVA</th><th scope=col>p value</th><th scope=col>P Adj</th><th scope=col>F Value ANCOVA</th><th scope=col>p value</th><th scope=col>P Adj</th></tr>\n",
       "</thead>\n",
       "<tbody>\n",
       "\t<tr><th scope=row>NLF_ClusterA</th><td> 72.51468509</td><td>3.432796e-14</td><td>2.059678e-13</td><td> 62.76106384</td><td>4.614011e-13</td><td>1.845604e-12</td></tr>\n",
       "\t<tr><th scope=row>NLF_ClusterB</th><td>168.17761663</td><td>1.732552e-20</td><td>2.079063e-19</td><td>157.98521729</td><td>1.030199e-19</td><td>1.236239e-18</td></tr>\n",
       "\t<tr><th scope=row>NLF_ClusterC</th><td>  0.73454925</td><td>4.859277e-01</td><td>7.288916e-01</td><td>  0.49170560</td><td>6.152304e-01</td><td>7.932618e-01</td></tr>\n",
       "\t<tr><th scope=row>NELF_ClusterA</th><td>  0.16686923</td><td>8.468821e-01</td><td>9.238714e-01</td><td>  0.06418137</td><td>9.379313e-01</td><td>9.880817e-01</td></tr>\n",
       "\t<tr><th scope=row>NELF_ClusterB</th><td>  1.47912986</td><td>2.397392e-01</td><td>4.794783e-01</td><td>  1.53527232</td><td>2.278204e-01</td><td>3.905492e-01</td></tr>\n",
       "\t<tr><th scope=row>NELF_ClusterC</th><td>  0.01492165</td><td>9.851945e-01</td><td>9.851945e-01</td><td>  0.01199354</td><td>9.880817e-01</td><td>9.880817e-01</td></tr>\n",
       "\t<tr><th scope=row>Sputum_ClusterA</th><td> 13.29176127</td><td>3.550849e-05</td><td>8.522037e-05</td><td> 15.21995828</td><td>1.215691e-05</td><td>2.917658e-05</td></tr>\n",
       "\t<tr><th scope=row>Sputum_ClusterB</th><td> 64.62740196</td><td>2.111212e-13</td><td>8.444849e-13</td><td> 62.86182815</td><td>4.503080e-13</td><td>1.845604e-12</td></tr>\n",
       "\t<tr><th scope=row>Sputum_ClusterC</th><td>  0.43627681</td><td>6.494046e-01</td><td>8.658729e-01</td><td>  0.67679825</td><td>5.139657e-01</td><td>7.709485e-01</td></tr>\n",
       "\t<tr><th scope=row>Serum_ClusterA</th><td> 23.02082761</td><td>1.984553e-07</td><td>5.953659e-07</td><td> 21.24684864</td><td>5.161601e-07</td><td>1.548480e-06</td></tr>\n",
       "\t<tr><th scope=row>Serum_ClusterB</th><td>  1.17709016</td><td>3.183714e-01</td><td>5.457795e-01</td><td>  2.29842929</td><td>1.135310e-01</td><td>2.270620e-01</td></tr>\n",
       "\t<tr><th scope=row>Serum_ClusterC</th><td>  0.21282592</td><td>8.091842e-01</td><td>9.238714e-01</td><td>  0.41823650</td><td>6.610515e-01</td><td>7.932618e-01</td></tr>\n",
       "</tbody>\n",
       "</table>\n"
      ],
      "text/latex": [
       "A matrix: 12 × 6 of type dbl\n",
       "\\begin{tabular}{r|llllll}\n",
       "  & F Value ANOVA & p value & P Adj & F Value ANCOVA & p value & P Adj\\\\\n",
       "\\hline\n",
       "\tNLF\\_ClusterA &  72.51468509 & 3.432796e-14 & 2.059678e-13 &  62.76106384 & 4.614011e-13 & 1.845604e-12\\\\\n",
       "\tNLF\\_ClusterB & 168.17761663 & 1.732552e-20 & 2.079063e-19 & 157.98521729 & 1.030199e-19 & 1.236239e-18\\\\\n",
       "\tNLF\\_ClusterC &   0.73454925 & 4.859277e-01 & 7.288916e-01 &   0.49170560 & 6.152304e-01 & 7.932618e-01\\\\\n",
       "\tNELF\\_ClusterA &   0.16686923 & 8.468821e-01 & 9.238714e-01 &   0.06418137 & 9.379313e-01 & 9.880817e-01\\\\\n",
       "\tNELF\\_ClusterB &   1.47912986 & 2.397392e-01 & 4.794783e-01 &   1.53527232 & 2.278204e-01 & 3.905492e-01\\\\\n",
       "\tNELF\\_ClusterC &   0.01492165 & 9.851945e-01 & 9.851945e-01 &   0.01199354 & 9.880817e-01 & 9.880817e-01\\\\\n",
       "\tSputum\\_ClusterA &  13.29176127 & 3.550849e-05 & 8.522037e-05 &  15.21995828 & 1.215691e-05 & 2.917658e-05\\\\\n",
       "\tSputum\\_ClusterB &  64.62740196 & 2.111212e-13 & 8.444849e-13 &  62.86182815 & 4.503080e-13 & 1.845604e-12\\\\\n",
       "\tSputum\\_ClusterC &   0.43627681 & 6.494046e-01 & 8.658729e-01 &   0.67679825 & 5.139657e-01 & 7.709485e-01\\\\\n",
       "\tSerum\\_ClusterA &  23.02082761 & 1.984553e-07 & 5.953659e-07 &  21.24684864 & 5.161601e-07 & 1.548480e-06\\\\\n",
       "\tSerum\\_ClusterB &   1.17709016 & 3.183714e-01 & 5.457795e-01 &   2.29842929 & 1.135310e-01 & 2.270620e-01\\\\\n",
       "\tSerum\\_ClusterC &   0.21282592 & 8.091842e-01 & 9.238714e-01 &   0.41823650 & 6.610515e-01 & 7.932618e-01\\\\\n",
       "\\end{tabular}\n"
      ],
      "text/markdown": [
       "\n",
       "A matrix: 12 × 6 of type dbl\n",
       "\n",
       "| <!--/--> | F Value ANOVA | p value | P Adj | F Value ANCOVA | p value | P Adj |\n",
       "|---|---|---|---|---|---|---|\n",
       "| NLF_ClusterA |  72.51468509 | 3.432796e-14 | 2.059678e-13 |  62.76106384 | 4.614011e-13 | 1.845604e-12 |\n",
       "| NLF_ClusterB | 168.17761663 | 1.732552e-20 | 2.079063e-19 | 157.98521729 | 1.030199e-19 | 1.236239e-18 |\n",
       "| NLF_ClusterC |   0.73454925 | 4.859277e-01 | 7.288916e-01 |   0.49170560 | 6.152304e-01 | 7.932618e-01 |\n",
       "| NELF_ClusterA |   0.16686923 | 8.468821e-01 | 9.238714e-01 |   0.06418137 | 9.379313e-01 | 9.880817e-01 |\n",
       "| NELF_ClusterB |   1.47912986 | 2.397392e-01 | 4.794783e-01 |   1.53527232 | 2.278204e-01 | 3.905492e-01 |\n",
       "| NELF_ClusterC |   0.01492165 | 9.851945e-01 | 9.851945e-01 |   0.01199354 | 9.880817e-01 | 9.880817e-01 |\n",
       "| Sputum_ClusterA |  13.29176127 | 3.550849e-05 | 8.522037e-05 |  15.21995828 | 1.215691e-05 | 2.917658e-05 |\n",
       "| Sputum_ClusterB |  64.62740196 | 2.111212e-13 | 8.444849e-13 |  62.86182815 | 4.503080e-13 | 1.845604e-12 |\n",
       "| Sputum_ClusterC |   0.43627681 | 6.494046e-01 | 8.658729e-01 |   0.67679825 | 5.139657e-01 | 7.709485e-01 |\n",
       "| Serum_ClusterA |  23.02082761 | 1.984553e-07 | 5.953659e-07 |  21.24684864 | 5.161601e-07 | 1.548480e-06 |\n",
       "| Serum_ClusterB |   1.17709016 | 3.183714e-01 | 5.457795e-01 |   2.29842929 | 1.135310e-01 | 2.270620e-01 |\n",
       "| Serum_ClusterC |   0.21282592 | 8.091842e-01 | 9.238714e-01 |   0.41823650 | 6.610515e-01 | 7.932618e-01 |\n",
       "\n"
      ],
      "text/plain": [
       "                F Value ANOVA p value      P Adj        F Value ANCOVA\n",
       "NLF_ClusterA     72.51468509  3.432796e-14 2.059678e-13  62.76106384  \n",
       "NLF_ClusterB    168.17761663  1.732552e-20 2.079063e-19 157.98521729  \n",
       "NLF_ClusterC      0.73454925  4.859277e-01 7.288916e-01   0.49170560  \n",
       "NELF_ClusterA     0.16686923  8.468821e-01 9.238714e-01   0.06418137  \n",
       "NELF_ClusterB     1.47912986  2.397392e-01 4.794783e-01   1.53527232  \n",
       "NELF_ClusterC     0.01492165  9.851945e-01 9.851945e-01   0.01199354  \n",
       "Sputum_ClusterA  13.29176127  3.550849e-05 8.522037e-05  15.21995828  \n",
       "Sputum_ClusterB  64.62740196  2.111212e-13 8.444849e-13  62.86182815  \n",
       "Sputum_ClusterC   0.43627681  6.494046e-01 8.658729e-01   0.67679825  \n",
       "Serum_ClusterA   23.02082761  1.984553e-07 5.953659e-07  21.24684864  \n",
       "Serum_ClusterB    1.17709016  3.183714e-01 5.457795e-01   2.29842929  \n",
       "Serum_ClusterC    0.21282592  8.091842e-01 9.238714e-01   0.41823650  \n",
       "                p value      P Adj       \n",
       "NLF_ClusterA    4.614011e-13 1.845604e-12\n",
       "NLF_ClusterB    1.030199e-19 1.236239e-18\n",
       "NLF_ClusterC    6.152304e-01 7.932618e-01\n",
       "NELF_ClusterA   9.379313e-01 9.880817e-01\n",
       "NELF_ClusterB   2.278204e-01 3.905492e-01\n",
       "NELF_ClusterC   9.880817e-01 9.880817e-01\n",
       "Sputum_ClusterA 1.215691e-05 2.917658e-05\n",
       "Sputum_ClusterB 4.503080e-13 1.845604e-12\n",
       "Sputum_ClusterC 5.139657e-01 7.709485e-01\n",
       "Serum_ClusterA  5.161601e-07 1.548480e-06\n",
       "Serum_ClusterB  1.135310e-01 2.270620e-01\n",
       "Serum_ClusterC  6.610515e-01 7.932618e-01"
      ]
     },
     "metadata": {},
     "output_type": "display_data"
    }
   ],
   "source": [
    "col_names = c('F Value ANOVA','p value', 'P Adj', 'F Value ANCOVA','p value', 'P Adj')\n",
    "final_table_summary = function(table, names_vector){\n",
    "    #going back to calculate padj values\n",
    "    padj = apply(cbind(table[,2],table[,4]), 2, p.adjust, method = \"fdr\") #the 2 applies function down the col\n",
    "    \n",
    "    #inserting these back into the OG df to export all values\n",
    "    final_table = cbind(table[,1], table[,2], padj[,1], table[,3], table[,4],padj[,2])\n",
    "    colnames(final_table) = names_vector\n",
    "    return(final_table)\n",
    "}\n",
    "#calling fn\n",
    "clustered_anova_ancova = final_table_summary(allresults, col_names)\n",
    "clustered_anova_ancova"
   ]
  },
  {
   "cell_type": "code",
   "execution_count": 21,
   "metadata": {},
   "outputs": [],
   "source": [
    "#exporting data\n",
    "write.csv(clustered_anova_ancova, paste0(Output,\"/\", cur_date, \"_Clustered_ANOVA_ANCOVA.csv\"), row.names= TRUE)"
   ]
  }
 ],
 "metadata": {
  "kernelspec": {
   "display_name": "R",
   "language": "R",
   "name": "ir"
  },
  "language_info": {
   "codemirror_mode": "r",
   "file_extension": ".r",
   "mimetype": "text/x-r-source",
   "name": "R",
   "pygments_lexer": "r",
   "version": "3.6.3"
  }
 },
 "nbformat": 4,
 "nbformat_minor": 4
}

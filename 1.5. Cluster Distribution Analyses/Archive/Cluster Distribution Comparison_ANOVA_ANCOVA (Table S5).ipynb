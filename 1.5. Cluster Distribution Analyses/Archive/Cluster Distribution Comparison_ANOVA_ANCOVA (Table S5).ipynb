{
 "cells": [
  {
   "cell_type": "code",
   "execution_count": 1,
   "metadata": {},
   "outputs": [
    {
     "name": "stderr",
     "output_type": "stream",
     "text": [
      "Loading required package: ggplot2\n",
      "\n",
      "Welcome! Want to learn more? See two factoextra-related books at https://goo.gl/ve3WBa\n",
      "\n",
      "Loading required package: randomForest\n",
      "\n",
      "randomForest 4.6-14\n",
      "\n",
      "Type rfNews() to see new features/changes/bug fixes.\n",
      "\n",
      "\n",
      "Attaching package: ‘randomForest’\n",
      "\n",
      "\n",
      "The following object is masked from ‘package:ggplot2’:\n",
      "\n",
      "    margin\n",
      "\n",
      "\n",
      "Loading required package: foreach\n",
      "\n",
      "Loading required package: itertools\n",
      "\n",
      "Loading required package: iterators\n",
      "\n",
      "── \u001b[1mAttaching packages\u001b[22m ─────────────────────────────────────── tidyverse 1.3.0 ──\n",
      "\n",
      "\u001b[32m✔\u001b[39m \u001b[34mtibble \u001b[39m 3.0.3     \u001b[32m✔\u001b[39m \u001b[34mdplyr  \u001b[39m 1.0.2\n",
      "\u001b[32m✔\u001b[39m \u001b[34mtidyr  \u001b[39m 1.1.2     \u001b[32m✔\u001b[39m \u001b[34mstringr\u001b[39m 1.4.0\n",
      "\u001b[32m✔\u001b[39m \u001b[34mreadr  \u001b[39m 1.3.1     \u001b[32m✔\u001b[39m \u001b[34mforcats\u001b[39m 0.5.0\n",
      "\u001b[32m✔\u001b[39m \u001b[34mpurrr  \u001b[39m 0.3.4     \n",
      "\n",
      "── \u001b[1mConflicts\u001b[22m ────────────────────────────────────────── tidyverse_conflicts() ──\n",
      "\u001b[31m✖\u001b[39m \u001b[34mpurrr\u001b[39m::\u001b[32maccumulate()\u001b[39m    masks \u001b[34mforeach\u001b[39m::accumulate()\n",
      "\u001b[31m✖\u001b[39m \u001b[34mdplyr\u001b[39m::\u001b[32mcombine()\u001b[39m       masks \u001b[34mrandomForest\u001b[39m::combine()\n",
      "\u001b[31m✖\u001b[39m \u001b[34mdplyr\u001b[39m::\u001b[32mfilter()\u001b[39m        masks \u001b[34mstats\u001b[39m::filter()\n",
      "\u001b[31m✖\u001b[39m \u001b[34mdplyr\u001b[39m::\u001b[32mlag()\u001b[39m           masks \u001b[34mstats\u001b[39m::lag()\n",
      "\u001b[31m✖\u001b[39m \u001b[34mrandomForest\u001b[39m::\u001b[32mmargin()\u001b[39m masks \u001b[34mggplot2\u001b[39m::margin()\n",
      "\u001b[31m✖\u001b[39m \u001b[34mpurrr\u001b[39m::\u001b[32mwhen()\u001b[39m          masks \u001b[34mforeach\u001b[39m::when()\n",
      "\n",
      "\n",
      "Attaching package: ‘janitor’\n",
      "\n",
      "\n",
      "The following objects are masked from ‘package:stats’:\n",
      "\n",
      "    chisq.test, fisher.test\n",
      "\n",
      "\n",
      "\n",
      "Attaching package: ‘reshape2’\n",
      "\n",
      "\n",
      "The following object is masked from ‘package:tidyr’:\n",
      "\n",
      "    smiths\n",
      "\n",
      "\n",
      "Loading required package: carData\n",
      "\n",
      "\n",
      "Attaching package: ‘car’\n",
      "\n",
      "\n",
      "The following object is masked from ‘package:dplyr’:\n",
      "\n",
      "    recode\n",
      "\n",
      "\n",
      "The following object is masked from ‘package:purrr’:\n",
      "\n",
      "    some\n",
      "\n",
      "\n"
     ]
    }
   ],
   "source": [
    "setwd(\"/Users/alexis/IEHS Dropbox/Rager Lab/Alexis_Payton/1_Compartment_Analysis/Expt1.3_Cluster Distribution Analyses/Input\")\n",
    "Output = ('/Users/alexis/IEHS Dropbox/Rager Lab/Alexis_Payton/1_Compartment_Analysis/Expt1.3_Cluster Distribution Analyses/Output')\n",
    "cur_date = \"112720\"\n",
    "\n",
    "library(\"readxl\")\n",
    "library(factoextra)\n",
    "library(missForest)\n",
    "#library(plyr) #this must be loaded before tidyverse\n",
    "library(tidyverse)\n",
    "library(ggpubr)\n",
    "library(janitor)\n",
    "library(reshape2)\n",
    "library(car) #package necessary to run anova and specify type III errors\n",
    "\n",
    "#subject characteristics\n",
    "subjectinfo <-  read.csv(\"SubjectInfo_102920.csv\")"
   ]
  },
  {
   "cell_type": "markdown",
   "metadata": {},
   "source": [
    "First obtaining the eigencytokines."
   ]
  },
  {
   "cell_type": "code",
   "execution_count": 2,
   "metadata": {},
   "outputs": [],
   "source": [
    "#### Recoding subject characteristic values  \n",
    "subjectinfo$Sex <- ifelse(subjectinfo$Sex==\"M\", 1, 0) #coding Males as 1, Females as 0\n",
    "subjectinfo$Ethnicity <- ifelse(subjectinfo$Ethnicity==\"NH\", 0, 1) #coding NH as 0, H as 1\n",
    "\n",
    "#make categorical variables factors \n",
    "subjectinfo$Race <- factor(subjectinfo$Race, levels=c(\"W\", \"AA\", \"As\", \"O\"))\n",
    "subjectinfo$Group <- factor(subjectinfo$Group, levels=c(\"NS\", \"CS\", \"Ecig\"))"
   ]
  },
  {
   "cell_type": "code",
   "execution_count": 3,
   "metadata": {},
   "outputs": [
    {
     "name": "stderr",
     "output_type": "stream",
     "text": [
      "Warning message in row_to_names(., row_number = 1):\n",
      "“Row 1 does not provide unique names. Consider running clean_names() after row_to_names().”\n",
      "Warning message:\n",
      "“The `.data` argument of `add_column()` must have unique names as of tibble 3.0.0.\n",
      "Use `.name_repair = \"minimal\"`.\n",
      "\u001b[90mThis warning is displayed once every 8 hours.\u001b[39m\n",
      "\u001b[90mCall `lifecycle::last_warnings()` to see where this warning was generated.\u001b[39m”\n"
     ]
    }
   ],
   "source": [
    "#upload cytokine data for each compartment \n",
    "ELF_cyto <- read.csv(\"ELF_NonNorm_110220.csv\")\n",
    "NLF_cyto <- read.csv(\"NLF_NonNorm_110220.csv\")\n",
    "Serum_cyto <- read.csv(\"Serum_NonNorm_110220.csv\")\n",
    "Sputum_cyto <- read.csv(\"Sputum_NonNorm_110220.csv\")\n",
    "\n",
    "#transpose cytokine data for each compartment\n",
    "ELF_cyto <- as.data.frame(t(ELF_cyto)) %>% \n",
    "  row_to_names(row_number = 1)\n",
    "NLF_cyto <- as.data.frame(t(NLF_cyto)) %>% \n",
    "  row_to_names(row_number = 1)\n",
    "Serum_cyto <- as.data.frame(t(Serum_cyto)) %>% \n",
    "  row_to_names(row_number = 1)\n",
    "Sputum_cyto <- as.data.frame(t(Sputum_cyto)) %>% \n",
    "  row_to_names(row_number = 1)\n",
    "\n",
    "#cluster assignments for each compartment \n",
    "ELF_clus <- read.csv(\"ELF_cluster_assignments.csv\")\n",
    "NLF_clus <- read.csv(\"NLF_cluster_assignments.csv\")\n",
    "Serum_clus <- read.csv(\"Serum_cluster_assignments.csv\")\n",
    "Sputum_clus <- read.csv(\"Sputum_cluster_assignments.csv\")\n",
    "\n",
    "#renaming first column, grouping and splitting by \"Cluster\" column\n",
    "ELF_clus <- ELF_clus %>% \n",
    "  dplyr::rename(Cytokine = X) %>% \n",
    "  group_by(Cluster) %>% \n",
    "  group_split\n",
    "NLF_clus <- NLF_clus %>% \n",
    "  dplyr::rename(Cytokine = X) %>% \n",
    "  group_by(Cluster) %>% \n",
    "  group_split\n",
    "Serum_clus <- Serum_clus %>% \n",
    "  dplyr::rename(Cytokine = X) %>% \n",
    "  group_by(Cluster) %>% \n",
    "  group_split\n",
    "Sputum_clus <- Sputum_clus %>% \n",
    "  dplyr::rename(Cytokine = X) %>% \n",
    "  group_by(Cluster) %>% \n",
    "  group_split\n",
    "\n",
    "#making dfs for each cluster for PCA analysis \n",
    "ELF_1 <- ELF_clus[[1]]\n",
    "ELF_2 <- ELF_clus[[2]]\n",
    "ELF_3 <- ELF_clus[[3]]\n",
    "\n",
    "NLF_1 <- NLF_clus[[1]]\n",
    "NLF_2 <- NLF_clus[[2]]\n",
    "NLF_3 <- NLF_clus[[3]]\n",
    "\n",
    "Serum_1 <- Serum_clus[[1]]\n",
    "Serum_2 <- Serum_clus[[2]]\n",
    "Serum_3 <- Serum_clus[[3]]\n",
    "\n",
    "Sputum_1 <- Sputum_clus[[1]]\n",
    "Sputum_2 <- Sputum_clus[[2]]\n",
    "Sputum_3 <- Sputum_clus[[3]]\n",
    "\n",
    "#making df with subjects' cytokine concentration data for each cluster \n",
    "ELF_1 <- ELF_cyto %>% \n",
    "  rownames_to_column(\"Cytokine\") %>% \n",
    "  filter(Cytokine %in% ELF_1$Cytokine) %>% \n",
    "  column_to_rownames(var=\"Cytokine\")\n",
    "ELF_2 <- ELF_cyto %>% \n",
    "  rownames_to_column(\"Cytokine\") %>% \n",
    "  filter(Cytokine %in% ELF_2$Cytokine) %>% \n",
    "  column_to_rownames(var=\"Cytokine\")\n",
    "ELF_3 <- ELF_cyto %>% \n",
    "  rownames_to_column(\"Cytokine\") %>% \n",
    "  filter(Cytokine %in% ELF_3$Cytokine) %>% \n",
    "  column_to_rownames(var=\"Cytokine\")\n",
    "\n",
    "NLF_1 <- NLF_cyto %>% \n",
    "  rownames_to_column(\"Cytokine\") %>% \n",
    "  filter(Cytokine %in% NLF_1$Cytokine) %>% \n",
    "  column_to_rownames(var=\"Cytokine\")\n",
    "NLF_2 <- NLF_cyto %>% \n",
    "  rownames_to_column(\"Cytokine\") %>% \n",
    "  filter(Cytokine %in% NLF_2$Cytokine) %>% \n",
    "  column_to_rownames(var=\"Cytokine\")\n",
    "NLF_3 <- NLF_cyto %>% \n",
    "  rownames_to_column(\"Cytokine\") %>% \n",
    "  filter(Cytokine %in% NLF_3$Cytokine) %>% \n",
    "  column_to_rownames(var=\"Cytokine\")\n",
    "\n",
    "Serum_1 <- Serum_cyto %>% \n",
    "  rownames_to_column(\"Cytokine\") %>% \n",
    "  filter(Cytokine %in% Serum_1$Cytokine) %>% \n",
    "  column_to_rownames(var=\"Cytokine\")\n",
    "Serum_2 <- Serum_cyto %>% \n",
    "  rownames_to_column(\"Cytokine\") %>% \n",
    "  filter(Cytokine %in% Serum_2$Cytokine) %>% \n",
    "  column_to_rownames(var=\"Cytokine\")\n",
    "Serum_3 <- Serum_cyto %>% \n",
    "  rownames_to_column(\"Cytokine\") %>% \n",
    "  filter(Cytokine %in% Serum_3$Cytokine) %>% \n",
    "  column_to_rownames(var=\"Cytokine\")\n",
    "\n",
    "Sputum_1 <- Sputum_cyto %>% \n",
    "  rownames_to_column(\"Cytokine\") %>% \n",
    "  filter(Cytokine %in% Sputum_1$Cytokine) %>% \n",
    "  column_to_rownames(var=\"Cytokine\")\n",
    "Sputum_2 <- Sputum_cyto %>% \n",
    "  rownames_to_column(\"Cytokine\") %>% \n",
    "  filter(Cytokine %in% Sputum_2$Cytokine) %>% \n",
    "  column_to_rownames(var=\"Cytokine\")\n",
    "Sputum_3 <- Sputum_cyto %>% \n",
    "  rownames_to_column(\"Cytokine\") %>% \n",
    "  filter(Cytokine %in% Sputum_3$Cytokine) %>% \n",
    "  column_to_rownames(var=\"Cytokine\")\n",
    "\n",
    "#PCA on each cluster, eigenvectors are in rotation -- PROBLEM - for some reason had to convert everything to numeric  \n",
    "pca_ELF_1 <- ELF_1 %>% \n",
    "  lapply(as.numeric) %>% \n",
    "  as.data.frame() %>% \n",
    "  prcomp()\n",
    "pca_ELF_2 <- ELF_2 %>% \n",
    "  lapply(as.numeric) %>% \n",
    "  as.data.frame() %>% \n",
    "  prcomp()\n",
    "pca_ELF_3 <- ELF_3 %>% \n",
    "  lapply(as.numeric) %>% \n",
    "  as.data.frame() %>%   \n",
    "  prcomp()\n",
    "\n",
    "pca_NLF_1 <- NLF_1 %>% \n",
    "  lapply(as.numeric) %>% \n",
    "  as.data.frame() %>% \n",
    "  prcomp()\n",
    "pca_NLF_2 <- NLF_2 %>% \n",
    "  lapply(as.numeric) %>% \n",
    "  as.data.frame() %>% \n",
    "  prcomp()\n",
    "pca_NLF_3 <- NLF_3 %>% \n",
    "  lapply(as.numeric) %>% \n",
    "  as.data.frame() %>% \n",
    "  prcomp()\n",
    "\n",
    "pca_Serum_1 <- Serum_1 %>% \n",
    "  lapply(as.numeric) %>% \n",
    "  as.data.frame() %>% \n",
    "  prcomp()\n",
    "pca_Serum_2 <- Serum_2 %>% \n",
    "  lapply(as.numeric) %>% \n",
    "  as.data.frame() %>% \n",
    "  prcomp()\n",
    "pca_Serum_3 <- Serum_3 %>% \n",
    "  lapply(as.numeric) %>% \n",
    "  as.data.frame() %>% \n",
    "  prcomp()\n",
    "\n",
    "pca_Sputum_1 <- Sputum_1 %>% \n",
    "  lapply(as.numeric) %>% \n",
    "  as.data.frame() %>% \n",
    "  prcomp()\n",
    "pca_Sputum_2 <- Sputum_2 %>% \n",
    "  lapply(as.numeric) %>% \n",
    "  as.data.frame() %>% \n",
    "  prcomp()\n",
    "pca_Sputum_3 <- Sputum_3 %>% \n",
    "  lapply(as.numeric) %>% \n",
    "  as.data.frame() %>% \n",
    "  prcomp()\n",
    "\n",
    "#eigenvector dfs of first principal component \n",
    "eigencytokines_ELF_1 <- data.frame(pca_ELF_1$rotation[,\"PC1\"])\n",
    "  colnames(eigencytokines_ELF_1)[1] <- \"Cluster1\"\n",
    "eigencytokines_ELF_2 <- data.frame(pca_ELF_2$rotation[,\"PC1\"])\n",
    "  colnames(eigencytokines_ELF_2)[1] <- \"Cluster2\"\n",
    "eigencytokines_ELF_3 <- data.frame(pca_ELF_3$rotation[,\"PC1\"])\n",
    "  colnames(eigencytokines_ELF_3)[1] <- \"Cluster3\"\n",
    "\n",
    "eigencytokines_NLF_1 <- data.frame(pca_NLF_1$rotation[,\"PC1\"])\n",
    "  colnames(eigencytokines_NLF_1)[1] <- \"Cluster1\"\n",
    "eigencytokines_NLF_2 <- data.frame(pca_NLF_2$rotation[,\"PC1\"])\n",
    "  colnames(eigencytokines_NLF_2)[1] <- \"Cluster2\"\n",
    "eigencytokines_NLF_3 <- data.frame(pca_NLF_3$rotation[,\"PC1\"])\n",
    "  colnames(eigencytokines_NLF_3)[1] <- \"Cluster3\"\n",
    "  \n",
    "eigencytokines_Serum_1 <- data.frame(pca_Serum_1$rotation[,\"PC1\"])\n",
    "  colnames(eigencytokines_Serum_1)[1] <- \"Cluster1\"\n",
    "eigencytokines_Serum_2 <- data.frame(pca_Serum_2$rotation[,\"PC1\"])\n",
    "  colnames(eigencytokines_Serum_2)[1] <- \"Cluster2\"\n",
    "eigencytokines_Serum_3 <- data.frame(pca_Serum_3$rotation[,\"PC1\"])\n",
    "  colnames(eigencytokines_Serum_3)[1] <- \"Cluster3\"\n",
    "\n",
    "eigencytokines_Sputum_1 <- data.frame(pca_Sputum_1$rotation[,\"PC1\"])\n",
    "  colnames(eigencytokines_Sputum_1)[1] <- \"Cluster1\"\n",
    "eigencytokines_Sputum_2 <- data.frame(pca_Sputum_2$rotation[,\"PC1\"])\n",
    "  colnames(eigencytokines_Sputum_2)[1] <- \"Cluster2\"\n",
    "eigencytokines_Sputum_3 <- data.frame(pca_Sputum_3$rotation[,\"PC1\"])\n",
    "  colnames(eigencytokines_Sputum_3)[1] <- \"Cluster3\"\n",
    "  \n",
    "\n",
    "#collapse all eigencytokine dfs\n",
    "eigencytokines_ELF <- cbind(eigencytokines_ELF_1, eigencytokines_ELF_2, eigencytokines_ELF_3)\n",
    "eigencytokines_NLF <- cbind(eigencytokines_NLF_1, eigencytokines_NLF_2, eigencytokines_NLF_3)\n",
    "eigencytokines_Serum <- cbind(eigencytokines_Serum_1, eigencytokines_Serum_2, eigencytokines_Serum_3)\n",
    "eigencytokines_Sputum <- cbind(eigencytokines_Sputum_1, eigencytokines_Sputum_2, eigencytokines_Sputum_3)"
   ]
  },
  {
   "cell_type": "code",
   "execution_count": 4,
   "metadata": {},
   "outputs": [],
   "source": [
    "#first pseudo log2 transforming all values and then scaling all eigencytokine dfs\n",
    "eigencytokines_ELF_scaled <- as.data.frame(scale(log2(eigencytokines_ELF + 1)))\n",
    "eigencytokines_NLF_scaled <- as.data.frame(scale(log2(eigencytokines_NLF + 1)))\n",
    "eigencytokines_Serum_scaled <- as.data.frame(scale(log2(eigencytokines_Serum + 1)))\n",
    "eigencytokines_Sputum_scaled <- as.data.frame(scale(log2(eigencytokines_Sputum + 1)))"
   ]
  },
  {
   "cell_type": "code",
   "execution_count": 5,
   "metadata": {},
   "outputs": [
    {
     "data": {
      "text/html": [
       "<table>\n",
       "<caption>A data.frame: 6 × 3</caption>\n",
       "<thead>\n",
       "\t<tr><th></th><th scope=col>Cluster1</th><th scope=col>Cluster2</th><th scope=col>Cluster3</th></tr>\n",
       "\t<tr><th></th><th scope=col>&lt;dbl&gt;</th><th scope=col>&lt;dbl&gt;</th><th scope=col>&lt;dbl&gt;</th></tr>\n",
       "</thead>\n",
       "<tbody>\n",
       "\t<tr><th scope=row>CS_15</th><td> 0.612519662</td><td> 0.8639756</td><td>-0.2964233</td></tr>\n",
       "\t<tr><th scope=row>CS_16</th><td> 0.552006718</td><td>-1.2908904</td><td> 0.2030666</td></tr>\n",
       "\t<tr><th scope=row>CS_17</th><td>-0.305139341</td><td>-1.1524781</td><td> 0.3838104</td></tr>\n",
       "\t<tr><th scope=row>CS_18</th><td>-0.008338034</td><td> 0.6456049</td><td> 0.9183615</td></tr>\n",
       "\t<tr><th scope=row>CS_19</th><td> 1.222003189</td><td>-3.4347981</td><td> 0.2108666</td></tr>\n",
       "\t<tr><th scope=row>CS_20</th><td>-1.279548544</td><td>-0.1285845</td><td> 0.3417576</td></tr>\n",
       "</tbody>\n",
       "</table>\n"
      ],
      "text/latex": [
       "A data.frame: 6 × 3\n",
       "\\begin{tabular}{r|lll}\n",
       "  & Cluster1 & Cluster2 & Cluster3\\\\\n",
       "  & <dbl> & <dbl> & <dbl>\\\\\n",
       "\\hline\n",
       "\tCS\\_15 &  0.612519662 &  0.8639756 & -0.2964233\\\\\n",
       "\tCS\\_16 &  0.552006718 & -1.2908904 &  0.2030666\\\\\n",
       "\tCS\\_17 & -0.305139341 & -1.1524781 &  0.3838104\\\\\n",
       "\tCS\\_18 & -0.008338034 &  0.6456049 &  0.9183615\\\\\n",
       "\tCS\\_19 &  1.222003189 & -3.4347981 &  0.2108666\\\\\n",
       "\tCS\\_20 & -1.279548544 & -0.1285845 &  0.3417576\\\\\n",
       "\\end{tabular}\n"
      ],
      "text/markdown": [
       "\n",
       "A data.frame: 6 × 3\n",
       "\n",
       "| <!--/--> | Cluster1 &lt;dbl&gt; | Cluster2 &lt;dbl&gt; | Cluster3 &lt;dbl&gt; |\n",
       "|---|---|---|---|\n",
       "| CS_15 |  0.612519662 |  0.8639756 | -0.2964233 |\n",
       "| CS_16 |  0.552006718 | -1.2908904 |  0.2030666 |\n",
       "| CS_17 | -0.305139341 | -1.1524781 |  0.3838104 |\n",
       "| CS_18 | -0.008338034 |  0.6456049 |  0.9183615 |\n",
       "| CS_19 |  1.222003189 | -3.4347981 |  0.2108666 |\n",
       "| CS_20 | -1.279548544 | -0.1285845 |  0.3417576 |\n",
       "\n"
      ],
      "text/plain": [
       "      Cluster1     Cluster2   Cluster3  \n",
       "CS_15  0.612519662  0.8639756 -0.2964233\n",
       "CS_16  0.552006718 -1.2908904  0.2030666\n",
       "CS_17 -0.305139341 -1.1524781  0.3838104\n",
       "CS_18 -0.008338034  0.6456049  0.9183615\n",
       "CS_19  1.222003189 -3.4347981  0.2108666\n",
       "CS_20 -1.279548544 -0.1285845  0.3417576"
      ]
     },
     "metadata": {},
     "output_type": "display_data"
    }
   ],
   "source": [
    "head(eigencytokines_NLF_scaled)"
   ]
  },
  {
   "cell_type": "code",
   "execution_count": 6,
   "metadata": {},
   "outputs": [
    {
     "name": "stderr",
     "output_type": "stream",
     "text": [
      "Joining, by = \"SubjectID\"\n",
      "\n",
      "Joining, by = \"SubjectID\"\n",
      "\n",
      "Joining, by = \"SubjectID\"\n",
      "\n",
      "Joining, by = \"SubjectID\"\n",
      "\n"
     ]
    }
   ],
   "source": [
    "#adding a col to designate smoking status \n",
    "eigen_NLF_scaled = eigencytokines_NLF_scaled %>%\n",
    "    rownames_to_column(\"SubjectID\") %>%\n",
    "    inner_join(subjectinfo) %>%\n",
    "    select(SubjectID, Cluster1, Cluster2, Cluster3, Group, Age)\n",
    "eigen_ELF_scaled = eigencytokines_ELF_scaled %>%\n",
    "    rownames_to_column(\"SubjectID\") %>%\n",
    "    inner_join(subjectinfo) %>%\n",
    "    select(SubjectID, Cluster1, Cluster2, Cluster3, Group, Age)\n",
    "eigen_Sputum_scaled = eigencytokines_Sputum_scaled %>%\n",
    "    rownames_to_column(\"SubjectID\") %>%\n",
    "    inner_join(subjectinfo) %>%\n",
    "    select(SubjectID, Cluster1, Cluster2, Cluster3, Group, Age)\n",
    "eigen_Serum_scaled = eigencytokines_Serum_scaled %>%\n",
    "    rownames_to_column(\"SubjectID\") %>%\n",
    "    inner_join(subjectinfo) %>%\n",
    "    select(SubjectID, Cluster1, Cluster2, Cluster3, Group, Age)"
   ]
  },
  {
   "cell_type": "code",
   "execution_count": 7,
   "metadata": {},
   "outputs": [
    {
     "data": {
      "text/html": [
       "<table>\n",
       "<caption>A data.frame: 6 × 6</caption>\n",
       "<thead>\n",
       "\t<tr><th></th><th scope=col>SubjectID</th><th scope=col>Cluster1</th><th scope=col>Cluster2</th><th scope=col>Cluster3</th><th scope=col>Group</th><th scope=col>Age</th></tr>\n",
       "\t<tr><th></th><th scope=col>&lt;chr&gt;</th><th scope=col>&lt;dbl&gt;</th><th scope=col>&lt;dbl&gt;</th><th scope=col>&lt;dbl&gt;</th><th scope=col>&lt;fct&gt;</th><th scope=col>&lt;int&gt;</th></tr>\n",
       "</thead>\n",
       "<tbody>\n",
       "\t<tr><th scope=row>1</th><td>CS_15</td><td> 0.612519662</td><td> 0.8639756</td><td>-0.2964233</td><td>CS</td><td>34</td></tr>\n",
       "\t<tr><th scope=row>2</th><td>CS_16</td><td> 0.552006718</td><td>-1.2908904</td><td> 0.2030666</td><td>CS</td><td>33</td></tr>\n",
       "\t<tr><th scope=row>3</th><td>CS_17</td><td>-0.305139341</td><td>-1.1524781</td><td> 0.3838104</td><td>CS</td><td>24</td></tr>\n",
       "\t<tr><th scope=row>4</th><td>CS_18</td><td>-0.008338034</td><td> 0.6456049</td><td> 0.9183615</td><td>CS</td><td>33</td></tr>\n",
       "\t<tr><th scope=row>5</th><td>CS_19</td><td> 1.222003189</td><td>-3.4347981</td><td> 0.2108666</td><td>CS</td><td>29</td></tr>\n",
       "\t<tr><th scope=row>6</th><td>CS_20</td><td>-1.279548544</td><td>-0.1285845</td><td> 0.3417576</td><td>CS</td><td>25</td></tr>\n",
       "</tbody>\n",
       "</table>\n"
      ],
      "text/latex": [
       "A data.frame: 6 × 6\n",
       "\\begin{tabular}{r|llllll}\n",
       "  & SubjectID & Cluster1 & Cluster2 & Cluster3 & Group & Age\\\\\n",
       "  & <chr> & <dbl> & <dbl> & <dbl> & <fct> & <int>\\\\\n",
       "\\hline\n",
       "\t1 & CS\\_15 &  0.612519662 &  0.8639756 & -0.2964233 & CS & 34\\\\\n",
       "\t2 & CS\\_16 &  0.552006718 & -1.2908904 &  0.2030666 & CS & 33\\\\\n",
       "\t3 & CS\\_17 & -0.305139341 & -1.1524781 &  0.3838104 & CS & 24\\\\\n",
       "\t4 & CS\\_18 & -0.008338034 &  0.6456049 &  0.9183615 & CS & 33\\\\\n",
       "\t5 & CS\\_19 &  1.222003189 & -3.4347981 &  0.2108666 & CS & 29\\\\\n",
       "\t6 & CS\\_20 & -1.279548544 & -0.1285845 &  0.3417576 & CS & 25\\\\\n",
       "\\end{tabular}\n"
      ],
      "text/markdown": [
       "\n",
       "A data.frame: 6 × 6\n",
       "\n",
       "| <!--/--> | SubjectID &lt;chr&gt; | Cluster1 &lt;dbl&gt; | Cluster2 &lt;dbl&gt; | Cluster3 &lt;dbl&gt; | Group &lt;fct&gt; | Age &lt;int&gt; |\n",
       "|---|---|---|---|---|---|---|\n",
       "| 1 | CS_15 |  0.612519662 |  0.8639756 | -0.2964233 | CS | 34 |\n",
       "| 2 | CS_16 |  0.552006718 | -1.2908904 |  0.2030666 | CS | 33 |\n",
       "| 3 | CS_17 | -0.305139341 | -1.1524781 |  0.3838104 | CS | 24 |\n",
       "| 4 | CS_18 | -0.008338034 |  0.6456049 |  0.9183615 | CS | 33 |\n",
       "| 5 | CS_19 |  1.222003189 | -3.4347981 |  0.2108666 | CS | 29 |\n",
       "| 6 | CS_20 | -1.279548544 | -0.1285845 |  0.3417576 | CS | 25 |\n",
       "\n"
      ],
      "text/plain": [
       "  SubjectID Cluster1     Cluster2   Cluster3   Group Age\n",
       "1 CS_15      0.612519662  0.8639756 -0.2964233 CS    34 \n",
       "2 CS_16      0.552006718 -1.2908904  0.2030666 CS    33 \n",
       "3 CS_17     -0.305139341 -1.1524781  0.3838104 CS    24 \n",
       "4 CS_18     -0.008338034  0.6456049  0.9183615 CS    33 \n",
       "5 CS_19      1.222003189 -3.4347981  0.2108666 CS    29 \n",
       "6 CS_20     -1.279548544 -0.1285845  0.3417576 CS    25 "
      ]
     },
     "metadata": {},
     "output_type": "display_data"
    }
   ],
   "source": [
    "head(eigen_NLF_scaled)"
   ]
  },
  {
   "cell_type": "markdown",
   "metadata": {},
   "source": [
    "# Checking Assumptions"
   ]
  },
  {
   "cell_type": "markdown",
   "metadata": {},
   "source": [
    "Linearity Assumption"
   ]
  },
  {
   "cell_type": "code",
   "execution_count": 8,
   "metadata": {},
   "outputs": [
    {
     "name": "stderr",
     "output_type": "stream",
     "text": [
      "Joining, by = \"SubjectID\"\n",
      "\n",
      "Joining, by = \"SubjectID\"\n",
      "\n",
      "Joining, by = \"SubjectID\"\n",
      "\n",
      "Joining, by = \"SubjectID\"\n",
      "\n"
     ]
    }
   ],
   "source": [
    "NLF_assumptions_df = eigen_NLF_scaled[,1:4] %>%\n",
    "    pivot_longer(-SubjectID, names_to = 'Cluster', values_to = 'Conc') %>%\n",
    "    inner_join(subjectinfo) %>%\n",
    "    select(SubjectID, Cluster, Conc, Group, Age) \n",
    "ELF_assumptions_df = eigen_ELF_scaled[,1:4] %>%\n",
    "    pivot_longer(-SubjectID, names_to = 'Cluster', values_to = 'Conc') %>%\n",
    "    inner_join(subjectinfo) %>%\n",
    "    select(SubjectID, Cluster, Conc, Group, Age) \n",
    "Sputum_assumptions_df = eigen_Sputum_scaled[,1:4] %>%\n",
    "    pivot_longer(-SubjectID, names_to = 'Cluster', values_to = 'Conc') %>%\n",
    "    inner_join(subjectinfo) %>%\n",
    "    select(SubjectID, Cluster, Conc, Group, Age) \n",
    "Serum_assumptions_df = eigen_Serum_scaled[,1:4] %>%\n",
    "    pivot_longer(-SubjectID, names_to = 'Cluster', values_to = 'Conc') %>%\n",
    "    inner_join(subjectinfo) %>%\n",
    "    select(SubjectID, Cluster, Conc, Group, Age) "
   ]
  },
  {
   "cell_type": "code",
   "execution_count": 9,
   "metadata": {},
   "outputs": [
    {
     "data": {
      "text/html": [
       "<table>\n",
       "<caption>A data.frame: 6 × 6</caption>\n",
       "<thead>\n",
       "\t<tr><th></th><th scope=col>SubjectID</th><th scope=col>Cluster</th><th scope=col>Conc</th><th scope=col>Group</th><th scope=col>Age</th><th scope=col>Compartment</th></tr>\n",
       "\t<tr><th></th><th scope=col>&lt;chr&gt;</th><th scope=col>&lt;chr&gt;</th><th scope=col>&lt;dbl&gt;</th><th scope=col>&lt;fct&gt;</th><th scope=col>&lt;int&gt;</th><th scope=col>&lt;chr&gt;</th></tr>\n",
       "</thead>\n",
       "<tbody>\n",
       "\t<tr><th scope=row>1</th><td>CS_15</td><td>Cluster1</td><td> 0.6125197</td><td>CS</td><td>34</td><td>NLF</td></tr>\n",
       "\t<tr><th scope=row>2</th><td>CS_15</td><td>Cluster2</td><td> 0.8639756</td><td>CS</td><td>34</td><td>NLF</td></tr>\n",
       "\t<tr><th scope=row>3</th><td>CS_15</td><td>Cluster3</td><td>-0.2964233</td><td>CS</td><td>34</td><td>NLF</td></tr>\n",
       "\t<tr><th scope=row>4</th><td>CS_16</td><td>Cluster1</td><td> 0.5520067</td><td>CS</td><td>33</td><td>NLF</td></tr>\n",
       "\t<tr><th scope=row>5</th><td>CS_16</td><td>Cluster2</td><td>-1.2908904</td><td>CS</td><td>33</td><td>NLF</td></tr>\n",
       "\t<tr><th scope=row>6</th><td>CS_16</td><td>Cluster3</td><td> 0.2030666</td><td>CS</td><td>33</td><td>NLF</td></tr>\n",
       "</tbody>\n",
       "</table>\n"
      ],
      "text/latex": [
       "A data.frame: 6 × 6\n",
       "\\begin{tabular}{r|llllll}\n",
       "  & SubjectID & Cluster & Conc & Group & Age & Compartment\\\\\n",
       "  & <chr> & <chr> & <dbl> & <fct> & <int> & <chr>\\\\\n",
       "\\hline\n",
       "\t1 & CS\\_15 & Cluster1 &  0.6125197 & CS & 34 & NLF\\\\\n",
       "\t2 & CS\\_15 & Cluster2 &  0.8639756 & CS & 34 & NLF\\\\\n",
       "\t3 & CS\\_15 & Cluster3 & -0.2964233 & CS & 34 & NLF\\\\\n",
       "\t4 & CS\\_16 & Cluster1 &  0.5520067 & CS & 33 & NLF\\\\\n",
       "\t5 & CS\\_16 & Cluster2 & -1.2908904 & CS & 33 & NLF\\\\\n",
       "\t6 & CS\\_16 & Cluster3 &  0.2030666 & CS & 33 & NLF\\\\\n",
       "\\end{tabular}\n"
      ],
      "text/markdown": [
       "\n",
       "A data.frame: 6 × 6\n",
       "\n",
       "| <!--/--> | SubjectID &lt;chr&gt; | Cluster &lt;chr&gt; | Conc &lt;dbl&gt; | Group &lt;fct&gt; | Age &lt;int&gt; | Compartment &lt;chr&gt; |\n",
       "|---|---|---|---|---|---|---|\n",
       "| 1 | CS_15 | Cluster1 |  0.6125197 | CS | 34 | NLF |\n",
       "| 2 | CS_15 | Cluster2 |  0.8639756 | CS | 34 | NLF |\n",
       "| 3 | CS_15 | Cluster3 | -0.2964233 | CS | 34 | NLF |\n",
       "| 4 | CS_16 | Cluster1 |  0.5520067 | CS | 33 | NLF |\n",
       "| 5 | CS_16 | Cluster2 | -1.2908904 | CS | 33 | NLF |\n",
       "| 6 | CS_16 | Cluster3 |  0.2030666 | CS | 33 | NLF |\n",
       "\n"
      ],
      "text/plain": [
       "  SubjectID Cluster  Conc       Group Age Compartment\n",
       "1 CS_15     Cluster1  0.6125197 CS    34  NLF        \n",
       "2 CS_15     Cluster2  0.8639756 CS    34  NLF        \n",
       "3 CS_15     Cluster3 -0.2964233 CS    34  NLF        \n",
       "4 CS_16     Cluster1  0.5520067 CS    33  NLF        \n",
       "5 CS_16     Cluster2 -1.2908904 CS    33  NLF        \n",
       "6 CS_16     Cluster3  0.2030666 CS    33  NLF        "
      ]
     },
     "metadata": {},
     "output_type": "display_data"
    }
   ],
   "source": [
    "add_compartment = function(dataframe, compartment_name){\n",
    "    #\"\"\"\n",
    "    #Takes the dataframes already made from above and adds a column specifying the compartment.\n",
    "\n",
    "    #:param: compartment dataframe and compartment name\n",
    "    #:output: a 22x3 matrix containing mean, sd, and compartment for each cytokine. \n",
    "    #\"\"\"\n",
    "    Compartment = rep(compartment_name, times = length(dataframe$Cluster))\n",
    "    combined_df = cbind(dataframe,Compartment)\n",
    "    return(combined_df)\n",
    "}\n",
    "NLF_assumptions_df = add_compartment(NLF_assumptions_df,'NLF')\n",
    "ELF_assumptions_df = add_compartment(ELF_assumptions_df, 'ELF')\n",
    "Sputum_assumptions_df = add_compartment(Sputum_assumptions_df, 'Sputum')\n",
    "Serum_assumptions_df = add_compartment(Serum_assumptions_df, 'Serum')\n",
    "\n",
    "#combining into a single df\n",
    "assumptions_df = rbind(NLF_assumptions_df, ELF_assumptions_df, Sputum_assumptions_df, Serum_assumptions_df)\n",
    "head(assumptions_df)"
   ]
  },
  {
   "cell_type": "code",
   "execution_count": 10,
   "metadata": {},
   "outputs": [
    {
     "name": "stderr",
     "output_type": "stream",
     "text": [
      "`geom_smooth()` using formula 'y ~ x'\n",
      "\n"
     ]
    },
    {
     "data": {
      "image/png": "[encoded data removed]",
      "text/plain": [
       "plot without title"
      ]
     },
     "metadata": {
      "image/png": {
       "height": 900,
       "width": 900
      }
     },
     "output_type": "display_data"
    }
   ],
   "source": [
    "#this is for ancova first\n",
    "#scatter plot b/w covariate(age) & outcome variable (clustered cytokine concentration)\n",
    "options(repr.plot.width=15, repr.plot.height=15) #changing size\n",
    "ggplot(data = assumptions_df, aes(x = Age, y = Conc, color = Cluster, group = Cluster)) + \n",
    "  geom_point() + \n",
    "  geom_smooth(method = 'lm', se = FALSE) + \n",
    "  #geom_text(aes(x = Age, y = Conc, label = summary(lm(Conc ~ Age, assumptions_df))$r.squared), parse = TRUE) + \n",
    "  stat_regline_equation() + \n",
    "  facet_grid(Compartment~Group)"
   ]
  },
  {
   "cell_type": "code",
   "execution_count": 11,
   "metadata": {},
   "outputs": [
    {
     "data": {
      "text/html": [
       "'italic(y) == \"0.78\" + \"-0.018\" %.% italic(x) * \",\" ~ ~italic(r)^2 ~ \"=\" ~ \"0.0106\"'"
      ],
      "text/latex": [
       "'italic(y) == \"0.78\" + \"-0.018\" \\%.\\% italic(x) * \",\" \\textasciitilde{} \\textasciitilde{}italic(r)\\textasciicircum{}2 \\textasciitilde{} \"=\" \\textasciitilde{} \"0.0106\"'"
      ],
      "text/markdown": [
       "'italic(y) == \"0.78\" + \"-0.018\" %.% italic(x) * \",\" ~ ~italic(r)^2 ~ \"=\" ~ \"0.0106\"'"
      ],
      "text/plain": [
       "[1] \"italic(y) == \\\"0.78\\\" + \\\"-0.018\\\" %.% italic(x) * \\\",\\\" ~ ~italic(r)^2 ~ \\\"=\\\" ~ \\\"0.0106\\\"\""
      ]
     },
     "metadata": {},
     "output_type": "display_data"
    },
    {
     "data": {
      "text/html": [
       "'italic(y) == \"-0.77\" + \"0.02\" %.% italic(x) * \",\" ~ ~italic(r)^2 ~ \"=\" ~ \"0.0181\"'"
      ],
      "text/latex": [
       "'italic(y) == \"-0.77\" + \"0.02\" \\%.\\% italic(x) * \",\" \\textasciitilde{} \\textasciitilde{}italic(r)\\textasciicircum{}2 \\textasciitilde{} \"=\" \\textasciitilde{} \"0.0181\"'"
      ],
      "text/markdown": [
       "'italic(y) == \"-0.77\" + \"0.02\" %.% italic(x) * \",\" ~ ~italic(r)^2 ~ \"=\" ~ \"0.0181\"'"
      ],
      "text/plain": [
       "[1] \"italic(y) == \\\"-0.77\\\" + \\\"0.02\\\" %.% italic(x) * \\\",\\\" ~ ~italic(r)^2 ~ \\\"=\\\" ~ \\\"0.0181\\\"\""
      ]
     },
     "metadata": {},
     "output_type": "display_data"
    },
    {
     "data": {
      "text/html": [
       "'italic(y) == \"2\" + \"-0.082\" %.% italic(x) * \",\" ~ ~italic(r)^2 ~ \"=\" ~ \"0.209\"'"
      ],
      "text/latex": [
       "'italic(y) == \"2\" + \"-0.082\" \\%.\\% italic(x) * \",\" \\textasciitilde{} \\textasciitilde{}italic(r)\\textasciicircum{}2 \\textasciitilde{} \"=\" \\textasciitilde{} \"0.209\"'"
      ],
      "text/markdown": [
       "'italic(y) == \"2\" + \"-0.082\" %.% italic(x) * \",\" ~ ~italic(r)^2 ~ \"=\" ~ \"0.209\"'"
      ],
      "text/plain": [
       "[1] \"italic(y) == \\\"2\\\" + \\\"-0.082\\\" %.% italic(x) * \\\",\\\" ~ ~italic(r)^2 ~ \\\"=\\\" ~ \\\"0.209\\\"\""
      ]
     },
     "metadata": {},
     "output_type": "display_data"
    },
    {
     "data": {
      "text/html": [
       "'italic(y) == \"0.38\" + \"-0.013\" %.% italic(x) * \",\" ~ ~italic(r)^2 ~ \"=\" ~ \"0.00444\"'"
      ],
      "text/latex": [
       "'italic(y) == \"0.38\" + \"-0.013\" \\%.\\% italic(x) * \",\" \\textasciitilde{} \\textasciitilde{}italic(r)\\textasciicircum{}2 \\textasciitilde{} \"=\" \\textasciitilde{} \"0.00444\"'"
      ],
      "text/markdown": [
       "'italic(y) == \"0.38\" + \"-0.013\" %.% italic(x) * \",\" ~ ~italic(r)^2 ~ \"=\" ~ \"0.00444\"'"
      ],
      "text/plain": [
       "[1] \"italic(y) == \\\"0.38\\\" + \\\"-0.013\\\" %.% italic(x) * \\\",\\\" ~ ~italic(r)^2 ~ \\\"=\\\" ~ \\\"0.00444\\\"\""
      ]
     },
     "metadata": {},
     "output_type": "display_data"
    },
    {
     "data": {
      "text/html": [
       "'italic(y) == \"0.33\" + \"-0.02\" %.% italic(x) * \",\" ~ ~italic(r)^2 ~ \"=\" ~ \"0.0131\"'"
      ],
      "text/latex": [
       "'italic(y) == \"0.33\" + \"-0.02\" \\%.\\% italic(x) * \",\" \\textasciitilde{} \\textasciitilde{}italic(r)\\textasciicircum{}2 \\textasciitilde{} \"=\" \\textasciitilde{} \"0.0131\"'"
      ],
      "text/markdown": [
       "'italic(y) == \"0.33\" + \"-0.02\" %.% italic(x) * \",\" ~ ~italic(r)^2 ~ \"=\" ~ \"0.0131\"'"
      ],
      "text/plain": [
       "[1] \"italic(y) == \\\"0.33\\\" + \\\"-0.02\\\" %.% italic(x) * \\\",\\\" ~ ~italic(r)^2 ~ \\\"=\\\" ~ \\\"0.0131\\\"\""
      ]
     },
     "metadata": {},
     "output_type": "display_data"
    },
    {
     "data": {
      "text/html": [
       "'italic(y) == \"-0.054\" + \"0.0098\" %.% italic(x) * \",\" ~ ~italic(r)^2 ~ \"=\" ~ \"0.00853\"'"
      ],
      "text/latex": [
       "'italic(y) == \"-0.054\" + \"0.0098\" \\%.\\% italic(x) * \",\" \\textasciitilde{} \\textasciitilde{}italic(r)\\textasciicircum{}2 \\textasciitilde{} \"=\" \\textasciitilde{} \"0.00853\"'"
      ],
      "text/markdown": [
       "'italic(y) == \"-0.054\" + \"0.0098\" %.% italic(x) * \",\" ~ ~italic(r)^2 ~ \"=\" ~ \"0.00853\"'"
      ],
      "text/plain": [
       "[1] \"italic(y) == \\\"-0.054\\\" + \\\"0.0098\\\" %.% italic(x) * \\\",\\\" ~ ~italic(r)^2 ~ \\\"=\\\" ~ \\\"0.00853\\\"\""
      ]
     },
     "metadata": {},
     "output_type": "display_data"
    },
    {
     "data": {
      "text/html": [
       "'italic(y) == \"-1.3\" + \"0.036\" %.% italic(x) * \",\" ~ ~italic(r)^2 ~ \"=\" ~ \"0.0254\"'"
      ],
      "text/latex": [
       "'italic(y) == \"-1.3\" + \"0.036\" \\%.\\% italic(x) * \",\" \\textasciitilde{} \\textasciitilde{}italic(r)\\textasciicircum{}2 \\textasciitilde{} \"=\" \\textasciitilde{} \"0.0254\"'"
      ],
      "text/markdown": [
       "'italic(y) == \"-1.3\" + \"0.036\" %.% italic(x) * \",\" ~ ~italic(r)^2 ~ \"=\" ~ \"0.0254\"'"
      ],
      "text/plain": [
       "[1] \"italic(y) == \\\"-1.3\\\" + \\\"0.036\\\" %.% italic(x) * \\\",\\\" ~ ~italic(r)^2 ~ \\\"=\\\" ~ \\\"0.0254\\\"\""
      ]
     },
     "metadata": {},
     "output_type": "display_data"
    },
    {
     "data": {
      "text/html": [
       "'italic(y) == \"0.35\" + \"-0.0083\" %.% italic(x) * \",\" ~ ~italic(r)^2 ~ \"=\" ~ \"0.00283\"'"
      ],
      "text/latex": [
       "'italic(y) == \"0.35\" + \"-0.0083\" \\%.\\% italic(x) * \",\" \\textasciitilde{} \\textasciitilde{}italic(r)\\textasciicircum{}2 \\textasciitilde{} \"=\" \\textasciitilde{} \"0.00283\"'"
      ],
      "text/markdown": [
       "'italic(y) == \"0.35\" + \"-0.0083\" %.% italic(x) * \",\" ~ ~italic(r)^2 ~ \"=\" ~ \"0.00283\"'"
      ],
      "text/plain": [
       "[1] \"italic(y) == \\\"0.35\\\" + \\\"-0.0083\\\" %.% italic(x) * \\\",\\\" ~ ~italic(r)^2 ~ \\\"=\\\" ~ \\\"0.00283\\\"\""
      ]
     },
     "metadata": {},
     "output_type": "display_data"
    },
    {
     "data": {
      "text/html": [
       "'italic(y) == \"0.29\" + \"-0.0073\" %.% italic(x) * \",\" ~ ~italic(r)^2 ~ \"=\" ~ \"0.0123\"'"
      ],
      "text/latex": [
       "'italic(y) == \"0.29\" + \"-0.0073\" \\%.\\% italic(x) * \",\" \\textasciitilde{} \\textasciitilde{}italic(r)\\textasciicircum{}2 \\textasciitilde{} \"=\" \\textasciitilde{} \"0.0123\"'"
      ],
      "text/markdown": [
       "'italic(y) == \"0.29\" + \"-0.0073\" %.% italic(x) * \",\" ~ ~italic(r)^2 ~ \"=\" ~ \"0.0123\"'"
      ],
      "text/plain": [
       "[1] \"italic(y) == \\\"0.29\\\" + \\\"-0.0073\\\" %.% italic(x) * \\\",\\\" ~ ~italic(r)^2 ~ \\\"=\\\" ~ \\\"0.0123\\\"\""
      ]
     },
     "metadata": {},
     "output_type": "display_data"
    },
    {
     "data": {
      "text/html": [
       "'italic(y) == \"-0.89\" + \"0.037\" %.% italic(x) * \",\" ~ ~italic(r)^2 ~ \"=\" ~ \"0.0386\"'"
      ],
      "text/latex": [
       "'italic(y) == \"-0.89\" + \"0.037\" \\%.\\% italic(x) * \",\" \\textasciitilde{} \\textasciitilde{}italic(r)\\textasciicircum{}2 \\textasciitilde{} \"=\" \\textasciitilde{} \"0.0386\"'"
      ],
      "text/markdown": [
       "'italic(y) == \"-0.89\" + \"0.037\" %.% italic(x) * \",\" ~ ~italic(r)^2 ~ \"=\" ~ \"0.0386\"'"
      ],
      "text/plain": [
       "[1] \"italic(y) == \\\"-0.89\\\" + \\\"0.037\\\" %.% italic(x) * \\\",\\\" ~ ~italic(r)^2 ~ \\\"=\\\" ~ \\\"0.0386\\\"\""
      ]
     },
     "metadata": {},
     "output_type": "display_data"
    },
    {
     "data": {
      "text/html": [
       "'italic(y) == \"-0.33\" + \"0.0026\" %.% italic(x) * \",\" ~ ~italic(r)^2 ~ \"=\" ~ \"0.000311\"'"
      ],
      "text/latex": [
       "'italic(y) == \"-0.33\" + \"0.0026\" \\%.\\% italic(x) * \",\" \\textasciitilde{} \\textasciitilde{}italic(r)\\textasciicircum{}2 \\textasciitilde{} \"=\" \\textasciitilde{} \"0.000311\"'"
      ],
      "text/markdown": [
       "'italic(y) == \"-0.33\" + \"0.0026\" %.% italic(x) * \",\" ~ ~italic(r)^2 ~ \"=\" ~ \"0.000311\"'"
      ],
      "text/plain": [
       "[1] \"italic(y) == \\\"-0.33\\\" + \\\"0.0026\\\" %.% italic(x) * \\\",\\\" ~ ~italic(r)^2 ~ \\\"=\\\" ~ \\\"0.000311\\\"\""
      ]
     },
     "metadata": {},
     "output_type": "display_data"
    },
    {
     "data": {
      "text/html": [
       "'italic(y) == \"0.4\" + \"-0.014\" %.% italic(x) * \",\" ~ ~italic(r)^2 ~ \"=\" ~ \"0.0081\"'"
      ],
      "text/latex": [
       "'italic(y) == \"0.4\" + \"-0.014\" \\%.\\% italic(x) * \",\" \\textasciitilde{} \\textasciitilde{}italic(r)\\textasciicircum{}2 \\textasciitilde{} \"=\" \\textasciitilde{} \"0.0081\"'"
      ],
      "text/markdown": [
       "'italic(y) == \"0.4\" + \"-0.014\" %.% italic(x) * \",\" ~ ~italic(r)^2 ~ \"=\" ~ \"0.0081\"'"
      ],
      "text/plain": [
       "[1] \"italic(y) == \\\"0.4\\\" + \\\"-0.014\\\" %.% italic(x) * \\\",\\\" ~ ~italic(r)^2 ~ \\\"=\\\" ~ \\\"0.0081\\\"\""
      ]
     },
     "metadata": {},
     "output_type": "display_data"
    },
    {
     "data": {
      "text/html": [
       "'italic(y) == \"-2.7\" + \"0.086\" %.% italic(x) * \",\" ~ ~italic(r)^2 ~ \"=\" ~ \"0.177\"'"
      ],
      "text/latex": [
       "'italic(y) == \"-2.7\" + \"0.086\" \\%.\\% italic(x) * \",\" \\textasciitilde{} \\textasciitilde{}italic(r)\\textasciicircum{}2 \\textasciitilde{} \"=\" \\textasciitilde{} \"0.177\"'"
      ],
      "text/markdown": [
       "'italic(y) == \"-2.7\" + \"0.086\" %.% italic(x) * \",\" ~ ~italic(r)^2 ~ \"=\" ~ \"0.177\"'"
      ],
      "text/plain": [
       "[1] \"italic(y) == \\\"-2.7\\\" + \\\"0.086\\\" %.% italic(x) * \\\",\\\" ~ ~italic(r)^2 ~ \\\"=\\\" ~ \\\"0.177\\\"\""
      ]
     },
     "metadata": {},
     "output_type": "display_data"
    },
    {
     "data": {
      "text/html": [
       "'italic(y) == \"0.17\" + \"-0.0033\" %.% italic(x) * \",\" ~ ~italic(r)^2 ~ \"=\" ~ \"0.000478\"'"
      ],
      "text/latex": [
       "'italic(y) == \"0.17\" + \"-0.0033\" \\%.\\% italic(x) * \",\" \\textasciitilde{} \\textasciitilde{}italic(r)\\textasciicircum{}2 \\textasciitilde{} \"=\" \\textasciitilde{} \"0.000478\"'"
      ],
      "text/markdown": [
       "'italic(y) == \"0.17\" + \"-0.0033\" %.% italic(x) * \",\" ~ ~italic(r)^2 ~ \"=\" ~ \"0.000478\"'"
      ],
      "text/plain": [
       "[1] \"italic(y) == \\\"0.17\\\" + \\\"-0.0033\\\" %.% italic(x) * \\\",\\\" ~ ~italic(r)^2 ~ \\\"=\\\" ~ \\\"0.000478\\\"\""
      ]
     },
     "metadata": {},
     "output_type": "display_data"
    },
    {
     "data": {
      "text/html": [
       "'italic(y) == \"-0.028\" + \"0.0044\" %.% italic(x) * \",\" ~ ~italic(r)^2 ~ \"=\" ~ \"0.000952\"'"
      ],
      "text/latex": [
       "'italic(y) == \"-0.028\" + \"0.0044\" \\%.\\% italic(x) * \",\" \\textasciitilde{} \\textasciitilde{}italic(r)\\textasciicircum{}2 \\textasciitilde{} \"=\" \\textasciitilde{} \"0.000952\"'"
      ],
      "text/markdown": [
       "'italic(y) == \"-0.028\" + \"0.0044\" %.% italic(x) * \",\" ~ ~italic(r)^2 ~ \"=\" ~ \"0.000952\"'"
      ],
      "text/plain": [
       "[1] \"italic(y) == \\\"-0.028\\\" + \\\"0.0044\\\" %.% italic(x) * \\\",\\\" ~ ~italic(r)^2 ~ \\\"=\\\" ~ \\\"0.000952\\\"\""
      ]
     },
     "metadata": {},
     "output_type": "display_data"
    },
    {
     "data": {
      "text/html": [
       "'italic(y) == \"0.94\" + \"-0.031\" %.% italic(x) * \",\" ~ ~italic(r)^2 ~ \"=\" ~ \"0.0441\"'"
      ],
      "text/latex": [
       "'italic(y) == \"0.94\" + \"-0.031\" \\%.\\% italic(x) * \",\" \\textasciitilde{} \\textasciitilde{}italic(r)\\textasciicircum{}2 \\textasciitilde{} \"=\" \\textasciitilde{} \"0.0441\"'"
      ],
      "text/markdown": [
       "'italic(y) == \"0.94\" + \"-0.031\" %.% italic(x) * \",\" ~ ~italic(r)^2 ~ \"=\" ~ \"0.0441\"'"
      ],
      "text/plain": [
       "[1] \"italic(y) == \\\"0.94\\\" + \\\"-0.031\\\" %.% italic(x) * \\\",\\\" ~ ~italic(r)^2 ~ \\\"=\\\" ~ \\\"0.0441\\\"\""
      ]
     },
     "metadata": {},
     "output_type": "display_data"
    },
    {
     "data": {
      "text/html": [
       "'italic(y) == \"-1.9\" + \"0.047\" %.% italic(x) * \",\" ~ ~italic(r)^2 ~ \"=\" ~ \"0.139\"'"
      ],
      "text/latex": [
       "'italic(y) == \"-1.9\" + \"0.047\" \\%.\\% italic(x) * \",\" \\textasciitilde{} \\textasciitilde{}italic(r)\\textasciicircum{}2 \\textasciitilde{} \"=\" \\textasciitilde{} \"0.139\"'"
      ],
      "text/markdown": [
       "'italic(y) == \"-1.9\" + \"0.047\" %.% italic(x) * \",\" ~ ~italic(r)^2 ~ \"=\" ~ \"0.139\"'"
      ],
      "text/plain": [
       "[1] \"italic(y) == \\\"-1.9\\\" + \\\"0.047\\\" %.% italic(x) * \\\",\\\" ~ ~italic(r)^2 ~ \\\"=\\\" ~ \\\"0.139\\\"\""
      ]
     },
     "metadata": {},
     "output_type": "display_data"
    },
    {
     "data": {
      "text/html": [
       "'italic(y) == \"1.4\" + \"-0.041\" %.% italic(x) * \",\" ~ ~italic(r)^2 ~ \"=\" ~ \"0.0412\"'"
      ],
      "text/latex": [
       "'italic(y) == \"1.4\" + \"-0.041\" \\%.\\% italic(x) * \",\" \\textasciitilde{} \\textasciitilde{}italic(r)\\textasciicircum{}2 \\textasciitilde{} \"=\" \\textasciitilde{} \"0.0412\"'"
      ],
      "text/markdown": [
       "'italic(y) == \"1.4\" + \"-0.041\" %.% italic(x) * \",\" ~ ~italic(r)^2 ~ \"=\" ~ \"0.0412\"'"
      ],
      "text/plain": [
       "[1] \"italic(y) == \\\"1.4\\\" + \\\"-0.041\\\" %.% italic(x) * \\\",\\\" ~ ~italic(r)^2 ~ \\\"=\\\" ~ \\\"0.0412\\\"\""
      ]
     },
     "metadata": {},
     "output_type": "display_data"
    },
    {
     "data": {
      "text/html": [
       "'italic(y) == \"1.6\" + \"-0.05\" %.% italic(x) * \",\" ~ ~italic(r)^2 ~ \"=\" ~ \"0.0913\"'"
      ],
      "text/latex": [
       "'italic(y) == \"1.6\" + \"-0.05\" \\%.\\% italic(x) * \",\" \\textasciitilde{} \\textasciitilde{}italic(r)\\textasciicircum{}2 \\textasciitilde{} \"=\" \\textasciitilde{} \"0.0913\"'"
      ],
      "text/markdown": [
       "'italic(y) == \"1.6\" + \"-0.05\" %.% italic(x) * \",\" ~ ~italic(r)^2 ~ \"=\" ~ \"0.0913\"'"
      ],
      "text/plain": [
       "[1] \"italic(y) == \\\"1.6\\\" + \\\"-0.05\\\" %.% italic(x) * \\\",\\\" ~ ~italic(r)^2 ~ \\\"=\\\" ~ \\\"0.0913\\\"\""
      ]
     },
     "metadata": {},
     "output_type": "display_data"
    },
    {
     "data": {
      "text/html": [
       "'italic(y) == \"-0.93\" + \"0.024\" %.% italic(x) * \",\" ~ ~italic(r)^2 ~ \"=\" ~ \"0.0239\"'"
      ],
      "text/latex": [
       "'italic(y) == \"-0.93\" + \"0.024\" \\%.\\% italic(x) * \",\" \\textasciitilde{} \\textasciitilde{}italic(r)\\textasciicircum{}2 \\textasciitilde{} \"=\" \\textasciitilde{} \"0.0239\"'"
      ],
      "text/markdown": [
       "'italic(y) == \"-0.93\" + \"0.024\" %.% italic(x) * \",\" ~ ~italic(r)^2 ~ \"=\" ~ \"0.0239\"'"
      ],
      "text/plain": [
       "[1] \"italic(y) == \\\"-0.93\\\" + \\\"0.024\\\" %.% italic(x) * \\\",\\\" ~ ~italic(r)^2 ~ \\\"=\\\" ~ \\\"0.0239\\\"\""
      ]
     },
     "metadata": {},
     "output_type": "display_data"
    },
    {
     "data": {
      "text/html": [
       "'italic(y) == \"0.84\" + \"-0.029\" %.% italic(x) * \",\" ~ ~italic(r)^2 ~ \"=\" ~ \"0.0255\"'"
      ],
      "text/latex": [
       "'italic(y) == \"0.84\" + \"-0.029\" \\%.\\% italic(x) * \",\" \\textasciitilde{} \\textasciitilde{}italic(r)\\textasciicircum{}2 \\textasciitilde{} \"=\" \\textasciitilde{} \"0.0255\"'"
      ],
      "text/markdown": [
       "'italic(y) == \"0.84\" + \"-0.029\" %.% italic(x) * \",\" ~ ~italic(r)^2 ~ \"=\" ~ \"0.0255\"'"
      ],
      "text/plain": [
       "[1] \"italic(y) == \\\"0.84\\\" + \\\"-0.029\\\" %.% italic(x) * \\\",\\\" ~ ~italic(r)^2 ~ \\\"=\\\" ~ \\\"0.0255\\\"\""
      ]
     },
     "metadata": {},
     "output_type": "display_data"
    },
    {
     "data": {
      "text/html": [
       "'italic(y) == \"1.1\" + \"-0.045\" %.% italic(x) * \",\" ~ ~italic(r)^2 ~ \"=\" ~ \"0.0602\"'"
      ],
      "text/latex": [
       "'italic(y) == \"1.1\" + \"-0.045\" \\%.\\% italic(x) * \",\" \\textasciitilde{} \\textasciitilde{}italic(r)\\textasciicircum{}2 \\textasciitilde{} \"=\" \\textasciitilde{} \"0.0602\"'"
      ],
      "text/markdown": [
       "'italic(y) == \"1.1\" + \"-0.045\" %.% italic(x) * \",\" ~ ~italic(r)^2 ~ \"=\" ~ \"0.0602\"'"
      ],
      "text/plain": [
       "[1] \"italic(y) == \\\"1.1\\\" + \\\"-0.045\\\" %.% italic(x) * \\\",\\\" ~ ~italic(r)^2 ~ \\\"=\\\" ~ \\\"0.0602\\\"\""
      ]
     },
     "metadata": {},
     "output_type": "display_data"
    },
    {
     "data": {
      "text/html": [
       "'italic(y) == \"-0.057\" + \"0.014\" %.% italic(x) * \",\" ~ ~italic(r)^2 ~ \"=\" ~ \"0.0193\"'"
      ],
      "text/latex": [
       "'italic(y) == \"-0.057\" + \"0.014\" \\%.\\% italic(x) * \",\" \\textasciitilde{} \\textasciitilde{}italic(r)\\textasciicircum{}2 \\textasciitilde{} \"=\" \\textasciitilde{} \"0.0193\"'"
      ],
      "text/markdown": [
       "'italic(y) == \"-0.057\" + \"0.014\" %.% italic(x) * \",\" ~ ~italic(r)^2 ~ \"=\" ~ \"0.0193\"'"
      ],
      "text/plain": [
       "[1] \"italic(y) == \\\"-0.057\\\" + \\\"0.014\\\" %.% italic(x) * \\\",\\\" ~ ~italic(r)^2 ~ \\\"=\\\" ~ \\\"0.0193\\\"\""
      ]
     },
     "metadata": {},
     "output_type": "display_data"
    },
    {
     "data": {
      "text/html": [
       "'italic(y) == \"1.5\" + \"-0.061\" %.% italic(x) * \",\" ~ ~italic(r)^2 ~ \"=\" ~ \"0.086\"'"
      ],
      "text/latex": [
       "'italic(y) == \"1.5\" + \"-0.061\" \\%.\\% italic(x) * \",\" \\textasciitilde{} \\textasciitilde{}italic(r)\\textasciicircum{}2 \\textasciitilde{} \"=\" \\textasciitilde{} \"0.086\"'"
      ],
      "text/markdown": [
       "'italic(y) == \"1.5\" + \"-0.061\" %.% italic(x) * \",\" ~ ~italic(r)^2 ~ \"=\" ~ \"0.086\"'"
      ],
      "text/plain": [
       "[1] \"italic(y) == \\\"1.5\\\" + \\\"-0.061\\\" %.% italic(x) * \\\",\\\" ~ ~italic(r)^2 ~ \\\"=\\\" ~ \\\"0.086\\\"\""
      ]
     },
     "metadata": {},
     "output_type": "display_data"
    },
    {
     "data": {
      "text/html": [
       "'italic(y) == \"1.3\" + \"-0.042\" %.% italic(x) * \",\" ~ ~italic(r)^2 ~ \"=\" ~ \"0.0795\"'"
      ],
      "text/latex": [
       "'italic(y) == \"1.3\" + \"-0.042\" \\%.\\% italic(x) * \",\" \\textasciitilde{} \\textasciitilde{}italic(r)\\textasciicircum{}2 \\textasciitilde{} \"=\" \\textasciitilde{} \"0.0795\"'"
      ],
      "text/markdown": [
       "'italic(y) == \"1.3\" + \"-0.042\" %.% italic(x) * \",\" ~ ~italic(r)^2 ~ \"=\" ~ \"0.0795\"'"
      ],
      "text/plain": [
       "[1] \"italic(y) == \\\"1.3\\\" + \\\"-0.042\\\" %.% italic(x) * \\\",\\\" ~ ~italic(r)^2 ~ \\\"=\\\" ~ \\\"0.0795\\\"\""
      ]
     },
     "metadata": {},
     "output_type": "display_data"
    },
    {
     "data": {
      "text/html": [
       "'italic(y) == \"0.27\" + \"-0.0078\" %.% italic(x) * \",\" ~ ~italic(r)^2 ~ \"=\" ~ \"0.0037\"'"
      ],
      "text/latex": [
       "'italic(y) == \"0.27\" + \"-0.0078\" \\%.\\% italic(x) * \",\" \\textasciitilde{} \\textasciitilde{}italic(r)\\textasciicircum{}2 \\textasciitilde{} \"=\" \\textasciitilde{} \"0.0037\"'"
      ],
      "text/markdown": [
       "'italic(y) == \"0.27\" + \"-0.0078\" %.% italic(x) * \",\" ~ ~italic(r)^2 ~ \"=\" ~ \"0.0037\"'"
      ],
      "text/plain": [
       "[1] \"italic(y) == \\\"0.27\\\" + \\\"-0.0078\\\" %.% italic(x) * \\\",\\\" ~ ~italic(r)^2 ~ \\\"=\\\" ~ \\\"0.0037\\\"\""
      ]
     },
     "metadata": {},
     "output_type": "display_data"
    },
    {
     "data": {
      "text/html": [
       "'italic(y) == \"1.6\" + \"-0.065\" %.% italic(x) * \",\" ~ ~italic(r)^2 ~ \"=\" ~ \"0.0803\"'"
      ],
      "text/latex": [
       "'italic(y) == \"1.6\" + \"-0.065\" \\%.\\% italic(x) * \",\" \\textasciitilde{} \\textasciitilde{}italic(r)\\textasciicircum{}2 \\textasciitilde{} \"=\" \\textasciitilde{} \"0.0803\"'"
      ],
      "text/markdown": [
       "'italic(y) == \"1.6\" + \"-0.065\" %.% italic(x) * \",\" ~ ~italic(r)^2 ~ \"=\" ~ \"0.0803\"'"
      ],
      "text/plain": [
       "[1] \"italic(y) == \\\"1.6\\\" + \\\"-0.065\\\" %.% italic(x) * \\\",\\\" ~ ~italic(r)^2 ~ \\\"=\\\" ~ \\\"0.0803\\\"\""
      ]
     },
     "metadata": {},
     "output_type": "display_data"
    },
    {
     "data": {
      "text/html": [
       "'italic(y) == \"-1.5\" + \"0.058\" %.% italic(x) * \",\" ~ ~italic(r)^2 ~ \"=\" ~ \"0.0833\"'"
      ],
      "text/latex": [
       "'italic(y) == \"-1.5\" + \"0.058\" \\%.\\% italic(x) * \",\" \\textasciitilde{} \\textasciitilde{}italic(r)\\textasciicircum{}2 \\textasciitilde{} \"=\" \\textasciitilde{} \"0.0833\"'"
      ],
      "text/markdown": [
       "'italic(y) == \"-1.5\" + \"0.058\" %.% italic(x) * \",\" ~ ~italic(r)^2 ~ \"=\" ~ \"0.0833\"'"
      ],
      "text/plain": [
       "[1] \"italic(y) == \\\"-1.5\\\" + \\\"0.058\\\" %.% italic(x) * \\\",\\\" ~ ~italic(r)^2 ~ \\\"=\\\" ~ \\\"0.0833\\\"\""
      ]
     },
     "metadata": {},
     "output_type": "display_data"
    },
    {
     "data": {
      "text/html": [
       "'italic(y) == \"-0.22\" + \"0.0031\" %.% italic(x) * \",\" ~ ~italic(r)^2 ~ \"=\" ~ \"0.000538\"'"
      ],
      "text/latex": [
       "'italic(y) == \"-0.22\" + \"0.0031\" \\%.\\% italic(x) * \",\" \\textasciitilde{} \\textasciitilde{}italic(r)\\textasciicircum{}2 \\textasciitilde{} \"=\" \\textasciitilde{} \"0.000538\"'"
      ],
      "text/markdown": [
       "'italic(y) == \"-0.22\" + \"0.0031\" %.% italic(x) * \",\" ~ ~italic(r)^2 ~ \"=\" ~ \"0.000538\"'"
      ],
      "text/plain": [
       "[1] \"italic(y) == \\\"-0.22\\\" + \\\"0.0031\\\" %.% italic(x) * \\\",\\\" ~ ~italic(r)^2 ~ \\\"=\\\" ~ \\\"0.000538\\\"\""
      ]
     },
     "metadata": {},
     "output_type": "display_data"
    },
    {
     "data": {
      "text/html": [
       "'italic(y) == \"-0.35\" + \"0.013\" %.% italic(x) * \",\" ~ ~italic(r)^2 ~ \"=\" ~ \"0.00506\"'"
      ],
      "text/latex": [
       "'italic(y) == \"-0.35\" + \"0.013\" \\%.\\% italic(x) * \",\" \\textasciitilde{} \\textasciitilde{}italic(r)\\textasciicircum{}2 \\textasciitilde{} \"=\" \\textasciitilde{} \"0.00506\"'"
      ],
      "text/markdown": [
       "'italic(y) == \"-0.35\" + \"0.013\" %.% italic(x) * \",\" ~ ~italic(r)^2 ~ \"=\" ~ \"0.00506\"'"
      ],
      "text/plain": [
       "[1] \"italic(y) == \\\"-0.35\\\" + \\\"0.013\\\" %.% italic(x) * \\\",\\\" ~ ~italic(r)^2 ~ \\\"=\\\" ~ \\\"0.00506\\\"\""
      ]
     },
     "metadata": {},
     "output_type": "display_data"
    },
    {
     "data": {
      "text/html": [
       "'italic(y) == \"2.2\" + \"-0.075\" %.% italic(x) * \",\" ~ ~italic(r)^2 ~ \"=\" ~ \"0.221\"'"
      ],
      "text/latex": [
       "'italic(y) == \"2.2\" + \"-0.075\" \\%.\\% italic(x) * \",\" \\textasciitilde{} \\textasciitilde{}italic(r)\\textasciicircum{}2 \\textasciitilde{} \"=\" \\textasciitilde{} \"0.221\"'"
      ],
      "text/markdown": [
       "'italic(y) == \"2.2\" + \"-0.075\" %.% italic(x) * \",\" ~ ~italic(r)^2 ~ \"=\" ~ \"0.221\"'"
      ],
      "text/plain": [
       "[1] \"italic(y) == \\\"2.2\\\" + \\\"-0.075\\\" %.% italic(x) * \\\",\\\" ~ ~italic(r)^2 ~ \\\"=\\\" ~ \\\"0.221\\\"\""
      ]
     },
     "metadata": {},
     "output_type": "display_data"
    },
    {
     "data": {
      "text/html": [
       "'italic(y) == \"1.2\" + \"-0.032\" %.% italic(x) * \",\" ~ ~italic(r)^2 ~ \"=\" ~ \"0.0615\"'"
      ],
      "text/latex": [
       "'italic(y) == \"1.2\" + \"-0.032\" \\%.\\% italic(x) * \",\" \\textasciitilde{} \\textasciitilde{}italic(r)\\textasciicircum{}2 \\textasciitilde{} \"=\" \\textasciitilde{} \"0.0615\"'"
      ],
      "text/markdown": [
       "'italic(y) == \"1.2\" + \"-0.032\" %.% italic(x) * \",\" ~ ~italic(r)^2 ~ \"=\" ~ \"0.0615\"'"
      ],
      "text/plain": [
       "[1] \"italic(y) == \\\"1.2\\\" + \\\"-0.032\\\" %.% italic(x) * \\\",\\\" ~ ~italic(r)^2 ~ \\\"=\\\" ~ \\\"0.0615\\\"\""
      ]
     },
     "metadata": {},
     "output_type": "display_data"
    },
    {
     "data": {
      "text/html": [
       "'italic(y) == \"1.5\" + \"-0.062\" %.% italic(x) * \",\" ~ ~italic(r)^2 ~ \"=\" ~ \"0.0847\"'"
      ],
      "text/latex": [
       "'italic(y) == \"1.5\" + \"-0.062\" \\%.\\% italic(x) * \",\" \\textasciitilde{} \\textasciitilde{}italic(r)\\textasciicircum{}2 \\textasciitilde{} \"=\" \\textasciitilde{} \"0.0847\"'"
      ],
      "text/markdown": [
       "'italic(y) == \"1.5\" + \"-0.062\" %.% italic(x) * \",\" ~ ~italic(r)^2 ~ \"=\" ~ \"0.0847\"'"
      ],
      "text/plain": [
       "[1] \"italic(y) == \\\"1.5\\\" + \\\"-0.062\\\" %.% italic(x) * \\\",\\\" ~ ~italic(r)^2 ~ \\\"=\\\" ~ \\\"0.0847\\\"\""
      ]
     },
     "metadata": {},
     "output_type": "display_data"
    },
    {
     "data": {
      "text/html": [
       "'italic(y) == \"2.3\" + \"-0.074\" %.% italic(x) * \",\" ~ ~italic(r)^2 ~ \"=\" ~ \"0.188\"'"
      ],
      "text/latex": [
       "'italic(y) == \"2.3\" + \"-0.074\" \\%.\\% italic(x) * \",\" \\textasciitilde{} \\textasciitilde{}italic(r)\\textasciicircum{}2 \\textasciitilde{} \"=\" \\textasciitilde{} \"0.188\"'"
      ],
      "text/markdown": [
       "'italic(y) == \"2.3\" + \"-0.074\" %.% italic(x) * \",\" ~ ~italic(r)^2 ~ \"=\" ~ \"0.188\"'"
      ],
      "text/plain": [
       "[1] \"italic(y) == \\\"2.3\\\" + \\\"-0.074\\\" %.% italic(x) * \\\",\\\" ~ ~italic(r)^2 ~ \\\"=\\\" ~ \\\"0.188\\\"\""
      ]
     },
     "metadata": {},
     "output_type": "display_data"
    },
    {
     "data": {
      "text/html": [
       "'italic(y) == \"1.1\" + \"-0.034\" %.% italic(x) * \",\" ~ ~italic(r)^2 ~ \"=\" ~ \"0.0622\"'"
      ],
      "text/latex": [
       "'italic(y) == \"1.1\" + \"-0.034\" \\%.\\% italic(x) * \",\" \\textasciitilde{} \\textasciitilde{}italic(r)\\textasciicircum{}2 \\textasciitilde{} \"=\" \\textasciitilde{} \"0.0622\"'"
      ],
      "text/markdown": [
       "'italic(y) == \"1.1\" + \"-0.034\" %.% italic(x) * \",\" ~ ~italic(r)^2 ~ \"=\" ~ \"0.0622\"'"
      ],
      "text/plain": [
       "[1] \"italic(y) == \\\"1.1\\\" + \\\"-0.034\\\" %.% italic(x) * \\\",\\\" ~ ~italic(r)^2 ~ \\\"=\\\" ~ \\\"0.0622\\\"\""
      ]
     },
     "metadata": {},
     "output_type": "display_data"
    },
    {
     "data": {
      "text/html": [
       "'italic(y) == \"1.7\" + \"-0.072\" %.% italic(x) * \",\" ~ ~italic(r)^2 ~ \"=\" ~ \"0.116\"'"
      ],
      "text/latex": [
       "'italic(y) == \"1.7\" + \"-0.072\" \\%.\\% italic(x) * \",\" \\textasciitilde{} \\textasciitilde{}italic(r)\\textasciicircum{}2 \\textasciitilde{} \"=\" \\textasciitilde{} \"0.116\"'"
      ],
      "text/markdown": [
       "'italic(y) == \"1.7\" + \"-0.072\" %.% italic(x) * \",\" ~ ~italic(r)^2 ~ \"=\" ~ \"0.116\"'"
      ],
      "text/plain": [
       "[1] \"italic(y) == \\\"1.7\\\" + \\\"-0.072\\\" %.% italic(x) * \\\",\\\" ~ ~italic(r)^2 ~ \\\"=\\\" ~ \\\"0.116\\\"\""
      ]
     },
     "metadata": {},
     "output_type": "display_data"
    }
   ],
   "source": [
    "#need r squared values for these\n",
    "lm_eqn <- function(df,cluster, group){\n",
    "    m <- lm(Conc ~ Age, df %>%\n",
    "           filter(Cluster == cluster, Group == group));\n",
    "    eq <- substitute(italic(y) == a + b %.% italic(x)*\",\"~~italic(r)^2~\"=\"~r2, \n",
    "         list(a = format(unname(coef(m)[1]), digits = 2),\n",
    "              b = format(unname(coef(m)[2]), digits = 2),\n",
    "             r2 = format(summary(m)$r.squared, digits = 3)))\n",
    "    as.character(as.expression(eq));\n",
    "}\n",
    "#ancova\n",
    "lm_eqn(NLF_assumptions_df, 'Cluster1', 'NS')\n",
    "lm_eqn(NLF_assumptions_df, 'Cluster1', 'CS')\n",
    "lm_eqn(NLF_assumptions_df, 'Cluster1', 'Ecig')\n",
    "lm_eqn(NLF_assumptions_df, 'Cluster2', 'NS')\n",
    "lm_eqn(NLF_assumptions_df, 'Cluster2', 'CS')\n",
    "lm_eqn(NLF_assumptions_df, 'Cluster2', 'Ecig')\n",
    "lm_eqn(NLF_assumptions_df, 'Cluster3', 'NS')\n",
    "lm_eqn(NLF_assumptions_df, 'Cluster3', 'CS')\n",
    "lm_eqn(NLF_assumptions_df, 'Cluster3', 'Ecig')\n",
    "lm_eqn(ELF_assumptions_df, 'Cluster1', 'NS')\n",
    "lm_eqn(ELF_assumptions_df, 'Cluster1', 'CS')\n",
    "lm_eqn(ELF_assumptions_df, 'Cluster1', 'Ecig')\n",
    "lm_eqn(ELF_assumptions_df, 'Cluster2', 'NS')\n",
    "lm_eqn(ELF_assumptions_df, 'Cluster2', 'CS')\n",
    "lm_eqn(ELF_assumptions_df, 'Cluster2', 'Ecig')\n",
    "lm_eqn(ELF_assumptions_df, 'Cluster3', 'NS')\n",
    "lm_eqn(ELF_assumptions_df, 'Cluster3', 'CS')\n",
    "lm_eqn(ELF_assumptions_df, 'Cluster3', 'Ecig')\n",
    "lm_eqn(Sputum_assumptions_df, 'Cluster1', 'NS')\n",
    "lm_eqn(Sputum_assumptions_df, 'Cluster1', 'CS')\n",
    "lm_eqn(Sputum_assumptions_df, 'Cluster1', 'Ecig')\n",
    "lm_eqn(Sputum_assumptions_df, 'Cluster2', 'NS')\n",
    "lm_eqn(Sputum_assumptions_df, 'Cluster2', 'CS')\n",
    "lm_eqn(Sputum_assumptions_df, 'Cluster2', 'Ecig')\n",
    "lm_eqn(Sputum_assumptions_df, 'Cluster3', 'NS')\n",
    "lm_eqn(Sputum_assumptions_df, 'Cluster3', 'CS')\n",
    "lm_eqn(Sputum_assumptions_df, 'Cluster3', 'Ecig')\n",
    "lm_eqn(Serum_assumptions_df, 'Cluster1', 'NS')\n",
    "lm_eqn(Serum_assumptions_df, 'Cluster1', 'CS')\n",
    "lm_eqn(Serum_assumptions_df, 'Cluster1', 'Ecig')\n",
    "lm_eqn(Serum_assumptions_df, 'Cluster2', 'NS')\n",
    "lm_eqn(Serum_assumptions_df, 'Cluster2', 'CS')\n",
    "lm_eqn(Serum_assumptions_df, 'Cluster2', 'Ecig')\n",
    "lm_eqn(Serum_assumptions_df, 'Cluster3', 'NS')\n",
    "lm_eqn(Serum_assumptions_df, 'Cluster3', 'CS')\n",
    "lm_eqn(Serum_assumptions_df, 'Cluster3', 'Ecig')"
   ]
  },
  {
   "cell_type": "markdown",
   "metadata": {},
   "source": [
    "The r squared values indicate that the linearity assumption isn't met. \n",
    "\n",
    "<b> Homogeneity of Regression Slopes: checks that there's no significant interaction between the covariate and the grouping variable. </b>"
   ]
  },
  {
   "cell_type": "code",
   "execution_count": 12,
   "metadata": {},
   "outputs": [
    {
     "name": "stderr",
     "output_type": "stream",
     "text": [
      "\n",
      "Attaching package: ‘rstatix’\n",
      "\n",
      "\n",
      "The following object is masked from ‘package:janitor’:\n",
      "\n",
      "    make_clean_names\n",
      "\n",
      "\n",
      "The following object is masked from ‘package:stats’:\n",
      "\n",
      "    filter\n",
      "\n",
      "\n"
     ]
    }
   ],
   "source": [
    "library(rstatix)"
   ]
  },
  {
   "cell_type": "code",
   "execution_count": 13,
   "metadata": {
    "collapsed": true
   },
   "outputs": [
    {
     "name": "stderr",
     "output_type": "stream",
     "text": [
      "Coefficient covariances computed by hccm()\n",
      "\n"
     ]
    },
    {
     "data": {
      "text/html": [
       "<table>\n",
       "<caption>A anova_test: 1 × 7</caption>\n",
       "<thead>\n",
       "\t<tr><th></th><th scope=col>Effect</th><th scope=col>DFn</th><th scope=col>DFd</th><th scope=col>F</th><th scope=col>p</th><th scope=col>p&lt;.05</th><th scope=col>ges</th></tr>\n",
       "\t<tr><th></th><th scope=col>&lt;chr&gt;</th><th scope=col>&lt;dbl&gt;</th><th scope=col>&lt;dbl&gt;</th><th scope=col>&lt;dbl&gt;</th><th scope=col>&lt;dbl&gt;</th><th scope=col>&lt;chr&gt;</th><th scope=col>&lt;dbl&gt;</th></tr>\n",
       "</thead>\n",
       "<tbody>\n",
       "\t<tr><th scope=row>3</th><td>Group:Age</td><td>2</td><td>38</td><td>1.279</td><td>0.29</td><td></td><td>0.063</td></tr>\n",
       "</tbody>\n",
       "</table>\n"
      ],
      "text/latex": [
       "A anova\\_test: 1 × 7\n",
       "\\begin{tabular}{r|lllllll}\n",
       "  & Effect & DFn & DFd & F & p & p<.05 & ges\\\\\n",
       "  & <chr> & <dbl> & <dbl> & <dbl> & <dbl> & <chr> & <dbl>\\\\\n",
       "\\hline\n",
       "\t3 & Group:Age & 2 & 38 & 1.279 & 0.29 &  & 0.063\\\\\n",
       "\\end{tabular}\n"
      ],
      "text/markdown": [
       "\n",
       "A anova_test: 1 × 7\n",
       "\n",
       "| <!--/--> | Effect &lt;chr&gt; | DFn &lt;dbl&gt; | DFd &lt;dbl&gt; | F &lt;dbl&gt; | p &lt;dbl&gt; | p&lt;.05 &lt;chr&gt; | ges &lt;dbl&gt; |\n",
       "|---|---|---|---|---|---|---|---|\n",
       "| 3 | Group:Age | 2 | 38 | 1.279 | 0.29 | <!----> | 0.063 |\n",
       "\n"
      ],
      "text/plain": [
       "  Effect    DFn DFd F     p    p<.05 ges  \n",
       "3 Group:Age 2   38  1.279 0.29       0.063"
      ]
     },
     "metadata": {},
     "output_type": "display_data"
    },
    {
     "name": "stderr",
     "output_type": "stream",
     "text": [
      "Coefficient covariances computed by hccm()\n",
      "\n"
     ]
    },
    {
     "data": {
      "text/html": [
       "<table>\n",
       "<caption>A anova_test: 1 × 7</caption>\n",
       "<thead>\n",
       "\t<tr><th></th><th scope=col>Effect</th><th scope=col>DFn</th><th scope=col>DFd</th><th scope=col>F</th><th scope=col>p</th><th scope=col>p&lt;.05</th><th scope=col>ges</th></tr>\n",
       "\t<tr><th></th><th scope=col>&lt;chr&gt;</th><th scope=col>&lt;dbl&gt;</th><th scope=col>&lt;dbl&gt;</th><th scope=col>&lt;dbl&gt;</th><th scope=col>&lt;dbl&gt;</th><th scope=col>&lt;chr&gt;</th><th scope=col>&lt;dbl&gt;</th></tr>\n",
       "</thead>\n",
       "<tbody>\n",
       "\t<tr><th scope=row>3</th><td>Group:Age</td><td>2</td><td>38</td><td>0.105</td><td>0.9</td><td></td><td>0.006</td></tr>\n",
       "</tbody>\n",
       "</table>\n"
      ],
      "text/latex": [
       "A anova\\_test: 1 × 7\n",
       "\\begin{tabular}{r|lllllll}\n",
       "  & Effect & DFn & DFd & F & p & p<.05 & ges\\\\\n",
       "  & <chr> & <dbl> & <dbl> & <dbl> & <dbl> & <chr> & <dbl>\\\\\n",
       "\\hline\n",
       "\t3 & Group:Age & 2 & 38 & 0.105 & 0.9 &  & 0.006\\\\\n",
       "\\end{tabular}\n"
      ],
      "text/markdown": [
       "\n",
       "A anova_test: 1 × 7\n",
       "\n",
       "| <!--/--> | Effect &lt;chr&gt; | DFn &lt;dbl&gt; | DFd &lt;dbl&gt; | F &lt;dbl&gt; | p &lt;dbl&gt; | p&lt;.05 &lt;chr&gt; | ges &lt;dbl&gt; |\n",
       "|---|---|---|---|---|---|---|---|\n",
       "| 3 | Group:Age | 2 | 38 | 0.105 | 0.9 | <!----> | 0.006 |\n",
       "\n"
      ],
      "text/plain": [
       "  Effect    DFn DFd F     p   p<.05 ges  \n",
       "3 Group:Age 2   38  0.105 0.9       0.006"
      ]
     },
     "metadata": {},
     "output_type": "display_data"
    },
    {
     "name": "stderr",
     "output_type": "stream",
     "text": [
      "Coefficient covariances computed by hccm()\n",
      "\n"
     ]
    },
    {
     "data": {
      "text/html": [
       "<table>\n",
       "<caption>A anova_test: 1 × 7</caption>\n",
       "<thead>\n",
       "\t<tr><th></th><th scope=col>Effect</th><th scope=col>DFn</th><th scope=col>DFd</th><th scope=col>F</th><th scope=col>p</th><th scope=col>p&lt;.05</th><th scope=col>ges</th></tr>\n",
       "\t<tr><th></th><th scope=col>&lt;chr&gt;</th><th scope=col>&lt;dbl&gt;</th><th scope=col>&lt;dbl&gt;</th><th scope=col>&lt;dbl&gt;</th><th scope=col>&lt;dbl&gt;</th><th scope=col>&lt;chr&gt;</th><th scope=col>&lt;dbl&gt;</th></tr>\n",
       "</thead>\n",
       "<tbody>\n",
       "\t<tr><th scope=row>3</th><td>Group:Age</td><td>2</td><td>38</td><td>0.298</td><td>0.744</td><td></td><td>0.015</td></tr>\n",
       "</tbody>\n",
       "</table>\n"
      ],
      "text/latex": [
       "A anova\\_test: 1 × 7\n",
       "\\begin{tabular}{r|lllllll}\n",
       "  & Effect & DFn & DFd & F & p & p<.05 & ges\\\\\n",
       "  & <chr> & <dbl> & <dbl> & <dbl> & <dbl> & <chr> & <dbl>\\\\\n",
       "\\hline\n",
       "\t3 & Group:Age & 2 & 38 & 0.298 & 0.744 &  & 0.015\\\\\n",
       "\\end{tabular}\n"
      ],
      "text/markdown": [
       "\n",
       "A anova_test: 1 × 7\n",
       "\n",
       "| <!--/--> | Effect &lt;chr&gt; | DFn &lt;dbl&gt; | DFd &lt;dbl&gt; | F &lt;dbl&gt; | p &lt;dbl&gt; | p&lt;.05 &lt;chr&gt; | ges &lt;dbl&gt; |\n",
       "|---|---|---|---|---|---|---|---|\n",
       "| 3 | Group:Age | 2 | 38 | 0.298 | 0.744 | <!----> | 0.015 |\n",
       "\n"
      ],
      "text/plain": [
       "  Effect    DFn DFd F     p     p<.05 ges  \n",
       "3 Group:Age 2   38  0.298 0.744       0.015"
      ]
     },
     "metadata": {},
     "output_type": "display_data"
    },
    {
     "name": "stderr",
     "output_type": "stream",
     "text": [
      "Coefficient covariances computed by hccm()\n",
      "\n"
     ]
    },
    {
     "data": {
      "text/html": [
       "<table>\n",
       "<caption>A anova_test: 1 × 7</caption>\n",
       "<thead>\n",
       "\t<tr><th></th><th scope=col>Effect</th><th scope=col>DFn</th><th scope=col>DFd</th><th scope=col>F</th><th scope=col>p</th><th scope=col>p&lt;.05</th><th scope=col>ges</th></tr>\n",
       "\t<tr><th></th><th scope=col>&lt;chr&gt;</th><th scope=col>&lt;dbl&gt;</th><th scope=col>&lt;dbl&gt;</th><th scope=col>&lt;dbl&gt;</th><th scope=col>&lt;dbl&gt;</th><th scope=col>&lt;chr&gt;</th><th scope=col>&lt;dbl&gt;</th></tr>\n",
       "</thead>\n",
       "<tbody>\n",
       "\t<tr><th scope=row>3</th><td>Group:Age</td><td>2</td><td>38</td><td>0.298</td><td>0.744</td><td></td><td>0.015</td></tr>\n",
       "</tbody>\n",
       "</table>\n"
      ],
      "text/latex": [
       "A anova\\_test: 1 × 7\n",
       "\\begin{tabular}{r|lllllll}\n",
       "  & Effect & DFn & DFd & F & p & p<.05 & ges\\\\\n",
       "  & <chr> & <dbl> & <dbl> & <dbl> & <dbl> & <chr> & <dbl>\\\\\n",
       "\\hline\n",
       "\t3 & Group:Age & 2 & 38 & 0.298 & 0.744 &  & 0.015\\\\\n",
       "\\end{tabular}\n"
      ],
      "text/markdown": [
       "\n",
       "A anova_test: 1 × 7\n",
       "\n",
       "| <!--/--> | Effect &lt;chr&gt; | DFn &lt;dbl&gt; | DFd &lt;dbl&gt; | F &lt;dbl&gt; | p &lt;dbl&gt; | p&lt;.05 &lt;chr&gt; | ges &lt;dbl&gt; |\n",
       "|---|---|---|---|---|---|---|---|\n",
       "| 3 | Group:Age | 2 | 38 | 0.298 | 0.744 | <!----> | 0.015 |\n",
       "\n"
      ],
      "text/plain": [
       "  Effect    DFn DFd F     p     p<.05 ges  \n",
       "3 Group:Age 2   38  0.298 0.744       0.015"
      ]
     },
     "metadata": {},
     "output_type": "display_data"
    },
    {
     "name": "stderr",
     "output_type": "stream",
     "text": [
      "Coefficient covariances computed by hccm()\n",
      "\n"
     ]
    },
    {
     "data": {
      "text/html": [
       "<table>\n",
       "<caption>A anova_test: 1 × 7</caption>\n",
       "<thead>\n",
       "\t<tr><th></th><th scope=col>Effect</th><th scope=col>DFn</th><th scope=col>DFd</th><th scope=col>F</th><th scope=col>p</th><th scope=col>p&lt;.05</th><th scope=col>ges</th></tr>\n",
       "\t<tr><th></th><th scope=col>&lt;chr&gt;</th><th scope=col>&lt;dbl&gt;</th><th scope=col>&lt;dbl&gt;</th><th scope=col>&lt;dbl&gt;</th><th scope=col>&lt;dbl&gt;</th><th scope=col>&lt;chr&gt;</th><th scope=col>&lt;dbl&gt;</th></tr>\n",
       "</thead>\n",
       "<tbody>\n",
       "\t<tr><th scope=row>3</th><td>Group:Age</td><td>2</td><td>38</td><td>1.203</td><td>0.312</td><td></td><td>0.06</td></tr>\n",
       "</tbody>\n",
       "</table>\n"
      ],
      "text/latex": [
       "A anova\\_test: 1 × 7\n",
       "\\begin{tabular}{r|lllllll}\n",
       "  & Effect & DFn & DFd & F & p & p<.05 & ges\\\\\n",
       "  & <chr> & <dbl> & <dbl> & <dbl> & <dbl> & <chr> & <dbl>\\\\\n",
       "\\hline\n",
       "\t3 & Group:Age & 2 & 38 & 1.203 & 0.312 &  & 0.06\\\\\n",
       "\\end{tabular}\n"
      ],
      "text/markdown": [
       "\n",
       "A anova_test: 1 × 7\n",
       "\n",
       "| <!--/--> | Effect &lt;chr&gt; | DFn &lt;dbl&gt; | DFd &lt;dbl&gt; | F &lt;dbl&gt; | p &lt;dbl&gt; | p&lt;.05 &lt;chr&gt; | ges &lt;dbl&gt; |\n",
       "|---|---|---|---|---|---|---|---|\n",
       "| 3 | Group:Age | 2 | 38 | 1.203 | 0.312 | <!----> | 0.06 |\n",
       "\n"
      ],
      "text/plain": [
       "  Effect    DFn DFd F     p     p<.05 ges \n",
       "3 Group:Age 2   38  1.203 0.312       0.06"
      ]
     },
     "metadata": {},
     "output_type": "display_data"
    },
    {
     "name": "stderr",
     "output_type": "stream",
     "text": [
      "Coefficient covariances computed by hccm()\n",
      "\n"
     ]
    },
    {
     "data": {
      "text/html": [
       "<table>\n",
       "<caption>A anova_test: 1 × 7</caption>\n",
       "<thead>\n",
       "\t<tr><th></th><th scope=col>Effect</th><th scope=col>DFn</th><th scope=col>DFd</th><th scope=col>F</th><th scope=col>p</th><th scope=col>p&lt;.05</th><th scope=col>ges</th></tr>\n",
       "\t<tr><th></th><th scope=col>&lt;chr&gt;</th><th scope=col>&lt;dbl&gt;</th><th scope=col>&lt;dbl&gt;</th><th scope=col>&lt;dbl&gt;</th><th scope=col>&lt;dbl&gt;</th><th scope=col>&lt;chr&gt;</th><th scope=col>&lt;dbl&gt;</th></tr>\n",
       "</thead>\n",
       "<tbody>\n",
       "\t<tr><th scope=row>3</th><td>Group:Age</td><td>2</td><td>38</td><td>1.376</td><td>0.265</td><td></td><td>0.068</td></tr>\n",
       "</tbody>\n",
       "</table>\n"
      ],
      "text/latex": [
       "A anova\\_test: 1 × 7\n",
       "\\begin{tabular}{r|lllllll}\n",
       "  & Effect & DFn & DFd & F & p & p<.05 & ges\\\\\n",
       "  & <chr> & <dbl> & <dbl> & <dbl> & <dbl> & <chr> & <dbl>\\\\\n",
       "\\hline\n",
       "\t3 & Group:Age & 2 & 38 & 1.376 & 0.265 &  & 0.068\\\\\n",
       "\\end{tabular}\n"
      ],
      "text/markdown": [
       "\n",
       "A anova_test: 1 × 7\n",
       "\n",
       "| <!--/--> | Effect &lt;chr&gt; | DFn &lt;dbl&gt; | DFd &lt;dbl&gt; | F &lt;dbl&gt; | p &lt;dbl&gt; | p&lt;.05 &lt;chr&gt; | ges &lt;dbl&gt; |\n",
       "|---|---|---|---|---|---|---|---|\n",
       "| 3 | Group:Age | 2 | 38 | 1.376 | 0.265 | <!----> | 0.068 |\n",
       "\n"
      ],
      "text/plain": [
       "  Effect    DFn DFd F     p     p<.05 ges  \n",
       "3 Group:Age 2   38  1.376 0.265       0.068"
      ]
     },
     "metadata": {},
     "output_type": "display_data"
    },
    {
     "name": "stderr",
     "output_type": "stream",
     "text": [
      "Coefficient covariances computed by hccm()\n",
      "\n"
     ]
    },
    {
     "data": {
      "text/html": [
       "<table>\n",
       "<caption>A anova_test: 1 × 7</caption>\n",
       "<thead>\n",
       "\t<tr><th></th><th scope=col>Effect</th><th scope=col>DFn</th><th scope=col>DFd</th><th scope=col>F</th><th scope=col>p</th><th scope=col>p&lt;.05</th><th scope=col>ges</th></tr>\n",
       "\t<tr><th></th><th scope=col>&lt;chr&gt;</th><th scope=col>&lt;dbl&gt;</th><th scope=col>&lt;dbl&gt;</th><th scope=col>&lt;dbl&gt;</th><th scope=col>&lt;dbl&gt;</th><th scope=col>&lt;chr&gt;</th><th scope=col>&lt;dbl&gt;</th></tr>\n",
       "</thead>\n",
       "<tbody>\n",
       "\t<tr><th scope=row>3</th><td>Group:Age</td><td>2</td><td>38</td><td>0.765</td><td>0.472</td><td></td><td>0.039</td></tr>\n",
       "</tbody>\n",
       "</table>\n"
      ],
      "text/latex": [
       "A anova\\_test: 1 × 7\n",
       "\\begin{tabular}{r|lllllll}\n",
       "  & Effect & DFn & DFd & F & p & p<.05 & ges\\\\\n",
       "  & <chr> & <dbl> & <dbl> & <dbl> & <dbl> & <chr> & <dbl>\\\\\n",
       "\\hline\n",
       "\t3 & Group:Age & 2 & 38 & 0.765 & 0.472 &  & 0.039\\\\\n",
       "\\end{tabular}\n"
      ],
      "text/markdown": [
       "\n",
       "A anova_test: 1 × 7\n",
       "\n",
       "| <!--/--> | Effect &lt;chr&gt; | DFn &lt;dbl&gt; | DFd &lt;dbl&gt; | F &lt;dbl&gt; | p &lt;dbl&gt; | p&lt;.05 &lt;chr&gt; | ges &lt;dbl&gt; |\n",
       "|---|---|---|---|---|---|---|---|\n",
       "| 3 | Group:Age | 2 | 38 | 0.765 | 0.472 | <!----> | 0.039 |\n",
       "\n"
      ],
      "text/plain": [
       "  Effect    DFn DFd F     p     p<.05 ges  \n",
       "3 Group:Age 2   38  0.765 0.472       0.039"
      ]
     },
     "metadata": {},
     "output_type": "display_data"
    },
    {
     "name": "stderr",
     "output_type": "stream",
     "text": [
      "Coefficient covariances computed by hccm()\n",
      "\n"
     ]
    },
    {
     "data": {
      "text/html": [
       "<table>\n",
       "<caption>A anova_test: 1 × 7</caption>\n",
       "<thead>\n",
       "\t<tr><th></th><th scope=col>Effect</th><th scope=col>DFn</th><th scope=col>DFd</th><th scope=col>F</th><th scope=col>p</th><th scope=col>p&lt;.05</th><th scope=col>ges</th></tr>\n",
       "\t<tr><th></th><th scope=col>&lt;chr&gt;</th><th scope=col>&lt;dbl&gt;</th><th scope=col>&lt;dbl&gt;</th><th scope=col>&lt;dbl&gt;</th><th scope=col>&lt;dbl&gt;</th><th scope=col>&lt;chr&gt;</th><th scope=col>&lt;dbl&gt;</th></tr>\n",
       "</thead>\n",
       "<tbody>\n",
       "\t<tr><th scope=row>3</th><td>Group:Age</td><td>2</td><td>38</td><td>0.832</td><td>0.443</td><td></td><td>0.042</td></tr>\n",
       "</tbody>\n",
       "</table>\n"
      ],
      "text/latex": [
       "A anova\\_test: 1 × 7\n",
       "\\begin{tabular}{r|lllllll}\n",
       "  & Effect & DFn & DFd & F & p & p<.05 & ges\\\\\n",
       "  & <chr> & <dbl> & <dbl> & <dbl> & <dbl> & <chr> & <dbl>\\\\\n",
       "\\hline\n",
       "\t3 & Group:Age & 2 & 38 & 0.832 & 0.443 &  & 0.042\\\\\n",
       "\\end{tabular}\n"
      ],
      "text/markdown": [
       "\n",
       "A anova_test: 1 × 7\n",
       "\n",
       "| <!--/--> | Effect &lt;chr&gt; | DFn &lt;dbl&gt; | DFd &lt;dbl&gt; | F &lt;dbl&gt; | p &lt;dbl&gt; | p&lt;.05 &lt;chr&gt; | ges &lt;dbl&gt; |\n",
       "|---|---|---|---|---|---|---|---|\n",
       "| 3 | Group:Age | 2 | 38 | 0.832 | 0.443 | <!----> | 0.042 |\n",
       "\n"
      ],
      "text/plain": [
       "  Effect    DFn DFd F     p     p<.05 ges  \n",
       "3 Group:Age 2   38  0.832 0.443       0.042"
      ]
     },
     "metadata": {},
     "output_type": "display_data"
    },
    {
     "name": "stderr",
     "output_type": "stream",
     "text": [
      "Coefficient covariances computed by hccm()\n",
      "\n"
     ]
    },
    {
     "data": {
      "text/html": [
       "<table>\n",
       "<caption>A anova_test: 1 × 7</caption>\n",
       "<thead>\n",
       "\t<tr><th></th><th scope=col>Effect</th><th scope=col>DFn</th><th scope=col>DFd</th><th scope=col>F</th><th scope=col>p</th><th scope=col>p&lt;.05</th><th scope=col>ges</th></tr>\n",
       "\t<tr><th></th><th scope=col>&lt;chr&gt;</th><th scope=col>&lt;dbl&gt;</th><th scope=col>&lt;dbl&gt;</th><th scope=col>&lt;dbl&gt;</th><th scope=col>&lt;dbl&gt;</th><th scope=col>&lt;chr&gt;</th><th scope=col>&lt;dbl&gt;</th></tr>\n",
       "</thead>\n",
       "<tbody>\n",
       "\t<tr><th scope=row>3</th><td>Group:Age</td><td>2</td><td>38</td><td>0.403</td><td>0.671</td><td></td><td>0.021</td></tr>\n",
       "</tbody>\n",
       "</table>\n"
      ],
      "text/latex": [
       "A anova\\_test: 1 × 7\n",
       "\\begin{tabular}{r|lllllll}\n",
       "  & Effect & DFn & DFd & F & p & p<.05 & ges\\\\\n",
       "  & <chr> & <dbl> & <dbl> & <dbl> & <dbl> & <chr> & <dbl>\\\\\n",
       "\\hline\n",
       "\t3 & Group:Age & 2 & 38 & 0.403 & 0.671 &  & 0.021\\\\\n",
       "\\end{tabular}\n"
      ],
      "text/markdown": [
       "\n",
       "A anova_test: 1 × 7\n",
       "\n",
       "| <!--/--> | Effect &lt;chr&gt; | DFn &lt;dbl&gt; | DFd &lt;dbl&gt; | F &lt;dbl&gt; | p &lt;dbl&gt; | p&lt;.05 &lt;chr&gt; | ges &lt;dbl&gt; |\n",
       "|---|---|---|---|---|---|---|---|\n",
       "| 3 | Group:Age | 2 | 38 | 0.403 | 0.671 | <!----> | 0.021 |\n",
       "\n"
      ],
      "text/plain": [
       "  Effect    DFn DFd F     p     p<.05 ges  \n",
       "3 Group:Age 2   38  0.403 0.671       0.021"
      ]
     },
     "metadata": {},
     "output_type": "display_data"
    },
    {
     "name": "stderr",
     "output_type": "stream",
     "text": [
      "Coefficient covariances computed by hccm()\n",
      "\n"
     ]
    },
    {
     "data": {
      "text/html": [
       "<table>\n",
       "<caption>A anova_test: 1 × 7</caption>\n",
       "<thead>\n",
       "\t<tr><th></th><th scope=col>Effect</th><th scope=col>DFn</th><th scope=col>DFd</th><th scope=col>F</th><th scope=col>p</th><th scope=col>p&lt;.05</th><th scope=col>ges</th></tr>\n",
       "\t<tr><th></th><th scope=col>&lt;chr&gt;</th><th scope=col>&lt;dbl&gt;</th><th scope=col>&lt;dbl&gt;</th><th scope=col>&lt;dbl&gt;</th><th scope=col>&lt;dbl&gt;</th><th scope=col>&lt;chr&gt;</th><th scope=col>&lt;dbl&gt;</th></tr>\n",
       "</thead>\n",
       "<tbody>\n",
       "\t<tr><th scope=row>3</th><td>Group:Age</td><td>2</td><td>37</td><td>0.395</td><td>0.677</td><td></td><td>0.021</td></tr>\n",
       "</tbody>\n",
       "</table>\n"
      ],
      "text/latex": [
       "A anova\\_test: 1 × 7\n",
       "\\begin{tabular}{r|lllllll}\n",
       "  & Effect & DFn & DFd & F & p & p<.05 & ges\\\\\n",
       "  & <chr> & <dbl> & <dbl> & <dbl> & <dbl> & <chr> & <dbl>\\\\\n",
       "\\hline\n",
       "\t3 & Group:Age & 2 & 37 & 0.395 & 0.677 &  & 0.021\\\\\n",
       "\\end{tabular}\n"
      ],
      "text/markdown": [
       "\n",
       "A anova_test: 1 × 7\n",
       "\n",
       "| <!--/--> | Effect &lt;chr&gt; | DFn &lt;dbl&gt; | DFd &lt;dbl&gt; | F &lt;dbl&gt; | p &lt;dbl&gt; | p&lt;.05 &lt;chr&gt; | ges &lt;dbl&gt; |\n",
       "|---|---|---|---|---|---|---|---|\n",
       "| 3 | Group:Age | 2 | 37 | 0.395 | 0.677 | <!----> | 0.021 |\n",
       "\n"
      ],
      "text/plain": [
       "  Effect    DFn DFd F     p     p<.05 ges  \n",
       "3 Group:Age 2   37  0.395 0.677       0.021"
      ]
     },
     "metadata": {},
     "output_type": "display_data"
    },
    {
     "name": "stderr",
     "output_type": "stream",
     "text": [
      "Coefficient covariances computed by hccm()\n",
      "\n"
     ]
    },
    {
     "data": {
      "text/html": [
       "<table>\n",
       "<caption>A anova_test: 1 × 7</caption>\n",
       "<thead>\n",
       "\t<tr><th></th><th scope=col>Effect</th><th scope=col>DFn</th><th scope=col>DFd</th><th scope=col>F</th><th scope=col>p</th><th scope=col>p&lt;.05</th><th scope=col>ges</th></tr>\n",
       "\t<tr><th></th><th scope=col>&lt;chr&gt;</th><th scope=col>&lt;dbl&gt;</th><th scope=col>&lt;dbl&gt;</th><th scope=col>&lt;dbl&gt;</th><th scope=col>&lt;dbl&gt;</th><th scope=col>&lt;chr&gt;</th><th scope=col>&lt;dbl&gt;</th></tr>\n",
       "</thead>\n",
       "<tbody>\n",
       "\t<tr><th scope=row>3</th><td>Group:Age</td><td>2</td><td>37</td><td>0.274</td><td>0.762</td><td></td><td>0.015</td></tr>\n",
       "</tbody>\n",
       "</table>\n"
      ],
      "text/latex": [
       "A anova\\_test: 1 × 7\n",
       "\\begin{tabular}{r|lllllll}\n",
       "  & Effect & DFn & DFd & F & p & p<.05 & ges\\\\\n",
       "  & <chr> & <dbl> & <dbl> & <dbl> & <dbl> & <chr> & <dbl>\\\\\n",
       "\\hline\n",
       "\t3 & Group:Age & 2 & 37 & 0.274 & 0.762 &  & 0.015\\\\\n",
       "\\end{tabular}\n"
      ],
      "text/markdown": [
       "\n",
       "A anova_test: 1 × 7\n",
       "\n",
       "| <!--/--> | Effect &lt;chr&gt; | DFn &lt;dbl&gt; | DFd &lt;dbl&gt; | F &lt;dbl&gt; | p &lt;dbl&gt; | p&lt;.05 &lt;chr&gt; | ges &lt;dbl&gt; |\n",
       "|---|---|---|---|---|---|---|---|\n",
       "| 3 | Group:Age | 2 | 37 | 0.274 | 0.762 | <!----> | 0.015 |\n",
       "\n"
      ],
      "text/plain": [
       "  Effect    DFn DFd F     p     p<.05 ges  \n",
       "3 Group:Age 2   37  0.274 0.762       0.015"
      ]
     },
     "metadata": {},
     "output_type": "display_data"
    },
    {
     "name": "stderr",
     "output_type": "stream",
     "text": [
      "Coefficient covariances computed by hccm()\n",
      "\n"
     ]
    },
    {
     "data": {
      "text/html": [
       "<table>\n",
       "<caption>A anova_test: 1 × 7</caption>\n",
       "<thead>\n",
       "\t<tr><th></th><th scope=col>Effect</th><th scope=col>DFn</th><th scope=col>DFd</th><th scope=col>F</th><th scope=col>p</th><th scope=col>p&lt;.05</th><th scope=col>ges</th></tr>\n",
       "\t<tr><th></th><th scope=col>&lt;chr&gt;</th><th scope=col>&lt;dbl&gt;</th><th scope=col>&lt;dbl&gt;</th><th scope=col>&lt;dbl&gt;</th><th scope=col>&lt;dbl&gt;</th><th scope=col>&lt;chr&gt;</th><th scope=col>&lt;dbl&gt;</th></tr>\n",
       "</thead>\n",
       "<tbody>\n",
       "\t<tr><th scope=row>3</th><td>Group:Age</td><td>2</td><td>37</td><td>0.28</td><td>0.757</td><td></td><td>0.015</td></tr>\n",
       "</tbody>\n",
       "</table>\n"
      ],
      "text/latex": [
       "A anova\\_test: 1 × 7\n",
       "\\begin{tabular}{r|lllllll}\n",
       "  & Effect & DFn & DFd & F & p & p<.05 & ges\\\\\n",
       "  & <chr> & <dbl> & <dbl> & <dbl> & <dbl> & <chr> & <dbl>\\\\\n",
       "\\hline\n",
       "\t3 & Group:Age & 2 & 37 & 0.28 & 0.757 &  & 0.015\\\\\n",
       "\\end{tabular}\n"
      ],
      "text/markdown": [
       "\n",
       "A anova_test: 1 × 7\n",
       "\n",
       "| <!--/--> | Effect &lt;chr&gt; | DFn &lt;dbl&gt; | DFd &lt;dbl&gt; | F &lt;dbl&gt; | p &lt;dbl&gt; | p&lt;.05 &lt;chr&gt; | ges &lt;dbl&gt; |\n",
       "|---|---|---|---|---|---|---|---|\n",
       "| 3 | Group:Age | 2 | 37 | 0.28 | 0.757 | <!----> | 0.015 |\n",
       "\n"
      ],
      "text/plain": [
       "  Effect    DFn DFd F    p     p<.05 ges  \n",
       "3 Group:Age 2   37  0.28 0.757       0.015"
      ]
     },
     "metadata": {},
     "output_type": "display_data"
    }
   ],
   "source": [
    "homogeneity_test_ancova = function(df, cluster){\n",
    "    test = df %>%\n",
    "        filter(Cluster == cluster) %>%\n",
    "        anova_test(Conc~Group*Age)\n",
    "    return(test[3,]) #just need the last row that shows this interaction\n",
    "}\n",
    "homogeneity_test_ancova(NLF_assumptions_df, 'Cluster1')\n",
    "homogeneity_test_ancova(NLF_assumptions_df, 'Cluster2')\n",
    "homogeneity_test_ancova(NLF_assumptions_df, 'Cluster3')\n",
    "homogeneity_test_ancova(ELF_assumptions_df, 'Cluster1')\n",
    "homogeneity_test_ancova(ELF_assumptions_df, 'Cluster2')\n",
    "homogeneity_test_ancova(ELF_assumptions_df, 'Cluster3')\n",
    "homogeneity_test_ancova(Sputum_assumptions_df, 'Cluster1')\n",
    "homogeneity_test_ancova(Sputum_assumptions_df, 'Cluster2')\n",
    "homogeneity_test_ancova(Sputum_assumptions_df, 'Cluster3')\n",
    "homogeneity_test_ancova(Serum_assumptions_df, 'Cluster1')\n",
    "homogeneity_test_ancova(Serum_assumptions_df, 'Cluster2')\n",
    "homogeneity_test_ancova(Serum_assumptions_df, 'Cluster3')"
   ]
  },
  {
   "cell_type": "markdown",
   "metadata": {},
   "source": [
    "Since none of the pvalues < 0.05, this assumption is met. \n",
    "\n",
    "<b>Normality of residuals</b>"
   ]
  },
  {
   "cell_type": "code",
   "execution_count": 14,
   "metadata": {
    "collapsed": true
   },
   "outputs": [
    {
     "data": {
      "text/html": [
       "<table>\n",
       "<caption>A tibble: 1 × 3</caption>\n",
       "<thead>\n",
       "\t<tr><th scope=col>variable</th><th scope=col>statistic</th><th scope=col>p.value</th></tr>\n",
       "\t<tr><th scope=col>&lt;chr&gt;</th><th scope=col>&lt;dbl&gt;</th><th scope=col>&lt;dbl&gt;</th></tr>\n",
       "</thead>\n",
       "<tbody>\n",
       "\t<tr><td>model.metrics$.resid</td><td>0.9763147</td><td>0.4933768</td></tr>\n",
       "</tbody>\n",
       "</table>\n"
      ],
      "text/latex": [
       "A tibble: 1 × 3\n",
       "\\begin{tabular}{lll}\n",
       " variable & statistic & p.value\\\\\n",
       " <chr> & <dbl> & <dbl>\\\\\n",
       "\\hline\n",
       "\t model.metrics\\$.resid & 0.9763147 & 0.4933768\\\\\n",
       "\\end{tabular}\n"
      ],
      "text/markdown": [
       "\n",
       "A tibble: 1 × 3\n",
       "\n",
       "| variable &lt;chr&gt; | statistic &lt;dbl&gt; | p.value &lt;dbl&gt; |\n",
       "|---|---|---|\n",
       "| model.metrics$.resid | 0.9763147 | 0.4933768 |\n",
       "\n"
      ],
      "text/plain": [
       "  variable             statistic p.value  \n",
       "1 model.metrics$.resid 0.9763147 0.4933768"
      ]
     },
     "metadata": {},
     "output_type": "display_data"
    },
    {
     "data": {
      "text/html": [
       "<table>\n",
       "<caption>A tibble: 1 × 3</caption>\n",
       "<thead>\n",
       "\t<tr><th scope=col>variable</th><th scope=col>statistic</th><th scope=col>p.value</th></tr>\n",
       "\t<tr><th scope=col>&lt;chr&gt;</th><th scope=col>&lt;dbl&gt;</th><th scope=col>&lt;dbl&gt;</th></tr>\n",
       "</thead>\n",
       "<tbody>\n",
       "\t<tr><td>model.metrics$.resid</td><td>0.8814153</td><td>0.0003064762</td></tr>\n",
       "</tbody>\n",
       "</table>\n"
      ],
      "text/latex": [
       "A tibble: 1 × 3\n",
       "\\begin{tabular}{lll}\n",
       " variable & statistic & p.value\\\\\n",
       " <chr> & <dbl> & <dbl>\\\\\n",
       "\\hline\n",
       "\t model.metrics\\$.resid & 0.8814153 & 0.0003064762\\\\\n",
       "\\end{tabular}\n"
      ],
      "text/markdown": [
       "\n",
       "A tibble: 1 × 3\n",
       "\n",
       "| variable &lt;chr&gt; | statistic &lt;dbl&gt; | p.value &lt;dbl&gt; |\n",
       "|---|---|---|\n",
       "| model.metrics$.resid | 0.8814153 | 0.0003064762 |\n",
       "\n"
      ],
      "text/plain": [
       "  variable             statistic p.value     \n",
       "1 model.metrics$.resid 0.8814153 0.0003064762"
      ]
     },
     "metadata": {},
     "output_type": "display_data"
    },
    {
     "data": {
      "text/html": [
       "<table>\n",
       "<caption>A tibble: 1 × 3</caption>\n",
       "<thead>\n",
       "\t<tr><th scope=col>variable</th><th scope=col>statistic</th><th scope=col>p.value</th></tr>\n",
       "\t<tr><th scope=col>&lt;chr&gt;</th><th scope=col>&lt;dbl&gt;</th><th scope=col>&lt;dbl&gt;</th></tr>\n",
       "</thead>\n",
       "<tbody>\n",
       "\t<tr><td>model.metrics$.resid</td><td>0.7955045</td><td>2.334409e-06</td></tr>\n",
       "</tbody>\n",
       "</table>\n"
      ],
      "text/latex": [
       "A tibble: 1 × 3\n",
       "\\begin{tabular}{lll}\n",
       " variable & statistic & p.value\\\\\n",
       " <chr> & <dbl> & <dbl>\\\\\n",
       "\\hline\n",
       "\t model.metrics\\$.resid & 0.7955045 & 2.334409e-06\\\\\n",
       "\\end{tabular}\n"
      ],
      "text/markdown": [
       "\n",
       "A tibble: 1 × 3\n",
       "\n",
       "| variable &lt;chr&gt; | statistic &lt;dbl&gt; | p.value &lt;dbl&gt; |\n",
       "|---|---|---|\n",
       "| model.metrics$.resid | 0.7955045 | 2.334409e-06 |\n",
       "\n"
      ],
      "text/plain": [
       "  variable             statistic p.value     \n",
       "1 model.metrics$.resid 0.7955045 2.334409e-06"
      ]
     },
     "metadata": {},
     "output_type": "display_data"
    },
    {
     "data": {
      "text/html": [
       "<table>\n",
       "<caption>A tibble: 1 × 3</caption>\n",
       "<thead>\n",
       "\t<tr><th scope=col>variable</th><th scope=col>statistic</th><th scope=col>p.value</th></tr>\n",
       "\t<tr><th scope=col>&lt;chr&gt;</th><th scope=col>&lt;dbl&gt;</th><th scope=col>&lt;dbl&gt;</th></tr>\n",
       "</thead>\n",
       "<tbody>\n",
       "\t<tr><td>model.metrics$.resid</td><td>0.9437617</td><td>0.03238538</td></tr>\n",
       "</tbody>\n",
       "</table>\n"
      ],
      "text/latex": [
       "A tibble: 1 × 3\n",
       "\\begin{tabular}{lll}\n",
       " variable & statistic & p.value\\\\\n",
       " <chr> & <dbl> & <dbl>\\\\\n",
       "\\hline\n",
       "\t model.metrics\\$.resid & 0.9437617 & 0.03238538\\\\\n",
       "\\end{tabular}\n"
      ],
      "text/markdown": [
       "\n",
       "A tibble: 1 × 3\n",
       "\n",
       "| variable &lt;chr&gt; | statistic &lt;dbl&gt; | p.value &lt;dbl&gt; |\n",
       "|---|---|---|\n",
       "| model.metrics$.resid | 0.9437617 | 0.03238538 |\n",
       "\n"
      ],
      "text/plain": [
       "  variable             statistic p.value   \n",
       "1 model.metrics$.resid 0.9437617 0.03238538"
      ]
     },
     "metadata": {},
     "output_type": "display_data"
    },
    {
     "data": {
      "text/html": [
       "<table>\n",
       "<caption>A tibble: 1 × 3</caption>\n",
       "<thead>\n",
       "\t<tr><th scope=col>variable</th><th scope=col>statistic</th><th scope=col>p.value</th></tr>\n",
       "\t<tr><th scope=col>&lt;chr&gt;</th><th scope=col>&lt;dbl&gt;</th><th scope=col>&lt;dbl&gt;</th></tr>\n",
       "</thead>\n",
       "<tbody>\n",
       "\t<tr><td>model.metrics$.resid</td><td>0.8281264</td><td>1.269401e-05</td></tr>\n",
       "</tbody>\n",
       "</table>\n"
      ],
      "text/latex": [
       "A tibble: 1 × 3\n",
       "\\begin{tabular}{lll}\n",
       " variable & statistic & p.value\\\\\n",
       " <chr> & <dbl> & <dbl>\\\\\n",
       "\\hline\n",
       "\t model.metrics\\$.resid & 0.8281264 & 1.269401e-05\\\\\n",
       "\\end{tabular}\n"
      ],
      "text/markdown": [
       "\n",
       "A tibble: 1 × 3\n",
       "\n",
       "| variable &lt;chr&gt; | statistic &lt;dbl&gt; | p.value &lt;dbl&gt; |\n",
       "|---|---|---|\n",
       "| model.metrics$.resid | 0.8281264 | 1.269401e-05 |\n",
       "\n"
      ],
      "text/plain": [
       "  variable             statistic p.value     \n",
       "1 model.metrics$.resid 0.8281264 1.269401e-05"
      ]
     },
     "metadata": {},
     "output_type": "display_data"
    },
    {
     "data": {
      "text/html": [
       "<table>\n",
       "<caption>A tibble: 1 × 3</caption>\n",
       "<thead>\n",
       "\t<tr><th scope=col>variable</th><th scope=col>statistic</th><th scope=col>p.value</th></tr>\n",
       "\t<tr><th scope=col>&lt;chr&gt;</th><th scope=col>&lt;dbl&gt;</th><th scope=col>&lt;dbl&gt;</th></tr>\n",
       "</thead>\n",
       "<tbody>\n",
       "\t<tr><td>model.metrics$.resid</td><td>0.9541105</td><td>0.07832629</td></tr>\n",
       "</tbody>\n",
       "</table>\n"
      ],
      "text/latex": [
       "A tibble: 1 × 3\n",
       "\\begin{tabular}{lll}\n",
       " variable & statistic & p.value\\\\\n",
       " <chr> & <dbl> & <dbl>\\\\\n",
       "\\hline\n",
       "\t model.metrics\\$.resid & 0.9541105 & 0.07832629\\\\\n",
       "\\end{tabular}\n"
      ],
      "text/markdown": [
       "\n",
       "A tibble: 1 × 3\n",
       "\n",
       "| variable &lt;chr&gt; | statistic &lt;dbl&gt; | p.value &lt;dbl&gt; |\n",
       "|---|---|---|\n",
       "| model.metrics$.resid | 0.9541105 | 0.07832629 |\n",
       "\n"
      ],
      "text/plain": [
       "  variable             statistic p.value   \n",
       "1 model.metrics$.resid 0.9541105 0.07832629"
      ]
     },
     "metadata": {},
     "output_type": "display_data"
    },
    {
     "data": {
      "text/html": [
       "<table>\n",
       "<caption>A tibble: 1 × 3</caption>\n",
       "<thead>\n",
       "\t<tr><th scope=col>variable</th><th scope=col>statistic</th><th scope=col>p.value</th></tr>\n",
       "\t<tr><th scope=col>&lt;chr&gt;</th><th scope=col>&lt;dbl&gt;</th><th scope=col>&lt;dbl&gt;</th></tr>\n",
       "</thead>\n",
       "<tbody>\n",
       "\t<tr><td>model.metrics$.resid</td><td>0.975952</td><td>0.4805519</td></tr>\n",
       "</tbody>\n",
       "</table>\n"
      ],
      "text/latex": [
       "A tibble: 1 × 3\n",
       "\\begin{tabular}{lll}\n",
       " variable & statistic & p.value\\\\\n",
       " <chr> & <dbl> & <dbl>\\\\\n",
       "\\hline\n",
       "\t model.metrics\\$.resid & 0.975952 & 0.4805519\\\\\n",
       "\\end{tabular}\n"
      ],
      "text/markdown": [
       "\n",
       "A tibble: 1 × 3\n",
       "\n",
       "| variable &lt;chr&gt; | statistic &lt;dbl&gt; | p.value &lt;dbl&gt; |\n",
       "|---|---|---|\n",
       "| model.metrics$.resid | 0.975952 | 0.4805519 |\n",
       "\n"
      ],
      "text/plain": [
       "  variable             statistic p.value  \n",
       "1 model.metrics$.resid 0.975952  0.4805519"
      ]
     },
     "metadata": {},
     "output_type": "display_data"
    },
    {
     "data": {
      "text/html": [
       "<table>\n",
       "<caption>A tibble: 1 × 3</caption>\n",
       "<thead>\n",
       "\t<tr><th scope=col>variable</th><th scope=col>statistic</th><th scope=col>p.value</th></tr>\n",
       "\t<tr><th scope=col>&lt;chr&gt;</th><th scope=col>&lt;dbl&gt;</th><th scope=col>&lt;dbl&gt;</th></tr>\n",
       "</thead>\n",
       "<tbody>\n",
       "\t<tr><td>model.metrics$.resid</td><td>0.7756034</td><td>8.954073e-07</td></tr>\n",
       "</tbody>\n",
       "</table>\n"
      ],
      "text/latex": [
       "A tibble: 1 × 3\n",
       "\\begin{tabular}{lll}\n",
       " variable & statistic & p.value\\\\\n",
       " <chr> & <dbl> & <dbl>\\\\\n",
       "\\hline\n",
       "\t model.metrics\\$.resid & 0.7756034 & 8.954073e-07\\\\\n",
       "\\end{tabular}\n"
      ],
      "text/markdown": [
       "\n",
       "A tibble: 1 × 3\n",
       "\n",
       "| variable &lt;chr&gt; | statistic &lt;dbl&gt; | p.value &lt;dbl&gt; |\n",
       "|---|---|---|\n",
       "| model.metrics$.resid | 0.7756034 | 8.954073e-07 |\n",
       "\n"
      ],
      "text/plain": [
       "  variable             statistic p.value     \n",
       "1 model.metrics$.resid 0.7756034 8.954073e-07"
      ]
     },
     "metadata": {},
     "output_type": "display_data"
    },
    {
     "data": {
      "text/html": [
       "<table>\n",
       "<caption>A tibble: 1 × 3</caption>\n",
       "<thead>\n",
       "\t<tr><th scope=col>variable</th><th scope=col>statistic</th><th scope=col>p.value</th></tr>\n",
       "\t<tr><th scope=col>&lt;chr&gt;</th><th scope=col>&lt;dbl&gt;</th><th scope=col>&lt;dbl&gt;</th></tr>\n",
       "</thead>\n",
       "<tbody>\n",
       "\t<tr><td>model.metrics$.resid</td><td>0.9288056</td><td>0.009489398</td></tr>\n",
       "</tbody>\n",
       "</table>\n"
      ],
      "text/latex": [
       "A tibble: 1 × 3\n",
       "\\begin{tabular}{lll}\n",
       " variable & statistic & p.value\\\\\n",
       " <chr> & <dbl> & <dbl>\\\\\n",
       "\\hline\n",
       "\t model.metrics\\$.resid & 0.9288056 & 0.009489398\\\\\n",
       "\\end{tabular}\n"
      ],
      "text/markdown": [
       "\n",
       "A tibble: 1 × 3\n",
       "\n",
       "| variable &lt;chr&gt; | statistic &lt;dbl&gt; | p.value &lt;dbl&gt; |\n",
       "|---|---|---|\n",
       "| model.metrics$.resid | 0.9288056 | 0.009489398 |\n",
       "\n"
      ],
      "text/plain": [
       "  variable             statistic p.value    \n",
       "1 model.metrics$.resid 0.9288056 0.009489398"
      ]
     },
     "metadata": {},
     "output_type": "display_data"
    },
    {
     "data": {
      "text/html": [
       "<table>\n",
       "<caption>A tibble: 1 × 3</caption>\n",
       "<thead>\n",
       "\t<tr><th scope=col>variable</th><th scope=col>statistic</th><th scope=col>p.value</th></tr>\n",
       "\t<tr><th scope=col>&lt;chr&gt;</th><th scope=col>&lt;dbl&gt;</th><th scope=col>&lt;dbl&gt;</th></tr>\n",
       "</thead>\n",
       "<tbody>\n",
       "\t<tr><td>model.metrics$.resid</td><td>0.8211883</td><td>1.061983e-05</td></tr>\n",
       "</tbody>\n",
       "</table>\n"
      ],
      "text/latex": [
       "A tibble: 1 × 3\n",
       "\\begin{tabular}{lll}\n",
       " variable & statistic & p.value\\\\\n",
       " <chr> & <dbl> & <dbl>\\\\\n",
       "\\hline\n",
       "\t model.metrics\\$.resid & 0.8211883 & 1.061983e-05\\\\\n",
       "\\end{tabular}\n"
      ],
      "text/markdown": [
       "\n",
       "A tibble: 1 × 3\n",
       "\n",
       "| variable &lt;chr&gt; | statistic &lt;dbl&gt; | p.value &lt;dbl&gt; |\n",
       "|---|---|---|\n",
       "| model.metrics$.resid | 0.8211883 | 1.061983e-05 |\n",
       "\n"
      ],
      "text/plain": [
       "  variable             statistic p.value     \n",
       "1 model.metrics$.resid 0.8211883 1.061983e-05"
      ]
     },
     "metadata": {},
     "output_type": "display_data"
    },
    {
     "data": {
      "text/html": [
       "<table>\n",
       "<caption>A tibble: 1 × 3</caption>\n",
       "<thead>\n",
       "\t<tr><th scope=col>variable</th><th scope=col>statistic</th><th scope=col>p.value</th></tr>\n",
       "\t<tr><th scope=col>&lt;chr&gt;</th><th scope=col>&lt;dbl&gt;</th><th scope=col>&lt;dbl&gt;</th></tr>\n",
       "</thead>\n",
       "<tbody>\n",
       "\t<tr><td>model.metrics$.resid</td><td>0.9688984</td><td>0.2895841</td></tr>\n",
       "</tbody>\n",
       "</table>\n"
      ],
      "text/latex": [
       "A tibble: 1 × 3\n",
       "\\begin{tabular}{lll}\n",
       " variable & statistic & p.value\\\\\n",
       " <chr> & <dbl> & <dbl>\\\\\n",
       "\\hline\n",
       "\t model.metrics\\$.resid & 0.9688984 & 0.2895841\\\\\n",
       "\\end{tabular}\n"
      ],
      "text/markdown": [
       "\n",
       "A tibble: 1 × 3\n",
       "\n",
       "| variable &lt;chr&gt; | statistic &lt;dbl&gt; | p.value &lt;dbl&gt; |\n",
       "|---|---|---|\n",
       "| model.metrics$.resid | 0.9688984 | 0.2895841 |\n",
       "\n"
      ],
      "text/plain": [
       "  variable             statistic p.value  \n",
       "1 model.metrics$.resid 0.9688984 0.2895841"
      ]
     },
     "metadata": {},
     "output_type": "display_data"
    },
    {
     "data": {
      "text/html": [
       "<table>\n",
       "<caption>A tibble: 1 × 3</caption>\n",
       "<thead>\n",
       "\t<tr><th scope=col>variable</th><th scope=col>statistic</th><th scope=col>p.value</th></tr>\n",
       "\t<tr><th scope=col>&lt;chr&gt;</th><th scope=col>&lt;dbl&gt;</th><th scope=col>&lt;dbl&gt;</th></tr>\n",
       "</thead>\n",
       "<tbody>\n",
       "\t<tr><td>model.metrics$.resid</td><td>0.8966122</td><td>0.0009890024</td></tr>\n",
       "</tbody>\n",
       "</table>\n"
      ],
      "text/latex": [
       "A tibble: 1 × 3\n",
       "\\begin{tabular}{lll}\n",
       " variable & statistic & p.value\\\\\n",
       " <chr> & <dbl> & <dbl>\\\\\n",
       "\\hline\n",
       "\t model.metrics\\$.resid & 0.8966122 & 0.0009890024\\\\\n",
       "\\end{tabular}\n"
      ],
      "text/markdown": [
       "\n",
       "A tibble: 1 × 3\n",
       "\n",
       "| variable &lt;chr&gt; | statistic &lt;dbl&gt; | p.value &lt;dbl&gt; |\n",
       "|---|---|---|\n",
       "| model.metrics$.resid | 0.8966122 | 0.0009890024 |\n",
       "\n"
      ],
      "text/plain": [
       "  variable             statistic p.value     \n",
       "1 model.metrics$.resid 0.8966122 0.0009890024"
      ]
     },
     "metadata": {},
     "output_type": "display_data"
    }
   ],
   "source": [
    "#this is for ancova\n",
    "residual_normality_test = function(df, cluster){\n",
    "    model = lm(Conc~Age+Group, data = df %>%\n",
    "        filter(Cluster == cluster))\n",
    "    model.metrics <- augment(model) \n",
    "    shapiro_wilk_test = shapiro_test(model.metrics$.resid)\n",
    "    return(shapiro_wilk_test)\n",
    "}\n",
    "residual_normality_test(NLF_assumptions_df, 'Cluster1')\n",
    "residual_normality_test(NLF_assumptions_df, 'Cluster2') #residuals aren't normal\n",
    "residual_normality_test(NLF_assumptions_df, 'Cluster3') #residuals aren't normal\n",
    "residual_normality_test(ELF_assumptions_df, 'Cluster1') #residuals aren't normal\n",
    "residual_normality_test(ELF_assumptions_df, 'Cluster2') #residuals aren't normal\n",
    "residual_normality_test(ELF_assumptions_df, 'Cluster3')\n",
    "residual_normality_test(Sputum_assumptions_df, 'Cluster1')\n",
    "residual_normality_test(Sputum_assumptions_df, 'Cluster2') #residuals aren't normal\n",
    "residual_normality_test(Sputum_assumptions_df, 'Cluster3') #residuals aren't normal\n",
    "residual_normality_test(Serum_assumptions_df, 'Cluster1') #residuals aren't normal\n",
    "residual_normality_test(Serum_assumptions_df, 'Cluster2')\n",
    "residual_normality_test(Serum_assumptions_df, 'Cluster3') #residuals aren't normal"
   ]
  },
  {
   "cell_type": "markdown",
   "metadata": {},
   "source": [
    "This assumption isn't met for most clusters. "
   ]
  },
  {
   "cell_type": "markdown",
   "metadata": {},
   "source": [
    "<b> Homogeneity of Variances: ANCOVA/ ANOVA assumes the variance of residuals is equal for all groups </b>"
   ]
  },
  {
   "cell_type": "code",
   "execution_count": 15,
   "metadata": {
    "collapsed": true
   },
   "outputs": [
    {
     "data": {
      "text/html": [
       "<table>\n",
       "<caption>A tibble: 1 × 4</caption>\n",
       "<thead>\n",
       "\t<tr><th scope=col>df1</th><th scope=col>df2</th><th scope=col>statistic</th><th scope=col>p</th></tr>\n",
       "\t<tr><th scope=col>&lt;int&gt;</th><th scope=col>&lt;int&gt;</th><th scope=col>&lt;dbl&gt;</th><th scope=col>&lt;dbl&gt;</th></tr>\n",
       "</thead>\n",
       "<tbody>\n",
       "\t<tr><td>2</td><td>41</td><td>0.2857891</td><td>0.7529056</td></tr>\n",
       "</tbody>\n",
       "</table>\n"
      ],
      "text/latex": [
       "A tibble: 1 × 4\n",
       "\\begin{tabular}{llll}\n",
       " df1 & df2 & statistic & p\\\\\n",
       " <int> & <int> & <dbl> & <dbl>\\\\\n",
       "\\hline\n",
       "\t 2 & 41 & 0.2857891 & 0.7529056\\\\\n",
       "\\end{tabular}\n"
      ],
      "text/markdown": [
       "\n",
       "A tibble: 1 × 4\n",
       "\n",
       "| df1 &lt;int&gt; | df2 &lt;int&gt; | statistic &lt;dbl&gt; | p &lt;dbl&gt; |\n",
       "|---|---|---|---|\n",
       "| 2 | 41 | 0.2857891 | 0.7529056 |\n",
       "\n"
      ],
      "text/plain": [
       "  df1 df2 statistic p        \n",
       "1 2   41  0.2857891 0.7529056"
      ]
     },
     "metadata": {},
     "output_type": "display_data"
    },
    {
     "data": {
      "text/html": [
       "<table>\n",
       "<caption>A tibble: 1 × 4</caption>\n",
       "<thead>\n",
       "\t<tr><th scope=col>df1</th><th scope=col>df2</th><th scope=col>statistic</th><th scope=col>p</th></tr>\n",
       "\t<tr><th scope=col>&lt;int&gt;</th><th scope=col>&lt;int&gt;</th><th scope=col>&lt;dbl&gt;</th><th scope=col>&lt;dbl&gt;</th></tr>\n",
       "</thead>\n",
       "<tbody>\n",
       "\t<tr><td>2</td><td>41</td><td>1.733188</td><td>0.1894168</td></tr>\n",
       "</tbody>\n",
       "</table>\n"
      ],
      "text/latex": [
       "A tibble: 1 × 4\n",
       "\\begin{tabular}{llll}\n",
       " df1 & df2 & statistic & p\\\\\n",
       " <int> & <int> & <dbl> & <dbl>\\\\\n",
       "\\hline\n",
       "\t 2 & 41 & 1.733188 & 0.1894168\\\\\n",
       "\\end{tabular}\n"
      ],
      "text/markdown": [
       "\n",
       "A tibble: 1 × 4\n",
       "\n",
       "| df1 &lt;int&gt; | df2 &lt;int&gt; | statistic &lt;dbl&gt; | p &lt;dbl&gt; |\n",
       "|---|---|---|---|\n",
       "| 2 | 41 | 1.733188 | 0.1894168 |\n",
       "\n"
      ],
      "text/plain": [
       "  df1 df2 statistic p        \n",
       "1 2   41  1.733188  0.1894168"
      ]
     },
     "metadata": {},
     "output_type": "display_data"
    },
    {
     "data": {
      "text/html": [
       "<table>\n",
       "<caption>A tibble: 1 × 4</caption>\n",
       "<thead>\n",
       "\t<tr><th scope=col>df1</th><th scope=col>df2</th><th scope=col>statistic</th><th scope=col>p</th></tr>\n",
       "\t<tr><th scope=col>&lt;int&gt;</th><th scope=col>&lt;int&gt;</th><th scope=col>&lt;dbl&gt;</th><th scope=col>&lt;dbl&gt;</th></tr>\n",
       "</thead>\n",
       "<tbody>\n",
       "\t<tr><td>2</td><td>41</td><td>1.96277</td><td>0.1534462</td></tr>\n",
       "</tbody>\n",
       "</table>\n"
      ],
      "text/latex": [
       "A tibble: 1 × 4\n",
       "\\begin{tabular}{llll}\n",
       " df1 & df2 & statistic & p\\\\\n",
       " <int> & <int> & <dbl> & <dbl>\\\\\n",
       "\\hline\n",
       "\t 2 & 41 & 1.96277 & 0.1534462\\\\\n",
       "\\end{tabular}\n"
      ],
      "text/markdown": [
       "\n",
       "A tibble: 1 × 4\n",
       "\n",
       "| df1 &lt;int&gt; | df2 &lt;int&gt; | statistic &lt;dbl&gt; | p &lt;dbl&gt; |\n",
       "|---|---|---|---|\n",
       "| 2 | 41 | 1.96277 | 0.1534462 |\n",
       "\n"
      ],
      "text/plain": [
       "  df1 df2 statistic p        \n",
       "1 2   41  1.96277   0.1534462"
      ]
     },
     "metadata": {},
     "output_type": "display_data"
    },
    {
     "data": {
      "text/html": [
       "<table>\n",
       "<caption>A tibble: 1 × 4</caption>\n",
       "<thead>\n",
       "\t<tr><th scope=col>df1</th><th scope=col>df2</th><th scope=col>statistic</th><th scope=col>p</th></tr>\n",
       "\t<tr><th scope=col>&lt;int&gt;</th><th scope=col>&lt;int&gt;</th><th scope=col>&lt;dbl&gt;</th><th scope=col>&lt;dbl&gt;</th></tr>\n",
       "</thead>\n",
       "<tbody>\n",
       "\t<tr><td>2</td><td>41</td><td>0.5171135</td><td>0.6000759</td></tr>\n",
       "</tbody>\n",
       "</table>\n"
      ],
      "text/latex": [
       "A tibble: 1 × 4\n",
       "\\begin{tabular}{llll}\n",
       " df1 & df2 & statistic & p\\\\\n",
       " <int> & <int> & <dbl> & <dbl>\\\\\n",
       "\\hline\n",
       "\t 2 & 41 & 0.5171135 & 0.6000759\\\\\n",
       "\\end{tabular}\n"
      ],
      "text/markdown": [
       "\n",
       "A tibble: 1 × 4\n",
       "\n",
       "| df1 &lt;int&gt; | df2 &lt;int&gt; | statistic &lt;dbl&gt; | p &lt;dbl&gt; |\n",
       "|---|---|---|---|\n",
       "| 2 | 41 | 0.5171135 | 0.6000759 |\n",
       "\n"
      ],
      "text/plain": [
       "  df1 df2 statistic p        \n",
       "1 2   41  0.5171135 0.6000759"
      ]
     },
     "metadata": {},
     "output_type": "display_data"
    },
    {
     "data": {
      "text/html": [
       "<table>\n",
       "<caption>A tibble: 1 × 4</caption>\n",
       "<thead>\n",
       "\t<tr><th scope=col>df1</th><th scope=col>df2</th><th scope=col>statistic</th><th scope=col>p</th></tr>\n",
       "\t<tr><th scope=col>&lt;int&gt;</th><th scope=col>&lt;int&gt;</th><th scope=col>&lt;dbl&gt;</th><th scope=col>&lt;dbl&gt;</th></tr>\n",
       "</thead>\n",
       "<tbody>\n",
       "\t<tr><td>2</td><td>41</td><td>0.6466438</td><td>0.5290594</td></tr>\n",
       "</tbody>\n",
       "</table>\n"
      ],
      "text/latex": [
       "A tibble: 1 × 4\n",
       "\\begin{tabular}{llll}\n",
       " df1 & df2 & statistic & p\\\\\n",
       " <int> & <int> & <dbl> & <dbl>\\\\\n",
       "\\hline\n",
       "\t 2 & 41 & 0.6466438 & 0.5290594\\\\\n",
       "\\end{tabular}\n"
      ],
      "text/markdown": [
       "\n",
       "A tibble: 1 × 4\n",
       "\n",
       "| df1 &lt;int&gt; | df2 &lt;int&gt; | statistic &lt;dbl&gt; | p &lt;dbl&gt; |\n",
       "|---|---|---|---|\n",
       "| 2 | 41 | 0.6466438 | 0.5290594 |\n",
       "\n"
      ],
      "text/plain": [
       "  df1 df2 statistic p        \n",
       "1 2   41  0.6466438 0.5290594"
      ]
     },
     "metadata": {},
     "output_type": "display_data"
    },
    {
     "data": {
      "text/html": [
       "<table>\n",
       "<caption>A tibble: 1 × 4</caption>\n",
       "<thead>\n",
       "\t<tr><th scope=col>df1</th><th scope=col>df2</th><th scope=col>statistic</th><th scope=col>p</th></tr>\n",
       "\t<tr><th scope=col>&lt;int&gt;</th><th scope=col>&lt;int&gt;</th><th scope=col>&lt;dbl&gt;</th><th scope=col>&lt;dbl&gt;</th></tr>\n",
       "</thead>\n",
       "<tbody>\n",
       "\t<tr><td>2</td><td>41</td><td>0.5758263</td><td>0.5667214</td></tr>\n",
       "</tbody>\n",
       "</table>\n"
      ],
      "text/latex": [
       "A tibble: 1 × 4\n",
       "\\begin{tabular}{llll}\n",
       " df1 & df2 & statistic & p\\\\\n",
       " <int> & <int> & <dbl> & <dbl>\\\\\n",
       "\\hline\n",
       "\t 2 & 41 & 0.5758263 & 0.5667214\\\\\n",
       "\\end{tabular}\n"
      ],
      "text/markdown": [
       "\n",
       "A tibble: 1 × 4\n",
       "\n",
       "| df1 &lt;int&gt; | df2 &lt;int&gt; | statistic &lt;dbl&gt; | p &lt;dbl&gt; |\n",
       "|---|---|---|---|\n",
       "| 2 | 41 | 0.5758263 | 0.5667214 |\n",
       "\n"
      ],
      "text/plain": [
       "  df1 df2 statistic p        \n",
       "1 2   41  0.5758263 0.5667214"
      ]
     },
     "metadata": {},
     "output_type": "display_data"
    },
    {
     "data": {
      "text/html": [
       "<table>\n",
       "<caption>A tibble: 1 × 4</caption>\n",
       "<thead>\n",
       "\t<tr><th scope=col>df1</th><th scope=col>df2</th><th scope=col>statistic</th><th scope=col>p</th></tr>\n",
       "\t<tr><th scope=col>&lt;int&gt;</th><th scope=col>&lt;int&gt;</th><th scope=col>&lt;dbl&gt;</th><th scope=col>&lt;dbl&gt;</th></tr>\n",
       "</thead>\n",
       "<tbody>\n",
       "\t<tr><td>2</td><td>41</td><td>0.3311726</td><td>0.7199842</td></tr>\n",
       "</tbody>\n",
       "</table>\n"
      ],
      "text/latex": [
       "A tibble: 1 × 4\n",
       "\\begin{tabular}{llll}\n",
       " df1 & df2 & statistic & p\\\\\n",
       " <int> & <int> & <dbl> & <dbl>\\\\\n",
       "\\hline\n",
       "\t 2 & 41 & 0.3311726 & 0.7199842\\\\\n",
       "\\end{tabular}\n"
      ],
      "text/markdown": [
       "\n",
       "A tibble: 1 × 4\n",
       "\n",
       "| df1 &lt;int&gt; | df2 &lt;int&gt; | statistic &lt;dbl&gt; | p &lt;dbl&gt; |\n",
       "|---|---|---|---|\n",
       "| 2 | 41 | 0.3311726 | 0.7199842 |\n",
       "\n"
      ],
      "text/plain": [
       "  df1 df2 statistic p        \n",
       "1 2   41  0.3311726 0.7199842"
      ]
     },
     "metadata": {},
     "output_type": "display_data"
    },
    {
     "data": {
      "text/html": [
       "<table>\n",
       "<caption>A tibble: 1 × 4</caption>\n",
       "<thead>\n",
       "\t<tr><th scope=col>df1</th><th scope=col>df2</th><th scope=col>statistic</th><th scope=col>p</th></tr>\n",
       "\t<tr><th scope=col>&lt;int&gt;</th><th scope=col>&lt;int&gt;</th><th scope=col>&lt;dbl&gt;</th><th scope=col>&lt;dbl&gt;</th></tr>\n",
       "</thead>\n",
       "<tbody>\n",
       "\t<tr><td>2</td><td>41</td><td>0.3560151</td><td>0.702606</td></tr>\n",
       "</tbody>\n",
       "</table>\n"
      ],
      "text/latex": [
       "A tibble: 1 × 4\n",
       "\\begin{tabular}{llll}\n",
       " df1 & df2 & statistic & p\\\\\n",
       " <int> & <int> & <dbl> & <dbl>\\\\\n",
       "\\hline\n",
       "\t 2 & 41 & 0.3560151 & 0.702606\\\\\n",
       "\\end{tabular}\n"
      ],
      "text/markdown": [
       "\n",
       "A tibble: 1 × 4\n",
       "\n",
       "| df1 &lt;int&gt; | df2 &lt;int&gt; | statistic &lt;dbl&gt; | p &lt;dbl&gt; |\n",
       "|---|---|---|---|\n",
       "| 2 | 41 | 0.3560151 | 0.702606 |\n",
       "\n"
      ],
      "text/plain": [
       "  df1 df2 statistic p       \n",
       "1 2   41  0.3560151 0.702606"
      ]
     },
     "metadata": {},
     "output_type": "display_data"
    },
    {
     "data": {
      "text/html": [
       "<table>\n",
       "<caption>A tibble: 1 × 4</caption>\n",
       "<thead>\n",
       "\t<tr><th scope=col>df1</th><th scope=col>df2</th><th scope=col>statistic</th><th scope=col>p</th></tr>\n",
       "\t<tr><th scope=col>&lt;int&gt;</th><th scope=col>&lt;int&gt;</th><th scope=col>&lt;dbl&gt;</th><th scope=col>&lt;dbl&gt;</th></tr>\n",
       "</thead>\n",
       "<tbody>\n",
       "\t<tr><td>2</td><td>41</td><td>0.8823342</td><td>0.4215259</td></tr>\n",
       "</tbody>\n",
       "</table>\n"
      ],
      "text/latex": [
       "A tibble: 1 × 4\n",
       "\\begin{tabular}{llll}\n",
       " df1 & df2 & statistic & p\\\\\n",
       " <int> & <int> & <dbl> & <dbl>\\\\\n",
       "\\hline\n",
       "\t 2 & 41 & 0.8823342 & 0.4215259\\\\\n",
       "\\end{tabular}\n"
      ],
      "text/markdown": [
       "\n",
       "A tibble: 1 × 4\n",
       "\n",
       "| df1 &lt;int&gt; | df2 &lt;int&gt; | statistic &lt;dbl&gt; | p &lt;dbl&gt; |\n",
       "|---|---|---|---|\n",
       "| 2 | 41 | 0.8823342 | 0.4215259 |\n",
       "\n"
      ],
      "text/plain": [
       "  df1 df2 statistic p        \n",
       "1 2   41  0.8823342 0.4215259"
      ]
     },
     "metadata": {},
     "output_type": "display_data"
    },
    {
     "data": {
      "text/html": [
       "<table>\n",
       "<caption>A tibble: 1 × 4</caption>\n",
       "<thead>\n",
       "\t<tr><th scope=col>df1</th><th scope=col>df2</th><th scope=col>statistic</th><th scope=col>p</th></tr>\n",
       "\t<tr><th scope=col>&lt;int&gt;</th><th scope=col>&lt;int&gt;</th><th scope=col>&lt;dbl&gt;</th><th scope=col>&lt;dbl&gt;</th></tr>\n",
       "</thead>\n",
       "<tbody>\n",
       "\t<tr><td>2</td><td>40</td><td>0.2200798</td><td>0.8034199</td></tr>\n",
       "</tbody>\n",
       "</table>\n"
      ],
      "text/latex": [
       "A tibble: 1 × 4\n",
       "\\begin{tabular}{llll}\n",
       " df1 & df2 & statistic & p\\\\\n",
       " <int> & <int> & <dbl> & <dbl>\\\\\n",
       "\\hline\n",
       "\t 2 & 40 & 0.2200798 & 0.8034199\\\\\n",
       "\\end{tabular}\n"
      ],
      "text/markdown": [
       "\n",
       "A tibble: 1 × 4\n",
       "\n",
       "| df1 &lt;int&gt; | df2 &lt;int&gt; | statistic &lt;dbl&gt; | p &lt;dbl&gt; |\n",
       "|---|---|---|---|\n",
       "| 2 | 40 | 0.2200798 | 0.8034199 |\n",
       "\n"
      ],
      "text/plain": [
       "  df1 df2 statistic p        \n",
       "1 2   40  0.2200798 0.8034199"
      ]
     },
     "metadata": {},
     "output_type": "display_data"
    },
    {
     "data": {
      "text/html": [
       "<table>\n",
       "<caption>A tibble: 1 × 4</caption>\n",
       "<thead>\n",
       "\t<tr><th scope=col>df1</th><th scope=col>df2</th><th scope=col>statistic</th><th scope=col>p</th></tr>\n",
       "\t<tr><th scope=col>&lt;int&gt;</th><th scope=col>&lt;int&gt;</th><th scope=col>&lt;dbl&gt;</th><th scope=col>&lt;dbl&gt;</th></tr>\n",
       "</thead>\n",
       "<tbody>\n",
       "\t<tr><td>2</td><td>40</td><td>0.5776645</td><td>0.56582</td></tr>\n",
       "</tbody>\n",
       "</table>\n"
      ],
      "text/latex": [
       "A tibble: 1 × 4\n",
       "\\begin{tabular}{llll}\n",
       " df1 & df2 & statistic & p\\\\\n",
       " <int> & <int> & <dbl> & <dbl>\\\\\n",
       "\\hline\n",
       "\t 2 & 40 & 0.5776645 & 0.56582\\\\\n",
       "\\end{tabular}\n"
      ],
      "text/markdown": [
       "\n",
       "A tibble: 1 × 4\n",
       "\n",
       "| df1 &lt;int&gt; | df2 &lt;int&gt; | statistic &lt;dbl&gt; | p &lt;dbl&gt; |\n",
       "|---|---|---|---|\n",
       "| 2 | 40 | 0.5776645 | 0.56582 |\n",
       "\n"
      ],
      "text/plain": [
       "  df1 df2 statistic p      \n",
       "1 2   40  0.5776645 0.56582"
      ]
     },
     "metadata": {},
     "output_type": "display_data"
    },
    {
     "data": {
      "text/html": [
       "<table>\n",
       "<caption>A tibble: 1 × 4</caption>\n",
       "<thead>\n",
       "\t<tr><th scope=col>df1</th><th scope=col>df2</th><th scope=col>statistic</th><th scope=col>p</th></tr>\n",
       "\t<tr><th scope=col>&lt;int&gt;</th><th scope=col>&lt;int&gt;</th><th scope=col>&lt;dbl&gt;</th><th scope=col>&lt;dbl&gt;</th></tr>\n",
       "</thead>\n",
       "<tbody>\n",
       "\t<tr><td>2</td><td>40</td><td>0.1323426</td><td>0.8764228</td></tr>\n",
       "</tbody>\n",
       "</table>\n"
      ],
      "text/latex": [
       "A tibble: 1 × 4\n",
       "\\begin{tabular}{llll}\n",
       " df1 & df2 & statistic & p\\\\\n",
       " <int> & <int> & <dbl> & <dbl>\\\\\n",
       "\\hline\n",
       "\t 2 & 40 & 0.1323426 & 0.8764228\\\\\n",
       "\\end{tabular}\n"
      ],
      "text/markdown": [
       "\n",
       "A tibble: 1 × 4\n",
       "\n",
       "| df1 &lt;int&gt; | df2 &lt;int&gt; | statistic &lt;dbl&gt; | p &lt;dbl&gt; |\n",
       "|---|---|---|---|\n",
       "| 2 | 40 | 0.1323426 | 0.8764228 |\n",
       "\n"
      ],
      "text/plain": [
       "  df1 df2 statistic p        \n",
       "1 2   40  0.1323426 0.8764228"
      ]
     },
     "metadata": {},
     "output_type": "display_data"
    }
   ],
   "source": [
    "residual_variance_test_anova = function(df, cluster){\n",
    "    model = lm(Conc~Group, data = df %>%\n",
    "        filter(Cluster == cluster))\n",
    "    model.metrics <- augment(model) \n",
    "    levene_test = model.metrics %>%\n",
    "        levene_test(.resid~Group)\n",
    "    return(levene_test)\n",
    "}\n",
    "#anova\n",
    "residual_variance_test_anova(NLF_assumptions_df, 'Cluster1')\n",
    "residual_variance_test_anova(NLF_assumptions_df, 'Cluster2') \n",
    "residual_variance_test_anova(NLF_assumptions_df, 'Cluster3') \n",
    "residual_variance_test_anova(ELF_assumptions_df, 'Cluster1') \n",
    "residual_variance_test_anova(ELF_assumptions_df, 'Cluster2') \n",
    "residual_variance_test_anova(ELF_assumptions_df, 'Cluster3')\n",
    "residual_variance_test_anova(Sputum_assumptions_df, 'Cluster1')\n",
    "residual_variance_test_anova(Sputum_assumptions_df, 'Cluster2') \n",
    "residual_variance_test_anova(Sputum_assumptions_df, 'Cluster3') \n",
    "residual_variance_test_anova(Serum_assumptions_df, 'Cluster1') \n",
    "residual_variance_test_anova(Serum_assumptions_df, 'Cluster2')\n",
    "residual_variance_test_anova(Serum_assumptions_df, 'Cluster3') "
   ]
  },
  {
   "cell_type": "code",
   "execution_count": 16,
   "metadata": {
    "collapsed": true
   },
   "outputs": [
    {
     "data": {
      "text/html": [
       "<table>\n",
       "<caption>A tibble: 1 × 4</caption>\n",
       "<thead>\n",
       "\t<tr><th scope=col>df1</th><th scope=col>df2</th><th scope=col>statistic</th><th scope=col>p</th></tr>\n",
       "\t<tr><th scope=col>&lt;int&gt;</th><th scope=col>&lt;int&gt;</th><th scope=col>&lt;dbl&gt;</th><th scope=col>&lt;dbl&gt;</th></tr>\n",
       "</thead>\n",
       "<tbody>\n",
       "\t<tr><td>2</td><td>41</td><td>0.5349044</td><td>0.5897569</td></tr>\n",
       "</tbody>\n",
       "</table>\n"
      ],
      "text/latex": [
       "A tibble: 1 × 4\n",
       "\\begin{tabular}{llll}\n",
       " df1 & df2 & statistic & p\\\\\n",
       " <int> & <int> & <dbl> & <dbl>\\\\\n",
       "\\hline\n",
       "\t 2 & 41 & 0.5349044 & 0.5897569\\\\\n",
       "\\end{tabular}\n"
      ],
      "text/markdown": [
       "\n",
       "A tibble: 1 × 4\n",
       "\n",
       "| df1 &lt;int&gt; | df2 &lt;int&gt; | statistic &lt;dbl&gt; | p &lt;dbl&gt; |\n",
       "|---|---|---|---|\n",
       "| 2 | 41 | 0.5349044 | 0.5897569 |\n",
       "\n"
      ],
      "text/plain": [
       "  df1 df2 statistic p        \n",
       "1 2   41  0.5349044 0.5897569"
      ]
     },
     "metadata": {},
     "output_type": "display_data"
    },
    {
     "data": {
      "text/html": [
       "<table>\n",
       "<caption>A tibble: 1 × 4</caption>\n",
       "<thead>\n",
       "\t<tr><th scope=col>df1</th><th scope=col>df2</th><th scope=col>statistic</th><th scope=col>p</th></tr>\n",
       "\t<tr><th scope=col>&lt;int&gt;</th><th scope=col>&lt;int&gt;</th><th scope=col>&lt;dbl&gt;</th><th scope=col>&lt;dbl&gt;</th></tr>\n",
       "</thead>\n",
       "<tbody>\n",
       "\t<tr><td>2</td><td>41</td><td>1.696957</td><td>0.1958567</td></tr>\n",
       "</tbody>\n",
       "</table>\n"
      ],
      "text/latex": [
       "A tibble: 1 × 4\n",
       "\\begin{tabular}{llll}\n",
       " df1 & df2 & statistic & p\\\\\n",
       " <int> & <int> & <dbl> & <dbl>\\\\\n",
       "\\hline\n",
       "\t 2 & 41 & 1.696957 & 0.1958567\\\\\n",
       "\\end{tabular}\n"
      ],
      "text/markdown": [
       "\n",
       "A tibble: 1 × 4\n",
       "\n",
       "| df1 &lt;int&gt; | df2 &lt;int&gt; | statistic &lt;dbl&gt; | p &lt;dbl&gt; |\n",
       "|---|---|---|---|\n",
       "| 2 | 41 | 1.696957 | 0.1958567 |\n",
       "\n"
      ],
      "text/plain": [
       "  df1 df2 statistic p        \n",
       "1 2   41  1.696957  0.1958567"
      ]
     },
     "metadata": {},
     "output_type": "display_data"
    },
    {
     "data": {
      "text/html": [
       "<table>\n",
       "<caption>A tibble: 1 × 4</caption>\n",
       "<thead>\n",
       "\t<tr><th scope=col>df1</th><th scope=col>df2</th><th scope=col>statistic</th><th scope=col>p</th></tr>\n",
       "\t<tr><th scope=col>&lt;int&gt;</th><th scope=col>&lt;int&gt;</th><th scope=col>&lt;dbl&gt;</th><th scope=col>&lt;dbl&gt;</th></tr>\n",
       "</thead>\n",
       "<tbody>\n",
       "\t<tr><td>2</td><td>41</td><td>1.965003</td><td>0.1531339</td></tr>\n",
       "</tbody>\n",
       "</table>\n"
      ],
      "text/latex": [
       "A tibble: 1 × 4\n",
       "\\begin{tabular}{llll}\n",
       " df1 & df2 & statistic & p\\\\\n",
       " <int> & <int> & <dbl> & <dbl>\\\\\n",
       "\\hline\n",
       "\t 2 & 41 & 1.965003 & 0.1531339\\\\\n",
       "\\end{tabular}\n"
      ],
      "text/markdown": [
       "\n",
       "A tibble: 1 × 4\n",
       "\n",
       "| df1 &lt;int&gt; | df2 &lt;int&gt; | statistic &lt;dbl&gt; | p &lt;dbl&gt; |\n",
       "|---|---|---|---|\n",
       "| 2 | 41 | 1.965003 | 0.1531339 |\n",
       "\n"
      ],
      "text/plain": [
       "  df1 df2 statistic p        \n",
       "1 2   41  1.965003  0.1531339"
      ]
     },
     "metadata": {},
     "output_type": "display_data"
    },
    {
     "data": {
      "text/html": [
       "<table>\n",
       "<caption>A tibble: 1 × 4</caption>\n",
       "<thead>\n",
       "\t<tr><th scope=col>df1</th><th scope=col>df2</th><th scope=col>statistic</th><th scope=col>p</th></tr>\n",
       "\t<tr><th scope=col>&lt;int&gt;</th><th scope=col>&lt;int&gt;</th><th scope=col>&lt;dbl&gt;</th><th scope=col>&lt;dbl&gt;</th></tr>\n",
       "</thead>\n",
       "<tbody>\n",
       "\t<tr><td>2</td><td>41</td><td>0.5246141</td><td>0.5957026</td></tr>\n",
       "</tbody>\n",
       "</table>\n"
      ],
      "text/latex": [
       "A tibble: 1 × 4\n",
       "\\begin{tabular}{llll}\n",
       " df1 & df2 & statistic & p\\\\\n",
       " <int> & <int> & <dbl> & <dbl>\\\\\n",
       "\\hline\n",
       "\t 2 & 41 & 0.5246141 & 0.5957026\\\\\n",
       "\\end{tabular}\n"
      ],
      "text/markdown": [
       "\n",
       "A tibble: 1 × 4\n",
       "\n",
       "| df1 &lt;int&gt; | df2 &lt;int&gt; | statistic &lt;dbl&gt; | p &lt;dbl&gt; |\n",
       "|---|---|---|---|\n",
       "| 2 | 41 | 0.5246141 | 0.5957026 |\n",
       "\n"
      ],
      "text/plain": [
       "  df1 df2 statistic p        \n",
       "1 2   41  0.5246141 0.5957026"
      ]
     },
     "metadata": {},
     "output_type": "display_data"
    },
    {
     "data": {
      "text/html": [
       "<table>\n",
       "<caption>A tibble: 1 × 4</caption>\n",
       "<thead>\n",
       "\t<tr><th scope=col>df1</th><th scope=col>df2</th><th scope=col>statistic</th><th scope=col>p</th></tr>\n",
       "\t<tr><th scope=col>&lt;int&gt;</th><th scope=col>&lt;int&gt;</th><th scope=col>&lt;dbl&gt;</th><th scope=col>&lt;dbl&gt;</th></tr>\n",
       "</thead>\n",
       "<tbody>\n",
       "\t<tr><td>2</td><td>41</td><td>0.773067</td><td>0.468206</td></tr>\n",
       "</tbody>\n",
       "</table>\n"
      ],
      "text/latex": [
       "A tibble: 1 × 4\n",
       "\\begin{tabular}{llll}\n",
       " df1 & df2 & statistic & p\\\\\n",
       " <int> & <int> & <dbl> & <dbl>\\\\\n",
       "\\hline\n",
       "\t 2 & 41 & 0.773067 & 0.468206\\\\\n",
       "\\end{tabular}\n"
      ],
      "text/markdown": [
       "\n",
       "A tibble: 1 × 4\n",
       "\n",
       "| df1 &lt;int&gt; | df2 &lt;int&gt; | statistic &lt;dbl&gt; | p &lt;dbl&gt; |\n",
       "|---|---|---|---|\n",
       "| 2 | 41 | 0.773067 | 0.468206 |\n",
       "\n"
      ],
      "text/plain": [
       "  df1 df2 statistic p       \n",
       "1 2   41  0.773067  0.468206"
      ]
     },
     "metadata": {},
     "output_type": "display_data"
    },
    {
     "data": {
      "text/html": [
       "<table>\n",
       "<caption>A tibble: 1 × 4</caption>\n",
       "<thead>\n",
       "\t<tr><th scope=col>df1</th><th scope=col>df2</th><th scope=col>statistic</th><th scope=col>p</th></tr>\n",
       "\t<tr><th scope=col>&lt;int&gt;</th><th scope=col>&lt;int&gt;</th><th scope=col>&lt;dbl&gt;</th><th scope=col>&lt;dbl&gt;</th></tr>\n",
       "</thead>\n",
       "<tbody>\n",
       "\t<tr><td>2</td><td>41</td><td>0.5634001</td><td>0.5736148</td></tr>\n",
       "</tbody>\n",
       "</table>\n"
      ],
      "text/latex": [
       "A tibble: 1 × 4\n",
       "\\begin{tabular}{llll}\n",
       " df1 & df2 & statistic & p\\\\\n",
       " <int> & <int> & <dbl> & <dbl>\\\\\n",
       "\\hline\n",
       "\t 2 & 41 & 0.5634001 & 0.5736148\\\\\n",
       "\\end{tabular}\n"
      ],
      "text/markdown": [
       "\n",
       "A tibble: 1 × 4\n",
       "\n",
       "| df1 &lt;int&gt; | df2 &lt;int&gt; | statistic &lt;dbl&gt; | p &lt;dbl&gt; |\n",
       "|---|---|---|---|\n",
       "| 2 | 41 | 0.5634001 | 0.5736148 |\n",
       "\n"
      ],
      "text/plain": [
       "  df1 df2 statistic p        \n",
       "1 2   41  0.5634001 0.5736148"
      ]
     },
     "metadata": {},
     "output_type": "display_data"
    },
    {
     "data": {
      "text/html": [
       "<table>\n",
       "<caption>A tibble: 1 × 4</caption>\n",
       "<thead>\n",
       "\t<tr><th scope=col>df1</th><th scope=col>df2</th><th scope=col>statistic</th><th scope=col>p</th></tr>\n",
       "\t<tr><th scope=col>&lt;int&gt;</th><th scope=col>&lt;int&gt;</th><th scope=col>&lt;dbl&gt;</th><th scope=col>&lt;dbl&gt;</th></tr>\n",
       "</thead>\n",
       "<tbody>\n",
       "\t<tr><td>2</td><td>41</td><td>0.4657391</td><td>0.6309508</td></tr>\n",
       "</tbody>\n",
       "</table>\n"
      ],
      "text/latex": [
       "A tibble: 1 × 4\n",
       "\\begin{tabular}{llll}\n",
       " df1 & df2 & statistic & p\\\\\n",
       " <int> & <int> & <dbl> & <dbl>\\\\\n",
       "\\hline\n",
       "\t 2 & 41 & 0.4657391 & 0.6309508\\\\\n",
       "\\end{tabular}\n"
      ],
      "text/markdown": [
       "\n",
       "A tibble: 1 × 4\n",
       "\n",
       "| df1 &lt;int&gt; | df2 &lt;int&gt; | statistic &lt;dbl&gt; | p &lt;dbl&gt; |\n",
       "|---|---|---|---|\n",
       "| 2 | 41 | 0.4657391 | 0.6309508 |\n",
       "\n"
      ],
      "text/plain": [
       "  df1 df2 statistic p        \n",
       "1 2   41  0.4657391 0.6309508"
      ]
     },
     "metadata": {},
     "output_type": "display_data"
    },
    {
     "data": {
      "text/html": [
       "<table>\n",
       "<caption>A tibble: 1 × 4</caption>\n",
       "<thead>\n",
       "\t<tr><th scope=col>df1</th><th scope=col>df2</th><th scope=col>statistic</th><th scope=col>p</th></tr>\n",
       "\t<tr><th scope=col>&lt;int&gt;</th><th scope=col>&lt;int&gt;</th><th scope=col>&lt;dbl&gt;</th><th scope=col>&lt;dbl&gt;</th></tr>\n",
       "</thead>\n",
       "<tbody>\n",
       "\t<tr><td>2</td><td>41</td><td>0.1155568</td><td>0.8911591</td></tr>\n",
       "</tbody>\n",
       "</table>\n"
      ],
      "text/latex": [
       "A tibble: 1 × 4\n",
       "\\begin{tabular}{llll}\n",
       " df1 & df2 & statistic & p\\\\\n",
       " <int> & <int> & <dbl> & <dbl>\\\\\n",
       "\\hline\n",
       "\t 2 & 41 & 0.1155568 & 0.8911591\\\\\n",
       "\\end{tabular}\n"
      ],
      "text/markdown": [
       "\n",
       "A tibble: 1 × 4\n",
       "\n",
       "| df1 &lt;int&gt; | df2 &lt;int&gt; | statistic &lt;dbl&gt; | p &lt;dbl&gt; |\n",
       "|---|---|---|---|\n",
       "| 2 | 41 | 0.1155568 | 0.8911591 |\n",
       "\n"
      ],
      "text/plain": [
       "  df1 df2 statistic p        \n",
       "1 2   41  0.1155568 0.8911591"
      ]
     },
     "metadata": {},
     "output_type": "display_data"
    },
    {
     "data": {
      "text/html": [
       "<table>\n",
       "<caption>A tibble: 1 × 4</caption>\n",
       "<thead>\n",
       "\t<tr><th scope=col>df1</th><th scope=col>df2</th><th scope=col>statistic</th><th scope=col>p</th></tr>\n",
       "\t<tr><th scope=col>&lt;int&gt;</th><th scope=col>&lt;int&gt;</th><th scope=col>&lt;dbl&gt;</th><th scope=col>&lt;dbl&gt;</th></tr>\n",
       "</thead>\n",
       "<tbody>\n",
       "\t<tr><td>2</td><td>41</td><td>0.6713058</td><td>0.5165679</td></tr>\n",
       "</tbody>\n",
       "</table>\n"
      ],
      "text/latex": [
       "A tibble: 1 × 4\n",
       "\\begin{tabular}{llll}\n",
       " df1 & df2 & statistic & p\\\\\n",
       " <int> & <int> & <dbl> & <dbl>\\\\\n",
       "\\hline\n",
       "\t 2 & 41 & 0.6713058 & 0.5165679\\\\\n",
       "\\end{tabular}\n"
      ],
      "text/markdown": [
       "\n",
       "A tibble: 1 × 4\n",
       "\n",
       "| df1 &lt;int&gt; | df2 &lt;int&gt; | statistic &lt;dbl&gt; | p &lt;dbl&gt; |\n",
       "|---|---|---|---|\n",
       "| 2 | 41 | 0.6713058 | 0.5165679 |\n",
       "\n"
      ],
      "text/plain": [
       "  df1 df2 statistic p        \n",
       "1 2   41  0.6713058 0.5165679"
      ]
     },
     "metadata": {},
     "output_type": "display_data"
    },
    {
     "data": {
      "text/html": [
       "<table>\n",
       "<caption>A tibble: 1 × 4</caption>\n",
       "<thead>\n",
       "\t<tr><th scope=col>df1</th><th scope=col>df2</th><th scope=col>statistic</th><th scope=col>p</th></tr>\n",
       "\t<tr><th scope=col>&lt;int&gt;</th><th scope=col>&lt;int&gt;</th><th scope=col>&lt;dbl&gt;</th><th scope=col>&lt;dbl&gt;</th></tr>\n",
       "</thead>\n",
       "<tbody>\n",
       "\t<tr><td>2</td><td>40</td><td>0.155904</td><td>0.8561587</td></tr>\n",
       "</tbody>\n",
       "</table>\n"
      ],
      "text/latex": [
       "A tibble: 1 × 4\n",
       "\\begin{tabular}{llll}\n",
       " df1 & df2 & statistic & p\\\\\n",
       " <int> & <int> & <dbl> & <dbl>\\\\\n",
       "\\hline\n",
       "\t 2 & 40 & 0.155904 & 0.8561587\\\\\n",
       "\\end{tabular}\n"
      ],
      "text/markdown": [
       "\n",
       "A tibble: 1 × 4\n",
       "\n",
       "| df1 &lt;int&gt; | df2 &lt;int&gt; | statistic &lt;dbl&gt; | p &lt;dbl&gt; |\n",
       "|---|---|---|---|\n",
       "| 2 | 40 | 0.155904 | 0.8561587 |\n",
       "\n"
      ],
      "text/plain": [
       "  df1 df2 statistic p        \n",
       "1 2   40  0.155904  0.8561587"
      ]
     },
     "metadata": {},
     "output_type": "display_data"
    },
    {
     "data": {
      "text/html": [
       "<table>\n",
       "<caption>A tibble: 1 × 4</caption>\n",
       "<thead>\n",
       "\t<tr><th scope=col>df1</th><th scope=col>df2</th><th scope=col>statistic</th><th scope=col>p</th></tr>\n",
       "\t<tr><th scope=col>&lt;int&gt;</th><th scope=col>&lt;int&gt;</th><th scope=col>&lt;dbl&gt;</th><th scope=col>&lt;dbl&gt;</th></tr>\n",
       "</thead>\n",
       "<tbody>\n",
       "\t<tr><td>2</td><td>40</td><td>0.4796294</td><td>0.6225268</td></tr>\n",
       "</tbody>\n",
       "</table>\n"
      ],
      "text/latex": [
       "A tibble: 1 × 4\n",
       "\\begin{tabular}{llll}\n",
       " df1 & df2 & statistic & p\\\\\n",
       " <int> & <int> & <dbl> & <dbl>\\\\\n",
       "\\hline\n",
       "\t 2 & 40 & 0.4796294 & 0.6225268\\\\\n",
       "\\end{tabular}\n"
      ],
      "text/markdown": [
       "\n",
       "A tibble: 1 × 4\n",
       "\n",
       "| df1 &lt;int&gt; | df2 &lt;int&gt; | statistic &lt;dbl&gt; | p &lt;dbl&gt; |\n",
       "|---|---|---|---|\n",
       "| 2 | 40 | 0.4796294 | 0.6225268 |\n",
       "\n"
      ],
      "text/plain": [
       "  df1 df2 statistic p        \n",
       "1 2   40  0.4796294 0.6225268"
      ]
     },
     "metadata": {},
     "output_type": "display_data"
    },
    {
     "data": {
      "text/html": [
       "<table>\n",
       "<caption>A tibble: 1 × 4</caption>\n",
       "<thead>\n",
       "\t<tr><th scope=col>df1</th><th scope=col>df2</th><th scope=col>statistic</th><th scope=col>p</th></tr>\n",
       "\t<tr><th scope=col>&lt;int&gt;</th><th scope=col>&lt;int&gt;</th><th scope=col>&lt;dbl&gt;</th><th scope=col>&lt;dbl&gt;</th></tr>\n",
       "</thead>\n",
       "<tbody>\n",
       "\t<tr><td>2</td><td>40</td><td>0.1748066</td><td>0.8402574</td></tr>\n",
       "</tbody>\n",
       "</table>\n"
      ],
      "text/latex": [
       "A tibble: 1 × 4\n",
       "\\begin{tabular}{llll}\n",
       " df1 & df2 & statistic & p\\\\\n",
       " <int> & <int> & <dbl> & <dbl>\\\\\n",
       "\\hline\n",
       "\t 2 & 40 & 0.1748066 & 0.8402574\\\\\n",
       "\\end{tabular}\n"
      ],
      "text/markdown": [
       "\n",
       "A tibble: 1 × 4\n",
       "\n",
       "| df1 &lt;int&gt; | df2 &lt;int&gt; | statistic &lt;dbl&gt; | p &lt;dbl&gt; |\n",
       "|---|---|---|---|\n",
       "| 2 | 40 | 0.1748066 | 0.8402574 |\n",
       "\n"
      ],
      "text/plain": [
       "  df1 df2 statistic p        \n",
       "1 2   40  0.1748066 0.8402574"
      ]
     },
     "metadata": {},
     "output_type": "display_data"
    }
   ],
   "source": [
    "residual_variance_test_ancova = function(df, cluster){\n",
    "    model = lm(Conc~Age+Group, data = df %>%\n",
    "        filter(Cluster == cluster))\n",
    "    model.metrics <- augment(model) \n",
    "    levene_test = model.metrics %>%\n",
    "        levene_test(.resid~Group)\n",
    "    return(levene_test)\n",
    "}\n",
    "#ancova\n",
    "residual_variance_test_ancova(NLF_assumptions_df, 'Cluster1')\n",
    "residual_variance_test_ancova(NLF_assumptions_df, 'Cluster2') \n",
    "residual_variance_test_ancova(NLF_assumptions_df, 'Cluster3') \n",
    "residual_variance_test_ancova(ELF_assumptions_df, 'Cluster1') \n",
    "residual_variance_test_ancova(ELF_assumptions_df, 'Cluster2') \n",
    "residual_variance_test_ancova(ELF_assumptions_df, 'Cluster3')\n",
    "residual_variance_test_ancova(Sputum_assumptions_df, 'Cluster1')\n",
    "residual_variance_test_ancova(Sputum_assumptions_df, 'Cluster2') \n",
    "residual_variance_test_ancova(Sputum_assumptions_df, 'Cluster3') \n",
    "residual_variance_test_ancova(Serum_assumptions_df, 'Cluster1') \n",
    "residual_variance_test_ancova(Serum_assumptions_df, 'Cluster2')\n",
    "residual_variance_test_ancova(Serum_assumptions_df, 'Cluster3') "
   ]
  },
  {
   "cell_type": "markdown",
   "metadata": {},
   "source": [
    "None of these were significant (p < 0.05) so this assumption is met."
   ]
  },
  {
   "cell_type": "markdown",
   "metadata": {},
   "source": [
    "# One-way ANOVA"
   ]
  },
  {
   "cell_type": "code",
   "execution_count": 9,
   "metadata": {},
   "outputs": [
    {
     "data": {
      "text/html": [
       "<table>\n",
       "<caption>A matrix: 3 × 2 of type dbl</caption>\n",
       "<thead>\n",
       "\t<tr><th></th><th scope=col>CS</th><th scope=col>Ecig</th></tr>\n",
       "</thead>\n",
       "<tbody>\n",
       "\t<tr><th scope=row>NS</th><td>0</td><td>0</td></tr>\n",
       "\t<tr><th scope=row>CS</th><td>1</td><td>0</td></tr>\n",
       "\t<tr><th scope=row>Ecig</th><td>0</td><td>1</td></tr>\n",
       "</tbody>\n",
       "</table>\n"
      ],
      "text/latex": [
       "A matrix: 3 × 2 of type dbl\n",
       "\\begin{tabular}{r|ll}\n",
       "  & CS & Ecig\\\\\n",
       "\\hline\n",
       "\tNS & 0 & 0\\\\\n",
       "\tCS & 1 & 0\\\\\n",
       "\tEcig & 0 & 1\\\\\n",
       "\\end{tabular}\n"
      ],
      "text/markdown": [
       "\n",
       "A matrix: 3 × 2 of type dbl\n",
       "\n",
       "| <!--/--> | CS | Ecig |\n",
       "|---|---|---|\n",
       "| NS | 0 | 0 |\n",
       "| CS | 1 | 0 |\n",
       "| Ecig | 0 | 1 |\n",
       "\n"
      ],
      "text/plain": [
       "     CS Ecig\n",
       "NS   0  0   \n",
       "CS   1  0   \n",
       "Ecig 0  1   "
      ]
     },
     "metadata": {},
     "output_type": "display_data"
    }
   ],
   "source": [
    "#now I can run the anova comparing each group to one another within each cluster\n",
    "#contrasts show what compartments are being compared in anova\n",
    "#these comparisons aren't what we want so I changed them in the function below\n",
    "contrasts(eigen_NLF_scaled$Group)"
   ]
  },
  {
   "cell_type": "markdown",
   "metadata": {},
   "source": [
    "                 Table of Contrasts\n",
    ">                   NS    | CS  |  Ecig  |  Sum\n",
    ">     Contrast 1 |  -1    |  1  |   0    |   0\n",
    ">     Contrast 2 |  -1    |  0  |   1    |   0\n",
    "\n",
    "> - Contrast 1: compares NS to CS\n",
    "> - Contrast 2: compares NS to Ecig"
   ]
  },
  {
   "cell_type": "code",
   "execution_count": 17,
   "metadata": {},
   "outputs": [],
   "source": [
    "get_anova1 = function(scaled_df){\n",
    "    contrasts(scaled_df$Group) = cbind(c(-1,1,0),c(-1,0,1)) #meaning is specified above\n",
    "    anova = aov(Cluster1~Group, data = scaled_df)\n",
    "    return(anova)\n",
    "}\n",
    "get_anova2 = function(scaled_df){\n",
    "    contrasts(scaled_df$Group) = cbind(c(-1,1,0),c(-1,0,1)) #meaning is specified above\n",
    "    anova = aov(Cluster2~Group, data = scaled_df)\n",
    "    return(anova)\n",
    "}\n",
    "\n",
    "get_anova3 = function(scaled_df){\n",
    "    contrasts(scaled_df$Group) = cbind(c(-1,1,0),c(-1,0,1)) #meaning is specified above\n",
    "    anova = aov(Cluster3~Group, data = scaled_df)\n",
    "    return(anova)\n",
    "}\n",
    "\n",
    "\n",
    "#calling fn\n",
    "NLF_Cluster1_anova = get_anova1(eigen_NLF_scaled)\n",
    "NLF_Cluster2_anova = get_anova2(eigen_NLF_scaled)\n",
    "NLF_Cluster3_anova = get_anova3(eigen_NLF_scaled)\n",
    "ELF_Cluster1_anova = get_anova1(eigen_ELF_scaled)\n",
    "ELF_Cluster2_anova = get_anova2(eigen_ELF_scaled)\n",
    "ELF_Cluster3_anova = get_anova3(eigen_ELF_scaled)\n",
    "Sputum_Cluster1_anova = get_anova1(eigen_Sputum_scaled)\n",
    "Sputum_Cluster2_anova = get_anova2(eigen_Sputum_scaled)\n",
    "Sputum_Cluster3_anova = get_anova3(eigen_Sputum_scaled)\n",
    "Serum_Cluster1_anova = get_anova1(eigen_Serum_scaled)\n",
    "Serum_Cluster2_anova = get_anova2(eigen_Serum_scaled)\n",
    "Serum_Cluster3_anova = get_anova3(eigen_Serum_scaled)"
   ]
  },
  {
   "cell_type": "code",
   "execution_count": 18,
   "metadata": {},
   "outputs": [
    {
     "data": {
      "text/plain": [
       "          Length Class  Mode     \n",
       "statistic 1      -none- numeric  \n",
       "parameter 1      -none- numeric  \n",
       "p.value   1      -none- numeric  \n",
       "method    1      -none- character\n",
       "data.name 1      -none- character"
      ]
     },
     "metadata": {},
     "output_type": "display_data"
    },
    {
     "data": {
      "text/plain": [
       "          Length Class  Mode     \n",
       "statistic 1      -none- numeric  \n",
       "parameter 1      -none- numeric  \n",
       "p.value   1      -none- numeric  \n",
       "method    1      -none- character\n",
       "data.name 1      -none- character"
      ]
     },
     "metadata": {},
     "output_type": "display_data"
    },
    {
     "data": {
      "text/plain": [
       "          Length Class  Mode     \n",
       "statistic 1      -none- numeric  \n",
       "parameter 1      -none- numeric  \n",
       "p.value   1      -none- numeric  \n",
       "method    1      -none- character\n",
       "data.name 1      -none- character"
      ]
     },
     "metadata": {},
     "output_type": "display_data"
    },
    {
     "data": {
      "text/plain": [
       "          Length Class  Mode     \n",
       "statistic 1      -none- numeric  \n",
       "parameter 1      -none- numeric  \n",
       "p.value   1      -none- numeric  \n",
       "method    1      -none- character\n",
       "data.name 1      -none- character"
      ]
     },
     "metadata": {},
     "output_type": "display_data"
    },
    {
     "data": {
      "text/plain": [
       "          Length Class  Mode     \n",
       "statistic 1      -none- numeric  \n",
       "parameter 1      -none- numeric  \n",
       "p.value   1      -none- numeric  \n",
       "method    1      -none- character\n",
       "data.name 1      -none- character"
      ]
     },
     "metadata": {},
     "output_type": "display_data"
    },
    {
     "data": {
      "text/plain": [
       "          Length Class  Mode     \n",
       "statistic 1      -none- numeric  \n",
       "parameter 1      -none- numeric  \n",
       "p.value   1      -none- numeric  \n",
       "method    1      -none- character\n",
       "data.name 1      -none- character"
      ]
     },
     "metadata": {},
     "output_type": "display_data"
    },
    {
     "data": {
      "text/plain": [
       "          Length Class  Mode     \n",
       "statistic 1      -none- numeric  \n",
       "parameter 1      -none- numeric  \n",
       "p.value   1      -none- numeric  \n",
       "method    1      -none- character\n",
       "data.name 1      -none- character"
      ]
     },
     "metadata": {},
     "output_type": "display_data"
    },
    {
     "data": {
      "text/plain": [
       "          Length Class  Mode     \n",
       "statistic 1      -none- numeric  \n",
       "parameter 1      -none- numeric  \n",
       "p.value   1      -none- numeric  \n",
       "method    1      -none- character\n",
       "data.name 1      -none- character"
      ]
     },
     "metadata": {},
     "output_type": "display_data"
    },
    {
     "data": {
      "text/plain": [
       "          Length Class  Mode     \n",
       "statistic 1      -none- numeric  \n",
       "parameter 1      -none- numeric  \n",
       "p.value   1      -none- numeric  \n",
       "method    1      -none- character\n",
       "data.name 1      -none- character"
      ]
     },
     "metadata": {},
     "output_type": "display_data"
    },
    {
     "data": {
      "text/plain": [
       "          Length Class  Mode     \n",
       "statistic 1      -none- numeric  \n",
       "parameter 1      -none- numeric  \n",
       "p.value   1      -none- numeric  \n",
       "method    1      -none- character\n",
       "data.name 1      -none- character"
      ]
     },
     "metadata": {},
     "output_type": "display_data"
    },
    {
     "data": {
      "text/plain": [
       "          Length Class  Mode     \n",
       "statistic 1      -none- numeric  \n",
       "parameter 1      -none- numeric  \n",
       "p.value   1      -none- numeric  \n",
       "method    1      -none- character\n",
       "data.name 1      -none- character"
      ]
     },
     "metadata": {},
     "output_type": "display_data"
    },
    {
     "data": {
      "text/plain": [
       "          Length Class  Mode     \n",
       "statistic 1      -none- numeric  \n",
       "parameter 1      -none- numeric  \n",
       "p.value   1      -none- numeric  \n",
       "method    1      -none- character\n",
       "data.name 1      -none- character"
      ]
     },
     "metadata": {},
     "output_type": "display_data"
    }
   ],
   "source": [
    "#viewing results\n",
    "summary(NLF_Cluster1_anova)\n",
    "summary(NLF_Cluster2_anova)\n",
    "summary(NLF_Cluster3_anova)\n",
    "summary(ELF_Cluster1_anova)\n",
    "summary(ELF_Cluster2_anova)\n",
    "summary(ELF_Cluster3_anova) #this was the only that was even close to being significant\n",
    "summary(Sputum_Cluster1_anova)\n",
    "summary(Sputum_Cluster2_anova)\n",
    "summary(Sputum_Cluster3_anova)\n",
    "summary(Serum_Cluster1_anova)\n",
    "summary(Serum_Cluster2_anova)\n",
    "summary(Serum_Cluster3_anova)"
   ]
  },
  {
   "cell_type": "code",
   "execution_count": 12,
   "metadata": {},
   "outputs": [
    {
     "name": "stderr",
     "output_type": "stream",
     "text": [
      "Loading required package: mvtnorm\n",
      "\n",
      "Warning message:\n",
      "“package ‘mvtnorm’ was built under R version 4.0.3”\n",
      "Loading required package: survival\n",
      "\n",
      "Loading required package: TH.data\n",
      "\n",
      "Loading required package: MASS\n",
      "\n",
      "\n",
      "Attaching package: ‘MASS’\n",
      "\n",
      "\n",
      "The following object is masked from ‘package:dplyr’:\n",
      "\n",
      "    select\n",
      "\n",
      "\n",
      "\n",
      "Attaching package: ‘TH.data’\n",
      "\n",
      "\n",
      "The following object is masked from ‘package:MASS’:\n",
      "\n",
      "    geyser\n",
      "\n",
      "\n"
     ]
    }
   ],
   "source": [
    "#need this for glht fn\n",
    "library(multcomp)"
   ]
  },
  {
   "cell_type": "code",
   "execution_count": null,
   "metadata": {},
   "outputs": [],
   "source": [
    "# Tukey's post hoc\n",
    "# NLF_Cluster1_tukey_anova = TukeyHSD(NLF_Cluster1_anova, type = 'III')\n",
    "# NLF_Cluster2_tukey_anova = TukeyHSD(NLF_Cluster2_anova, type = 'III')\n",
    "# NLF_Cluster3_tukey_anova = TukeyHSD(NLF_Cluster3_anova, type = 'III')\n",
    "# ELF_Cluster1_tukey_anova = TukeyHSD(ELF_Cluster1_anova, type = 'III')\n",
    "# ELF_Cluster2_tukey_anova = TukeyHSD(ELF_Cluster2_anova, type = 'III')\n",
    "# ELF_Cluster3_tukey_anova = TukeyHSD(ELF_Cluster3_anova, type = 'III')\n",
    "# Sputum_Cluster1_tukey_anova = TukeyHSD(Sputum_Cluster1_anova, type = 'III')\n",
    "# Sputum_Cluster2_tukey_anova = TukeyHSD(Sputum_Cluster2_anova, type = 'III')\n",
    "# Sputum_Cluster3_tukey_anova = TukeyHSD(Sputum_Cluster3_anova, type = 'III')\n",
    "# Serum_Cluster1_tukey_anova = TukeyHSD(Serum_Cluster1_anova, type = 'III')\n",
    "# Serum_Cluster2_tukey_anova = TukeyHSD(Serum_Cluster2_anova, type = 'III')\n",
    "# Serum_Cluster3_tukey_anova = TukeyHSD(Serum_Cluster3_anova, type = 'III')"
   ]
  },
  {
   "cell_type": "markdown",
   "metadata": {},
   "source": [
    "# ANCOVA"
   ]
  },
  {
   "cell_type": "code",
   "execution_count": 13,
   "metadata": {},
   "outputs": [],
   "source": [
    "#controlling for age\n",
    "get_ancova_age1 = function(scaled_df){\n",
    "    contrasts(scaled_df$Group) = cbind(c(-1,1,0),c(-1,0,1))#meaning is explained above\n",
    "    ancova = aov(Cluster1~Age+Group, data = scaled_df)\n",
    "    return(ancova)\n",
    "}\n",
    "get_ancova_age2 = function(scaled_df){\n",
    "    contrasts(scaled_df$Group) = cbind(c(-1,1,0),c(-1,0,1)) #meaning is explained above\n",
    "    ancova = aov(Cluster2~Age+Group, data = scaled_df)\n",
    "    return(ancova)\n",
    "}\n",
    "get_ancova_age3 = function(scaled_df){\n",
    "    contrasts(scaled_df$Group) = cbind(c(-1,1,0),c(-1,0,1)) #meaning is explained above\n",
    "    ancova = aov(Cluster3~Age+Group, data = scaled_df)\n",
    "    return(ancova)\n",
    "}\n",
    "\n",
    "#calling fn\n",
    "NLF_Cluster1_ancova_age = get_ancova_age1(eigen_NLF_scaled)\n",
    "NLF_Cluster2_ancova_age = get_ancova_age2(eigen_NLF_scaled)\n",
    "NLF_Cluster3_ancova_age = get_ancova_age3(eigen_NLF_scaled)\n",
    "ELF_Cluster1_ancova_age = get_ancova_age1(eigen_ELF_scaled)\n",
    "ELF_Cluster2_ancova_age = get_ancova_age2(eigen_ELF_scaled)\n",
    "ELF_Cluster3_ancova_age = get_ancova_age3(eigen_ELF_scaled)\n",
    "Sputum_Cluster1_ancova_age = get_ancova_age1(eigen_Sputum_scaled)\n",
    "Sputum_Cluster2_ancova_age = get_ancova_age2(eigen_Sputum_scaled)\n",
    "Sputum_Cluster3_ancova_age = get_ancova_age3(eigen_Sputum_scaled)\n",
    "Serum_Cluster1_ancova_age = get_ancova_age1(eigen_Serum_scaled)\n",
    "Serum_Cluster2_ancova_age = get_ancova_age2(eigen_Serum_scaled)\n",
    "Serum_Cluster3_ancova_age = get_ancova_age3(eigen_Serum_scaled)"
   ]
  },
  {
   "cell_type": "code",
   "execution_count": 14,
   "metadata": {
    "scrolled": true
   },
   "outputs": [
    {
     "data": {
      "text/plain": [
       "            Df Sum Sq Mean Sq F value Pr(>F)\n",
       "Age          1   0.42  0.4173   0.408  0.527\n",
       "Group        2   1.64  0.8183   0.799  0.457\n",
       "Residuals   40  40.95  1.0237               "
      ]
     },
     "metadata": {},
     "output_type": "display_data"
    },
    {
     "data": {
      "text/plain": [
       "            Df Sum Sq Mean Sq F value Pr(>F)\n",
       "Age          1   0.47  0.4708   0.455  0.504\n",
       "Group        2   1.15  0.5749   0.556  0.578\n",
       "Residuals   40  41.38  1.0345               "
      ]
     },
     "metadata": {},
     "output_type": "display_data"
    },
    {
     "data": {
      "text/plain": [
       "            Df Sum Sq Mean Sq F value Pr(>F)\n",
       "Age          1   0.01  0.0064   0.006  0.938\n",
       "Group        2   1.00  0.5024   0.479  0.623\n",
       "Residuals   40  41.99  1.0497               "
      ]
     },
     "metadata": {},
     "output_type": "display_data"
    },
    {
     "data": {
      "text/plain": [
       "            Df Sum Sq Mean Sq F value Pr(>F)\n",
       "Age          1   0.06  0.0612   0.059  0.809\n",
       "Group        2   1.46  0.7292   0.703  0.501\n",
       "Residuals   40  41.48  1.0370               "
      ]
     },
     "metadata": {},
     "output_type": "display_data"
    },
    {
     "data": {
      "text/plain": [
       "            Df Sum Sq Mean Sq F value Pr(>F)\n",
       "Age          1   0.78  0.7816   0.758  0.389\n",
       "Group        2   0.95  0.4772   0.463  0.633\n",
       "Residuals   40  41.26  1.0316               "
      ]
     },
     "metadata": {},
     "output_type": "display_data"
    },
    {
     "data": {
      "text/plain": [
       "            Df Sum Sq Mean Sq F value Pr(>F)  \n",
       "Age          1   0.52  0.5203   0.558  0.459  \n",
       "Group        2   5.19  2.5932   2.781  0.074 .\n",
       "Residuals   40  37.29  0.9323                 \n",
       "---\n",
       "Signif. codes:  0 ‘***’ 0.001 ‘**’ 0.01 ‘*’ 0.05 ‘.’ 0.1 ‘ ’ 1"
      ]
     },
     "metadata": {},
     "output_type": "display_data"
    },
    {
     "data": {
      "text/plain": [
       "            Df Sum Sq Mean Sq F value Pr(>F)\n",
       "Age          1   0.52  0.5173   0.494  0.486\n",
       "Group        2   0.60  0.3005   0.287  0.752\n",
       "Residuals   40  41.88  1.0470               "
      ]
     },
     "metadata": {},
     "output_type": "display_data"
    },
    {
     "data": {
      "text/plain": [
       "            Df Sum Sq Mean Sq F value Pr(>F)\n",
       "Age          1   0.65  0.6465   0.655  0.423\n",
       "Group        2   2.89  1.4466   1.466  0.243\n",
       "Residuals   40  39.46  0.9865               "
      ]
     },
     "metadata": {},
     "output_type": "display_data"
    },
    {
     "data": {
      "text/plain": [
       "            Df Sum Sq Mean Sq F value Pr(>F)\n",
       "Age          1   1.39  1.3875   1.352  0.252\n",
       "Group        2   0.55  0.2755   0.268  0.766\n",
       "Residuals   40  41.06  1.0265               "
      ]
     },
     "metadata": {},
     "output_type": "display_data"
    },
    {
     "data": {
      "text/plain": [
       "            Df Sum Sq Mean Sq F value Pr(>F)\n",
       "Age          1   0.80  0.8025   0.758  0.389\n",
       "Group        2   0.68  0.3402   0.321  0.727\n",
       "Residuals   39  41.27  1.0583               "
      ]
     },
     "metadata": {},
     "output_type": "display_data"
    },
    {
     "data": {
      "text/plain": [
       "            Df Sum Sq Mean Sq F value Pr(>F)  \n",
       "Age          1   3.26   3.257   3.557 0.0667 .\n",
       "Group        2   1.71   0.856   0.934 0.4014  \n",
       "Residuals   39  35.71   0.916                 \n",
       "---\n",
       "Signif. codes:  0 ‘***’ 0.001 ‘**’ 0.01 ‘*’ 0.05 ‘.’ 0.1 ‘ ’ 1"
      ]
     },
     "metadata": {},
     "output_type": "display_data"
    },
    {
     "data": {
      "text/plain": [
       "            Df Sum Sq Mean Sq F value Pr(>F)  \n",
       "Age          1   3.57   3.569   3.699 0.0618 .\n",
       "Group        2   1.76   0.879   0.911 0.4105  \n",
       "Residuals   39  37.63   0.965                 \n",
       "---\n",
       "Signif. codes:  0 ‘***’ 0.001 ‘**’ 0.01 ‘*’ 0.05 ‘.’ 0.1 ‘ ’ 1"
      ]
     },
     "metadata": {},
     "output_type": "display_data"
    }
   ],
   "source": [
    "#viewing results\n",
    "summary(NLF_Cluster1_ancova_age)\n",
    "summary(NLF_Cluster2_ancova_age)\n",
    "summary(NLF_Cluster3_ancova_age)\n",
    "summary(ELF_Cluster1_ancova_age)\n",
    "summary(ELF_Cluster2_ancova_age)\n",
    "summary(ELF_Cluster3_ancova_age)\n",
    "summary(Sputum_Cluster1_ancova_age)\n",
    "summary(Sputum_Cluster2_ancova_age)\n",
    "summary(Sputum_Cluster3_ancova_age)\n",
    "summary(Serum_Cluster1_ancova_age)\n",
    "summary(Serum_Cluster2_ancova_age)\n",
    "summary(Serum_Cluster3_ancova_age)"
   ]
  },
  {
   "cell_type": "code",
   "execution_count": null,
   "metadata": {},
   "outputs": [],
   "source": [
    "# Tukey's post hoc \n",
    "# NLF_Cluster1_tukey_ancova = summary(glht(NLF_Cluster1_ancova_age, linfct=mcp(Group = \"Tukey\")), test = adjusted(\"none\")) \n",
    "# NLF_Cluster2_tukey_ancova = summary(glht(NLF_Cluster2_ancova_age, linfct=mcp(Group = \"Tukey\")), test = adjusted(\"none\"))\n",
    "# NLF_Cluster3_tukey_ancova = summary(glht(NLF_Cluster3_ancova_age, linfct=mcp(Group = \"Tukey\")), test = adjusted(\"none\"))\n",
    "# ELF_Cluster1_tukey_ancova = summary(glht(ELF_Cluster1_ancova_age, linfct=mcp(Group = \"Tukey\")), test = adjusted(\"none\")) \n",
    "# ELF_Cluster2_tukey_ancova = summary(glht(ELF_Cluster2_ancova_age, linfct=mcp(Group = \"Tukey\")), test = adjusted(\"none\"))\n",
    "# ELF_Cluster3_tukey_ancova = summary(glht(ELF_Cluster3_ancova_age, linfct=mcp(Group = \"Tukey\")), test = adjusted(\"none\"))\n",
    "# Sputum_Cluster1_tukey_ancova = summary(glht(Sputum_Cluster1_ancova_age, linfct=mcp(Group = \"Tukey\")), test = adjusted(\"none\")) \n",
    "# Sputum_Cluster2_tukey_ancova = summary(glht(Sputum_Cluster2_ancova_age, linfct=mcp(Group = \"Tukey\")), test = adjusted(\"none\"))\n",
    "# Sputum_Cluster3_tukey_ancova = summary(glht(Sputum_Cluster3_ancova_age, linfct=mcp(Group = \"Tukey\")), test = adjusted(\"none\"))\n",
    "# Serum_Cluster1_tukey_ancova = summary(glht(Serum_Cluster1_ancova_age, linfct=mcp(Group = \"Tukey\")), test = adjusted(\"none\")) \n",
    "# Serum_Cluster2_tukey_ancova = summary(glht(Serum_Cluster2_ancova_age, linfct=mcp(Group = \"Tukey\")), test = adjusted(\"none\"))\n",
    "# Serum_Cluster3_tukey_ancova = summary(glht(Serum_Cluster3_ancova_age, linfct=mcp(Group = \"Tukey\")), test = adjusted(\"none\"))"
   ]
  },
  {
   "cell_type": "markdown",
   "metadata": {},
   "source": [
    "# ANOVA/ANCOVA Tables"
   ]
  },
  {
   "cell_type": "code",
   "execution_count": 15,
   "metadata": {},
   "outputs": [],
   "source": [
    "extract_values = function(anova_results){\n",
    "    #extracting f and p values from the anova to be put into a table\n",
    "    cluster_summary = summary(anova_results)[[1]][1, 2:5] #f value, pvalue\n",
    "    f_value = cluster_summary$`F value`\n",
    "    p_value = cluster_summary$`Pr(>F)`\n",
    "    \n",
    "    cluster_anova_values = c(f_value,p_value)\n",
    "    return(cluster_anova_values)\n",
    "}\n",
    "\n",
    "#anova\n",
    "NLF_Cluster1_anova_values = extract_values(NLF_Cluster1_anova)\n",
    "NLF_Cluster2_anova_values = extract_values(NLF_Cluster2_anova)\n",
    "NLF_Cluster3_anova_values = extract_values(NLF_Cluster3_anova)\n",
    "ELF_Cluster1_anova_values = extract_values(ELF_Cluster1_anova)\n",
    "ELF_Cluster2_anova_values = extract_values(ELF_Cluster2_anova)\n",
    "ELF_Cluster3_anova_values = extract_values(ELF_Cluster3_anova)\n",
    "Sputum_Cluster1_anova_values = extract_values(Sputum_Cluster1_anova)\n",
    "Sputum_Cluster2_anova_values = extract_values(Sputum_Cluster2_anova)\n",
    "Sputum_Cluster3_anova_values = extract_values(Sputum_Cluster3_anova)\n",
    "Serum_Cluster1_anova_values = extract_values(Serum_Cluster1_anova)\n",
    "Serum_Cluster2_anova_values = extract_values(Serum_Cluster2_anova)\n",
    "Serum_Cluster3_anova_values = extract_values(Serum_Cluster3_anova)\n",
    "\n",
    "#ancova\n",
    "NLF_Cluster1_ancova_age_values = extract_values(NLF_Cluster1_ancova_age)\n",
    "NLF_Cluster2_ancova_age_values = extract_values(NLF_Cluster2_ancova_age)\n",
    "NLF_Cluster3_ancova_age_values = extract_values(NLF_Cluster3_ancova_age)\n",
    "ELF_Cluster1_ancova_age_values = extract_values(ELF_Cluster1_ancova_age)\n",
    "ELF_Cluster2_ancova_age_values = extract_values(ELF_Cluster2_ancova_age)\n",
    "ELF_Cluster3_ancova_age_values = extract_values(ELF_Cluster3_ancova_age)\n",
    "Sputum_Cluster1_ancova_age_values = extract_values(Sputum_Cluster1_ancova_age)\n",
    "Sputum_Cluster2_ancova_age_values = extract_values(Sputum_Cluster2_ancova_age)\n",
    "Sputum_Cluster3_ancova_age_values = extract_values(Sputum_Cluster3_ancova_age)\n",
    "Serum_Cluster1_ancova_age_values = extract_values(Serum_Cluster1_ancova_age)\n",
    "Serum_Cluster2_ancova_age_values = extract_values(Serum_Cluster2_ancova_age)\n",
    "Serum_Cluster3_ancova_age_values = extract_values(Serum_Cluster3_ancova_age)"
   ]
  },
  {
   "cell_type": "code",
   "execution_count": 16,
   "metadata": {
    "collapsed": true
   },
   "outputs": [
    {
     "data": {
      "text/html": [
       "<table>\n",
       "<caption>A matrix: 12 × 4 of type dbl</caption>\n",
       "<thead>\n",
       "\t<tr><th></th><th scope=col>F Value</th><th scope=col>p value</th><th scope=col>F Value</th><th scope=col>p value</th></tr>\n",
       "</thead>\n",
       "<tbody>\n",
       "\t<tr><th scope=row>NLF_Cluster1</th><td>0.69953008</td><td>0.50265077</td><td>0.407689756</td><td>0.52678360</td></tr>\n",
       "\t<tr><th scope=row>NLF_Cluster2</th><td>0.73518531</td><td>0.48562946</td><td>0.455150695</td><td>0.50378000</td></tr>\n",
       "\t<tr><th scope=row>NLF_Cluster3</th><td>0.46402711</td><td>0.63200795</td><td>0.006049892</td><td>0.93839001</td></tr>\n",
       "\t<tr><th scope=row>ELF_Cluster1</th><td>0.69057907</td><td>0.50702135</td><td>0.059003220</td><td>0.80931970</td></tr>\n",
       "\t<tr><th scope=row>ELF_Cluster2</th><td>0.28929582</td><td>0.75030646</td><td>0.757627064</td><td>0.38926598</td></tr>\n",
       "\t<tr><th scope=row>ELF_Cluster3</th><td>3.13213402</td><td>0.05421805</td><td>0.558051274</td><td>0.45941533</td></tr>\n",
       "\t<tr><th scope=row>Sputum_Cluster1</th><td>0.38933059</td><td>0.67998828</td><td>0.494097197</td><td>0.48617647</td></tr>\n",
       "\t<tr><th scope=row>Sputum_Cluster2</th><td>1.27839383</td><td>0.28935053</td><td>0.655320352</td><td>0.42300646</td></tr>\n",
       "\t<tr><th scope=row>Sputum_Cluster3</th><td>0.05274737</td><td>0.94868390</td><td>1.351607705</td><td>0.25188668</td></tr>\n",
       "\t<tr><th scope=row>Serum_Cluster1</th><td>0.31978372</td><td>0.72814571</td><td>0.758304179</td><td>0.38918858</td></tr>\n",
       "\t<tr><th scope=row>Serum_Cluster2</th><td>0.33467539</td><td>0.71755474</td><td>3.557444673</td><td>0.06674183</td></tr>\n",
       "\t<tr><th scope=row>Serum_Cluster3</th><td>0.24836775</td><td>0.78126706</td><td>3.699283872</td><td>0.06175829</td></tr>\n",
       "</tbody>\n",
       "</table>\n"
      ],
      "text/latex": [
       "A matrix: 12 × 4 of type dbl\n",
       "\\begin{tabular}{r|llll}\n",
       "  & F Value & p value & F Value & p value\\\\\n",
       "\\hline\n",
       "\tNLF\\_Cluster1 & 0.69953008 & 0.50265077 & 0.407689756 & 0.52678360\\\\\n",
       "\tNLF\\_Cluster2 & 0.73518531 & 0.48562946 & 0.455150695 & 0.50378000\\\\\n",
       "\tNLF\\_Cluster3 & 0.46402711 & 0.63200795 & 0.006049892 & 0.93839001\\\\\n",
       "\tELF\\_Cluster1 & 0.69057907 & 0.50702135 & 0.059003220 & 0.80931970\\\\\n",
       "\tELF\\_Cluster2 & 0.28929582 & 0.75030646 & 0.757627064 & 0.38926598\\\\\n",
       "\tELF\\_Cluster3 & 3.13213402 & 0.05421805 & 0.558051274 & 0.45941533\\\\\n",
       "\tSputum\\_Cluster1 & 0.38933059 & 0.67998828 & 0.494097197 & 0.48617647\\\\\n",
       "\tSputum\\_Cluster2 & 1.27839383 & 0.28935053 & 0.655320352 & 0.42300646\\\\\n",
       "\tSputum\\_Cluster3 & 0.05274737 & 0.94868390 & 1.351607705 & 0.25188668\\\\\n",
       "\tSerum\\_Cluster1 & 0.31978372 & 0.72814571 & 0.758304179 & 0.38918858\\\\\n",
       "\tSerum\\_Cluster2 & 0.33467539 & 0.71755474 & 3.557444673 & 0.06674183\\\\\n",
       "\tSerum\\_Cluster3 & 0.24836775 & 0.78126706 & 3.699283872 & 0.06175829\\\\\n",
       "\\end{tabular}\n"
      ],
      "text/markdown": [
       "\n",
       "A matrix: 12 × 4 of type dbl\n",
       "\n",
       "| <!--/--> | F Value | p value | F Value | p value |\n",
       "|---|---|---|---|---|\n",
       "| NLF_Cluster1 | 0.69953008 | 0.50265077 | 0.407689756 | 0.52678360 |\n",
       "| NLF_Cluster2 | 0.73518531 | 0.48562946 | 0.455150695 | 0.50378000 |\n",
       "| NLF_Cluster3 | 0.46402711 | 0.63200795 | 0.006049892 | 0.93839001 |\n",
       "| ELF_Cluster1 | 0.69057907 | 0.50702135 | 0.059003220 | 0.80931970 |\n",
       "| ELF_Cluster2 | 0.28929582 | 0.75030646 | 0.757627064 | 0.38926598 |\n",
       "| ELF_Cluster3 | 3.13213402 | 0.05421805 | 0.558051274 | 0.45941533 |\n",
       "| Sputum_Cluster1 | 0.38933059 | 0.67998828 | 0.494097197 | 0.48617647 |\n",
       "| Sputum_Cluster2 | 1.27839383 | 0.28935053 | 0.655320352 | 0.42300646 |\n",
       "| Sputum_Cluster3 | 0.05274737 | 0.94868390 | 1.351607705 | 0.25188668 |\n",
       "| Serum_Cluster1 | 0.31978372 | 0.72814571 | 0.758304179 | 0.38918858 |\n",
       "| Serum_Cluster2 | 0.33467539 | 0.71755474 | 3.557444673 | 0.06674183 |\n",
       "| Serum_Cluster3 | 0.24836775 | 0.78126706 | 3.699283872 | 0.06175829 |\n",
       "\n"
      ],
      "text/plain": [
       "                F Value    p value    F Value     p value   \n",
       "NLF_Cluster1    0.69953008 0.50265077 0.407689756 0.52678360\n",
       "NLF_Cluster2    0.73518531 0.48562946 0.455150695 0.50378000\n",
       "NLF_Cluster3    0.46402711 0.63200795 0.006049892 0.93839001\n",
       "ELF_Cluster1    0.69057907 0.50702135 0.059003220 0.80931970\n",
       "ELF_Cluster2    0.28929582 0.75030646 0.757627064 0.38926598\n",
       "ELF_Cluster3    3.13213402 0.05421805 0.558051274 0.45941533\n",
       "Sputum_Cluster1 0.38933059 0.67998828 0.494097197 0.48617647\n",
       "Sputum_Cluster2 1.27839383 0.28935053 0.655320352 0.42300646\n",
       "Sputum_Cluster3 0.05274737 0.94868390 1.351607705 0.25188668\n",
       "Serum_Cluster1  0.31978372 0.72814571 0.758304179 0.38918858\n",
       "Serum_Cluster2  0.33467539 0.71755474 3.557444673 0.06674183\n",
       "Serum_Cluster3  0.24836775 0.78126706 3.699283872 0.06175829"
      ]
     },
     "metadata": {},
     "output_type": "display_data"
    }
   ],
   "source": [
    "table_summary = function(NLF_Cluster1, NLF_Cluster2, NLF_Cluster3, ELF_Cluster1, ELF_Cluster2, \n",
    "                         ELF_Cluster3, Sputum_Cluster1, Sputum_Cluster2, Sputum_Cluster3, Serum_Cluster1, \n",
    "                         Serum_Cluster2, Serum_Cluster3){\n",
    "    #comment\n",
    "    table_initial = rbind(NLF_Cluster1, NLF_Cluster2, NLF_Cluster3, ELF_Cluster1, ELF_Cluster2, \n",
    "                         ELF_Cluster3, Sputum_Cluster1, Sputum_Cluster2, Sputum_Cluster3, Serum_Cluster1, \n",
    "                         Serum_Cluster2, Serum_Cluster3)\n",
    "    \n",
    "    colnames(table_initial) = c('F Value','p value')\n",
    "    return(table_initial)\n",
    "}\n",
    "\n",
    "#calling function\n",
    "anova_table = table_summary(NLF_Cluster1_anova_values, NLF_Cluster2_anova_values, NLF_Cluster3_anova_values, \n",
    "                            ELF_Cluster1_anova_values, ELF_Cluster2_anova_values, ELF_Cluster3_anova_values, \n",
    "                            Sputum_Cluster1_anova_values, Sputum_Cluster2_anova_values, Sputum_Cluster3_anova_values, \n",
    "                            Serum_Cluster1_anova_values, Serum_Cluster2_anova_values, Serum_Cluster3_anova_values)\n",
    "ancova_age_table = table_summary(NLF_Cluster1_ancova_age_values, NLF_Cluster2_ancova_age_values, \n",
    "                                 NLF_Cluster3_ancova_age_values, ELF_Cluster1_ancova_age_values, \n",
    "                                 ELF_Cluster2_ancova_age_values, ELF_Cluster3_ancova_age_values, \n",
    "                                 Sputum_Cluster1_ancova_age_values, Sputum_Cluster2_ancova_age_values, \n",
    "                                 Sputum_Cluster3_ancova_age_values, Serum_Cluster1_ancova_age_values, \n",
    "                                 Serum_Cluster2_ancova_age_values, Serum_Cluster3_ancova_age_values)\n",
    "allresults = cbind(anova_table, ancova_age_table)"
   ]
  },
  {
   "cell_type": "code",
   "execution_count": 17,
   "metadata": {},
   "outputs": [
    {
     "data": {
      "text/html": [
       "<table>\n",
       "<caption>A matrix: 12 × 6 of type dbl</caption>\n",
       "<thead>\n",
       "\t<tr><th></th><th scope=col>F Value ANOVA</th><th scope=col>p value</th><th scope=col>P Adj</th><th scope=col>F Value ANCOVA</th><th scope=col>p value</th><th scope=col>P Adj</th></tr>\n",
       "</thead>\n",
       "<tbody>\n",
       "\t<tr><th scope=row>NLF_Cluster1</th><td>0.69953008</td><td>0.50265077</td><td>0.8522913</td><td>0.407689756</td><td>0.52678360</td><td>0.6321403</td></tr>\n",
       "\t<tr><th scope=row>NLF_Cluster2</th><td>0.73518531</td><td>0.48562946</td><td>0.8522913</td><td>0.455150695</td><td>0.50378000</td><td>0.6321403</td></tr>\n",
       "\t<tr><th scope=row>NLF_Cluster3</th><td>0.46402711</td><td>0.63200795</td><td>0.8522913</td><td>0.006049892</td><td>0.93839001</td><td>0.9383900</td></tr>\n",
       "\t<tr><th scope=row>ELF_Cluster1</th><td>0.69057907</td><td>0.50702135</td><td>0.8522913</td><td>0.059003220</td><td>0.80931970</td><td>0.8828942</td></tr>\n",
       "\t<tr><th scope=row>ELF_Cluster2</th><td>0.28929582</td><td>0.75030646</td><td>0.8522913</td><td>0.757627064</td><td>0.38926598</td><td>0.6321403</td></tr>\n",
       "\t<tr><th scope=row>ELF_Cluster3</th><td>3.13213402</td><td>0.05421805</td><td>0.6506166</td><td>0.558051274</td><td>0.45941533</td><td>0.6321403</td></tr>\n",
       "\t<tr><th scope=row>Sputum_Cluster1</th><td>0.38933059</td><td>0.67998828</td><td>0.8522913</td><td>0.494097197</td><td>0.48617647</td><td>0.6321403</td></tr>\n",
       "\t<tr><th scope=row>Sputum_Cluster2</th><td>1.27839383</td><td>0.28935053</td><td>0.8522913</td><td>0.655320352</td><td>0.42300646</td><td>0.6321403</td></tr>\n",
       "\t<tr><th scope=row>Sputum_Cluster3</th><td>0.05274737</td><td>0.94868390</td><td>0.9486839</td><td>1.351607705</td><td>0.25188668</td><td>0.6321403</td></tr>\n",
       "\t<tr><th scope=row>Serum_Cluster1</th><td>0.31978372</td><td>0.72814571</td><td>0.8522913</td><td>0.758304179</td><td>0.38918858</td><td>0.6321403</td></tr>\n",
       "\t<tr><th scope=row>Serum_Cluster2</th><td>0.33467539</td><td>0.71755474</td><td>0.8522913</td><td>3.557444673</td><td>0.06674183</td><td>0.4004510</td></tr>\n",
       "\t<tr><th scope=row>Serum_Cluster3</th><td>0.24836775</td><td>0.78126706</td><td>0.8522913</td><td>3.699283872</td><td>0.06175829</td><td>0.4004510</td></tr>\n",
       "</tbody>\n",
       "</table>\n"
      ],
      "text/latex": [
       "A matrix: 12 × 6 of type dbl\n",
       "\\begin{tabular}{r|llllll}\n",
       "  & F Value ANOVA & p value & P Adj & F Value ANCOVA & p value & P Adj\\\\\n",
       "\\hline\n",
       "\tNLF\\_Cluster1 & 0.69953008 & 0.50265077 & 0.8522913 & 0.407689756 & 0.52678360 & 0.6321403\\\\\n",
       "\tNLF\\_Cluster2 & 0.73518531 & 0.48562946 & 0.8522913 & 0.455150695 & 0.50378000 & 0.6321403\\\\\n",
       "\tNLF\\_Cluster3 & 0.46402711 & 0.63200795 & 0.8522913 & 0.006049892 & 0.93839001 & 0.9383900\\\\\n",
       "\tELF\\_Cluster1 & 0.69057907 & 0.50702135 & 0.8522913 & 0.059003220 & 0.80931970 & 0.8828942\\\\\n",
       "\tELF\\_Cluster2 & 0.28929582 & 0.75030646 & 0.8522913 & 0.757627064 & 0.38926598 & 0.6321403\\\\\n",
       "\tELF\\_Cluster3 & 3.13213402 & 0.05421805 & 0.6506166 & 0.558051274 & 0.45941533 & 0.6321403\\\\\n",
       "\tSputum\\_Cluster1 & 0.38933059 & 0.67998828 & 0.8522913 & 0.494097197 & 0.48617647 & 0.6321403\\\\\n",
       "\tSputum\\_Cluster2 & 1.27839383 & 0.28935053 & 0.8522913 & 0.655320352 & 0.42300646 & 0.6321403\\\\\n",
       "\tSputum\\_Cluster3 & 0.05274737 & 0.94868390 & 0.9486839 & 1.351607705 & 0.25188668 & 0.6321403\\\\\n",
       "\tSerum\\_Cluster1 & 0.31978372 & 0.72814571 & 0.8522913 & 0.758304179 & 0.38918858 & 0.6321403\\\\\n",
       "\tSerum\\_Cluster2 & 0.33467539 & 0.71755474 & 0.8522913 & 3.557444673 & 0.06674183 & 0.4004510\\\\\n",
       "\tSerum\\_Cluster3 & 0.24836775 & 0.78126706 & 0.8522913 & 3.699283872 & 0.06175829 & 0.4004510\\\\\n",
       "\\end{tabular}\n"
      ],
      "text/markdown": [
       "\n",
       "A matrix: 12 × 6 of type dbl\n",
       "\n",
       "| <!--/--> | F Value ANOVA | p value | P Adj | F Value ANCOVA | p value | P Adj |\n",
       "|---|---|---|---|---|---|---|\n",
       "| NLF_Cluster1 | 0.69953008 | 0.50265077 | 0.8522913 | 0.407689756 | 0.52678360 | 0.6321403 |\n",
       "| NLF_Cluster2 | 0.73518531 | 0.48562946 | 0.8522913 | 0.455150695 | 0.50378000 | 0.6321403 |\n",
       "| NLF_Cluster3 | 0.46402711 | 0.63200795 | 0.8522913 | 0.006049892 | 0.93839001 | 0.9383900 |\n",
       "| ELF_Cluster1 | 0.69057907 | 0.50702135 | 0.8522913 | 0.059003220 | 0.80931970 | 0.8828942 |\n",
       "| ELF_Cluster2 | 0.28929582 | 0.75030646 | 0.8522913 | 0.757627064 | 0.38926598 | 0.6321403 |\n",
       "| ELF_Cluster3 | 3.13213402 | 0.05421805 | 0.6506166 | 0.558051274 | 0.45941533 | 0.6321403 |\n",
       "| Sputum_Cluster1 | 0.38933059 | 0.67998828 | 0.8522913 | 0.494097197 | 0.48617647 | 0.6321403 |\n",
       "| Sputum_Cluster2 | 1.27839383 | 0.28935053 | 0.8522913 | 0.655320352 | 0.42300646 | 0.6321403 |\n",
       "| Sputum_Cluster3 | 0.05274737 | 0.94868390 | 0.9486839 | 1.351607705 | 0.25188668 | 0.6321403 |\n",
       "| Serum_Cluster1 | 0.31978372 | 0.72814571 | 0.8522913 | 0.758304179 | 0.38918858 | 0.6321403 |\n",
       "| Serum_Cluster2 | 0.33467539 | 0.71755474 | 0.8522913 | 3.557444673 | 0.06674183 | 0.4004510 |\n",
       "| Serum_Cluster3 | 0.24836775 | 0.78126706 | 0.8522913 | 3.699283872 | 0.06175829 | 0.4004510 |\n",
       "\n"
      ],
      "text/plain": [
       "                F Value ANOVA p value    P Adj     F Value ANCOVA p value   \n",
       "NLF_Cluster1    0.69953008    0.50265077 0.8522913 0.407689756    0.52678360\n",
       "NLF_Cluster2    0.73518531    0.48562946 0.8522913 0.455150695    0.50378000\n",
       "NLF_Cluster3    0.46402711    0.63200795 0.8522913 0.006049892    0.93839001\n",
       "ELF_Cluster1    0.69057907    0.50702135 0.8522913 0.059003220    0.80931970\n",
       "ELF_Cluster2    0.28929582    0.75030646 0.8522913 0.757627064    0.38926598\n",
       "ELF_Cluster3    3.13213402    0.05421805 0.6506166 0.558051274    0.45941533\n",
       "Sputum_Cluster1 0.38933059    0.67998828 0.8522913 0.494097197    0.48617647\n",
       "Sputum_Cluster2 1.27839383    0.28935053 0.8522913 0.655320352    0.42300646\n",
       "Sputum_Cluster3 0.05274737    0.94868390 0.9486839 1.351607705    0.25188668\n",
       "Serum_Cluster1  0.31978372    0.72814571 0.8522913 0.758304179    0.38918858\n",
       "Serum_Cluster2  0.33467539    0.71755474 0.8522913 3.557444673    0.06674183\n",
       "Serum_Cluster3  0.24836775    0.78126706 0.8522913 3.699283872    0.06175829\n",
       "                P Adj    \n",
       "NLF_Cluster1    0.6321403\n",
       "NLF_Cluster2    0.6321403\n",
       "NLF_Cluster3    0.9383900\n",
       "ELF_Cluster1    0.8828942\n",
       "ELF_Cluster2    0.6321403\n",
       "ELF_Cluster3    0.6321403\n",
       "Sputum_Cluster1 0.6321403\n",
       "Sputum_Cluster2 0.6321403\n",
       "Sputum_Cluster3 0.6321403\n",
       "Serum_Cluster1  0.6321403\n",
       "Serum_Cluster2  0.4004510\n",
       "Serum_Cluster3  0.4004510"
      ]
     },
     "metadata": {},
     "output_type": "display_data"
    }
   ],
   "source": [
    "col_names = c('F Value ANOVA','p value', 'P Adj', 'F Value ANCOVA','p value', 'P Adj')\n",
    "final_table_summary = function(table, names_vector){\n",
    "    #going back to calculate padj values\n",
    "    padj = apply(cbind(table[,2],table[,4]), 2, p.adjust, method = \"fdr\") #the 2 applies function down the col\n",
    "    \n",
    "    #inserting these back into the OG df to export all values\n",
    "    final_table = cbind(table[,1], table[,2], padj[,1], table[,3], table[,4],padj[,2])\n",
    "    colnames(final_table) = names_vector\n",
    "    return(final_table)\n",
    "}\n",
    "#calling fn\n",
    "clustered_anova_ancova = final_table_summary(allresults, col_names)\n",
    "clustered_anova_ancova"
   ]
  },
  {
   "cell_type": "code",
   "execution_count": 18,
   "metadata": {},
   "outputs": [],
   "source": [
    "#exporting data\n",
    "write.csv(clustered_anova_ancova, paste0(Output,\"/\", cur_date, \"_Clustered_ANOVA_ANCOVA.csv\"), row.names= TRUE)"
   ]
  },
  {
   "cell_type": "markdown",
   "metadata": {},
   "source": [
    "# Tukey's HSD Tables"
   ]
  },
  {
   "cell_type": "code",
   "execution_count": null,
   "metadata": {},
   "outputs": [],
   "source": [
    "tukey_table_mean_diff = function(NLF_Cluster1, NLF_Cluster2, NLF_Cluster3, ELF_Cluster1, ELF_Cluster2, \n",
    "                         ELF_Cluster3, Sputum_Cluster1, Sputum_Cluster2, Sputum_Cluster3, Serum_Cluster1, \n",
    "                         Serum_Cluster2, Serum_Cluster3){\n",
    "    #comment\n",
    "    table_initial = rbind(t(NLF_Cluster1[[1]])[1,],t(NLF_Cluster2[[1]])[1,],t(NLF_Cluster3[[1]])[1,], #get mean diff\n",
    "                          t(ELF_Cluster1[[1]])[1,],t(ELF_Cluster2[[1]])[1,],t(ELF_Cluster3[[1]])[1,],\n",
    "                          t(Sputum_Cluster1[[1]])[1,],t(Sputum_Cluster2[[1]])[1,],t(Sputum_Cluster3[[1]])[1,],\n",
    "                          t(Serum_Cluster1[[1]])[1,],t(Serum_Cluster2[[1]])[1,],t(Serum_Cluster3[[1]])[1,])\n",
    "    return(table_initial)   \n",
    "}\n",
    "\n",
    "#calling function\n",
    "tukey_anova_mean_diff = tukey_table_mean_diff(NLF_Cluster1_tukey_anova, NLF_Cluster2_tukey_anova, \n",
    "                                              NLF_Cluster3_tukey_anova, ELF_Cluster1_tukey_anova, \n",
    "                                              ELF_Cluster2_tukey_anova, ELF_Cluster3_tukey_anova, \n",
    "                                              Sputum_Cluster1_tukey_anova, Sputum_Cluster2_tukey_anova, \n",
    "                                              Sputum_Cluster3_tukey_anova, Serum_Cluster1_tukey_anova, \n",
    "                                              Serum_Cluster2_tukey_anova, Serum_Cluster3_tukey_anova)\n",
    "tukey_ancova_mean_diff = tukey_table_mean_diff(NLF_Cluster1_tukey_ancova, NLF_Cluster2_tukey_ancova, \n",
    "                                              NLF_Cluster3_tukey_ancova, ELF_Cluster1_tukey_ancova, \n",
    "                                              ELF_Cluster2_tukey_ancova, ELF_Cluster3_tukey_ancova, \n",
    "                                              Sputum_Cluster1_tukey_ancova, Sputum_Cluster2_tukey_ancova, \n",
    "                                              Sputum_Cluster3_tukey_ancova, Serum_Cluster1_tukey_ancova, \n",
    "                                              Serum_Cluster2_tukey_ancova, Serum_Cluster3_tukey_ancova)"
   ]
  },
  {
   "cell_type": "code",
   "execution_count": null,
   "metadata": {},
   "outputs": [],
   "source": [
    "tukey_table_pvalue = function(NLF_Cluster1, NLF_Cluster2, NLF_Cluster3, ELF_Cluster1, ELF_Cluster2, \n",
    "                         ELF_Cluster3, Sputum_Cluster1, Sputum_Cluster2, Sputum_Cluster3, Serum_Cluster1, \n",
    "                         Serum_Cluster2, Serum_Cluster3){\n",
    "    #comment\n",
    "    table_initial = rbind(t(NLF_Cluster1[[1]])[4,],t(NLF_Cluster2[[1]])[4,],t(NLF_Cluster3[[1]])[4,],  #get p value\n",
    "                          t(ELF_Cluster1[[1]])[4,],t(ELF_Cluster2[[1]])[4,],t(ELF_Cluster3[[1]])[4,],\n",
    "                          t(Sputum_Cluster1[[1]])[4,],t(Sputum_Cluster2[[1]])[4,],t(Sputum_Cluster3[[1]])[4,],\n",
    "                          t(Serum_Cluster1[[1]])[4,],t(Serum_Cluster2[[1]])[4,],t(Serum_Cluster3[[1]])[4,])\n",
    "    return(table_initial)   \n",
    "}\n",
    "\n",
    "#calling function\n",
    "tukey_anova_pvalue = tukey_table_pvalue(NLF_Cluster1_tukey_anova, NLF_Cluster2_tukey_anova, \n",
    "                                              NLF_Cluster3_tukey_anova, ELF_Cluster1_tukey_anova, \n",
    "                                              ELF_Cluster2_tukey_anova, ELF_Cluster3_tukey_anova, \n",
    "                                              Sputum_Cluster1_tukey_anova, Sputum_Cluster2_tukey_anova, \n",
    "                                              Sputum_Cluster3_tukey_anova, Serum_Cluster1_tukey_anova, \n",
    "                                              Serum_Cluster2_tukey_anova, Serum_Cluster3_tukey_anova)"
   ]
  },
  {
   "cell_type": "code",
   "execution_count": null,
   "metadata": {},
   "outputs": [],
   "source": [
    "#going back to calculate padj values\n",
    "clustered_tukey_pvalues = cbind(tukey_anova_pvalue, tukey_ancova_age_pvalue)\n",
    "padj_tukey = apply(allresults2, 2, p.adjust, method = \"fdr\")\n",
    "\n",
    "#making one matrix\n",
    "tukey_results = cbind(tukey_anova_mean_diff[,1], tukey_anova_pvalue[,1], padj_tukey[,1], tukey_anova_mean_diff[,2],\n",
    "                      tukey_anova_pvalue[,2], padj_tukey[,2])\n",
    "colnames(tukey_results) = c('Mean Diff (NS vs. CS)', 'P Value', 'P Adj', 'Mean Diff (NS vs. Ecig)', 'P Value', \n",
    "                            'P Adj', 'ANCOVA Mean Diff (NS vs. CS)', 'P Value', 'P Adj', \n",
    "                            'ANCOVA Mean Diff (NS vs. Ecig)', 'P Value', 'P Adj')"
   ]
  },
  {
   "cell_type": "code",
   "execution_count": null,
   "metadata": {},
   "outputs": [],
   "source": [
    "#exporting data\n",
    "write.csv(clustered_anova_ancova, paste0(Output,\"/\", cur_date, \"_Clustered_ANOVA_ANCOVA.csv\"), row.names= TRUE)"
   ]
  }
 ],
 "metadata": {
  "kernelspec": {
   "display_name": "R",
   "language": "R",
   "name": "ir"
  },
  "language_info": {
   "codemirror_mode": "r",
   "file_extension": ".r",
   "mimetype": "text/x-r-source",
   "name": "R",
   "pygments_lexer": "r",
   "version": "4.0.2"
  }
 },
 "nbformat": 4,
 "nbformat_minor": 4
}

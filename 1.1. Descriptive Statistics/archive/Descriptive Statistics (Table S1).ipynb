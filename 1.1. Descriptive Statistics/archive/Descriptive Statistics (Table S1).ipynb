{
 "cells": [
  {
   "cell_type": "code",
   "execution_count": 1,
   "metadata": {},
   "outputs": [
    {
     "name": "stderr",
     "output_type": "stream",
     "text": [
      "── \u001b[1mAttaching packages\u001b[22m ─────────────────────────────────────── tidyverse 1.3.0 ──\n",
      "\n",
      "\u001b[32m✔\u001b[39m \u001b[34mggplot2\u001b[39m 3.3.2     \u001b[32m✔\u001b[39m \u001b[34mpurrr  \u001b[39m 0.3.4\n",
      "\u001b[32m✔\u001b[39m \u001b[34mtibble \u001b[39m 3.0.3     \u001b[32m✔\u001b[39m \u001b[34mdplyr  \u001b[39m 1.0.2\n",
      "\u001b[32m✔\u001b[39m \u001b[34mtidyr  \u001b[39m 1.1.2     \u001b[32m✔\u001b[39m \u001b[34mstringr\u001b[39m 1.4.0\n",
      "\u001b[32m✔\u001b[39m \u001b[34mreadr  \u001b[39m 1.3.1     \u001b[32m✔\u001b[39m \u001b[34mforcats\u001b[39m 0.5.0\n",
      "\n",
      "── \u001b[1mConflicts\u001b[22m ────────────────────────────────────────── tidyverse_conflicts() ──\n",
      "\u001b[31m✖\u001b[39m \u001b[34mdplyr\u001b[39m::\u001b[32mfilter()\u001b[39m masks \u001b[34mstats\u001b[39m::filter()\n",
      "\u001b[31m✖\u001b[39m \u001b[34mdplyr\u001b[39m::\u001b[32mlag()\u001b[39m    masks \u001b[34mstats\u001b[39m::lag()\n",
      "\n"
     ]
    }
   ],
   "source": [
    "setwd('/Users/alexis/IEHS Dropbox/Rager Lab/Alexis_Payton/1_Compartment_Analysis/Expt1.1_DescriptiveStats/Input')\n",
    "\n",
    "library(\"readxl\")\n",
    "library(tidyverse)\n",
    "#reading in file\n",
    "data <- read_excel(\"CytokineData_102920.xlsx\", sheet = 2)\n",
    "data_df = data.frame(data)"
   ]
  },
  {
   "cell_type": "code",
   "execution_count": 2,
   "metadata": {},
   "outputs": [
    {
     "data": {
      "text/html": [
       "<table>\n",
       "<caption>A data.frame: 6 × 8</caption>\n",
       "<thead>\n",
       "\t<tr><th></th><th scope=col>Original_Identifier</th><th scope=col>Protein</th><th scope=col>Conc</th><th scope=col>Conc_pslog2</th><th scope=col>Compartment</th><th scope=col>SubjectNo</th><th scope=col>Group</th><th scope=col>SubjectID</th></tr>\n",
       "\t<tr><th></th><th scope=col>&lt;chr&gt;</th><th scope=col>&lt;chr&gt;</th><th scope=col>&lt;dbl&gt;</th><th scope=col>&lt;dbl&gt;</th><th scope=col>&lt;chr&gt;</th><th scope=col>&lt;dbl&gt;</th><th scope=col>&lt;chr&gt;</th><th scope=col>&lt;chr&gt;</th></tr>\n",
       "</thead>\n",
       "<tbody>\n",
       "\t<tr><th scope=row>1</th><td>E_C_F_002</td><td>IFNg   </td><td> 17.642316</td><td>4.220509</td><td>ELF</td><td>1</td><td>NS</td><td>NS_1</td></tr>\n",
       "\t<tr><th scope=row>2</th><td>E_C_F_002</td><td>IL10   </td><td>  2.873724</td><td>1.953721</td><td>ELF</td><td>1</td><td>NS</td><td>NS_1</td></tr>\n",
       "\t<tr><th scope=row>3</th><td>E_C_F_002</td><td>IL12p70</td><td>  1.625272</td><td>1.392467</td><td>ELF</td><td>1</td><td>NS</td><td>NS_1</td></tr>\n",
       "\t<tr><th scope=row>4</th><td>E_C_F_002</td><td>IL13   </td><td> 36.117692</td><td>5.214035</td><td>ELF</td><td>1</td><td>NS</td><td>NS_1</td></tr>\n",
       "\t<tr><th scope=row>5</th><td>E_C_F_002</td><td>IL1b   </td><td>104.409217</td><td>6.719857</td><td>ELF</td><td>1</td><td>NS</td><td>NS_1</td></tr>\n",
       "\t<tr><th scope=row>6</th><td>E_C_F_002</td><td>IL6    </td><td> 21.159536</td><td>4.469856</td><td>ELF</td><td>1</td><td>NS</td><td>NS_1</td></tr>\n",
       "</tbody>\n",
       "</table>\n"
      ],
      "text/latex": [
       "A data.frame: 6 × 8\n",
       "\\begin{tabular}{r|llllllll}\n",
       "  & Original\\_Identifier & Protein & Conc & Conc\\_pslog2 & Compartment & SubjectNo & Group & SubjectID\\\\\n",
       "  & <chr> & <chr> & <dbl> & <dbl> & <chr> & <dbl> & <chr> & <chr>\\\\\n",
       "\\hline\n",
       "\t1 & E\\_C\\_F\\_002 & IFNg    &  17.642316 & 4.220509 & ELF & 1 & NS & NS\\_1\\\\\n",
       "\t2 & E\\_C\\_F\\_002 & IL10    &   2.873724 & 1.953721 & ELF & 1 & NS & NS\\_1\\\\\n",
       "\t3 & E\\_C\\_F\\_002 & IL12p70 &   1.625272 & 1.392467 & ELF & 1 & NS & NS\\_1\\\\\n",
       "\t4 & E\\_C\\_F\\_002 & IL13    &  36.117692 & 5.214035 & ELF & 1 & NS & NS\\_1\\\\\n",
       "\t5 & E\\_C\\_F\\_002 & IL1b    & 104.409217 & 6.719857 & ELF & 1 & NS & NS\\_1\\\\\n",
       "\t6 & E\\_C\\_F\\_002 & IL6     &  21.159536 & 4.469856 & ELF & 1 & NS & NS\\_1\\\\\n",
       "\\end{tabular}\n"
      ],
      "text/markdown": [
       "\n",
       "A data.frame: 6 × 8\n",
       "\n",
       "| <!--/--> | Original_Identifier &lt;chr&gt; | Protein &lt;chr&gt; | Conc &lt;dbl&gt; | Conc_pslog2 &lt;dbl&gt; | Compartment &lt;chr&gt; | SubjectNo &lt;dbl&gt; | Group &lt;chr&gt; | SubjectID &lt;chr&gt; |\n",
       "|---|---|---|---|---|---|---|---|---|\n",
       "| 1 | E_C_F_002 | IFNg    |  17.642316 | 4.220509 | ELF | 1 | NS | NS_1 |\n",
       "| 2 | E_C_F_002 | IL10    |   2.873724 | 1.953721 | ELF | 1 | NS | NS_1 |\n",
       "| 3 | E_C_F_002 | IL12p70 |   1.625272 | 1.392467 | ELF | 1 | NS | NS_1 |\n",
       "| 4 | E_C_F_002 | IL13    |  36.117692 | 5.214035 | ELF | 1 | NS | NS_1 |\n",
       "| 5 | E_C_F_002 | IL1b    | 104.409217 | 6.719857 | ELF | 1 | NS | NS_1 |\n",
       "| 6 | E_C_F_002 | IL6     |  21.159536 | 4.469856 | ELF | 1 | NS | NS_1 |\n",
       "\n"
      ],
      "text/plain": [
       "  Original_Identifier Protein Conc       Conc_pslog2 Compartment SubjectNo\n",
       "1 E_C_F_002           IFNg     17.642316 4.220509    ELF         1        \n",
       "2 E_C_F_002           IL10      2.873724 1.953721    ELF         1        \n",
       "3 E_C_F_002           IL12p70   1.625272 1.392467    ELF         1        \n",
       "4 E_C_F_002           IL13     36.117692 5.214035    ELF         1        \n",
       "5 E_C_F_002           IL1b    104.409217 6.719857    ELF         1        \n",
       "6 E_C_F_002           IL6      21.159536 4.469856    ELF         1        \n",
       "  Group SubjectID\n",
       "1 NS    NS_1     \n",
       "2 NS    NS_1     \n",
       "3 NS    NS_1     \n",
       "4 NS    NS_1     \n",
       "5 NS    NS_1     \n",
       "6 NS    NS_1     "
      ]
     },
     "metadata": {},
     "output_type": "display_data"
    }
   ],
   "source": [
    "head(data_df)"
   ]
  },
  {
   "cell_type": "code",
   "execution_count": 12,
   "metadata": {},
   "outputs": [
    {
     "name": "stderr",
     "output_type": "stream",
     "text": [
      "`summarise()` regrouping output by 'Compartment' (override with `.groups` argument)\n",
      "\n",
      "`summarise()` regrouping output by 'Compartment' (override with `.groups` argument)\n",
      "\n",
      "`summarise()` regrouping output by 'Compartment' (override with `.groups` argument)\n",
      "\n",
      "`summarise()` regrouping output by 'Compartment' (override with `.groups` argument)\n",
      "\n"
     ]
    }
   ],
   "source": [
    "#all subjects\n",
    "NLF_all = data_df %>%\n",
    "    filter(Compartment == 'NLF') %>%\n",
    "    group_by(Compartment, Protein) %>%\n",
    "    summarize(mean = mean(Conc), median = median(Conc),min = min(Conc),max = max(Conc),STD = sd(Conc))\n",
    "ELF_all = data_df %>%\n",
    "    filter(Compartment == 'ELF') %>%\n",
    "    group_by(Compartment, Protein) %>%\n",
    "    summarize(mean = mean(Conc), median = median(Conc),min = min(Conc),max = max(Conc),STD = sd(Conc))\n",
    "Sputum_all = data_df %>%\n",
    "    filter(Compartment == 'Sputum') %>%\n",
    "    group_by(Compartment, Protein) %>%\n",
    "    summarize(mean = mean(Conc), median = median(Conc),min = min(Conc),max = max(Conc),STD = sd(Conc))\n",
    "Serum_all = data_df %>%\n",
    "    filter(Compartment == 'Serum') %>%\n",
    "    group_by(Compartment, Protein) %>%\n",
    "    summarize(mean = mean(Conc), median = median(Conc),min = min(Conc),max = max(Conc),STD = sd(Conc))"
   ]
  },
  {
   "cell_type": "code",
   "execution_count": 23,
   "metadata": {},
   "outputs": [
    {
     "name": "stderr",
     "output_type": "stream",
     "text": [
      "`summarise()` regrouping output by 'Group == \"CS\"', 'Compartment' (override with `.groups` argument)\n",
      "\n",
      "`summarise()` regrouping output by 'Group == \"CS\"', 'Compartment' (override with `.groups` argument)\n",
      "\n",
      "`summarise()` regrouping output by 'Group == \"CS\"', 'Compartment' (override with `.groups` argument)\n",
      "\n",
      "`summarise()` regrouping output by 'Group == \"CS\"', 'Compartment' (override with `.groups` argument)\n",
      "\n"
     ]
    }
   ],
   "source": [
    "#CS subjects\n",
    "NLF_CS = data_df %>%\n",
    "    filter(Group == 'CS', Compartment == 'NLF') %>%\n",
    "    group_by(Group == 'CS', Compartment, Protein) %>%\n",
    "    summarize(mean = mean(Conc), median = median(Conc),min = min(Conc),max = max(Conc),STD = sd(Conc))\n",
    "ELF_CS = data_df %>%\n",
    "    filter(Group == 'CS', Compartment == 'ELF') %>%\n",
    "    group_by(Group == 'CS', Compartment, Protein) %>%\n",
    "    summarize(mean = mean(Conc), median = median(Conc),min = min(Conc),max = max(Conc),STD = sd(Conc))\n",
    "Sputum_CS = data_df %>%\n",
    "    filter(Group == 'CS', Compartment == 'Sputum') %>%\n",
    "    group_by(Group == 'CS', Compartment, Protein) %>%\n",
    "    summarize(mean = mean(Conc), median = median(Conc),min = min(Conc),max = max(Conc),STD = sd(Conc))\n",
    "Serum_CS = data_df %>%\n",
    "    filter(Group == 'CS', Compartment == 'Serum') %>%\n",
    "    group_by(Group == 'CS', Compartment, Protein) %>%\n",
    "    summarize(mean = mean(Conc), median = median(Conc),min = min(Conc),max = max(Conc),STD = sd(Conc))"
   ]
  },
  {
   "cell_type": "code",
   "execution_count": 22,
   "metadata": {},
   "outputs": [
    {
     "name": "stderr",
     "output_type": "stream",
     "text": [
      "`summarise()` regrouping output by 'Group == \"Ecig\"', 'Compartment' (override with `.groups` argument)\n",
      "\n",
      "`summarise()` regrouping output by 'Group == \"Ecig\"', 'Compartment' (override with `.groups` argument)\n",
      "\n",
      "`summarise()` regrouping output by 'Group == \"Ecig\"', 'Compartment' (override with `.groups` argument)\n",
      "\n",
      "`summarise()` regrouping output by 'Group == \"Ecig\"', 'Compartment' (override with `.groups` argument)\n",
      "\n"
     ]
    }
   ],
   "source": [
    "#Ecig subjects\n",
    "NLF_Ecig = data_df %>%\n",
    "    filter(Group == 'Ecig', Compartment == 'NLF') %>%\n",
    "    group_by(Group == 'Ecig', Compartment, Protein) %>%\n",
    "    summarize(mean = mean(Conc), median = median(Conc),min = min(Conc),max = max(Conc),STD = sd(Conc))\n",
    "ELF_Ecig = data_df %>%\n",
    "    filter(Group == 'Ecig', Compartment == 'ELF') %>%\n",
    "    group_by(Group == 'Ecig', Compartment, Protein) %>%\n",
    "    summarize(mean = mean(Conc), median = median(Conc),min = min(Conc),max = max(Conc),STD = sd(Conc))\n",
    "Sputum_Ecig = data_df %>%\n",
    "    filter(Group == 'Ecig', Compartment == 'Sputum') %>%\n",
    "    group_by(Group == 'Ecig', Compartment, Protein) %>%\n",
    "    summarize(mean = mean(Conc), median = median(Conc),min = min(Conc),max = max(Conc),STD = sd(Conc))\n",
    "Serum_Ecig = data_df %>%\n",
    "    filter(Group == 'Ecig', Compartment == 'Serum') %>%\n",
    "    group_by(Group == 'Ecig', Compartment, Protein) %>%\n",
    "    summarize(mean = mean(Conc), median = median(Conc),min = min(Conc),max = max(Conc),STD = sd(Conc))"
   ]
  },
  {
   "cell_type": "code",
   "execution_count": 36,
   "metadata": {},
   "outputs": [],
   "source": [
    "stats_all = data.frame(cbind(NLF_all[,2:7], ELF_all[,3:7], Sputum_all[,3:7], Serum_all[,3:7]))\n",
    "stats_Ecig = data.frame(cbind(NLF_Ecig[,3:8], ELF_Ecig[,4:8], Sputum_Ecig[,4:8], Serum_Ecig[,4:8]))"
   ]
  },
  {
   "cell_type": "code",
   "execution_count": 38,
   "metadata": {},
   "outputs": [
    {
     "data": {
      "text/html": [
       "<table>\n",
       "<caption>A data.frame: 22 × 11</caption>\n",
       "<thead>\n",
       "\t<tr><th scope=col>Protein</th><th scope=col>mean</th><th scope=col>median</th><th scope=col>min</th><th scope=col>max</th><th scope=col>STD</th><th scope=col>mean</th><th scope=col>median</th><th scope=col>min</th><th scope=col>max</th><th scope=col>STD</th></tr>\n",
       "\t<tr><th scope=col>&lt;chr&gt;</th><th scope=col>&lt;dbl&gt;</th><th scope=col>&lt;dbl&gt;</th><th scope=col>&lt;dbl&gt;</th><th scope=col>&lt;dbl&gt;</th><th scope=col>&lt;dbl&gt;</th><th scope=col>&lt;dbl&gt;</th><th scope=col>&lt;dbl&gt;</th><th scope=col>&lt;dbl&gt;</th><th scope=col>&lt;dbl&gt;</th><th scope=col>&lt;dbl&gt;</th></tr>\n",
       "</thead>\n",
       "<tbody>\n",
       "\t<tr><td>Eotaxin    </td><td>2.356014e+01</td><td>2.119951e+01</td><td>  6.13931668</td><td>4.499011e+01</td><td>1.028013e+01</td><td>1.360364e+02</td><td>8.921395e+01</td><td>  17.4539127</td><td>3.329762e+02</td><td>9.831016e+01</td></tr>\n",
       "\t<tr><td>Eotaxin3   </td><td>2.409180e+01</td><td>8.658922e+00</td><td>  3.74296097</td><td>9.153609e+01</td><td>3.106367e+01</td><td>1.021487e+02</td><td>1.326588e+01</td><td>   5.3199340</td><td>1.180336e+03</td><td>2.818353e+02</td></tr>\n",
       "\t<tr><td>Fractalkine</td><td>2.125680e+03</td><td>1.727011e+03</td><td>647.10734870</td><td>5.125113e+03</td><td>1.269986e+03</td><td>1.021806e+04</td><td>8.789451e+03</td><td>2198.9056560</td><td>3.779231e+04</td><td>8.644707e+03</td></tr>\n",
       "\t<tr><td>I309       </td><td>0.000000e+00</td><td>0.000000e+00</td><td>  0.00000000</td><td>0.000000e+00</td><td>0.000000e+00</td><td>3.276413e-01</td><td>0.000000e+00</td><td>   0.0000000</td><td>4.845496e+00</td><td>1.177356e+00</td></tr>\n",
       "\t<tr><td>IFNg       </td><td>5.398343e-01</td><td>5.037150e-02</td><td>  0.00000000</td><td>2.415031e+00</td><td>8.375275e-01</td><td>6.680626e+00</td><td>4.079024e+00</td><td>   0.0000000</td><td>1.543385e+01</td><td>5.617081e+00</td></tr>\n",
       "\t<tr><td>IL10       </td><td>1.731205e-01</td><td>1.609987e-01</td><td>  0.01845171</td><td>4.967675e-01</td><td>1.076102e-01</td><td>2.077291e+00</td><td>1.289728e+00</td><td>   0.1542125</td><td>5.093805e+00</td><td>1.763871e+00</td></tr>\n",
       "\t<tr><td>IL12p70    </td><td>2.037497e-01</td><td>7.561512e-02</td><td>  0.00000000</td><td>8.200129e-01</td><td>2.614252e-01</td><td>1.869487e+00</td><td>1.927745e+00</td><td>   0.0000000</td><td>4.301926e+00</td><td>1.342334e+00</td></tr>\n",
       "\t<tr><td>IL13       </td><td>5.045436e+00</td><td>4.428621e+00</td><td>  1.43525264</td><td>1.214798e+01</td><td>2.722324e+00</td><td>2.219841e+01</td><td>1.447591e+01</td><td>   2.5049682</td><td>5.834404e+01</td><td>1.709592e+01</td></tr>\n",
       "\t<tr><td>IL17B      </td><td>1.037296e+01</td><td>9.887721e+00</td><td>  1.58451666</td><td>2.128961e+01</td><td>6.098365e+00</td><td>4.039259e+01</td><td>2.592802e+01</td><td>   1.0832891</td><td>2.202815e+02</td><td>5.096670e+01</td></tr>\n",
       "\t<tr><td>IL17D      </td><td>2.612306e+00</td><td>1.407681e+00</td><td>  0.00000000</td><td>1.051075e+01</td><td>3.023555e+00</td><td>1.833435e+01</td><td>4.001628e+00</td><td>   0.0000000</td><td>1.541755e+02</td><td>3.693096e+01</td></tr>\n",
       "\t<tr><td>IL1b       </td><td>1.444503e+01</td><td>1.140654e+01</td><td>  0.71112001</td><td>4.537450e+01</td><td>1.190248e+01</td><td>8.943097e+01</td><td>7.274584e+01</td><td>   2.7796435</td><td>2.214859e+02</td><td>6.777596e+01</td></tr>\n",
       "\t<tr><td>IL4        </td><td>2.425744e-02</td><td>4.563198e-03</td><td>  0.00000000</td><td>8.241118e-02</td><td>3.156255e-02</td><td>1.944146e-01</td><td>6.526124e-02</td><td>   0.0000000</td><td>9.507989e-01</td><td>2.551859e-01</td></tr>\n",
       "\t<tr><td>IL6        </td><td>2.839969e+00</td><td>1.582744e+00</td><td>  0.59762720</td><td>1.307413e+01</td><td>3.152822e+00</td><td>1.221686e+01</td><td>8.871182e+00</td><td>   0.9492585</td><td>3.054811e+01</td><td>8.701048e+00</td></tr>\n",
       "\t<tr><td>IL8        </td><td>1.190065e+03</td><td>1.126058e+03</td><td>224.87457220</td><td>2.889250e+03</td><td>6.912423e+02</td><td>2.247512e+04</td><td>1.267930e+04</td><td> 610.1000000</td><td>1.167304e+05</td><td>3.044010e+04</td></tr>\n",
       "\t<tr><td>IP10       </td><td>6.743170e+02</td><td>4.683828e+02</td><td>114.53591010</td><td>1.533009e+03</td><td>4.596376e+02</td><td>3.810977e+03</td><td>1.228962e+03</td><td>   0.0000000</td><td>2.713607e+04</td><td>6.830092e+03</td></tr>\n",
       "\t<tr><td>ITAC       </td><td>5.112162e+00</td><td>3.957922e+00</td><td>  0.00000000</td><td>1.612705e+01</td><td>4.220384e+00</td><td>1.240678e+02</td><td>2.410987e+01</td><td>   3.0731163</td><td>1.380757e+03</td><td>3.298416e+02</td></tr>\n",
       "\t<tr><td>MCP1       </td><td>4.561777e+01</td><td>4.993154e+01</td><td> 18.93673931</td><td>7.051652e+01</td><td>1.618706e+01</td><td>2.524569e+02</td><td>1.428538e+02</td><td>  88.7046570</td><td>6.232843e+02</td><td>1.789701e+02</td></tr>\n",
       "\t<tr><td>MIG        </td><td>5.147680e+02</td><td>2.790239e+02</td><td> 31.12526027</td><td>1.912058e+03</td><td>5.542300e+02</td><td>3.786111e+03</td><td>1.411499e+03</td><td>  61.6779499</td><td>3.856786e+04</td><td>9.149411e+03</td></tr>\n",
       "\t<tr><td>MIP1a      </td><td>9.818641e+00</td><td>7.178309e+00</td><td>  0.00000000</td><td>3.464881e+01</td><td>8.640928e+00</td><td>3.010627e+01</td><td>2.671947e+01</td><td>   6.7923235</td><td>5.370114e+01</td><td>1.626472e+01</td></tr>\n",
       "\t<tr><td>MIP1b      </td><td>1.129419e+01</td><td>9.204846e+00</td><td>  2.14551661</td><td>3.267107e+01</td><td>7.871404e+00</td><td>1.270618e+02</td><td>7.808588e+01</td><td>  10.4229434</td><td>4.289775e+02</td><td>1.309177e+02</td></tr>\n",
       "\t<tr><td>TARC       </td><td>4.376456e+00</td><td>4.566235e+00</td><td>  0.05892245</td><td>1.187573e+01</td><td>3.126379e+00</td><td>2.801874e+01</td><td>2.003232e+01</td><td>   8.9739626</td><td>1.057638e+02</td><td>2.447903e+01</td></tr>\n",
       "\t<tr><td>TNFa       </td><td>1.251569e+00</td><td>1.077888e+00</td><td>  0.00000000</td><td>3.663380e+00</td><td>9.355250e-01</td><td>7.569957e+00</td><td>4.541079e+00</td><td>   0.3884475</td><td>1.966071e+01</td><td>6.594613e+00</td></tr>\n",
       "</tbody>\n",
       "</table>\n"
      ],
      "text/latex": [
       "A data.frame: 22 × 11\n",
       "\\begin{tabular}{lllllllllll}\n",
       " Protein & mean & median & min & max & STD & mean & median & min & max & STD\\\\\n",
       " <chr> & <dbl> & <dbl> & <dbl> & <dbl> & <dbl> & <dbl> & <dbl> & <dbl> & <dbl> & <dbl>\\\\\n",
       "\\hline\n",
       "\t Eotaxin     & 2.356014e+01 & 2.119951e+01 &   6.13931668 & 4.499011e+01 & 1.028013e+01 & 1.360364e+02 & 8.921395e+01 &   17.4539127 & 3.329762e+02 & 9.831016e+01\\\\\n",
       "\t Eotaxin3    & 2.409180e+01 & 8.658922e+00 &   3.74296097 & 9.153609e+01 & 3.106367e+01 & 1.021487e+02 & 1.326588e+01 &    5.3199340 & 1.180336e+03 & 2.818353e+02\\\\\n",
       "\t Fractalkine & 2.125680e+03 & 1.727011e+03 & 647.10734870 & 5.125113e+03 & 1.269986e+03 & 1.021806e+04 & 8.789451e+03 & 2198.9056560 & 3.779231e+04 & 8.644707e+03\\\\\n",
       "\t I309        & 0.000000e+00 & 0.000000e+00 &   0.00000000 & 0.000000e+00 & 0.000000e+00 & 3.276413e-01 & 0.000000e+00 &    0.0000000 & 4.845496e+00 & 1.177356e+00\\\\\n",
       "\t IFNg        & 5.398343e-01 & 5.037150e-02 &   0.00000000 & 2.415031e+00 & 8.375275e-01 & 6.680626e+00 & 4.079024e+00 &    0.0000000 & 1.543385e+01 & 5.617081e+00\\\\\n",
       "\t IL10        & 1.731205e-01 & 1.609987e-01 &   0.01845171 & 4.967675e-01 & 1.076102e-01 & 2.077291e+00 & 1.289728e+00 &    0.1542125 & 5.093805e+00 & 1.763871e+00\\\\\n",
       "\t IL12p70     & 2.037497e-01 & 7.561512e-02 &   0.00000000 & 8.200129e-01 & 2.614252e-01 & 1.869487e+00 & 1.927745e+00 &    0.0000000 & 4.301926e+00 & 1.342334e+00\\\\\n",
       "\t IL13        & 5.045436e+00 & 4.428621e+00 &   1.43525264 & 1.214798e+01 & 2.722324e+00 & 2.219841e+01 & 1.447591e+01 &    2.5049682 & 5.834404e+01 & 1.709592e+01\\\\\n",
       "\t IL17B       & 1.037296e+01 & 9.887721e+00 &   1.58451666 & 2.128961e+01 & 6.098365e+00 & 4.039259e+01 & 2.592802e+01 &    1.0832891 & 2.202815e+02 & 5.096670e+01\\\\\n",
       "\t IL17D       & 2.612306e+00 & 1.407681e+00 &   0.00000000 & 1.051075e+01 & 3.023555e+00 & 1.833435e+01 & 4.001628e+00 &    0.0000000 & 1.541755e+02 & 3.693096e+01\\\\\n",
       "\t IL1b        & 1.444503e+01 & 1.140654e+01 &   0.71112001 & 4.537450e+01 & 1.190248e+01 & 8.943097e+01 & 7.274584e+01 &    2.7796435 & 2.214859e+02 & 6.777596e+01\\\\\n",
       "\t IL4         & 2.425744e-02 & 4.563198e-03 &   0.00000000 & 8.241118e-02 & 3.156255e-02 & 1.944146e-01 & 6.526124e-02 &    0.0000000 & 9.507989e-01 & 2.551859e-01\\\\\n",
       "\t IL6         & 2.839969e+00 & 1.582744e+00 &   0.59762720 & 1.307413e+01 & 3.152822e+00 & 1.221686e+01 & 8.871182e+00 &    0.9492585 & 3.054811e+01 & 8.701048e+00\\\\\n",
       "\t IL8         & 1.190065e+03 & 1.126058e+03 & 224.87457220 & 2.889250e+03 & 6.912423e+02 & 2.247512e+04 & 1.267930e+04 &  610.1000000 & 1.167304e+05 & 3.044010e+04\\\\\n",
       "\t IP10        & 6.743170e+02 & 4.683828e+02 & 114.53591010 & 1.533009e+03 & 4.596376e+02 & 3.810977e+03 & 1.228962e+03 &    0.0000000 & 2.713607e+04 & 6.830092e+03\\\\\n",
       "\t ITAC        & 5.112162e+00 & 3.957922e+00 &   0.00000000 & 1.612705e+01 & 4.220384e+00 & 1.240678e+02 & 2.410987e+01 &    3.0731163 & 1.380757e+03 & 3.298416e+02\\\\\n",
       "\t MCP1        & 4.561777e+01 & 4.993154e+01 &  18.93673931 & 7.051652e+01 & 1.618706e+01 & 2.524569e+02 & 1.428538e+02 &   88.7046570 & 6.232843e+02 & 1.789701e+02\\\\\n",
       "\t MIG         & 5.147680e+02 & 2.790239e+02 &  31.12526027 & 1.912058e+03 & 5.542300e+02 & 3.786111e+03 & 1.411499e+03 &   61.6779499 & 3.856786e+04 & 9.149411e+03\\\\\n",
       "\t MIP1a       & 9.818641e+00 & 7.178309e+00 &   0.00000000 & 3.464881e+01 & 8.640928e+00 & 3.010627e+01 & 2.671947e+01 &    6.7923235 & 5.370114e+01 & 1.626472e+01\\\\\n",
       "\t MIP1b       & 1.129419e+01 & 9.204846e+00 &   2.14551661 & 3.267107e+01 & 7.871404e+00 & 1.270618e+02 & 7.808588e+01 &   10.4229434 & 4.289775e+02 & 1.309177e+02\\\\\n",
       "\t TARC        & 4.376456e+00 & 4.566235e+00 &   0.05892245 & 1.187573e+01 & 3.126379e+00 & 2.801874e+01 & 2.003232e+01 &    8.9739626 & 1.057638e+02 & 2.447903e+01\\\\\n",
       "\t TNFa        & 1.251569e+00 & 1.077888e+00 &   0.00000000 & 3.663380e+00 & 9.355250e-01 & 7.569957e+00 & 4.541079e+00 &    0.3884475 & 1.966071e+01 & 6.594613e+00\\\\\n",
       "\\end{tabular}\n"
      ],
      "text/markdown": [
       "\n",
       "A data.frame: 22 × 11\n",
       "\n",
       "| Protein &lt;chr&gt; | mean &lt;dbl&gt; | median &lt;dbl&gt; | min &lt;dbl&gt; | max &lt;dbl&gt; | STD &lt;dbl&gt; | mean &lt;dbl&gt; | median &lt;dbl&gt; | min &lt;dbl&gt; | max &lt;dbl&gt; | STD &lt;dbl&gt; |\n",
       "|---|---|---|---|---|---|---|---|---|---|---|\n",
       "| Eotaxin     | 2.356014e+01 | 2.119951e+01 |   6.13931668 | 4.499011e+01 | 1.028013e+01 | 1.360364e+02 | 8.921395e+01 |   17.4539127 | 3.329762e+02 | 9.831016e+01 |\n",
       "| Eotaxin3    | 2.409180e+01 | 8.658922e+00 |   3.74296097 | 9.153609e+01 | 3.106367e+01 | 1.021487e+02 | 1.326588e+01 |    5.3199340 | 1.180336e+03 | 2.818353e+02 |\n",
       "| Fractalkine | 2.125680e+03 | 1.727011e+03 | 647.10734870 | 5.125113e+03 | 1.269986e+03 | 1.021806e+04 | 8.789451e+03 | 2198.9056560 | 3.779231e+04 | 8.644707e+03 |\n",
       "| I309        | 0.000000e+00 | 0.000000e+00 |   0.00000000 | 0.000000e+00 | 0.000000e+00 | 3.276413e-01 | 0.000000e+00 |    0.0000000 | 4.845496e+00 | 1.177356e+00 |\n",
       "| IFNg        | 5.398343e-01 | 5.037150e-02 |   0.00000000 | 2.415031e+00 | 8.375275e-01 | 6.680626e+00 | 4.079024e+00 |    0.0000000 | 1.543385e+01 | 5.617081e+00 |\n",
       "| IL10        | 1.731205e-01 | 1.609987e-01 |   0.01845171 | 4.967675e-01 | 1.076102e-01 | 2.077291e+00 | 1.289728e+00 |    0.1542125 | 5.093805e+00 | 1.763871e+00 |\n",
       "| IL12p70     | 2.037497e-01 | 7.561512e-02 |   0.00000000 | 8.200129e-01 | 2.614252e-01 | 1.869487e+00 | 1.927745e+00 |    0.0000000 | 4.301926e+00 | 1.342334e+00 |\n",
       "| IL13        | 5.045436e+00 | 4.428621e+00 |   1.43525264 | 1.214798e+01 | 2.722324e+00 | 2.219841e+01 | 1.447591e+01 |    2.5049682 | 5.834404e+01 | 1.709592e+01 |\n",
       "| IL17B       | 1.037296e+01 | 9.887721e+00 |   1.58451666 | 2.128961e+01 | 6.098365e+00 | 4.039259e+01 | 2.592802e+01 |    1.0832891 | 2.202815e+02 | 5.096670e+01 |\n",
       "| IL17D       | 2.612306e+00 | 1.407681e+00 |   0.00000000 | 1.051075e+01 | 3.023555e+00 | 1.833435e+01 | 4.001628e+00 |    0.0000000 | 1.541755e+02 | 3.693096e+01 |\n",
       "| IL1b        | 1.444503e+01 | 1.140654e+01 |   0.71112001 | 4.537450e+01 | 1.190248e+01 | 8.943097e+01 | 7.274584e+01 |    2.7796435 | 2.214859e+02 | 6.777596e+01 |\n",
       "| IL4         | 2.425744e-02 | 4.563198e-03 |   0.00000000 | 8.241118e-02 | 3.156255e-02 | 1.944146e-01 | 6.526124e-02 |    0.0000000 | 9.507989e-01 | 2.551859e-01 |\n",
       "| IL6         | 2.839969e+00 | 1.582744e+00 |   0.59762720 | 1.307413e+01 | 3.152822e+00 | 1.221686e+01 | 8.871182e+00 |    0.9492585 | 3.054811e+01 | 8.701048e+00 |\n",
       "| IL8         | 1.190065e+03 | 1.126058e+03 | 224.87457220 | 2.889250e+03 | 6.912423e+02 | 2.247512e+04 | 1.267930e+04 |  610.1000000 | 1.167304e+05 | 3.044010e+04 |\n",
       "| IP10        | 6.743170e+02 | 4.683828e+02 | 114.53591010 | 1.533009e+03 | 4.596376e+02 | 3.810977e+03 | 1.228962e+03 |    0.0000000 | 2.713607e+04 | 6.830092e+03 |\n",
       "| ITAC        | 5.112162e+00 | 3.957922e+00 |   0.00000000 | 1.612705e+01 | 4.220384e+00 | 1.240678e+02 | 2.410987e+01 |    3.0731163 | 1.380757e+03 | 3.298416e+02 |\n",
       "| MCP1        | 4.561777e+01 | 4.993154e+01 |  18.93673931 | 7.051652e+01 | 1.618706e+01 | 2.524569e+02 | 1.428538e+02 |   88.7046570 | 6.232843e+02 | 1.789701e+02 |\n",
       "| MIG         | 5.147680e+02 | 2.790239e+02 |  31.12526027 | 1.912058e+03 | 5.542300e+02 | 3.786111e+03 | 1.411499e+03 |   61.6779499 | 3.856786e+04 | 9.149411e+03 |\n",
       "| MIP1a       | 9.818641e+00 | 7.178309e+00 |   0.00000000 | 3.464881e+01 | 8.640928e+00 | 3.010627e+01 | 2.671947e+01 |    6.7923235 | 5.370114e+01 | 1.626472e+01 |\n",
       "| MIP1b       | 1.129419e+01 | 9.204846e+00 |   2.14551661 | 3.267107e+01 | 7.871404e+00 | 1.270618e+02 | 7.808588e+01 |   10.4229434 | 4.289775e+02 | 1.309177e+02 |\n",
       "| TARC        | 4.376456e+00 | 4.566235e+00 |   0.05892245 | 1.187573e+01 | 3.126379e+00 | 2.801874e+01 | 2.003232e+01 |    8.9739626 | 1.057638e+02 | 2.447903e+01 |\n",
       "| TNFa        | 1.251569e+00 | 1.077888e+00 |   0.00000000 | 3.663380e+00 | 9.355250e-01 | 7.569957e+00 | 4.541079e+00 |    0.3884475 | 1.966071e+01 | 6.594613e+00 |\n",
       "\n"
      ],
      "text/plain": [
       "   Protein     mean         median       min          max          STD         \n",
       "1  Eotaxin     2.356014e+01 2.119951e+01   6.13931668 4.499011e+01 1.028013e+01\n",
       "2  Eotaxin3    2.409180e+01 8.658922e+00   3.74296097 9.153609e+01 3.106367e+01\n",
       "3  Fractalkine 2.125680e+03 1.727011e+03 647.10734870 5.125113e+03 1.269986e+03\n",
       "4  I309        0.000000e+00 0.000000e+00   0.00000000 0.000000e+00 0.000000e+00\n",
       "5  IFNg        5.398343e-01 5.037150e-02   0.00000000 2.415031e+00 8.375275e-01\n",
       "6  IL10        1.731205e-01 1.609987e-01   0.01845171 4.967675e-01 1.076102e-01\n",
       "7  IL12p70     2.037497e-01 7.561512e-02   0.00000000 8.200129e-01 2.614252e-01\n",
       "8  IL13        5.045436e+00 4.428621e+00   1.43525264 1.214798e+01 2.722324e+00\n",
       "9  IL17B       1.037296e+01 9.887721e+00   1.58451666 2.128961e+01 6.098365e+00\n",
       "10 IL17D       2.612306e+00 1.407681e+00   0.00000000 1.051075e+01 3.023555e+00\n",
       "11 IL1b        1.444503e+01 1.140654e+01   0.71112001 4.537450e+01 1.190248e+01\n",
       "12 IL4         2.425744e-02 4.563198e-03   0.00000000 8.241118e-02 3.156255e-02\n",
       "13 IL6         2.839969e+00 1.582744e+00   0.59762720 1.307413e+01 3.152822e+00\n",
       "14 IL8         1.190065e+03 1.126058e+03 224.87457220 2.889250e+03 6.912423e+02\n",
       "15 IP10        6.743170e+02 4.683828e+02 114.53591010 1.533009e+03 4.596376e+02\n",
       "16 ITAC        5.112162e+00 3.957922e+00   0.00000000 1.612705e+01 4.220384e+00\n",
       "17 MCP1        4.561777e+01 4.993154e+01  18.93673931 7.051652e+01 1.618706e+01\n",
       "18 MIG         5.147680e+02 2.790239e+02  31.12526027 1.912058e+03 5.542300e+02\n",
       "19 MIP1a       9.818641e+00 7.178309e+00   0.00000000 3.464881e+01 8.640928e+00\n",
       "20 MIP1b       1.129419e+01 9.204846e+00   2.14551661 3.267107e+01 7.871404e+00\n",
       "21 TARC        4.376456e+00 4.566235e+00   0.05892245 1.187573e+01 3.126379e+00\n",
       "22 TNFa        1.251569e+00 1.077888e+00   0.00000000 3.663380e+00 9.355250e-01\n",
       "   mean         median       min          max          STD         \n",
       "1  1.360364e+02 8.921395e+01   17.4539127 3.329762e+02 9.831016e+01\n",
       "2  1.021487e+02 1.326588e+01    5.3199340 1.180336e+03 2.818353e+02\n",
       "3  1.021806e+04 8.789451e+03 2198.9056560 3.779231e+04 8.644707e+03\n",
       "4  3.276413e-01 0.000000e+00    0.0000000 4.845496e+00 1.177356e+00\n",
       "5  6.680626e+00 4.079024e+00    0.0000000 1.543385e+01 5.617081e+00\n",
       "6  2.077291e+00 1.289728e+00    0.1542125 5.093805e+00 1.763871e+00\n",
       "7  1.869487e+00 1.927745e+00    0.0000000 4.301926e+00 1.342334e+00\n",
       "8  2.219841e+01 1.447591e+01    2.5049682 5.834404e+01 1.709592e+01\n",
       "9  4.039259e+01 2.592802e+01    1.0832891 2.202815e+02 5.096670e+01\n",
       "10 1.833435e+01 4.001628e+00    0.0000000 1.541755e+02 3.693096e+01\n",
       "11 8.943097e+01 7.274584e+01    2.7796435 2.214859e+02 6.777596e+01\n",
       "12 1.944146e-01 6.526124e-02    0.0000000 9.507989e-01 2.551859e-01\n",
       "13 1.221686e+01 8.871182e+00    0.9492585 3.054811e+01 8.701048e+00\n",
       "14 2.247512e+04 1.267930e+04  610.1000000 1.167304e+05 3.044010e+04\n",
       "15 3.810977e+03 1.228962e+03    0.0000000 2.713607e+04 6.830092e+03\n",
       "16 1.240678e+02 2.410987e+01    3.0731163 1.380757e+03 3.298416e+02\n",
       "17 2.524569e+02 1.428538e+02   88.7046570 6.232843e+02 1.789701e+02\n",
       "18 3.786111e+03 1.411499e+03   61.6779499 3.856786e+04 9.149411e+03\n",
       "19 3.010627e+01 2.671947e+01    6.7923235 5.370114e+01 1.626472e+01\n",
       "20 1.270618e+02 7.808588e+01   10.4229434 4.289775e+02 1.309177e+02\n",
       "21 2.801874e+01 2.003232e+01    8.9739626 1.057638e+02 2.447903e+01\n",
       "22 7.569957e+00 4.541079e+00    0.3884475 1.966071e+01 6.594613e+00"
      ]
     },
     "metadata": {},
     "output_type": "display_data"
    }
   ],
   "source": [
    "cbind(NLF_Ecig[,3:8], ELF_Ecig[,4:8])"
   ]
  },
  {
   "cell_type": "code",
   "execution_count": null,
   "metadata": {},
   "outputs": [],
   "source": []
  }
 ],
 "metadata": {
  "kernelspec": {
   "display_name": "R",
   "language": "R",
   "name": "ir"
  },
  "language_info": {
   "codemirror_mode": "r",
   "file_extension": ".r",
   "mimetype": "text/x-r-source",
   "name": "R",
   "pygments_lexer": "r",
   "version": "4.0.2"
  }
 },
 "nbformat": 4,
 "nbformat_minor": 4
}

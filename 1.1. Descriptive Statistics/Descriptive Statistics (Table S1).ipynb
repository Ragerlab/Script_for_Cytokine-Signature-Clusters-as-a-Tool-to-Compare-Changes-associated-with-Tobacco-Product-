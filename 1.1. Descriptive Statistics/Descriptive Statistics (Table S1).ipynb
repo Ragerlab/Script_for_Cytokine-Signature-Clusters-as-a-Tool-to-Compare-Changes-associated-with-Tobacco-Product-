{
 "cells": [
  {
   "cell_type": "code",
   "execution_count": 1,
   "metadata": {},
   "outputs": [
    {
     "name": "stderr",
     "output_type": "stream",
     "text": [
      "── \u001b[1mAttaching packages\u001b[22m ─────────────────────────────────────── tidyverse 1.3.0 ──\n",
      "\n",
      "\u001b[32m✔\u001b[39m \u001b[34mggplot2\u001b[39m 3.3.3     \u001b[32m✔\u001b[39m \u001b[34mpurrr  \u001b[39m 0.3.4\n",
      "\u001b[32m✔\u001b[39m \u001b[34mtibble \u001b[39m 3.0.6     \u001b[32m✔\u001b[39m \u001b[34mdplyr  \u001b[39m 1.0.4\n",
      "\u001b[32m✔\u001b[39m \u001b[34mtidyr  \u001b[39m 1.1.2     \u001b[32m✔\u001b[39m \u001b[34mstringr\u001b[39m 1.4.0\n",
      "\u001b[32m✔\u001b[39m \u001b[34mreadr  \u001b[39m 1.4.0     \u001b[32m✔\u001b[39m \u001b[34mforcats\u001b[39m 0.5.1\n",
      "\n",
      "── \u001b[1mConflicts\u001b[22m ────────────────────────────────────────── tidyverse_conflicts() ──\n",
      "\u001b[31m✖\u001b[39m \u001b[34mdplyr\u001b[39m::\u001b[32mfilter()\u001b[39m masks \u001b[34mstats\u001b[39m::filter()\n",
      "\u001b[31m✖\u001b[39m \u001b[34mdplyr\u001b[39m::\u001b[32mlag()\u001b[39m    masks \u001b[34mstats\u001b[39m::lag()\n",
      "\n"
     ]
    }
   ],
   "source": [
    "setwd('/Users/alexis/IEHS Dropbox/Rager Lab/Alexis_Payton/Experiments/1. Compartment Analysis/1.1. Descriptive Stats/Input')\n",
    "Output = '/Users/alexis/IEHS Dropbox/Rager Lab/Alexis_Payton/Experiments/1. Compartment Analysis/1.1. Descriptive Stats/Output'\n",
    "cur_date = '051421'\n",
    "\n",
    "library(readxl)\n",
    "library(tidyverse)\n",
    "\n",
    "#reading in file\n",
    "data_df <- data.frame(read_excel(\"CytokineData_102920.xlsx\", sheet = 2))"
   ]
  },
  {
   "cell_type": "code",
   "execution_count": 2,
   "metadata": {},
   "outputs": [
    {
     "data": {
      "text/html": [
       "<table class=\"dataframe\">\n",
       "<caption>A data.frame: 6 × 8</caption>\n",
       "<thead>\n",
       "\t<tr><th></th><th scope=col>Original_Identifier</th><th scope=col>Protein</th><th scope=col>Conc</th><th scope=col>Conc_pslog2</th><th scope=col>Compartment</th><th scope=col>SubjectNo</th><th scope=col>Group</th><th scope=col>SubjectID</th></tr>\n",
       "\t<tr><th></th><th scope=col>&lt;chr&gt;</th><th scope=col>&lt;chr&gt;</th><th scope=col>&lt;dbl&gt;</th><th scope=col>&lt;dbl&gt;</th><th scope=col>&lt;chr&gt;</th><th scope=col>&lt;dbl&gt;</th><th scope=col>&lt;chr&gt;</th><th scope=col>&lt;chr&gt;</th></tr>\n",
       "</thead>\n",
       "<tbody>\n",
       "\t<tr><th scope=row>1</th><td>E_C_F_002</td><td>IFNg   </td><td> 17.642316</td><td>4.220509</td><td>NELF</td><td>1</td><td>NS</td><td>NS_1</td></tr>\n",
       "\t<tr><th scope=row>2</th><td>E_C_F_002</td><td>IL10   </td><td>  2.873724</td><td>1.953721</td><td>NELF</td><td>1</td><td>NS</td><td>NS_1</td></tr>\n",
       "\t<tr><th scope=row>3</th><td>E_C_F_002</td><td>IL12p70</td><td>  1.625272</td><td>1.392467</td><td>NELF</td><td>1</td><td>NS</td><td>NS_1</td></tr>\n",
       "\t<tr><th scope=row>4</th><td>E_C_F_002</td><td>IL13   </td><td> 36.117692</td><td>5.214035</td><td>NELF</td><td>1</td><td>NS</td><td>NS_1</td></tr>\n",
       "\t<tr><th scope=row>5</th><td>E_C_F_002</td><td>IL1b   </td><td>104.409217</td><td>6.719857</td><td>NELF</td><td>1</td><td>NS</td><td>NS_1</td></tr>\n",
       "\t<tr><th scope=row>6</th><td>E_C_F_002</td><td>IL6    </td><td> 21.159536</td><td>4.469856</td><td>NELF</td><td>1</td><td>NS</td><td>NS_1</td></tr>\n",
       "</tbody>\n",
       "</table>\n"
      ],
      "text/latex": [
       "A data.frame: 6 × 8\n",
       "\\begin{tabular}{r|llllllll}\n",
       "  & Original\\_Identifier & Protein & Conc & Conc\\_pslog2 & Compartment & SubjectNo & Group & SubjectID\\\\\n",
       "  & <chr> & <chr> & <dbl> & <dbl> & <chr> & <dbl> & <chr> & <chr>\\\\\n",
       "\\hline\n",
       "\t1 & E\\_C\\_F\\_002 & IFNg    &  17.642316 & 4.220509 & NELF & 1 & NS & NS\\_1\\\\\n",
       "\t2 & E\\_C\\_F\\_002 & IL10    &   2.873724 & 1.953721 & NELF & 1 & NS & NS\\_1\\\\\n",
       "\t3 & E\\_C\\_F\\_002 & IL12p70 &   1.625272 & 1.392467 & NELF & 1 & NS & NS\\_1\\\\\n",
       "\t4 & E\\_C\\_F\\_002 & IL13    &  36.117692 & 5.214035 & NELF & 1 & NS & NS\\_1\\\\\n",
       "\t5 & E\\_C\\_F\\_002 & IL1b    & 104.409217 & 6.719857 & NELF & 1 & NS & NS\\_1\\\\\n",
       "\t6 & E\\_C\\_F\\_002 & IL6     &  21.159536 & 4.469856 & NELF & 1 & NS & NS\\_1\\\\\n",
       "\\end{tabular}\n"
      ],
      "text/markdown": [
       "\n",
       "A data.frame: 6 × 8\n",
       "\n",
       "| <!--/--> | Original_Identifier &lt;chr&gt; | Protein &lt;chr&gt; | Conc &lt;dbl&gt; | Conc_pslog2 &lt;dbl&gt; | Compartment &lt;chr&gt; | SubjectNo &lt;dbl&gt; | Group &lt;chr&gt; | SubjectID &lt;chr&gt; |\n",
       "|---|---|---|---|---|---|---|---|---|\n",
       "| 1 | E_C_F_002 | IFNg    |  17.642316 | 4.220509 | NELF | 1 | NS | NS_1 |\n",
       "| 2 | E_C_F_002 | IL10    |   2.873724 | 1.953721 | NELF | 1 | NS | NS_1 |\n",
       "| 3 | E_C_F_002 | IL12p70 |   1.625272 | 1.392467 | NELF | 1 | NS | NS_1 |\n",
       "| 4 | E_C_F_002 | IL13    |  36.117692 | 5.214035 | NELF | 1 | NS | NS_1 |\n",
       "| 5 | E_C_F_002 | IL1b    | 104.409217 | 6.719857 | NELF | 1 | NS | NS_1 |\n",
       "| 6 | E_C_F_002 | IL6     |  21.159536 | 4.469856 | NELF | 1 | NS | NS_1 |\n",
       "\n"
      ],
      "text/plain": [
       "  Original_Identifier Protein Conc       Conc_pslog2 Compartment SubjectNo\n",
       "1 E_C_F_002           IFNg     17.642316 4.220509    NELF        1        \n",
       "2 E_C_F_002           IL10      2.873724 1.953721    NELF        1        \n",
       "3 E_C_F_002           IL12p70   1.625272 1.392467    NELF        1        \n",
       "4 E_C_F_002           IL13     36.117692 5.214035    NELF        1        \n",
       "5 E_C_F_002           IL1b    104.409217 6.719857    NELF        1        \n",
       "6 E_C_F_002           IL6      21.159536 4.469856    NELF        1        \n",
       "  Group SubjectID\n",
       "1 NS    NS_1     \n",
       "2 NS    NS_1     \n",
       "3 NS    NS_1     \n",
       "4 NS    NS_1     \n",
       "5 NS    NS_1     \n",
       "6 NS    NS_1     "
      ]
     },
     "metadata": {},
     "output_type": "display_data"
    }
   ],
   "source": [
    "head(data_df)"
   ]
  },
  {
   "cell_type": "code",
   "execution_count": 3,
   "metadata": {},
   "outputs": [
    {
     "name": "stderr",
     "output_type": "stream",
     "text": [
      "`summarise()` has grouped output by 'Group', 'Compartment'. You can override using the `.groups` argument.\n",
      "\n"
     ]
    },
    {
     "data": {
      "text/html": [
       "<table class=\"dataframe\">\n",
       "<caption>A grouped_df: 6 × 8</caption>\n",
       "<thead>\n",
       "\t<tr><th scope=col>Group</th><th scope=col>Compartment</th><th scope=col>Protein</th><th scope=col>Mean</th><th scope=col>Median</th><th scope=col>Min</th><th scope=col>Max</th><th scope=col>SD</th></tr>\n",
       "\t<tr><th scope=col>&lt;chr&gt;</th><th scope=col>&lt;chr&gt;</th><th scope=col>&lt;chr&gt;</th><th scope=col>&lt;dbl&gt;</th><th scope=col>&lt;dbl&gt;</th><th scope=col>&lt;dbl&gt;</th><th scope=col>&lt;dbl&gt;</th><th scope=col>&lt;dbl&gt;</th></tr>\n",
       "</thead>\n",
       "<tbody>\n",
       "\t<tr><td>CS</td><td>NELF</td><td>Eotaxin    </td><td> 166.3296123</td><td> 122.5325685</td><td>  46.6442416</td><td>  748.691421</td><td> 182.5196324</td></tr>\n",
       "\t<tr><td>CS</td><td>NELF</td><td>Eotaxin3   </td><td>  24.3249867</td><td>  14.7124526</td><td>   0.9515962</td><td>   90.983293</td><td>  26.7957074</td></tr>\n",
       "\t<tr><td>CS</td><td>NELF</td><td>Fractalkine</td><td>9281.6116564</td><td>6244.5240040</td><td>3143.1675750</td><td>23556.859080</td><td>6392.5652528</td></tr>\n",
       "\t<tr><td>CS</td><td>NELF</td><td>I309       </td><td>   0.1371406</td><td>   0.0000000</td><td>   0.0000000</td><td>    1.782828</td><td>   0.4944674</td></tr>\n",
       "\t<tr><td>CS</td><td>NELF</td><td>IFNg       </td><td>   5.7385324</td><td>   3.2957978</td><td>   0.4529737</td><td>   19.093719</td><td>   5.7025869</td></tr>\n",
       "\t<tr><td>CS</td><td>NELF</td><td>IL10       </td><td>   1.7473530</td><td>   0.9378935</td><td>   0.1143413</td><td>    6.840584</td><td>   2.0055926</td></tr>\n",
       "</tbody>\n",
       "</table>\n"
      ],
      "text/latex": [
       "A grouped\\_df: 6 × 8\n",
       "\\begin{tabular}{llllllll}\n",
       " Group & Compartment & Protein & Mean & Median & Min & Max & SD\\\\\n",
       " <chr> & <chr> & <chr> & <dbl> & <dbl> & <dbl> & <dbl> & <dbl>\\\\\n",
       "\\hline\n",
       "\t CS & NELF & Eotaxin     &  166.3296123 &  122.5325685 &   46.6442416 &   748.691421 &  182.5196324\\\\\n",
       "\t CS & NELF & Eotaxin3    &   24.3249867 &   14.7124526 &    0.9515962 &    90.983293 &   26.7957074\\\\\n",
       "\t CS & NELF & Fractalkine & 9281.6116564 & 6244.5240040 & 3143.1675750 & 23556.859080 & 6392.5652528\\\\\n",
       "\t CS & NELF & I309        &    0.1371406 &    0.0000000 &    0.0000000 &     1.782828 &    0.4944674\\\\\n",
       "\t CS & NELF & IFNg        &    5.7385324 &    3.2957978 &    0.4529737 &    19.093719 &    5.7025869\\\\\n",
       "\t CS & NELF & IL10        &    1.7473530 &    0.9378935 &    0.1143413 &     6.840584 &    2.0055926\\\\\n",
       "\\end{tabular}\n"
      ],
      "text/markdown": [
       "\n",
       "A grouped_df: 6 × 8\n",
       "\n",
       "| Group &lt;chr&gt; | Compartment &lt;chr&gt; | Protein &lt;chr&gt; | Mean &lt;dbl&gt; | Median &lt;dbl&gt; | Min &lt;dbl&gt; | Max &lt;dbl&gt; | SD &lt;dbl&gt; |\n",
       "|---|---|---|---|---|---|---|---|\n",
       "| CS | NELF | Eotaxin     |  166.3296123 |  122.5325685 |   46.6442416 |   748.691421 |  182.5196324 |\n",
       "| CS | NELF | Eotaxin3    |   24.3249867 |   14.7124526 |    0.9515962 |    90.983293 |   26.7957074 |\n",
       "| CS | NELF | Fractalkine | 9281.6116564 | 6244.5240040 | 3143.1675750 | 23556.859080 | 6392.5652528 |\n",
       "| CS | NELF | I309        |    0.1371406 |    0.0000000 |    0.0000000 |     1.782828 |    0.4944674 |\n",
       "| CS | NELF | IFNg        |    5.7385324 |    3.2957978 |    0.4529737 |    19.093719 |    5.7025869 |\n",
       "| CS | NELF | IL10        |    1.7473530 |    0.9378935 |    0.1143413 |     6.840584 |    2.0055926 |\n",
       "\n"
      ],
      "text/plain": [
       "  Group Compartment Protein     Mean         Median       Min         \n",
       "1 CS    NELF        Eotaxin      166.3296123  122.5325685   46.6442416\n",
       "2 CS    NELF        Eotaxin3      24.3249867   14.7124526    0.9515962\n",
       "3 CS    NELF        Fractalkine 9281.6116564 6244.5240040 3143.1675750\n",
       "4 CS    NELF        I309           0.1371406    0.0000000    0.0000000\n",
       "5 CS    NELF        IFNg           5.7385324    3.2957978    0.4529737\n",
       "6 CS    NELF        IL10           1.7473530    0.9378935    0.1143413\n",
       "  Max          SD          \n",
       "1   748.691421  182.5196324\n",
       "2    90.983293   26.7957074\n",
       "3 23556.859080 6392.5652528\n",
       "4     1.782828    0.4944674\n",
       "5    19.093719    5.7025869\n",
       "6     6.840584    2.0055926"
      ]
     },
     "metadata": {},
     "output_type": "display_data"
    }
   ],
   "source": [
    "#getting descriptive stats stratified by compartment, smoking status\n",
    "stratified_stats = data_df %>%\n",
    "    group_by(Group, Compartment, Protein) %>%\n",
    "    summarize(Mean = mean(Conc), Median = median(Conc), Min = min(Conc), Max = max(Conc), SD = sd(Conc))\n",
    "head(stratified_stats)"
   ]
  },
  {
   "cell_type": "code",
   "execution_count": 4,
   "metadata": {},
   "outputs": [
    {
     "name": "stderr",
     "output_type": "stream",
     "text": [
      "`summarise()` has grouped output by 'Compartment'. You can override using the `.groups` argument.\n",
      "\n"
     ]
    },
    {
     "data": {
      "text/html": [
       "<table class=\"dataframe\">\n",
       "<caption>A grouped_df: 6 × 7</caption>\n",
       "<thead>\n",
       "\t<tr><th scope=col>Compartment</th><th scope=col>Protein</th><th scope=col>Mean</th><th scope=col>Median</th><th scope=col>Min</th><th scope=col>Max</th><th scope=col>SD</th></tr>\n",
       "\t<tr><th scope=col>&lt;chr&gt;</th><th scope=col>&lt;chr&gt;</th><th scope=col>&lt;dbl&gt;</th><th scope=col>&lt;dbl&gt;</th><th scope=col>&lt;dbl&gt;</th><th scope=col>&lt;dbl&gt;</th><th scope=col>&lt;dbl&gt;</th></tr>\n",
       "</thead>\n",
       "<tbody>\n",
       "\t<tr><td>NELF</td><td>Eotaxin    </td><td>1.700306e+02</td><td> 117.310172</td><td>1.736243e+01</td><td>  874.162307</td><td> 177.9002739</td></tr>\n",
       "\t<tr><td>NELF</td><td>Eotaxin3   </td><td>3.701259e+02</td><td>  13.196420</td><td>9.515962e-01</td><td>13531.195380</td><td>2039.1760489</td></tr>\n",
       "\t<tr><td>NELF</td><td>Fractalkine</td><td>1.031622e+04</td><td>8356.794540</td><td>1.338163e+03</td><td>37792.314230</td><td>7838.3720369</td></tr>\n",
       "\t<tr><td>NELF</td><td>I309       </td><td>2.402069e-01</td><td>   0.000000</td><td>0.000000e+00</td><td>    4.845496</td><td>   0.8385893</td></tr>\n",
       "\t<tr><td>NELF</td><td>IFNg       </td><td>6.755678e+00</td><td>   4.652312</td><td>0.000000e+00</td><td>   20.034786</td><td>   5.8033488</td></tr>\n",
       "\t<tr><td>NELF</td><td>IL10       </td><td>2.072190e+00</td><td>   1.418209</td><td>6.397043e-02</td><td>    6.840584</td><td>   1.7376648</td></tr>\n",
       "</tbody>\n",
       "</table>\n"
      ],
      "text/latex": [
       "A grouped\\_df: 6 × 7\n",
       "\\begin{tabular}{lllllll}\n",
       " Compartment & Protein & Mean & Median & Min & Max & SD\\\\\n",
       " <chr> & <chr> & <dbl> & <dbl> & <dbl> & <dbl> & <dbl>\\\\\n",
       "\\hline\n",
       "\t NELF & Eotaxin     & 1.700306e+02 &  117.310172 & 1.736243e+01 &   874.162307 &  177.9002739\\\\\n",
       "\t NELF & Eotaxin3    & 3.701259e+02 &   13.196420 & 9.515962e-01 & 13531.195380 & 2039.1760489\\\\\n",
       "\t NELF & Fractalkine & 1.031622e+04 & 8356.794540 & 1.338163e+03 & 37792.314230 & 7838.3720369\\\\\n",
       "\t NELF & I309        & 2.402069e-01 &    0.000000 & 0.000000e+00 &     4.845496 &    0.8385893\\\\\n",
       "\t NELF & IFNg        & 6.755678e+00 &    4.652312 & 0.000000e+00 &    20.034786 &    5.8033488\\\\\n",
       "\t NELF & IL10        & 2.072190e+00 &    1.418209 & 6.397043e-02 &     6.840584 &    1.7376648\\\\\n",
       "\\end{tabular}\n"
      ],
      "text/markdown": [
       "\n",
       "A grouped_df: 6 × 7\n",
       "\n",
       "| Compartment &lt;chr&gt; | Protein &lt;chr&gt; | Mean &lt;dbl&gt; | Median &lt;dbl&gt; | Min &lt;dbl&gt; | Max &lt;dbl&gt; | SD &lt;dbl&gt; |\n",
       "|---|---|---|---|---|---|---|\n",
       "| NELF | Eotaxin     | 1.700306e+02 |  117.310172 | 1.736243e+01 |   874.162307 |  177.9002739 |\n",
       "| NELF | Eotaxin3    | 3.701259e+02 |   13.196420 | 9.515962e-01 | 13531.195380 | 2039.1760489 |\n",
       "| NELF | Fractalkine | 1.031622e+04 | 8356.794540 | 1.338163e+03 | 37792.314230 | 7838.3720369 |\n",
       "| NELF | I309        | 2.402069e-01 |    0.000000 | 0.000000e+00 |     4.845496 |    0.8385893 |\n",
       "| NELF | IFNg        | 6.755678e+00 |    4.652312 | 0.000000e+00 |    20.034786 |    5.8033488 |\n",
       "| NELF | IL10        | 2.072190e+00 |    1.418209 | 6.397043e-02 |     6.840584 |    1.7376648 |\n",
       "\n"
      ],
      "text/plain": [
       "  Compartment Protein     Mean         Median      Min          Max         \n",
       "1 NELF        Eotaxin     1.700306e+02  117.310172 1.736243e+01   874.162307\n",
       "2 NELF        Eotaxin3    3.701259e+02   13.196420 9.515962e-01 13531.195380\n",
       "3 NELF        Fractalkine 1.031622e+04 8356.794540 1.338163e+03 37792.314230\n",
       "4 NELF        I309        2.402069e-01    0.000000 0.000000e+00     4.845496\n",
       "5 NELF        IFNg        6.755678e+00    4.652312 0.000000e+00    20.034786\n",
       "6 NELF        IL10        2.072190e+00    1.418209 6.397043e-02     6.840584\n",
       "  SD          \n",
       "1  177.9002739\n",
       "2 2039.1760489\n",
       "3 7838.3720369\n",
       "4    0.8385893\n",
       "5    5.8033488\n",
       "6    1.7376648"
      ]
     },
     "metadata": {},
     "output_type": "display_data"
    }
   ],
   "source": [
    "overall_stats = data_df %>%\n",
    "    group_by(Compartment, Protein) %>%\n",
    "    summarize(Mean = mean(Conc), Median = median(Conc), Min = min(Conc), Max = max(Conc), SD = sd(Conc))\n",
    "head(overall_stats)"
   ]
  },
  {
   "cell_type": "code",
   "execution_count": 5,
   "metadata": {},
   "outputs": [],
   "source": [
    "#exporting data\n",
    "write.csv(stratified_stats, \n",
    "          paste0(Output,\"/\", cur_date, \"_Stratified_Statistics.csv\"), row.names = FALSE)\n",
    "write.csv(overall_stats, \n",
    "          paste0(Output,\"/\", cur_date, \"_Overall_Statistics.csv\"), row.names = FALSE)"
   ]
  },
  {
   "cell_type": "code",
   "execution_count": null,
   "metadata": {},
   "outputs": [],
   "source": []
  }
 ],
 "metadata": {
  "kernelspec": {
   "display_name": "R",
   "language": "R",
   "name": "ir"
  },
  "language_info": {
   "codemirror_mode": "r",
   "file_extension": ".r",
   "mimetype": "text/x-r-source",
   "name": "R",
   "pygments_lexer": "r",
   "version": "3.6.3"
  }
 },
 "nbformat": 4,
 "nbformat_minor": 4
}

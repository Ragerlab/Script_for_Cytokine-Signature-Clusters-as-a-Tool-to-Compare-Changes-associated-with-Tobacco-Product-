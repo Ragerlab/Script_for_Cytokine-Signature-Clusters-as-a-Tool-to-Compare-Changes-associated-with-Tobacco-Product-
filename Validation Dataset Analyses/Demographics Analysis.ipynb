{
 "cells": [
  {
   "cell_type": "code",
   "execution_count": 1,
   "id": "collectible-mumbai",
   "metadata": {},
   "outputs": [
    {
     "name": "stderr",
     "output_type": "stream",
     "text": [
      "── \u001b[1mAttaching packages\u001b[22m ─────────────────────────────────────── tidyverse 1.3.0 ──\n",
      "\n",
      "\u001b[32m✔\u001b[39m \u001b[34mggplot2\u001b[39m 3.3.3     \u001b[32m✔\u001b[39m \u001b[34mpurrr  \u001b[39m 0.3.4\n",
      "\u001b[32m✔\u001b[39m \u001b[34mtibble \u001b[39m 3.0.6     \u001b[32m✔\u001b[39m \u001b[34mdplyr  \u001b[39m 1.0.4\n",
      "\u001b[32m✔\u001b[39m \u001b[34mtidyr  \u001b[39m 1.1.2     \u001b[32m✔\u001b[39m \u001b[34mstringr\u001b[39m 1.4.0\n",
      "\u001b[32m✔\u001b[39m \u001b[34mreadr  \u001b[39m 1.4.0     \u001b[32m✔\u001b[39m \u001b[34mforcats\u001b[39m 0.5.1\n",
      "\n",
      "── \u001b[1mConflicts\u001b[22m ────────────────────────────────────────── tidyverse_conflicts() ──\n",
      "\u001b[31m✖\u001b[39m \u001b[34mdplyr\u001b[39m::\u001b[32mfilter()\u001b[39m masks \u001b[34mstats\u001b[39m::filter()\n",
      "\u001b[31m✖\u001b[39m \u001b[34mdplyr\u001b[39m::\u001b[32mlag()\u001b[39m    masks \u001b[34mstats\u001b[39m::lag()\n",
      "\n",
      "\n",
      "Attaching package: ‘reshape2’\n",
      "\n",
      "\n",
      "The following object is masked from ‘package:tidyr’:\n",
      "\n",
      "    smiths\n",
      "\n",
      "\n",
      "Loading required package: carData\n",
      "\n",
      "\n",
      "Attaching package: ‘car’\n",
      "\n",
      "\n",
      "The following object is masked from ‘package:dplyr’:\n",
      "\n",
      "    recode\n",
      "\n",
      "\n",
      "The following object is masked from ‘package:purrr’:\n",
      "\n",
      "    some\n",
      "\n",
      "\n"
     ]
    }
   ],
   "source": [
    "setwd('/Users/alexis/IEHS Dropbox/Rager Lab/Alexis_Payton/4_Compartment_Analysis_2021/Expt2.2_Demographics Analysis/Input')\n",
    "cur_date = '041721'\n",
    "\n",
    "library(readxl)\n",
    "library(tidyverse)\n",
    "library(reshape2)\n",
    "library(car)\n",
    "\n",
    "#reading in file\n",
    "data_df = data.frame(read_excel(\"CytokineData_032521.xlsx\", sheet = 2))\n",
    "\n",
    "#reading in demographics file\n",
    "demographics_data_df = data.frame(read_excel(\"SubjectInfo_032521.xlsx\", sheet = 2))"
   ]
  },
  {
   "cell_type": "code",
   "execution_count": 2,
   "id": "organic-swing",
   "metadata": {},
   "outputs": [
    {
     "name": "stderr",
     "output_type": "stream",
     "text": [
      "Joining, by = c(\"SubjectNo\", \"Group\", \"SubjectID\")\n",
      "\n"
     ]
    },
    {
     "data": {
      "text/html": [
       "<table class=\"dataframe\">\n",
       "<caption>A data.frame: 6 × 14</caption>\n",
       "<thead>\n",
       "\t<tr><th></th><th scope=col>Original.Identifier</th><th scope=col>Protein</th><th scope=col>Conc</th><th scope=col>Conc_pslog2</th><th scope=col>Compartment</th><th scope=col>SubjectNo</th><th scope=col>Group</th><th scope=col>SubjectID</th><th scope=col>Race</th><th scope=col>Ethnicity</th><th scope=col>Sex</th><th scope=col>Age</th><th scope=col>BMI</th><th scope=col>Serum_Cotinine</th></tr>\n",
       "\t<tr><th></th><th scope=col>&lt;dbl&gt;</th><th scope=col>&lt;chr&gt;</th><th scope=col>&lt;dbl&gt;</th><th scope=col>&lt;dbl&gt;</th><th scope=col>&lt;chr&gt;</th><th scope=col>&lt;dbl&gt;</th><th scope=col>&lt;chr&gt;</th><th scope=col>&lt;chr&gt;</th><th scope=col>&lt;chr&gt;</th><th scope=col>&lt;chr&gt;</th><th scope=col>&lt;chr&gt;</th><th scope=col>&lt;dbl&gt;</th><th scope=col>&lt;dbl&gt;</th><th scope=col>&lt;chr&gt;</th></tr>\n",
       "</thead>\n",
       "<tbody>\n",
       "\t<tr><th scope=row>1</th><td>20005</td><td>Eotaxin </td><td>108.4988037</td><td>6.7747713</td><td>NELF</td><td>1</td><td>NS</td><td>NS_1</td><td>AA</td><td>NH</td><td>M</td><td>43</td><td>41.2</td><td>NA</td></tr>\n",
       "\t<tr><th scope=row>2</th><td>20005</td><td>Eotaxin3</td><td>160.5679919</td><td>7.3359976</td><td>NELF</td><td>1</td><td>NS</td><td>NS_1</td><td>AA</td><td>NH</td><td>M</td><td>43</td><td>41.2</td><td>NA</td></tr>\n",
       "\t<tr><th scope=row>3</th><td>20005</td><td>GMCSF   </td><td>  0.5150623</td><td>0.5993771</td><td>NELF</td><td>1</td><td>NS</td><td>NS_1</td><td>AA</td><td>NH</td><td>M</td><td>43</td><td>41.2</td><td>NA</td></tr>\n",
       "\t<tr><th scope=row>4</th><td>20005</td><td>IFNg    </td><td>  5.5197311</td><td>2.7048125</td><td>NELF</td><td>1</td><td>NS</td><td>NS_1</td><td>AA</td><td>NH</td><td>M</td><td>43</td><td>41.2</td><td>NA</td></tr>\n",
       "\t<tr><th scope=row>5</th><td>20005</td><td>IL10    </td><td>  0.8386947</td><td>0.8786819</td><td>NELF</td><td>1</td><td>NS</td><td>NS_1</td><td>AA</td><td>NH</td><td>M</td><td>43</td><td>41.2</td><td>NA</td></tr>\n",
       "\t<tr><th scope=row>6</th><td>20005</td><td>IL12p40 </td><td> 13.1695722</td><td>3.8247243</td><td>NELF</td><td>1</td><td>NS</td><td>NS_1</td><td>AA</td><td>NH</td><td>M</td><td>43</td><td>41.2</td><td>NA</td></tr>\n",
       "</tbody>\n",
       "</table>\n"
      ],
      "text/latex": [
       "A data.frame: 6 × 14\n",
       "\\begin{tabular}{r|llllllllllllll}\n",
       "  & Original.Identifier & Protein & Conc & Conc\\_pslog2 & Compartment & SubjectNo & Group & SubjectID & Race & Ethnicity & Sex & Age & BMI & Serum\\_Cotinine\\\\\n",
       "  & <dbl> & <chr> & <dbl> & <dbl> & <chr> & <dbl> & <chr> & <chr> & <chr> & <chr> & <chr> & <dbl> & <dbl> & <chr>\\\\\n",
       "\\hline\n",
       "\t1 & 20005 & Eotaxin  & 108.4988037 & 6.7747713 & NELF & 1 & NS & NS\\_1 & AA & NH & M & 43 & 41.2 & NA\\\\\n",
       "\t2 & 20005 & Eotaxin3 & 160.5679919 & 7.3359976 & NELF & 1 & NS & NS\\_1 & AA & NH & M & 43 & 41.2 & NA\\\\\n",
       "\t3 & 20005 & GMCSF    &   0.5150623 & 0.5993771 & NELF & 1 & NS & NS\\_1 & AA & NH & M & 43 & 41.2 & NA\\\\\n",
       "\t4 & 20005 & IFNg     &   5.5197311 & 2.7048125 & NELF & 1 & NS & NS\\_1 & AA & NH & M & 43 & 41.2 & NA\\\\\n",
       "\t5 & 20005 & IL10     &   0.8386947 & 0.8786819 & NELF & 1 & NS & NS\\_1 & AA & NH & M & 43 & 41.2 & NA\\\\\n",
       "\t6 & 20005 & IL12p40  &  13.1695722 & 3.8247243 & NELF & 1 & NS & NS\\_1 & AA & NH & M & 43 & 41.2 & NA\\\\\n",
       "\\end{tabular}\n"
      ],
      "text/markdown": [
       "\n",
       "A data.frame: 6 × 14\n",
       "\n",
       "| <!--/--> | Original.Identifier &lt;dbl&gt; | Protein &lt;chr&gt; | Conc &lt;dbl&gt; | Conc_pslog2 &lt;dbl&gt; | Compartment &lt;chr&gt; | SubjectNo &lt;dbl&gt; | Group &lt;chr&gt; | SubjectID &lt;chr&gt; | Race &lt;chr&gt; | Ethnicity &lt;chr&gt; | Sex &lt;chr&gt; | Age &lt;dbl&gt; | BMI &lt;dbl&gt; | Serum_Cotinine &lt;chr&gt; |\n",
       "|---|---|---|---|---|---|---|---|---|---|---|---|---|---|---|\n",
       "| 1 | 20005 | Eotaxin  | 108.4988037 | 6.7747713 | NELF | 1 | NS | NS_1 | AA | NH | M | 43 | 41.2 | NA |\n",
       "| 2 | 20005 | Eotaxin3 | 160.5679919 | 7.3359976 | NELF | 1 | NS | NS_1 | AA | NH | M | 43 | 41.2 | NA |\n",
       "| 3 | 20005 | GMCSF    |   0.5150623 | 0.5993771 | NELF | 1 | NS | NS_1 | AA | NH | M | 43 | 41.2 | NA |\n",
       "| 4 | 20005 | IFNg     |   5.5197311 | 2.7048125 | NELF | 1 | NS | NS_1 | AA | NH | M | 43 | 41.2 | NA |\n",
       "| 5 | 20005 | IL10     |   0.8386947 | 0.8786819 | NELF | 1 | NS | NS_1 | AA | NH | M | 43 | 41.2 | NA |\n",
       "| 6 | 20005 | IL12p40  |  13.1695722 | 3.8247243 | NELF | 1 | NS | NS_1 | AA | NH | M | 43 | 41.2 | NA |\n",
       "\n"
      ],
      "text/plain": [
       "  Original.Identifier Protein  Conc        Conc_pslog2 Compartment SubjectNo\n",
       "1 20005               Eotaxin  108.4988037 6.7747713   NELF        1        \n",
       "2 20005               Eotaxin3 160.5679919 7.3359976   NELF        1        \n",
       "3 20005               GMCSF      0.5150623 0.5993771   NELF        1        \n",
       "4 20005               IFNg       5.5197311 2.7048125   NELF        1        \n",
       "5 20005               IL10       0.8386947 0.8786819   NELF        1        \n",
       "6 20005               IL12p40   13.1695722 3.8247243   NELF        1        \n",
       "  Group SubjectID Race Ethnicity Sex Age BMI  Serum_Cotinine\n",
       "1 NS    NS_1      AA   NH        M   43  41.2 NA            \n",
       "2 NS    NS_1      AA   NH        M   43  41.2 NA            \n",
       "3 NS    NS_1      AA   NH        M   43  41.2 NA            \n",
       "4 NS    NS_1      AA   NH        M   43  41.2 NA            \n",
       "5 NS    NS_1      AA   NH        M   43  41.2 NA            \n",
       "6 NS    NS_1      AA   NH        M   43  41.2 NA            "
      ]
     },
     "metadata": {},
     "output_type": "display_data"
    }
   ],
   "source": [
    "data_df = full_join(data_df, demographics_data_df)\n",
    "head(data_df)"
   ]
  },
  {
   "cell_type": "markdown",
   "id": "damaged-roulette",
   "metadata": {},
   "source": [
    "# Chi Square Analysis/ ANOVA (Table XX)\n",
    "\n",
    "Comparing demographic variables to see if there are differences across smoking statuses. "
   ]
  },
  {
   "cell_type": "code",
   "execution_count": 3,
   "id": "romance-obligation",
   "metadata": {},
   "outputs": [
    {
     "name": "stderr",
     "output_type": "stream",
     "text": [
      "Adding missing grouping variables: `Group`\n",
      "\n",
      "Adding missing grouping variables: `Group`\n",
      "\n",
      "Adding missing grouping variables: `Group`\n",
      "\n"
     ]
    },
    {
     "data": {
      "text/plain": [
       "      Sex\n",
       "Group   F  M\n",
       "  CS    6  8\n",
       "  Ecig  4 10\n",
       "  NS   14  6\n",
       "  O    24 24"
      ]
     },
     "metadata": {},
     "output_type": "display_data"
    },
    {
     "data": {
      "text/plain": [
       "      Race\n",
       "Group  AA As  W\n",
       "  CS    7  0  7\n",
       "  Ecig  2  2 10\n",
       "  NS    2  2 16\n",
       "  O    11  4 33"
      ]
     },
     "metadata": {},
     "output_type": "display_data"
    },
    {
     "data": {
      "text/plain": [
       "      Ethnicity\n",
       "Group   H NH\n",
       "  CS    0 14\n",
       "  Ecig  0 14\n",
       "  NS    3 17\n",
       "  O     3 45"
      ]
     },
     "metadata": {},
     "output_type": "display_data"
    }
   ],
   "source": [
    "get_tables = function(df, variable){\n",
    "    #getting variable stratified by smoking status\n",
    "    variable_grouped_df = df %>% group_by(Group) %>% select(all_of(variable)) \n",
    "    #getting overall variable numbers\n",
    "    overall_variable_df = df %>% select(all_of(variable)) \n",
    "    #adding a col that designates this from the overall cohort\n",
    "    overall_variable_df$Group = rep('O', times = length(overall_variable_df)) #O stands for overall\n",
    "    overall_variable_df = overall_variable_df[,c(2,1)]\n",
    "    \n",
    "    #needed to make a df, so both had row numbers\n",
    "    variable_table = table(rbind(overall_variable_df, data.frame(variable_grouped_df)))\n",
    "    return(variable_table)\n",
    "}\n",
    "sex_table = get_tables(demographics_data_df, 'Sex')\n",
    "race_table = get_tables(demographics_data_df, 'Race')\n",
    "ethnicity_table = get_tables(demographics_data_df, 'Ethnicity')\n",
    "\n",
    "#this now gives me weird results\n",
    "sex_table\n",
    "race_table\n",
    "ethnicity_table"
   ]
  },
  {
   "cell_type": "code",
   "execution_count": 4,
   "id": "compatible-kitty",
   "metadata": {},
   "outputs": [
    {
     "data": {
      "text/plain": [
       "\n",
       "\tFisher's Exact Test for Count Data\n",
       "\n",
       "data:  sex_table\n",
       "p-value = 0.1123\n",
       "alternative hypothesis: two.sided\n"
      ]
     },
     "metadata": {},
     "output_type": "display_data"
    },
    {
     "data": {
      "text/plain": [
       "\n",
       "\tFisher's Exact Test for Count Data\n",
       "\n",
       "data:  race_table\n",
       "p-value = 0.1754\n",
       "alternative hypothesis: two.sided\n"
      ]
     },
     "metadata": {},
     "output_type": "display_data"
    },
    {
     "data": {
      "text/plain": [
       "\n",
       "\tFisher's Exact Test for Count Data\n",
       "\n",
       "data:  ethnicity_table\n",
       "p-value = 0.3176\n",
       "alternative hypothesis: two.sided\n"
      ]
     },
     "metadata": {},
     "output_type": "display_data"
    }
   ],
   "source": [
    "#fisher exact test\n",
    "fisher.test(sex_table)\n",
    "fisher.test(race_table)\n",
    "fisher.test(ethnicity_table)"
   ]
  },
  {
   "cell_type": "code",
   "execution_count": 5,
   "id": "intensive-annual",
   "metadata": {},
   "outputs": [
    {
     "name": "stderr",
     "output_type": "stream",
     "text": [
      "Adding missing grouping variables: `Group`\n",
      "\n"
     ]
    },
    {
     "data": {
      "text/plain": [
       "\n",
       "\tFisher's Exact Test for Count Data\n",
       "\n",
       "data:  di_race_table\n",
       "p-value = 0.3313\n",
       "alternative hypothesis: two.sided\n"
      ]
     },
     "metadata": {},
     "output_type": "display_data"
    }
   ],
   "source": [
    "#dichotimized race\n",
    "#making race binary between white and non-white subjects\n",
    "demographics_data_df = demographics_data_df %>%\n",
    "    mutate(Race = ifelse(Race != 'W', 'NW', Race))\n",
    "\n",
    "#dichotimized race\n",
    "di_race_table = get_tables(demographics_data_df, 'Race')\n",
    "fisher.test(di_race_table)"
   ]
  },
  {
   "cell_type": "code",
   "execution_count": 6,
   "id": "anonymous-chapter",
   "metadata": {},
   "outputs": [
    {
     "data": {
      "text/html": [
       "<table class=\"dataframe\">\n",
       "<caption>A matrix: 3 × 2 of type dbl</caption>\n",
       "<thead>\n",
       "\t<tr><th></th><th scope=col>CS</th><th scope=col>Ecig</th></tr>\n",
       "</thead>\n",
       "<tbody>\n",
       "\t<tr><th scope=row>NS</th><td>0</td><td>0</td></tr>\n",
       "\t<tr><th scope=row>CS</th><td>1</td><td>0</td></tr>\n",
       "\t<tr><th scope=row>Ecig</th><td>0</td><td>1</td></tr>\n",
       "</tbody>\n",
       "</table>\n"
      ],
      "text/latex": [
       "A matrix: 3 × 2 of type dbl\n",
       "\\begin{tabular}{r|ll}\n",
       "  & CS & Ecig\\\\\n",
       "\\hline\n",
       "\tNS & 0 & 0\\\\\n",
       "\tCS & 1 & 0\\\\\n",
       "\tEcig & 0 & 1\\\\\n",
       "\\end{tabular}\n"
      ],
      "text/markdown": [
       "\n",
       "A matrix: 3 × 2 of type dbl\n",
       "\n",
       "| <!--/--> | CS | Ecig |\n",
       "|---|---|---|\n",
       "| NS | 0 | 0 |\n",
       "| CS | 1 | 0 |\n",
       "| Ecig | 0 | 1 |\n",
       "\n"
      ],
      "text/plain": [
       "     CS Ecig\n",
       "NS   0  0   \n",
       "CS   1  0   \n",
       "Ecig 0  1   "
      ]
     },
     "metadata": {},
     "output_type": "display_data"
    }
   ],
   "source": [
    "#running anova test for continuous values: age, bmi, cotinine\n",
    "\n",
    "#putting group into a factor in order to make comparisons\n",
    "demographics_data_df$Group = factor(demographics_data_df$Group, labels = c(unique(demographics_data_df$Group)))\n",
    "\n",
    "#standardizing data (this makes the data MORE normalized)\n",
    "mutated_df = demographics_data_df %>%\n",
    "    mutate(Serum_Cotinine = ifelse(Serum_Cotinine == 'NA', 0, Serum_Cotinine)) %>%\n",
    "    mutate(Norm_Age = scale(Age), Norm_BMI = scale(BMI), Norm_Cotinine = scale(as.numeric(Serum_Cotinine)))\n",
    "\n",
    "#contrasts show what compartments are being compared in anova\n",
    "#these comparisons aren't what we want so I changed them in the function below\n",
    "contrasts(mutated_df$Group)"
   ]
  },
  {
   "cell_type": "markdown",
   "id": "ordered-absolute",
   "metadata": {},
   "source": [
    "                        Table of Contrasts\n",
    ">                   NS    | CS  |  Ecig  |  Sum\n",
    ">     Contrast 1 |  -2    |  1  |   1    |   0\n",
    ">     Contrast 2 |  0     | -1  |   1    |   0\n",
    "\n",
    "> - Contrast 1: compares NS to all other groups\n",
    "> - Contrast 2: compares CS and Ecig"
   ]
  },
  {
   "cell_type": "code",
   "execution_count": 7,
   "id": "level-house",
   "metadata": {},
   "outputs": [
    {
     "data": {
      "text/html": [
       "<table class=\"dataframe\">\n",
       "<caption>A anova: 3 × 4</caption>\n",
       "<thead>\n",
       "\t<tr><th></th><th scope=col>Sum Sq</th><th scope=col>Df</th><th scope=col>F value</th><th scope=col>Pr(&gt;F)</th></tr>\n",
       "\t<tr><th></th><th scope=col>&lt;dbl&gt;</th><th scope=col>&lt;dbl&gt;</th><th scope=col>&lt;dbl&gt;</th><th scope=col>&lt;dbl&gt;</th></tr>\n",
       "</thead>\n",
       "<tbody>\n",
       "\t<tr><th scope=row>(Intercept)</th><td> 4.228173</td><td> 1</td><td>5.024277</td><td>0.029971822</td></tr>\n",
       "\t<tr><th scope=row>Group</th><td> 9.130316</td><td> 2</td><td>5.424712</td><td>0.007751058</td></tr>\n",
       "\t<tr><th scope=row>Residuals</th><td>37.869684</td><td>45</td><td>      NA</td><td>         NA</td></tr>\n",
       "</tbody>\n",
       "</table>\n"
      ],
      "text/latex": [
       "A anova: 3 × 4\n",
       "\\begin{tabular}{r|llll}\n",
       "  & Sum Sq & Df & F value & Pr(>F)\\\\\n",
       "  & <dbl> & <dbl> & <dbl> & <dbl>\\\\\n",
       "\\hline\n",
       "\t(Intercept) &  4.228173 &  1 & 5.024277 & 0.029971822\\\\\n",
       "\tGroup &  9.130316 &  2 & 5.424712 & 0.007751058\\\\\n",
       "\tResiduals & 37.869684 & 45 &       NA &          NA\\\\\n",
       "\\end{tabular}\n"
      ],
      "text/markdown": [
       "\n",
       "A anova: 3 × 4\n",
       "\n",
       "| <!--/--> | Sum Sq &lt;dbl&gt; | Df &lt;dbl&gt; | F value &lt;dbl&gt; | Pr(&gt;F) &lt;dbl&gt; |\n",
       "|---|---|---|---|---|\n",
       "| (Intercept) |  4.228173 |  1 | 5.024277 | 0.029971822 |\n",
       "| Group |  9.130316 |  2 | 5.424712 | 0.007751058 |\n",
       "| Residuals | 37.869684 | 45 |       NA |          NA |\n",
       "\n"
      ],
      "text/plain": [
       "            Sum Sq    Df F value  Pr(>F)     \n",
       "(Intercept)  4.228173  1 5.024277 0.029971822\n",
       "Group        9.130316  2 5.424712 0.007751058\n",
       "Residuals   37.869684 45       NA          NA"
      ]
     },
     "metadata": {},
     "output_type": "display_data"
    },
    {
     "data": {
      "text/html": [
       "<table class=\"dataframe\">\n",
       "<caption>A anova: 3 × 4</caption>\n",
       "<thead>\n",
       "\t<tr><th></th><th scope=col>Sum Sq</th><th scope=col>Df</th><th scope=col>F value</th><th scope=col>Pr(&gt;F)</th></tr>\n",
       "\t<tr><th></th><th scope=col>&lt;dbl&gt;</th><th scope=col>&lt;dbl&gt;</th><th scope=col>&lt;dbl&gt;</th><th scope=col>&lt;dbl&gt;</th></tr>\n",
       "</thead>\n",
       "<tbody>\n",
       "\t<tr><th scope=row>(Intercept)</th><td> 0.1449576</td><td> 1</td><td>0.1413620</td><td>0.7086975</td></tr>\n",
       "\t<tr><th scope=row>Group</th><td> 0.8554084</td><td> 2</td><td>0.4170953</td><td>0.6614794</td></tr>\n",
       "\t<tr><th scope=row>Residuals</th><td>46.1445916</td><td>45</td><td>       NA</td><td>       NA</td></tr>\n",
       "</tbody>\n",
       "</table>\n"
      ],
      "text/latex": [
       "A anova: 3 × 4\n",
       "\\begin{tabular}{r|llll}\n",
       "  & Sum Sq & Df & F value & Pr(>F)\\\\\n",
       "  & <dbl> & <dbl> & <dbl> & <dbl>\\\\\n",
       "\\hline\n",
       "\t(Intercept) &  0.1449576 &  1 & 0.1413620 & 0.7086975\\\\\n",
       "\tGroup &  0.8554084 &  2 & 0.4170953 & 0.6614794\\\\\n",
       "\tResiduals & 46.1445916 & 45 &        NA &        NA\\\\\n",
       "\\end{tabular}\n"
      ],
      "text/markdown": [
       "\n",
       "A anova: 3 × 4\n",
       "\n",
       "| <!--/--> | Sum Sq &lt;dbl&gt; | Df &lt;dbl&gt; | F value &lt;dbl&gt; | Pr(&gt;F) &lt;dbl&gt; |\n",
       "|---|---|---|---|---|\n",
       "| (Intercept) |  0.1449576 |  1 | 0.1413620 | 0.7086975 |\n",
       "| Group |  0.8554084 |  2 | 0.4170953 | 0.6614794 |\n",
       "| Residuals | 46.1445916 | 45 |        NA |        NA |\n",
       "\n"
      ],
      "text/plain": [
       "            Sum Sq     Df F value   Pr(>F)   \n",
       "(Intercept)  0.1449576  1 0.1413620 0.7086975\n",
       "Group        0.8554084  2 0.4170953 0.6614794\n",
       "Residuals   46.1445916 45        NA        NA"
      ]
     },
     "metadata": {},
     "output_type": "display_data"
    },
    {
     "data": {
      "text/html": [
       "<table class=\"dataframe\">\n",
       "<caption>A anova: 3 × 4</caption>\n",
       "<thead>\n",
       "\t<tr><th></th><th scope=col>Sum Sq</th><th scope=col>Df</th><th scope=col>F value</th><th scope=col>Pr(&gt;F)</th></tr>\n",
       "\t<tr><th></th><th scope=col>&lt;dbl&gt;</th><th scope=col>&lt;dbl&gt;</th><th scope=col>&lt;dbl&gt;</th><th scope=col>&lt;dbl&gt;</th></tr>\n",
       "</thead>\n",
       "<tbody>\n",
       "\t<tr><th scope=row>(Intercept)</th><td>13.22787</td><td> 1</td><td>23.98344</td><td>1.293985e-05</td></tr>\n",
       "\t<tr><th scope=row>Group</th><td>22.18062</td><td> 2</td><td>20.10783</td><td>5.762288e-07</td></tr>\n",
       "\t<tr><th scope=row>Residuals</th><td>24.81938</td><td>45</td><td>      NA</td><td>          NA</td></tr>\n",
       "</tbody>\n",
       "</table>\n"
      ],
      "text/latex": [
       "A anova: 3 × 4\n",
       "\\begin{tabular}{r|llll}\n",
       "  & Sum Sq & Df & F value & Pr(>F)\\\\\n",
       "  & <dbl> & <dbl> & <dbl> & <dbl>\\\\\n",
       "\\hline\n",
       "\t(Intercept) & 13.22787 &  1 & 23.98344 & 1.293985e-05\\\\\n",
       "\tGroup & 22.18062 &  2 & 20.10783 & 5.762288e-07\\\\\n",
       "\tResiduals & 24.81938 & 45 &       NA &           NA\\\\\n",
       "\\end{tabular}\n"
      ],
      "text/markdown": [
       "\n",
       "A anova: 3 × 4\n",
       "\n",
       "| <!--/--> | Sum Sq &lt;dbl&gt; | Df &lt;dbl&gt; | F value &lt;dbl&gt; | Pr(&gt;F) &lt;dbl&gt; |\n",
       "|---|---|---|---|---|\n",
       "| (Intercept) | 13.22787 |  1 | 23.98344 | 1.293985e-05 |\n",
       "| Group | 22.18062 |  2 | 20.10783 | 5.762288e-07 |\n",
       "| Residuals | 24.81938 | 45 |       NA |           NA |\n",
       "\n"
      ],
      "text/plain": [
       "            Sum Sq   Df F value  Pr(>F)      \n",
       "(Intercept) 13.22787  1 23.98344 1.293985e-05\n",
       "Group       22.18062  2 20.10783 5.762288e-07\n",
       "Residuals   24.81938 45       NA           NA"
      ]
     },
     "metadata": {},
     "output_type": "display_data"
    }
   ],
   "source": [
    "anova_age = Anova(aov(Norm_Age~Group, data = mutated_df), type = 'III')\n",
    "anova_age\n",
    "anova_bmi = Anova(aov(Norm_BMI~Group, data = mutated_df), type = 'III')\n",
    "anova_bmi\n",
    "anova_continine = Anova(aov(Norm_Cotinine~Group, data = mutated_df), type = 'III')\n",
    "anova_continine"
   ]
  },
  {
   "cell_type": "code",
   "execution_count": null,
   "id": "intensive-vaccine",
   "metadata": {},
   "outputs": [],
   "source": []
  }
 ],
 "metadata": {
  "kernelspec": {
   "display_name": "R",
   "language": "R",
   "name": "ir"
  },
  "language_info": {
   "codemirror_mode": "r",
   "file_extension": ".r",
   "mimetype": "text/x-r-source",
   "name": "R",
   "pygments_lexer": "r",
   "version": "3.6.3"
  }
 },
 "nbformat": 4,
 "nbformat_minor": 5
}

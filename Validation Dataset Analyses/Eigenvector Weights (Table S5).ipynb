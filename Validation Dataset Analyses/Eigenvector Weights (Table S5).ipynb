{
 "cells": [
  {
   "cell_type": "code",
   "execution_count": 1,
   "id": "apart-postage",
   "metadata": {},
   "outputs": [
    {
     "name": "stderr",
     "output_type": "stream",
     "text": [
      "Loading required package: ggplot2\n",
      "\n",
      "Welcome! Want to learn more? See two factoextra-related books at https://goo.gl/ve3WBa\n",
      "\n",
      "\n",
      "Attaching package: ‘dplyr’\n",
      "\n",
      "\n",
      "The following objects are masked from ‘package:data.table’:\n",
      "\n",
      "    between, first, last\n",
      "\n",
      "\n",
      "The following objects are masked from ‘package:stats’:\n",
      "\n",
      "    filter, lag\n",
      "\n",
      "\n",
      "The following objects are masked from ‘package:base’:\n",
      "\n",
      "    intersect, setdiff, setequal, union\n",
      "\n",
      "\n",
      "── \u001b[1mAttaching packages\u001b[22m ─────────────────────────────────────── tidyverse 1.3.0 ──\n",
      "\n",
      "\u001b[32m✔\u001b[39m \u001b[34mtibble \u001b[39m 3.0.6     \u001b[32m✔\u001b[39m \u001b[34mpurrr  \u001b[39m 0.3.4\n",
      "\u001b[32m✔\u001b[39m \u001b[34mtidyr  \u001b[39m 1.1.2     \u001b[32m✔\u001b[39m \u001b[34mstringr\u001b[39m 1.4.0\n",
      "\u001b[32m✔\u001b[39m \u001b[34mreadr  \u001b[39m 1.4.0     \u001b[32m✔\u001b[39m \u001b[34mforcats\u001b[39m 0.5.1\n",
      "\n",
      "── \u001b[1mConflicts\u001b[22m ────────────────────────────────────────── tidyverse_conflicts() ──\n",
      "\u001b[31m✖\u001b[39m \u001b[34mdplyr\u001b[39m::\u001b[32mbetween()\u001b[39m   masks \u001b[34mdata.table\u001b[39m::between()\n",
      "\u001b[31m✖\u001b[39m \u001b[34mdplyr\u001b[39m::\u001b[32mfilter()\u001b[39m    masks \u001b[34mstats\u001b[39m::filter()\n",
      "\u001b[31m✖\u001b[39m \u001b[34mdplyr\u001b[39m::\u001b[32mfirst()\u001b[39m     masks \u001b[34mdata.table\u001b[39m::first()\n",
      "\u001b[31m✖\u001b[39m \u001b[34mdplyr\u001b[39m::\u001b[32mlag()\u001b[39m       masks \u001b[34mstats\u001b[39m::lag()\n",
      "\u001b[31m✖\u001b[39m \u001b[34mdplyr\u001b[39m::\u001b[32mlast()\u001b[39m      masks \u001b[34mdata.table\u001b[39m::last()\n",
      "\u001b[31m✖\u001b[39m \u001b[34mpurrr\u001b[39m::\u001b[32mtranspose()\u001b[39m masks \u001b[34mdata.table\u001b[39m::transpose()\n",
      "\n",
      "\n",
      "Attaching package: ‘gridExtra’\n",
      "\n",
      "\n",
      "The following object is masked from ‘package:dplyr’:\n",
      "\n",
      "    combine\n",
      "\n",
      "\n",
      "Loading required package: permute\n",
      "\n",
      "Loading required package: lattice\n",
      "\n",
      "This is vegan 2.5-7\n",
      "\n"
     ]
    }
   ],
   "source": [
    "setwd('/Users/alexis/IEHS Dropbox/Rager Lab/Alexis_Payton/4_Compartment_Analysis_2021/Expt1.3_Eigenvector Weights/Input')\n",
    "Output = ('/Users/alexis/IEHS Dropbox/Rager Lab/Alexis_Payton/4_Compartment_Analysis_2021/Expt1.3_Eigenvector Weights/Output')\n",
    "cur_date = \"042121\"\n",
    "\n",
    "library(readxl)\n",
    "library(data.table)\n",
    "library(factoextra)\n",
    "library(dplyr)\n",
    "library(tidyverse)\n",
    "library(gridExtra)\n",
    "library(cluster)\n",
    "library(vegan)\n",
    "library(fpc)\n",
    "library(ggdendro)\n",
    "library(NbClust)\n",
    "library(ggrepel)\n",
    "\n",
    "\n",
    "#reading in file\n",
    "cytokines <- data.frame(read_excel(\"CytokineData_032521.xlsx\", sheet = 2))"
   ]
  },
  {
   "cell_type": "markdown",
   "id": "complex-perspective",
   "metadata": {},
   "source": [
    "Code to obtain weights to figure out the degree to which each cytokine contributed to each eigenvector. \n",
    "\n",
    "# Validation Dataset Weights"
   ]
  },
  {
   "cell_type": "code",
   "execution_count": 2,
   "id": "magnetic-negative",
   "metadata": {},
   "outputs": [
    {
     "data": {
      "text/html": [
       "<table class=\"dataframe\">\n",
       "<caption>A data.frame: 6 × 20</caption>\n",
       "<thead>\n",
       "\t<tr><th></th><th scope=col>NS_1</th><th scope=col>NS_10</th><th scope=col>NS_11</th><th scope=col>NS_12</th><th scope=col>NS_13</th><th scope=col>NS_14</th><th scope=col>NS_15</th><th scope=col>NS_16</th><th scope=col>NS_17</th><th scope=col>NS_18</th><th scope=col>NS_19</th><th scope=col>NS_2</th><th scope=col>NS_20</th><th scope=col>NS_3</th><th scope=col>NS_4</th><th scope=col>NS_5</th><th scope=col>NS_6</th><th scope=col>NS_7</th><th scope=col>NS_8</th><th scope=col>NS_9</th></tr>\n",
       "\t<tr><th></th><th scope=col>&lt;dbl&gt;</th><th scope=col>&lt;dbl&gt;</th><th scope=col>&lt;dbl&gt;</th><th scope=col>&lt;dbl&gt;</th><th scope=col>&lt;dbl&gt;</th><th scope=col>&lt;dbl&gt;</th><th scope=col>&lt;dbl&gt;</th><th scope=col>&lt;dbl&gt;</th><th scope=col>&lt;dbl&gt;</th><th scope=col>&lt;dbl&gt;</th><th scope=col>&lt;dbl&gt;</th><th scope=col>&lt;dbl&gt;</th><th scope=col>&lt;dbl&gt;</th><th scope=col>&lt;dbl&gt;</th><th scope=col>&lt;dbl&gt;</th><th scope=col>&lt;dbl&gt;</th><th scope=col>&lt;dbl&gt;</th><th scope=col>&lt;dbl&gt;</th><th scope=col>&lt;dbl&gt;</th><th scope=col>&lt;dbl&gt;</th></tr>\n",
       "</thead>\n",
       "<tbody>\n",
       "\t<tr><th scope=row>Eotaxin</th><td>6.7747713</td><td>7.961318</td><td>5.798693</td><td>5.606658</td><td>6.852042</td><td>9.230327</td><td>5.6911455</td><td>7.950870</td><td>7.570201</td><td>5.349512</td><td>5.8250758</td><td>7.1852235</td><td>8.714178</td><td> 8.840770</td><td>7.412499</td><td>7.258541</td><td>6.756939</td><td>7.605079</td><td>7.523347</td><td>6.0217081</td></tr>\n",
       "\t<tr><th scope=row>Eotaxin3</th><td>7.3359976</td><td>3.561784</td><td>4.237103</td><td>3.133612</td><td>5.164080</td><td>7.794502</td><td>2.0189791</td><td>6.692010</td><td>5.525843</td><td>1.151684</td><td>5.2783081</td><td>4.0559827</td><td>6.266462</td><td>11.511480</td><td>7.519546</td><td>2.954984</td><td>3.981245</td><td>6.156015</td><td>4.261894</td><td>3.3244167</td></tr>\n",
       "\t<tr><th scope=row>IFNg</th><td>2.7048125</td><td>1.501174</td><td>4.414765</td><td>2.708182</td><td>3.038039</td><td>3.233542</td><td>1.8037654</td><td>3.695319</td><td>3.510235</td><td>1.645145</td><td>1.3414476</td><td>6.1204987</td><td>3.396166</td><td> 5.172665</td><td>3.824419</td><td>2.577966</td><td>2.973109</td><td>1.790451</td><td>3.597735</td><td>0.0000000</td></tr>\n",
       "\t<tr><th scope=row>IL10</th><td>0.8786819</td><td>2.521602</td><td>3.887937</td><td>3.129121</td><td>3.572621</td><td>3.817435</td><td>1.9282279</td><td>3.902469</td><td>3.075462</td><td>1.025655</td><td>2.2546730</td><td>2.5890769</td><td>3.871091</td><td> 6.251246</td><td>4.898731</td><td>2.924778</td><td>3.748700</td><td>2.062107</td><td>3.695351</td><td>2.1734049</td></tr>\n",
       "\t<tr><th scope=row>IL12p70</th><td>0.0000000</td><td>1.432708</td><td>4.383899</td><td>2.299339</td><td>1.830181</td><td>2.661157</td><td>0.6751787</td><td>3.400877</td><td>1.431968</td><td>1.213433</td><td>0.4728952</td><td>0.9169927</td><td>2.473645</td><td> 4.267356</td><td>3.706824</td><td>3.174891</td><td>2.489741</td><td>1.497252</td><td>2.911923</td><td>0.8209459</td></tr>\n",
       "\t<tr><th scope=row>IL13</th><td>4.7858055</td><td>5.829412</td><td>7.105202</td><td>6.466481</td><td>6.184908</td><td>6.419010</td><td>4.4392043</td><td>7.017208</td><td>7.044898</td><td>4.762298</td><td>5.5844884</td><td>5.0105656</td><td>6.476432</td><td> 6.860143</td><td>6.608278</td><td>5.209837</td><td>6.016760</td><td>6.044381</td><td>5.992372</td><td>5.3379432</td></tr>\n",
       "</tbody>\n",
       "</table>\n"
      ],
      "text/latex": [
       "A data.frame: 6 × 20\n",
       "\\begin{tabular}{r|llllllllllllllllllll}\n",
       "  & NS\\_1 & NS\\_10 & NS\\_11 & NS\\_12 & NS\\_13 & NS\\_14 & NS\\_15 & NS\\_16 & NS\\_17 & NS\\_18 & NS\\_19 & NS\\_2 & NS\\_20 & NS\\_3 & NS\\_4 & NS\\_5 & NS\\_6 & NS\\_7 & NS\\_8 & NS\\_9\\\\\n",
       "  & <dbl> & <dbl> & <dbl> & <dbl> & <dbl> & <dbl> & <dbl> & <dbl> & <dbl> & <dbl> & <dbl> & <dbl> & <dbl> & <dbl> & <dbl> & <dbl> & <dbl> & <dbl> & <dbl> & <dbl>\\\\\n",
       "\\hline\n",
       "\tEotaxin & 6.7747713 & 7.961318 & 5.798693 & 5.606658 & 6.852042 & 9.230327 & 5.6911455 & 7.950870 & 7.570201 & 5.349512 & 5.8250758 & 7.1852235 & 8.714178 &  8.840770 & 7.412499 & 7.258541 & 6.756939 & 7.605079 & 7.523347 & 6.0217081\\\\\n",
       "\tEotaxin3 & 7.3359976 & 3.561784 & 4.237103 & 3.133612 & 5.164080 & 7.794502 & 2.0189791 & 6.692010 & 5.525843 & 1.151684 & 5.2783081 & 4.0559827 & 6.266462 & 11.511480 & 7.519546 & 2.954984 & 3.981245 & 6.156015 & 4.261894 & 3.3244167\\\\\n",
       "\tIFNg & 2.7048125 & 1.501174 & 4.414765 & 2.708182 & 3.038039 & 3.233542 & 1.8037654 & 3.695319 & 3.510235 & 1.645145 & 1.3414476 & 6.1204987 & 3.396166 &  5.172665 & 3.824419 & 2.577966 & 2.973109 & 1.790451 & 3.597735 & 0.0000000\\\\\n",
       "\tIL10 & 0.8786819 & 2.521602 & 3.887937 & 3.129121 & 3.572621 & 3.817435 & 1.9282279 & 3.902469 & 3.075462 & 1.025655 & 2.2546730 & 2.5890769 & 3.871091 &  6.251246 & 4.898731 & 2.924778 & 3.748700 & 2.062107 & 3.695351 & 2.1734049\\\\\n",
       "\tIL12p70 & 0.0000000 & 1.432708 & 4.383899 & 2.299339 & 1.830181 & 2.661157 & 0.6751787 & 3.400877 & 1.431968 & 1.213433 & 0.4728952 & 0.9169927 & 2.473645 &  4.267356 & 3.706824 & 3.174891 & 2.489741 & 1.497252 & 2.911923 & 0.8209459\\\\\n",
       "\tIL13 & 4.7858055 & 5.829412 & 7.105202 & 6.466481 & 6.184908 & 6.419010 & 4.4392043 & 7.017208 & 7.044898 & 4.762298 & 5.5844884 & 5.0105656 & 6.476432 &  6.860143 & 6.608278 & 5.209837 & 6.016760 & 6.044381 & 5.992372 & 5.3379432\\\\\n",
       "\\end{tabular}\n"
      ],
      "text/markdown": [
       "\n",
       "A data.frame: 6 × 20\n",
       "\n",
       "| <!--/--> | NS_1 &lt;dbl&gt; | NS_10 &lt;dbl&gt; | NS_11 &lt;dbl&gt; | NS_12 &lt;dbl&gt; | NS_13 &lt;dbl&gt; | NS_14 &lt;dbl&gt; | NS_15 &lt;dbl&gt; | NS_16 &lt;dbl&gt; | NS_17 &lt;dbl&gt; | NS_18 &lt;dbl&gt; | NS_19 &lt;dbl&gt; | NS_2 &lt;dbl&gt; | NS_20 &lt;dbl&gt; | NS_3 &lt;dbl&gt; | NS_4 &lt;dbl&gt; | NS_5 &lt;dbl&gt; | NS_6 &lt;dbl&gt; | NS_7 &lt;dbl&gt; | NS_8 &lt;dbl&gt; | NS_9 &lt;dbl&gt; |\n",
       "|---|---|---|---|---|---|---|---|---|---|---|---|---|---|---|---|---|---|---|---|---|\n",
       "| Eotaxin | 6.7747713 | 7.961318 | 5.798693 | 5.606658 | 6.852042 | 9.230327 | 5.6911455 | 7.950870 | 7.570201 | 5.349512 | 5.8250758 | 7.1852235 | 8.714178 |  8.840770 | 7.412499 | 7.258541 | 6.756939 | 7.605079 | 7.523347 | 6.0217081 |\n",
       "| Eotaxin3 | 7.3359976 | 3.561784 | 4.237103 | 3.133612 | 5.164080 | 7.794502 | 2.0189791 | 6.692010 | 5.525843 | 1.151684 | 5.2783081 | 4.0559827 | 6.266462 | 11.511480 | 7.519546 | 2.954984 | 3.981245 | 6.156015 | 4.261894 | 3.3244167 |\n",
       "| IFNg | 2.7048125 | 1.501174 | 4.414765 | 2.708182 | 3.038039 | 3.233542 | 1.8037654 | 3.695319 | 3.510235 | 1.645145 | 1.3414476 | 6.1204987 | 3.396166 |  5.172665 | 3.824419 | 2.577966 | 2.973109 | 1.790451 | 3.597735 | 0.0000000 |\n",
       "| IL10 | 0.8786819 | 2.521602 | 3.887937 | 3.129121 | 3.572621 | 3.817435 | 1.9282279 | 3.902469 | 3.075462 | 1.025655 | 2.2546730 | 2.5890769 | 3.871091 |  6.251246 | 4.898731 | 2.924778 | 3.748700 | 2.062107 | 3.695351 | 2.1734049 |\n",
       "| IL12p70 | 0.0000000 | 1.432708 | 4.383899 | 2.299339 | 1.830181 | 2.661157 | 0.6751787 | 3.400877 | 1.431968 | 1.213433 | 0.4728952 | 0.9169927 | 2.473645 |  4.267356 | 3.706824 | 3.174891 | 2.489741 | 1.497252 | 2.911923 | 0.8209459 |\n",
       "| IL13 | 4.7858055 | 5.829412 | 7.105202 | 6.466481 | 6.184908 | 6.419010 | 4.4392043 | 7.017208 | 7.044898 | 4.762298 | 5.5844884 | 5.0105656 | 6.476432 |  6.860143 | 6.608278 | 5.209837 | 6.016760 | 6.044381 | 5.992372 | 5.3379432 |\n",
       "\n"
      ],
      "text/plain": [
       "         NS_1      NS_10    NS_11    NS_12    NS_13    NS_14    NS_15    \n",
       "Eotaxin  6.7747713 7.961318 5.798693 5.606658 6.852042 9.230327 5.6911455\n",
       "Eotaxin3 7.3359976 3.561784 4.237103 3.133612 5.164080 7.794502 2.0189791\n",
       "IFNg     2.7048125 1.501174 4.414765 2.708182 3.038039 3.233542 1.8037654\n",
       "IL10     0.8786819 2.521602 3.887937 3.129121 3.572621 3.817435 1.9282279\n",
       "IL12p70  0.0000000 1.432708 4.383899 2.299339 1.830181 2.661157 0.6751787\n",
       "IL13     4.7858055 5.829412 7.105202 6.466481 6.184908 6.419010 4.4392043\n",
       "         NS_16    NS_17    NS_18    NS_19     NS_2      NS_20    NS_3     \n",
       "Eotaxin  7.950870 7.570201 5.349512 5.8250758 7.1852235 8.714178  8.840770\n",
       "Eotaxin3 6.692010 5.525843 1.151684 5.2783081 4.0559827 6.266462 11.511480\n",
       "IFNg     3.695319 3.510235 1.645145 1.3414476 6.1204987 3.396166  5.172665\n",
       "IL10     3.902469 3.075462 1.025655 2.2546730 2.5890769 3.871091  6.251246\n",
       "IL12p70  3.400877 1.431968 1.213433 0.4728952 0.9169927 2.473645  4.267356\n",
       "IL13     7.017208 7.044898 4.762298 5.5844884 5.0105656 6.476432  6.860143\n",
       "         NS_4     NS_5     NS_6     NS_7     NS_8     NS_9     \n",
       "Eotaxin  7.412499 7.258541 6.756939 7.605079 7.523347 6.0217081\n",
       "Eotaxin3 7.519546 2.954984 3.981245 6.156015 4.261894 3.3244167\n",
       "IFNg     3.824419 2.577966 2.973109 1.790451 3.597735 0.0000000\n",
       "IL10     4.898731 2.924778 3.748700 2.062107 3.695351 2.1734049\n",
       "IL12p70  3.706824 3.174891 2.489741 1.497252 2.911923 0.8209459\n",
       "IL13     6.608278 5.209837 6.016760 6.044381 5.992372 5.3379432"
      ]
     },
     "metadata": {},
     "output_type": "display_data"
    }
   ],
   "source": [
    "new_dataset_only_cytokines = c(\"GMCSF\", \"IL12p40\", \"IL15\", \"IL16\", \"IL17\",\"IL1a\", \"IL2\", \"IL5\", \"IL7\", \"MCP4\", \"MDC\",\"TNFb\", \"VEGF\")\n",
    "`%notin%` <- Negate(`%in%`)\n",
    "#changing format of df\n",
    "cytokines = cytokines %>% \n",
    "    #only want non-smokers for baseline analysis & cytokines that were in the previous dataset\n",
    "    filter(Group == 'NS', Protein %notin% new_dataset_only_cytokines)\n",
    "cytokines = reshape2::dcast(cytokines, SubjectID ~ Protein, value.var = \"Conc_pslog2\") %>% \n",
    "    column_to_rownames(\"SubjectID\")\n",
    "#transposed to reduce dimensionality or variation of subjects into principal components\n",
    "#allows us to determine what cytokines are driving clusters\n",
    "tcytokines = data.frame(t(cytokines))\n",
    "head(tcytokines)"
   ]
  },
  {
   "cell_type": "code",
   "execution_count": 3,
   "id": "immediate-northeast",
   "metadata": {},
   "outputs": [
    {
     "data": {
      "text/html": [
       "<table class=\"dataframe\">\n",
       "<caption>A data.frame: 6 × 1</caption>\n",
       "<thead>\n",
       "\t<tr><th></th><th scope=col>Cluster</th></tr>\n",
       "\t<tr><th></th><th scope=col>&lt;int&gt;</th></tr>\n",
       "</thead>\n",
       "<tbody>\n",
       "\t<tr><th scope=row>Eotaxin</th><td>1</td></tr>\n",
       "\t<tr><th scope=row>Eotaxin3</th><td>1</td></tr>\n",
       "\t<tr><th scope=row>IFNg</th><td>3</td></tr>\n",
       "\t<tr><th scope=row>IL10</th><td>3</td></tr>\n",
       "\t<tr><th scope=row>IL12p70</th><td>3</td></tr>\n",
       "\t<tr><th scope=row>IL13</th><td>1</td></tr>\n",
       "</tbody>\n",
       "</table>\n"
      ],
      "text/latex": [
       "A data.frame: 6 × 1\n",
       "\\begin{tabular}{r|l}\n",
       "  & Cluster\\\\\n",
       "  & <int>\\\\\n",
       "\\hline\n",
       "\tEotaxin & 1\\\\\n",
       "\tEotaxin3 & 1\\\\\n",
       "\tIFNg & 3\\\\\n",
       "\tIL10 & 3\\\\\n",
       "\tIL12p70 & 3\\\\\n",
       "\tIL13 & 1\\\\\n",
       "\\end{tabular}\n"
      ],
      "text/markdown": [
       "\n",
       "A data.frame: 6 × 1\n",
       "\n",
       "| <!--/--> | Cluster &lt;int&gt; |\n",
       "|---|---|\n",
       "| Eotaxin | 1 |\n",
       "| Eotaxin3 | 1 |\n",
       "| IFNg | 3 |\n",
       "| IL10 | 3 |\n",
       "| IL12p70 | 3 |\n",
       "| IL13 | 1 |\n",
       "\n"
      ],
      "text/plain": [
       "         Cluster\n",
       "Eotaxin  1      \n",
       "Eotaxin3 1      \n",
       "IFNg     3      \n",
       "IL10     3      \n",
       "IL12p70  3      \n",
       "IL13     1      "
      ]
     },
     "metadata": {},
     "output_type": "display_data"
    }
   ],
   "source": [
    "#obtaining clusters from kmeans to get cluster assignments\n",
    "#previously decided on 3 clusters\n",
    "k3_tcytokines = kmeans(tcytokines, centers = 3, nstart = 25)\n",
    "clusters_tcytokines = data.frame(k3_tcytokines$cluster) %>%\n",
    "    rename(\"Cluster\" = \"k3_tcytokines.cluster\") \n",
    "head(clusters_tcytokines)"
   ]
  },
  {
   "cell_type": "code",
   "execution_count": 4,
   "id": "nutritional-singapore",
   "metadata": {},
   "outputs": [
    {
     "data": {
      "text/html": [
       "<table class=\"dataframe\">\n",
       "<caption>A data.frame: 6 × 20</caption>\n",
       "<thead>\n",
       "\t<tr><th></th><th scope=col>NS_1</th><th scope=col>NS_10</th><th scope=col>NS_11</th><th scope=col>NS_12</th><th scope=col>NS_13</th><th scope=col>NS_14</th><th scope=col>NS_15</th><th scope=col>NS_16</th><th scope=col>NS_17</th><th scope=col>NS_18</th><th scope=col>NS_19</th><th scope=col>NS_2</th><th scope=col>NS_20</th><th scope=col>NS_3</th><th scope=col>NS_4</th><th scope=col>NS_5</th><th scope=col>NS_6</th><th scope=col>NS_7</th><th scope=col>NS_8</th><th scope=col>NS_9</th></tr>\n",
       "\t<tr><th></th><th scope=col>&lt;dbl&gt;</th><th scope=col>&lt;dbl&gt;</th><th scope=col>&lt;dbl&gt;</th><th scope=col>&lt;dbl&gt;</th><th scope=col>&lt;dbl&gt;</th><th scope=col>&lt;dbl&gt;</th><th scope=col>&lt;dbl&gt;</th><th scope=col>&lt;dbl&gt;</th><th scope=col>&lt;dbl&gt;</th><th scope=col>&lt;dbl&gt;</th><th scope=col>&lt;dbl&gt;</th><th scope=col>&lt;dbl&gt;</th><th scope=col>&lt;dbl&gt;</th><th scope=col>&lt;dbl&gt;</th><th scope=col>&lt;dbl&gt;</th><th scope=col>&lt;dbl&gt;</th><th scope=col>&lt;dbl&gt;</th><th scope=col>&lt;dbl&gt;</th><th scope=col>&lt;dbl&gt;</th><th scope=col>&lt;dbl&gt;</th></tr>\n",
       "</thead>\n",
       "<tbody>\n",
       "\t<tr><th scope=row>IFNg</th><td>2.7048125</td><td>1.5011739</td><td>4.414765</td><td>2.708182</td><td>3.038039</td><td>3.233542</td><td>1.8037654</td><td>3.695319</td><td>3.5102349</td><td>1.6451449</td><td>1.3414476</td><td>6.1204987</td><td>3.396166</td><td>5.172665</td><td>3.824419</td><td>2.577966</td><td>2.973109</td><td>1.790451</td><td>3.597735</td><td>0.0000000</td></tr>\n",
       "\t<tr><th scope=row>IL10</th><td>0.8786819</td><td>2.5216022</td><td>3.887937</td><td>3.129121</td><td>3.572621</td><td>3.817435</td><td>1.9282279</td><td>3.902469</td><td>3.0754619</td><td>1.0256545</td><td>2.2546730</td><td>2.5890769</td><td>3.871091</td><td>6.251246</td><td>4.898731</td><td>2.924778</td><td>3.748700</td><td>2.062107</td><td>3.695351</td><td>2.1734049</td></tr>\n",
       "\t<tr><th scope=row>IL12p70</th><td>0.0000000</td><td>1.4327078</td><td>4.383899</td><td>2.299339</td><td>1.830181</td><td>2.661157</td><td>0.6751787</td><td>3.400877</td><td>1.4319676</td><td>1.2134332</td><td>0.4728952</td><td>0.9169927</td><td>2.473645</td><td>4.267356</td><td>3.706824</td><td>3.174891</td><td>2.489741</td><td>1.497252</td><td>2.911923</td><td>0.8209459</td></tr>\n",
       "\t<tr><th scope=row>IL4</th><td>0.0498162</td><td>0.6891918</td><td>2.010562</td><td>1.800900</td><td>1.521769</td><td>1.887593</td><td>1.0879398</td><td>2.011810</td><td>0.8184517</td><td>1.2113780</td><td>1.2372493</td><td>0.6720234</td><td>1.722394</td><td>4.255033</td><td>2.804611</td><td>1.005298</td><td>1.587674</td><td>1.140736</td><td>2.249596</td><td>0.0000000</td></tr>\n",
       "\t<tr><th scope=row>IL6</th><td>2.4927671</td><td>3.2238904</td><td>5.776803</td><td>5.191662</td><td>4.038158</td><td>3.796112</td><td>3.0139392</td><td>5.666587</td><td>3.4978949</td><td>1.3068766</td><td>2.4700822</td><td>3.1291245</td><td>4.478615</td><td>6.236309</td><td>5.112279</td><td>4.783985</td><td>3.724903</td><td>2.290082</td><td>3.870826</td><td>3.5220987</td></tr>\n",
       "\t<tr><th scope=row>TNFa</th><td>1.3341330</td><td>1.8247650</td><td>2.910183</td><td>2.917108</td><td>2.300050</td><td>2.961765</td><td>0.9947875</td><td>3.727618</td><td>2.0256400</td><td>0.6871285</td><td>2.7863809</td><td>1.8192470</td><td>2.817299</td><td>5.669074</td><td>4.326751</td><td>1.964931</td><td>3.025899</td><td>1.012578</td><td>2.506878</td><td>2.0582313</td></tr>\n",
       "</tbody>\n",
       "</table>\n"
      ],
      "text/latex": [
       "A data.frame: 6 × 20\n",
       "\\begin{tabular}{r|llllllllllllllllllll}\n",
       "  & NS\\_1 & NS\\_10 & NS\\_11 & NS\\_12 & NS\\_13 & NS\\_14 & NS\\_15 & NS\\_16 & NS\\_17 & NS\\_18 & NS\\_19 & NS\\_2 & NS\\_20 & NS\\_3 & NS\\_4 & NS\\_5 & NS\\_6 & NS\\_7 & NS\\_8 & NS\\_9\\\\\n",
       "  & <dbl> & <dbl> & <dbl> & <dbl> & <dbl> & <dbl> & <dbl> & <dbl> & <dbl> & <dbl> & <dbl> & <dbl> & <dbl> & <dbl> & <dbl> & <dbl> & <dbl> & <dbl> & <dbl> & <dbl>\\\\\n",
       "\\hline\n",
       "\tIFNg & 2.7048125 & 1.5011739 & 4.414765 & 2.708182 & 3.038039 & 3.233542 & 1.8037654 & 3.695319 & 3.5102349 & 1.6451449 & 1.3414476 & 6.1204987 & 3.396166 & 5.172665 & 3.824419 & 2.577966 & 2.973109 & 1.790451 & 3.597735 & 0.0000000\\\\\n",
       "\tIL10 & 0.8786819 & 2.5216022 & 3.887937 & 3.129121 & 3.572621 & 3.817435 & 1.9282279 & 3.902469 & 3.0754619 & 1.0256545 & 2.2546730 & 2.5890769 & 3.871091 & 6.251246 & 4.898731 & 2.924778 & 3.748700 & 2.062107 & 3.695351 & 2.1734049\\\\\n",
       "\tIL12p70 & 0.0000000 & 1.4327078 & 4.383899 & 2.299339 & 1.830181 & 2.661157 & 0.6751787 & 3.400877 & 1.4319676 & 1.2134332 & 0.4728952 & 0.9169927 & 2.473645 & 4.267356 & 3.706824 & 3.174891 & 2.489741 & 1.497252 & 2.911923 & 0.8209459\\\\\n",
       "\tIL4 & 0.0498162 & 0.6891918 & 2.010562 & 1.800900 & 1.521769 & 1.887593 & 1.0879398 & 2.011810 & 0.8184517 & 1.2113780 & 1.2372493 & 0.6720234 & 1.722394 & 4.255033 & 2.804611 & 1.005298 & 1.587674 & 1.140736 & 2.249596 & 0.0000000\\\\\n",
       "\tIL6 & 2.4927671 & 3.2238904 & 5.776803 & 5.191662 & 4.038158 & 3.796112 & 3.0139392 & 5.666587 & 3.4978949 & 1.3068766 & 2.4700822 & 3.1291245 & 4.478615 & 6.236309 & 5.112279 & 4.783985 & 3.724903 & 2.290082 & 3.870826 & 3.5220987\\\\\n",
       "\tTNFa & 1.3341330 & 1.8247650 & 2.910183 & 2.917108 & 2.300050 & 2.961765 & 0.9947875 & 3.727618 & 2.0256400 & 0.6871285 & 2.7863809 & 1.8192470 & 2.817299 & 5.669074 & 4.326751 & 1.964931 & 3.025899 & 1.012578 & 2.506878 & 2.0582313\\\\\n",
       "\\end{tabular}\n"
      ],
      "text/markdown": [
       "\n",
       "A data.frame: 6 × 20\n",
       "\n",
       "| <!--/--> | NS_1 &lt;dbl&gt; | NS_10 &lt;dbl&gt; | NS_11 &lt;dbl&gt; | NS_12 &lt;dbl&gt; | NS_13 &lt;dbl&gt; | NS_14 &lt;dbl&gt; | NS_15 &lt;dbl&gt; | NS_16 &lt;dbl&gt; | NS_17 &lt;dbl&gt; | NS_18 &lt;dbl&gt; | NS_19 &lt;dbl&gt; | NS_2 &lt;dbl&gt; | NS_20 &lt;dbl&gt; | NS_3 &lt;dbl&gt; | NS_4 &lt;dbl&gt; | NS_5 &lt;dbl&gt; | NS_6 &lt;dbl&gt; | NS_7 &lt;dbl&gt; | NS_8 &lt;dbl&gt; | NS_9 &lt;dbl&gt; |\n",
       "|---|---|---|---|---|---|---|---|---|---|---|---|---|---|---|---|---|---|---|---|---|\n",
       "| IFNg | 2.7048125 | 1.5011739 | 4.414765 | 2.708182 | 3.038039 | 3.233542 | 1.8037654 | 3.695319 | 3.5102349 | 1.6451449 | 1.3414476 | 6.1204987 | 3.396166 | 5.172665 | 3.824419 | 2.577966 | 2.973109 | 1.790451 | 3.597735 | 0.0000000 |\n",
       "| IL10 | 0.8786819 | 2.5216022 | 3.887937 | 3.129121 | 3.572621 | 3.817435 | 1.9282279 | 3.902469 | 3.0754619 | 1.0256545 | 2.2546730 | 2.5890769 | 3.871091 | 6.251246 | 4.898731 | 2.924778 | 3.748700 | 2.062107 | 3.695351 | 2.1734049 |\n",
       "| IL12p70 | 0.0000000 | 1.4327078 | 4.383899 | 2.299339 | 1.830181 | 2.661157 | 0.6751787 | 3.400877 | 1.4319676 | 1.2134332 | 0.4728952 | 0.9169927 | 2.473645 | 4.267356 | 3.706824 | 3.174891 | 2.489741 | 1.497252 | 2.911923 | 0.8209459 |\n",
       "| IL4 | 0.0498162 | 0.6891918 | 2.010562 | 1.800900 | 1.521769 | 1.887593 | 1.0879398 | 2.011810 | 0.8184517 | 1.2113780 | 1.2372493 | 0.6720234 | 1.722394 | 4.255033 | 2.804611 | 1.005298 | 1.587674 | 1.140736 | 2.249596 | 0.0000000 |\n",
       "| IL6 | 2.4927671 | 3.2238904 | 5.776803 | 5.191662 | 4.038158 | 3.796112 | 3.0139392 | 5.666587 | 3.4978949 | 1.3068766 | 2.4700822 | 3.1291245 | 4.478615 | 6.236309 | 5.112279 | 4.783985 | 3.724903 | 2.290082 | 3.870826 | 3.5220987 |\n",
       "| TNFa | 1.3341330 | 1.8247650 | 2.910183 | 2.917108 | 2.300050 | 2.961765 | 0.9947875 | 3.727618 | 2.0256400 | 0.6871285 | 2.7863809 | 1.8192470 | 2.817299 | 5.669074 | 4.326751 | 1.964931 | 3.025899 | 1.012578 | 2.506878 | 2.0582313 |\n",
       "\n"
      ],
      "text/plain": [
       "        NS_1      NS_10     NS_11    NS_12    NS_13    NS_14    NS_15    \n",
       "IFNg    2.7048125 1.5011739 4.414765 2.708182 3.038039 3.233542 1.8037654\n",
       "IL10    0.8786819 2.5216022 3.887937 3.129121 3.572621 3.817435 1.9282279\n",
       "IL12p70 0.0000000 1.4327078 4.383899 2.299339 1.830181 2.661157 0.6751787\n",
       "IL4     0.0498162 0.6891918 2.010562 1.800900 1.521769 1.887593 1.0879398\n",
       "IL6     2.4927671 3.2238904 5.776803 5.191662 4.038158 3.796112 3.0139392\n",
       "TNFa    1.3341330 1.8247650 2.910183 2.917108 2.300050 2.961765 0.9947875\n",
       "        NS_16    NS_17     NS_18     NS_19     NS_2      NS_20    NS_3    \n",
       "IFNg    3.695319 3.5102349 1.6451449 1.3414476 6.1204987 3.396166 5.172665\n",
       "IL10    3.902469 3.0754619 1.0256545 2.2546730 2.5890769 3.871091 6.251246\n",
       "IL12p70 3.400877 1.4319676 1.2134332 0.4728952 0.9169927 2.473645 4.267356\n",
       "IL4     2.011810 0.8184517 1.2113780 1.2372493 0.6720234 1.722394 4.255033\n",
       "IL6     5.666587 3.4978949 1.3068766 2.4700822 3.1291245 4.478615 6.236309\n",
       "TNFa    3.727618 2.0256400 0.6871285 2.7863809 1.8192470 2.817299 5.669074\n",
       "        NS_4     NS_5     NS_6     NS_7     NS_8     NS_9     \n",
       "IFNg    3.824419 2.577966 2.973109 1.790451 3.597735 0.0000000\n",
       "IL10    4.898731 2.924778 3.748700 2.062107 3.695351 2.1734049\n",
       "IL12p70 3.706824 3.174891 2.489741 1.497252 2.911923 0.8209459\n",
       "IL4     2.804611 1.005298 1.587674 1.140736 2.249596 0.0000000\n",
       "IL6     5.112279 4.783985 3.724903 2.290082 3.870826 3.5220987\n",
       "TNFa    4.326751 1.964931 3.025899 1.012578 2.506878 2.0582313"
      ]
     },
     "metadata": {},
     "output_type": "display_data"
    }
   ],
   "source": [
    "#now combining into 1 df\n",
    "full_cytokine_df = data.frame(tcytokines, clusters_tcytokines) %>%\n",
    "    #doing this so these row names are preserved when splitting df\n",
    "    rownames_to_column(var = \"Protein\") %>%\n",
    "    group_by(Cluster) %>%\n",
    "    group_split\n",
    "\n",
    "#obtaining each df after splitting\n",
    "get_clustered_df = function(input_df, cluster_number){\n",
    "    output_df = input_df[[cluster_number]] %>%\n",
    "        column_to_rownames(var = \"Protein\") %>%\n",
    "        select(-Cluster)\n",
    "    return(output_df)\n",
    "}\n",
    "\n",
    "Cluster1_df = get_clustered_df(full_cytokine_df, 1)\n",
    "Cluster2_df = get_clustered_df(full_cytokine_df, 2)\n",
    "Cluster3_df = get_clustered_df(full_cytokine_df, 3)\n",
    "head(Cluster3_df)"
   ]
  },
  {
   "cell_type": "code",
   "execution_count": 5,
   "id": "general-rocket",
   "metadata": {},
   "outputs": [
    {
     "name": "stderr",
     "output_type": "stream",
     "text": [
      "Using Protein as id variables\n",
      "\n",
      "Using Protein as id variables\n",
      "\n",
      "Using Protein as id variables\n",
      "\n"
     ]
    },
    {
     "data": {
      "text/html": [
       "<table class=\"dataframe\">\n",
       "<caption>A data.frame: 6 × 4</caption>\n",
       "<thead>\n",
       "\t<tr><th></th><th scope=col>Protein</th><th scope=col>Cluster</th><th scope=col>Weight</th><th scope=col>Dataset</th></tr>\n",
       "\t<tr><th></th><th scope=col>&lt;chr&gt;</th><th scope=col>&lt;fct&gt;</th><th scope=col>&lt;dbl&gt;</th><th scope=col>&lt;chr&gt;</th></tr>\n",
       "</thead>\n",
       "<tbody>\n",
       "\t<tr><th scope=row>1</th><td>Eotaxin </td><td>Cluster C</td><td>-2.8002327</td><td>Validation</td></tr>\n",
       "\t<tr><th scope=row>2</th><td>Eotaxin3</td><td>Cluster C</td><td> 3.8300461</td><td>Validation</td></tr>\n",
       "\t<tr><th scope=row>3</th><td>IL13    </td><td>Cluster C</td><td> 0.5233879</td><td>Validation</td></tr>\n",
       "\t<tr><th scope=row>4</th><td>IL1b    </td><td>Cluster C</td><td> 1.4680325</td><td>Validation</td></tr>\n",
       "\t<tr><th scope=row>5</th><td>MCP1    </td><td>Cluster C</td><td>-6.5713992</td><td>Validation</td></tr>\n",
       "\t<tr><th scope=row>6</th><td>MIP1a   </td><td>Cluster C</td><td> 1.4779436</td><td>Validation</td></tr>\n",
       "</tbody>\n",
       "</table>\n"
      ],
      "text/latex": [
       "A data.frame: 6 × 4\n",
       "\\begin{tabular}{r|llll}\n",
       "  & Protein & Cluster & Weight & Dataset\\\\\n",
       "  & <chr> & <fct> & <dbl> & <chr>\\\\\n",
       "\\hline\n",
       "\t1 & Eotaxin  & Cluster C & -2.8002327 & Validation\\\\\n",
       "\t2 & Eotaxin3 & Cluster C &  3.8300461 & Validation\\\\\n",
       "\t3 & IL13     & Cluster C &  0.5233879 & Validation\\\\\n",
       "\t4 & IL1b     & Cluster C &  1.4680325 & Validation\\\\\n",
       "\t5 & MCP1     & Cluster C & -6.5713992 & Validation\\\\\n",
       "\t6 & MIP1a    & Cluster C &  1.4779436 & Validation\\\\\n",
       "\\end{tabular}\n"
      ],
      "text/markdown": [
       "\n",
       "A data.frame: 6 × 4\n",
       "\n",
       "| <!--/--> | Protein &lt;chr&gt; | Cluster &lt;fct&gt; | Weight &lt;dbl&gt; | Dataset &lt;chr&gt; |\n",
       "|---|---|---|---|---|\n",
       "| 1 | Eotaxin  | Cluster C | -2.8002327 | Validation |\n",
       "| 2 | Eotaxin3 | Cluster C |  3.8300461 | Validation |\n",
       "| 3 | IL13     | Cluster C |  0.5233879 | Validation |\n",
       "| 4 | IL1b     | Cluster C |  1.4680325 | Validation |\n",
       "| 5 | MCP1     | Cluster C | -6.5713992 | Validation |\n",
       "| 6 | MIP1a    | Cluster C |  1.4779436 | Validation |\n",
       "\n"
      ],
      "text/plain": [
       "  Protein  Cluster   Weight     Dataset   \n",
       "1 Eotaxin  Cluster C -2.8002327 Validation\n",
       "2 Eotaxin3 Cluster C  3.8300461 Validation\n",
       "3 IL13     Cluster C  0.5233879 Validation\n",
       "4 IL1b     Cluster C  1.4680325 Validation\n",
       "5 MCP1     Cluster C -6.5713992 Validation\n",
       "6 MIP1a    Cluster C  1.4779436 Validation"
      ]
     },
     "metadata": {},
     "output_type": "display_data"
    }
   ],
   "source": [
    "#now we can run PCA on each\n",
    "get_eigenvector_weights = function(df, cluster_name){\n",
    "    pca = prcomp(df, scale = TRUE, center = TRUE)\n",
    "    #x = values of each sample in terms of the principal components (ie. each cytokine's contribution to PC)\n",
    "    #rotation = The relationship (correlation or anticorrelation, etc) between the initial variables and PCs\n",
    "    pca_weights = data.frame(pca$x) %>% \n",
    "        #only returning first PC\n",
    "        select(PC1) %>%\n",
    "        plyr::rename(replace = c(\"PC1\" = cluster_name)) %>%\n",
    "        #this will make them easier to combine\n",
    "        rownames_to_column(var = \"Protein\") %>%\n",
    "        reshape2::melt(variable.name = \"Cluster\", value.name = \"Weight\")\n",
    "        \n",
    "            \n",
    "    return(pca_weights)\n",
    "}\n",
    "\n",
    "#these correspond to previously established clusters\n",
    "weights1_df = get_eigenvector_weights(Cluster1_df, \"Cluster C\") \n",
    "weights2_df = get_eigenvector_weights(Cluster2_df, \"Cluster A\")\n",
    "weights3_df = get_eigenvector_weights(Cluster3_df, \"Cluster B\")\n",
    "weights_df = rbind(weights1_df, weights2_df, weights3_df)\n",
    "#adding a column to specify that this is from the validation dataset\n",
    "weights_df$Dataset = rep(\"Validation\", times = length(weights_df$Protein))\n",
    "head(weights_df)"
   ]
  },
  {
   "cell_type": "markdown",
   "id": "ecological-wrestling",
   "metadata": {},
   "source": [
    "# Original Dataset Weights"
   ]
  },
  {
   "cell_type": "code",
   "execution_count": 12,
   "id": "bigger-conducting",
   "metadata": {},
   "outputs": [
    {
     "data": {
      "text/html": [
       "<table class=\"dataframe\">\n",
       "<caption>A data.frame: 6 × 14</caption>\n",
       "<thead>\n",
       "\t<tr><th></th><th scope=col>NS_1</th><th scope=col>NS_10</th><th scope=col>NS_11</th><th scope=col>NS_12</th><th scope=col>NS_13</th><th scope=col>NS_14</th><th scope=col>NS_2</th><th scope=col>NS_3</th><th scope=col>NS_4</th><th scope=col>NS_5</th><th scope=col>NS_6</th><th scope=col>NS_7</th><th scope=col>NS_8</th><th scope=col>NS_9</th></tr>\n",
       "\t<tr><th></th><th scope=col>&lt;dbl&gt;</th><th scope=col>&lt;dbl&gt;</th><th scope=col>&lt;dbl&gt;</th><th scope=col>&lt;dbl&gt;</th><th scope=col>&lt;dbl&gt;</th><th scope=col>&lt;dbl&gt;</th><th scope=col>&lt;dbl&gt;</th><th scope=col>&lt;dbl&gt;</th><th scope=col>&lt;dbl&gt;</th><th scope=col>&lt;dbl&gt;</th><th scope=col>&lt;dbl&gt;</th><th scope=col>&lt;dbl&gt;</th><th scope=col>&lt;dbl&gt;</th><th scope=col>&lt;dbl&gt;</th></tr>\n",
       "</thead>\n",
       "<tbody>\n",
       "\t<tr><th scope=row>Eotaxin</th><td> 3.6280396</td><td> 6.8187682</td><td>3.33682808</td><td> 5.0333418</td><td> 6.1047951</td><td> 5.7762171</td><td>0.0000000</td><td> 4.2097320</td><td> 4.9384614</td><td> 4.5968318</td><td> 3.0585166</td><td> 5.6634779</td><td> 6.609432</td><td> 4.90597963</td></tr>\n",
       "\t<tr><th scope=row>Eotaxin3</th><td> 3.1961268</td><td> 7.1675129</td><td>3.95125524</td><td> 2.1919254</td><td> 6.2414741</td><td> 3.7784170</td><td>3.2096483</td><td> 5.0682269</td><td> 3.5987808</td><td> 2.6011813</td><td> 1.3244504</td><td> 5.0072047</td><td> 9.407002</td><td> 2.62280152</td></tr>\n",
       "\t<tr><th scope=row>Fractalkine</th><td>11.5876883</td><td>11.8757287</td><td>9.22145132</td><td>11.5378449</td><td>11.5230939</td><td>11.2549039</td><td>7.8117047</td><td>10.0374539</td><td>10.6850491</td><td>11.0118375</td><td>10.7846908</td><td>11.4959189</td><td>11.509636</td><td>11.37872980</td></tr>\n",
       "\t<tr><th scope=row>I309</th><td> 0.0000000</td><td> 0.0000000</td><td>0.00000000</td><td> 0.0000000</td><td> 0.0000000</td><td> 0.0000000</td><td>0.0000000</td><td> 0.0000000</td><td> 0.0000000</td><td> 0.0000000</td><td> 0.0000000</td><td> 0.0000000</td><td> 0.000000</td><td> 0.00000000</td></tr>\n",
       "\t<tr><th scope=row>IFNg</th><td> 0.2638601</td><td> 0.4323116</td><td>0.24860903</td><td> 1.8025665</td><td> 1.7756286</td><td> 1.5545991</td><td>0.0000000</td><td> 0.1494616</td><td> 0.8951656</td><td> 5.8186862</td><td> 0.3636737</td><td> 0.8036332</td><td> 1.480751</td><td> 0.01754746</td></tr>\n",
       "\t<tr><th scope=row>IL10</th><td> 0.1734701</td><td> 0.1682226</td><td>0.08642643</td><td> 0.3754869</td><td> 0.3477679</td><td> 0.5740857</td><td>0.2434195</td><td> 0.1561912</td><td> 0.1550925</td><td> 0.3022863</td><td> 0.1194807</td><td> 0.1833912</td><td> 1.145162</td><td> 0.06902558</td></tr>\n",
       "</tbody>\n",
       "</table>\n"
      ],
      "text/latex": [
       "A data.frame: 6 × 14\n",
       "\\begin{tabular}{r|llllllllllllll}\n",
       "  & NS\\_1 & NS\\_10 & NS\\_11 & NS\\_12 & NS\\_13 & NS\\_14 & NS\\_2 & NS\\_3 & NS\\_4 & NS\\_5 & NS\\_6 & NS\\_7 & NS\\_8 & NS\\_9\\\\\n",
       "  & <dbl> & <dbl> & <dbl> & <dbl> & <dbl> & <dbl> & <dbl> & <dbl> & <dbl> & <dbl> & <dbl> & <dbl> & <dbl> & <dbl>\\\\\n",
       "\\hline\n",
       "\tEotaxin &  3.6280396 &  6.8187682 & 3.33682808 &  5.0333418 &  6.1047951 &  5.7762171 & 0.0000000 &  4.2097320 &  4.9384614 &  4.5968318 &  3.0585166 &  5.6634779 &  6.609432 &  4.90597963\\\\\n",
       "\tEotaxin3 &  3.1961268 &  7.1675129 & 3.95125524 &  2.1919254 &  6.2414741 &  3.7784170 & 3.2096483 &  5.0682269 &  3.5987808 &  2.6011813 &  1.3244504 &  5.0072047 &  9.407002 &  2.62280152\\\\\n",
       "\tFractalkine & 11.5876883 & 11.8757287 & 9.22145132 & 11.5378449 & 11.5230939 & 11.2549039 & 7.8117047 & 10.0374539 & 10.6850491 & 11.0118375 & 10.7846908 & 11.4959189 & 11.509636 & 11.37872980\\\\\n",
       "\tI309 &  0.0000000 &  0.0000000 & 0.00000000 &  0.0000000 &  0.0000000 &  0.0000000 & 0.0000000 &  0.0000000 &  0.0000000 &  0.0000000 &  0.0000000 &  0.0000000 &  0.000000 &  0.00000000\\\\\n",
       "\tIFNg &  0.2638601 &  0.4323116 & 0.24860903 &  1.8025665 &  1.7756286 &  1.5545991 & 0.0000000 &  0.1494616 &  0.8951656 &  5.8186862 &  0.3636737 &  0.8036332 &  1.480751 &  0.01754746\\\\\n",
       "\tIL10 &  0.1734701 &  0.1682226 & 0.08642643 &  0.3754869 &  0.3477679 &  0.5740857 & 0.2434195 &  0.1561912 &  0.1550925 &  0.3022863 &  0.1194807 &  0.1833912 &  1.145162 &  0.06902558\\\\\n",
       "\\end{tabular}\n"
      ],
      "text/markdown": [
       "\n",
       "A data.frame: 6 × 14\n",
       "\n",
       "| <!--/--> | NS_1 &lt;dbl&gt; | NS_10 &lt;dbl&gt; | NS_11 &lt;dbl&gt; | NS_12 &lt;dbl&gt; | NS_13 &lt;dbl&gt; | NS_14 &lt;dbl&gt; | NS_2 &lt;dbl&gt; | NS_3 &lt;dbl&gt; | NS_4 &lt;dbl&gt; | NS_5 &lt;dbl&gt; | NS_6 &lt;dbl&gt; | NS_7 &lt;dbl&gt; | NS_8 &lt;dbl&gt; | NS_9 &lt;dbl&gt; |\n",
       "|---|---|---|---|---|---|---|---|---|---|---|---|---|---|---|\n",
       "| Eotaxin |  3.6280396 |  6.8187682 | 3.33682808 |  5.0333418 |  6.1047951 |  5.7762171 | 0.0000000 |  4.2097320 |  4.9384614 |  4.5968318 |  3.0585166 |  5.6634779 |  6.609432 |  4.90597963 |\n",
       "| Eotaxin3 |  3.1961268 |  7.1675129 | 3.95125524 |  2.1919254 |  6.2414741 |  3.7784170 | 3.2096483 |  5.0682269 |  3.5987808 |  2.6011813 |  1.3244504 |  5.0072047 |  9.407002 |  2.62280152 |\n",
       "| Fractalkine | 11.5876883 | 11.8757287 | 9.22145132 | 11.5378449 | 11.5230939 | 11.2549039 | 7.8117047 | 10.0374539 | 10.6850491 | 11.0118375 | 10.7846908 | 11.4959189 | 11.509636 | 11.37872980 |\n",
       "| I309 |  0.0000000 |  0.0000000 | 0.00000000 |  0.0000000 |  0.0000000 |  0.0000000 | 0.0000000 |  0.0000000 |  0.0000000 |  0.0000000 |  0.0000000 |  0.0000000 |  0.000000 |  0.00000000 |\n",
       "| IFNg |  0.2638601 |  0.4323116 | 0.24860903 |  1.8025665 |  1.7756286 |  1.5545991 | 0.0000000 |  0.1494616 |  0.8951656 |  5.8186862 |  0.3636737 |  0.8036332 |  1.480751 |  0.01754746 |\n",
       "| IL10 |  0.1734701 |  0.1682226 | 0.08642643 |  0.3754869 |  0.3477679 |  0.5740857 | 0.2434195 |  0.1561912 |  0.1550925 |  0.3022863 |  0.1194807 |  0.1833912 |  1.145162 |  0.06902558 |\n",
       "\n"
      ],
      "text/plain": [
       "            NS_1       NS_10      NS_11      NS_12      NS_13      NS_14     \n",
       "Eotaxin      3.6280396  6.8187682 3.33682808  5.0333418  6.1047951  5.7762171\n",
       "Eotaxin3     3.1961268  7.1675129 3.95125524  2.1919254  6.2414741  3.7784170\n",
       "Fractalkine 11.5876883 11.8757287 9.22145132 11.5378449 11.5230939 11.2549039\n",
       "I309         0.0000000  0.0000000 0.00000000  0.0000000  0.0000000  0.0000000\n",
       "IFNg         0.2638601  0.4323116 0.24860903  1.8025665  1.7756286  1.5545991\n",
       "IL10         0.1734701  0.1682226 0.08642643  0.3754869  0.3477679  0.5740857\n",
       "            NS_2      NS_3       NS_4       NS_5       NS_6       NS_7      \n",
       "Eotaxin     0.0000000  4.2097320  4.9384614  4.5968318  3.0585166  5.6634779\n",
       "Eotaxin3    3.2096483  5.0682269  3.5987808  2.6011813  1.3244504  5.0072047\n",
       "Fractalkine 7.8117047 10.0374539 10.6850491 11.0118375 10.7846908 11.4959189\n",
       "I309        0.0000000  0.0000000  0.0000000  0.0000000  0.0000000  0.0000000\n",
       "IFNg        0.0000000  0.1494616  0.8951656  5.8186862  0.3636737  0.8036332\n",
       "IL10        0.2434195  0.1561912  0.1550925  0.3022863  0.1194807  0.1833912\n",
       "            NS_8      NS_9       \n",
       "Eotaxin      6.609432  4.90597963\n",
       "Eotaxin3     9.407002  2.62280152\n",
       "Fractalkine 11.509636 11.37872980\n",
       "I309         0.000000  0.00000000\n",
       "IFNg         1.480751  0.01754746\n",
       "IL10         1.145162  0.06902558"
      ]
     },
     "metadata": {},
     "output_type": "display_data"
    }
   ],
   "source": [
    "#reading in file \n",
    "cytokines <- data.frame(read_excel(\"CytokineData_102920.xlsx\", sheet = 2))\n",
    "\n",
    "#transposing df first\n",
    "cytokines = cytokines %>% \n",
    "    #only want non-smokers for baseline analysis\n",
    "    filter(Group == 'NS') %>%\n",
    "    group_by(Compartment) %>%\n",
    "    group_split\n",
    "\n",
    "reshape_cytokines = function(df, number){\n",
    "    new_df = reshape2::dcast(df[[number]], SubjectID ~ Protein, value.var = \"Conc_pslog2\") %>% \n",
    "    column_to_rownames(\"SubjectID\")\n",
    "    new_df = data.frame(t(new_df))\n",
    "    return(new_df)\n",
    "}\n",
    "\n",
    "tNLF = reshape_cytokines(cytokines, 2)\n",
    "tNELF = reshape_cytokines(cytokines, 1)\n",
    "tSputum = reshape_cytokines(cytokines, 4)\n",
    "tSerum = reshape_cytokines(cytokines, 3)\n",
    "head(tNLF)"
   ]
  },
  {
   "cell_type": "code",
   "execution_count": 14,
   "id": "tired-treatment",
   "metadata": {},
   "outputs": [
    {
     "data": {
      "text/html": [
       "<table class=\"dataframe\">\n",
       "<caption>A data.frame: 6 × 1</caption>\n",
       "<thead>\n",
       "\t<tr><th></th><th scope=col>Cluster</th></tr>\n",
       "\t<tr><th></th><th scope=col>&lt;int&gt;</th></tr>\n",
       "</thead>\n",
       "<tbody>\n",
       "\t<tr><th scope=row>Eotaxin</th><td>1</td></tr>\n",
       "\t<tr><th scope=row>Eotaxin3</th><td>1</td></tr>\n",
       "\t<tr><th scope=row>Fractalkine</th><td>3</td></tr>\n",
       "\t<tr><th scope=row>I309</th><td>2</td></tr>\n",
       "\t<tr><th scope=row>IFNg</th><td>2</td></tr>\n",
       "\t<tr><th scope=row>IL10</th><td>2</td></tr>\n",
       "</tbody>\n",
       "</table>\n"
      ],
      "text/latex": [
       "A data.frame: 6 × 1\n",
       "\\begin{tabular}{r|l}\n",
       "  & Cluster\\\\\n",
       "  & <int>\\\\\n",
       "\\hline\n",
       "\tEotaxin & 1\\\\\n",
       "\tEotaxin3 & 1\\\\\n",
       "\tFractalkine & 3\\\\\n",
       "\tI309 & 2\\\\\n",
       "\tIFNg & 2\\\\\n",
       "\tIL10 & 2\\\\\n",
       "\\end{tabular}\n"
      ],
      "text/markdown": [
       "\n",
       "A data.frame: 6 × 1\n",
       "\n",
       "| <!--/--> | Cluster &lt;int&gt; |\n",
       "|---|---|\n",
       "| Eotaxin | 1 |\n",
       "| Eotaxin3 | 1 |\n",
       "| Fractalkine | 3 |\n",
       "| I309 | 2 |\n",
       "| IFNg | 2 |\n",
       "| IL10 | 2 |\n",
       "\n"
      ],
      "text/plain": [
       "            Cluster\n",
       "Eotaxin     1      \n",
       "Eotaxin3    1      \n",
       "Fractalkine 3      \n",
       "I309        2      \n",
       "IFNg        2      \n",
       "IL10        2      "
      ]
     },
     "metadata": {},
     "output_type": "display_data"
    }
   ],
   "source": [
    "#obtaining clusters from kmeans to get cluster assignments\n",
    "#previously decided on 3 clusters\n",
    "get_clusters = function(df){\n",
    "    k3_tcytokines = kmeans(df, centers = 3, nstart = 25)\n",
    "    clusters_tcytokines = data.frame(k3_tcytokines$cluster) %>%\n",
    "        rename(\"Cluster\" = \"k3_tcytokines.cluster\") \n",
    "    return(clusters_tcytokines)\n",
    "}\n",
    "clusters_tNLF = get_clusters(tNLF)\n",
    "clusters_tNELF = get_clusters(tNELF)\n",
    "clusters_tSputum = get_clusters(tSputum)\n",
    "clusters_tSerum = get_clusters(tSerum)\n",
    "head(clusters_tNLF)"
   ]
  },
  {
   "cell_type": "code",
   "execution_count": null,
   "id": "developmental-schema",
   "metadata": {},
   "outputs": [],
   "source": []
  }
 ],
 "metadata": {
  "kernelspec": {
   "display_name": "R",
   "language": "R",
   "name": "ir"
  },
  "language_info": {
   "codemirror_mode": "r",
   "file_extension": ".r",
   "mimetype": "text/x-r-source",
   "name": "R",
   "pygments_lexer": "r",
   "version": "3.6.3"
  }
 },
 "nbformat": 4,
 "nbformat_minor": 5
}
